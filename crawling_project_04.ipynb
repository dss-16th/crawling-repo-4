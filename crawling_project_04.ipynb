{
 "cells": [
  {
   "cell_type": "markdown",
   "metadata": {},
   "source": [
    "### 프로젝트 생성"
   ]
  },
  {
   "cell_type": "code",
   "execution_count": 60,
   "metadata": {},
   "outputs": [],
   "source": [
    "!rm -rf covid_keyword"
   ]
  },
  {
   "cell_type": "code",
   "execution_count": 61,
   "metadata": {},
   "outputs": [
    {
     "name": "stdout",
     "output_type": "stream",
     "text": [
      "New Scrapy project 'covid_keyword', using template directory '/home/ubuntu/.pyenv/versions/3.6.9/envs/python3/lib/python3.6/site-packages/scrapy/templates/project', created in:\r\n",
      "    /home/ubuntu/python3/project/covid_keyword\r\n",
      "\r\n",
      "You can start your first spider with:\r\n",
      "    cd covid_keyword\r\n",
      "    scrapy genspider example example.com\r\n"
     ]
    }
   ],
   "source": [
    "!scrapy startproject covid_keyword"
   ]
  },
  {
   "cell_type": "code",
   "execution_count": 62,
   "metadata": {},
   "outputs": [
    {
     "name": "stdout",
     "output_type": "stream",
     "text": [
      "\u001b[01;34mcovid_keyword\u001b[00m\r\n",
      "├── \u001b[01;34mcovid_keyword\u001b[00m\r\n",
      "│   ├── __init__.py\r\n",
      "│   ├── items.py\r\n",
      "│   ├── middlewares.py\r\n",
      "│   ├── pipelines.py\r\n",
      "│   ├── settings.py\r\n",
      "│   └── \u001b[01;34mspiders\u001b[00m\r\n",
      "│       └── __init__.py\r\n",
      "└── scrapy.cfg\r\n",
      "\r\n",
      "2 directories, 7 files\r\n"
     ]
    }
   ],
   "source": [
    "!tree covid_keyword"
   ]
  },
  {
   "cell_type": "markdown",
   "metadata": {},
   "source": [
    "### items.py"
   ]
  },
  {
   "cell_type": "code",
   "execution_count": 68,
   "metadata": {},
   "outputs": [
    {
     "name": "stdout",
     "output_type": "stream",
     "text": [
      "Overwriting covid_keyword/covid_keyword/items.py\n"
     ]
    }
   ],
   "source": [
    "%%writefile covid_keyword/covid_keyword/items.py\n",
    "import scrapy\n",
    "\n",
    "\n",
    "class CovidKeywordItem(scrapy.Item):\n",
    "    vaccine = scrapy.Field()\n",
    "    infection = scrapy.Field()\n",
    "    soc_distance = scrapy.Field()\n",
    "    support = scrapy.Field()"
   ]
  },
  {
   "cell_type": "markdown",
   "metadata": {},
   "source": [
    "### spider.py"
   ]
  },
  {
   "cell_type": "code",
   "execution_count": 39,
   "metadata": {},
   "outputs": [
    {
     "name": "stdout",
     "output_type": "stream",
     "text": [
      "Writing covid_keyword/covid_keyword/spiders/spider.py\n"
     ]
    }
   ],
   "source": [
    "# %%writefile covid_keyword/covid_keyword/spiders/spider.py\n",
    "\n",
    "# import scrapy\n",
    "# from covid_keyword.items import CovidKeywordItem\n",
    "\n",
    "# class CovidSpider(scrapy.Spider):\n",
    "#     name = 'CovidKeyword'\n",
    "#     allow_domain = ['https://www.naver.com/']\n",
    "\n",
    "#     def start_requests(self):\n",
    "#         yield scrapy.Request(\"https://search.naver.com/search.naver?where=news&query=코로나%20국내%20백신&pd=4\", callback=self.parse_kword)\n",
    "#         yield scrapy.Request(\"https://search.naver.com/search.naver?where=news&query=코로나%20수도권%20확진&pd=4\", callback=self.parse_kword)\n",
    "#         yield scrapy.Request(\"https://search.naver.com/search.naver?where=news&query=코로나%20사회적거리두기&pd=4\", callback=self.parse_kword)\n",
    "#         yield scrapy.Request(\"https://search.naver.com/search.naver?where=news&query=코로나%20정부%20지원금&pd=4\", callback=self.parse_kword)\n",
    "            \n",
    "#     def parse_kword(self, response):\n",
    "#         item = CovidKeywordItem()\n",
    "#         vaccine_titles = response.xpath('//*[@id=\"main_pack\"]/section/div/div[3]/ul/li/div[1]/div/a/@title').extract()\n",
    "#         vaccine_links = response.xpath('//*[@id=\"main_pack\"]/section/div/div[3]/ul/li/div[1]/div/a/@href').extract()\n",
    "#         item['vaccine_'] = [vaccine for vaccine in zip(vaccine_titles, vaccine_links)]\n",
    "#         infection_titles = response.xpath('//*[@id=\"main_pack\"]/section/div/div[3]/ul/li/div[1]/div/a/@title').extract()\n",
    "#         infection_links = response.xpath('//*[@id=\"main_pack\"]/section/div/div[3]/ul/li/div[1]/div/a/@href').extract()\n",
    "#         item['infection_'] = [infection for infection in zip(infection_titles, infection_links)]\n",
    "#         soc_distance_titles = response.xpath('//*[@id=\"main_pack\"]/section/div/div[3]/ul/li/div[1]/div/a/@title').extract()\n",
    "#         soc_distance_links = response.xpath('//*[@id=\"main_pack\"]/section/div/div[3]/ul/li/div[1]/div/a/@href').extract()\n",
    "#         item['soc_distance_'] = [soc_distance for soc_distance in zip(soc_distance_titles, soc_distance_links)]\n",
    "#         support_titles = response.xpath('//*[@id=\"main_pack\"]/section/div/div[3]/ul/li/div[1]/div/a/@title').extract()\n",
    "#         support_links = response.xpath('//*[@id=\"main_pack\"]/section/div/div[3]/ul/li/div[1]/div/a/@href').extract()\n",
    "#         item['support_'] = [support for support in zip(support_titles, support_links)]        \n",
    "#         yield item"
   ]
  },
  {
   "cell_type": "code",
   "execution_count": null,
   "metadata": {},
   "outputs": [],
   "source": []
  },
  {
   "cell_type": "code",
   "execution_count": 69,
   "metadata": {},
   "outputs": [
    {
     "name": "stdout",
     "output_type": "stream",
     "text": [
      "Overwriting covid_keyword/covid_keyword/spiders/spider.py\n"
     ]
    }
   ],
   "source": [
    "%%writefile covid_keyword/covid_keyword/spiders/spider.py\n",
    "\n",
    "import scrapy\n",
    "from covid_keyword.items import CovidKeywordItem\n",
    "\n",
    "class CovidSpider(scrapy.Spider):\n",
    "    name = 'CovidKeyword'\n",
    "    allow_domain = ['https://www.naver.com/']\n",
    "\n",
    "    def start_requests(self):\n",
    "        yield scrapy.Request(\"https://search.naver.com/search.naver?where=news&query=코로나%20국내%20백신&pd=4\", callback=self.parse_kword1)\n",
    "        yield scrapy.Request(\"https://search.naver.com/search.naver?where=news&query=코로나%20수도권%20확진&pd=4\", callback=self.parse_kword2)\n",
    "        yield scrapy.Request(\"https://search.naver.com/search.naver?where=news&query=코로나%20사회적거리두기&pd=4\", callback=self.parse_kword3)\n",
    "        yield scrapy.Request(\"https://search.naver.com/search.naver?where=news&query=코로나%20정부%20지원금&pd=4\", callback=self.parse_kword4)\n",
    "            \n",
    "    def parse_kword1(self, response):\n",
    "        item = CovidKeywordItem()\n",
    "        vaccine_titles = response.xpath('//*[@id=\"main_pack\"]/section/div/div[3]/ul/li/div[1]/div/a/@title').extract()\n",
    "        vaccine_links = response.xpath('//*[@id=\"main_pack\"]/section/div/div[3]/ul/li/div[1]/div/a/@href').extract()\n",
    "        item['vaccine'] = [vaccine for vaccine in zip(vaccine_titles, vaccine_links)]\n",
    "        yield item\n",
    "                \n",
    "    def parse_kword2(self, response):\n",
    "        item = CovidKeywordItem()\n",
    "        infection_titles = response.xpath('//*[@id=\"main_pack\"]/section/div/div[3]/ul/li/div[1]/div/a/@title').extract()\n",
    "        infection_links = response.xpath('//*[@id=\"main_pack\"]/section/div/div[3]/ul/li/div[1]/div/a/@href').extract()\n",
    "        item['infection'] = [infection for infection in zip(infection_titles, infection_links)]\n",
    "        yield item\n",
    "\n",
    "    def parse_kword3(self, response):\n",
    "        item = CovidKeywordItem()\n",
    "        soc_distance_titles = response.xpath('//*[@id=\"main_pack\"]/section/div/div[3]/ul/li/div[1]/div/a/@title').extract()\n",
    "        soc_distance_links = response.xpath('//*[@id=\"main_pack\"]/section/div/div[3]/ul/li/div[1]/div/a/@href').extract()\n",
    "        item['soc_distance'] = [soc_distance for soc_distance in zip(soc_distance_titles, soc_distance_links)]\n",
    "        yield item\n",
    "\n",
    "    def parse_kword4(self, response):\n",
    "        item = CovidKeywordItem()\n",
    "        support_titles = response.xpath('//*[@id=\"main_pack\"]/section/div/div[3]/ul/li/div[1]/div/a/@title').extract()\n",
    "        support_links = response.xpath('//*[@id=\"main_pack\"]/section/div/div[3]/ul/li/div[1]/div/a/@href').extract()\n",
    "        item['support'] = [support for support in zip(support_titles, support_links)]        \n",
    "        yield item\n",
    "          "
   ]
  },
  {
   "cell_type": "markdown",
   "metadata": {},
   "source": [
    "### mongodb.py"
   ]
  },
  {
   "cell_type": "code",
   "execution_count": 6,
   "metadata": {},
   "outputs": [
    {
     "name": "stdout",
     "output_type": "stream",
     "text": [
      "Writing covid_keyword/covid_keyword/mongodb.py\n"
     ]
    }
   ],
   "source": [
    "%%writefile covid_keyword/covid_keyword/mongodb.py\n",
    "import pymongo\n",
    "\n",
    "client = pymongo.MongoClient(\"mongodb://15.164.101.134:27017\")\n",
    "db = client.covid_title_kword\n",
    "collection = db.title_link"
   ]
  },
  {
   "cell_type": "markdown",
   "metadata": {},
   "source": [
    "### pipelines.py"
   ]
  },
  {
   "cell_type": "code",
   "execution_count": 7,
   "metadata": {},
   "outputs": [
    {
     "name": "stdout",
     "output_type": "stream",
     "text": [
      "Overwriting covid_keyword/covid_keyword/pipelines.py\n"
     ]
    }
   ],
   "source": [
    "%%writefile covid_keyword/covid_keyword/pipelines.py\n",
    "from itemadapter import ItemAdapter\n",
    "from .mongodb import collection\n",
    "\n",
    "class CovidKeywordPipeline:\n",
    "    def process_item(self, item, spider):\n",
    "        form = {\"vaccine\": item[\"vaccine\"],\n",
    "                \"infection\": item[\"infection\"],\n",
    "                \"soc_distance\": item[\"soc_distance\"],\n",
    "                \"support\": item[\"support\"],\n",
    "               }\n",
    "        collection.insert(form)\n",
    "        return item"
   ]
  },
  {
   "cell_type": "code",
   "execution_count": 70,
   "metadata": {},
   "outputs": [
    {
     "name": "stdout",
     "output_type": "stream",
     "text": [
      "Overwriting run.sh\n"
     ]
    }
   ],
   "source": [
    "%%writefile run.sh\n",
    "cd covid_keyword\n",
    "scrapy crawl CovidKeyword -o covid_keyword.csv"
   ]
  },
  {
   "cell_type": "code",
   "execution_count": 71,
   "metadata": {},
   "outputs": [],
   "source": [
    "!sed -i 's/ROBOTSTXT_OBEY = True/ROBOTSTXT_OBEY = False/' covid_keyword/covid_keyword/settings.py"
   ]
  },
  {
   "cell_type": "code",
   "execution_count": 72,
   "metadata": {
    "scrolled": false
   },
   "outputs": [
    {
     "name": "stdout",
     "output_type": "stream",
     "text": [
      "2021-03-09 18:36:52 [scrapy.utils.log] INFO: Scrapy 2.4.1 started (bot: covid_keyword)\n",
      "2021-03-09 18:36:52 [scrapy.utils.log] INFO: Versions: lxml 4.6.2.0, libxml2 2.9.10, cssselect 1.1.0, parsel 1.6.0, w3lib 1.22.0, Twisted 20.3.0, Python 3.6.9 (default, Dec 28 2020, 03:27:25) - [GCC 7.5.0], pyOpenSSL 20.0.1 (OpenSSL 1.1.1j  16 Feb 2021), cryptography 3.4.6, Platform Linux-5.4.0-1038-aws-x86_64-with-debian-buster-sid\n",
      "2021-03-09 18:36:52 [scrapy.utils.log] DEBUG: Using reactor: twisted.internet.epollreactor.EPollReactor\n",
      "2021-03-09 18:36:52 [scrapy.crawler] INFO: Overridden settings:\n",
      "{'BOT_NAME': 'covid_keyword',\n",
      " 'NEWSPIDER_MODULE': 'covid_keyword.spiders',\n",
      " 'SPIDER_MODULES': ['covid_keyword.spiders']}\n",
      "2021-03-09 18:36:52 [scrapy.extensions.telnet] INFO: Telnet Password: a8d7a88aab953755\n",
      "2021-03-09 18:36:52 [scrapy.middleware] INFO: Enabled extensions:\n",
      "['scrapy.extensions.corestats.CoreStats',\n",
      " 'scrapy.extensions.telnet.TelnetConsole',\n",
      " 'scrapy.extensions.memusage.MemoryUsage',\n",
      " 'scrapy.extensions.feedexport.FeedExporter',\n",
      " 'scrapy.extensions.logstats.LogStats']\n",
      "2021-03-09 18:36:52 [scrapy.middleware] INFO: Enabled downloader middlewares:\n",
      "['scrapy.downloadermiddlewares.httpauth.HttpAuthMiddleware',\n",
      " 'scrapy.downloadermiddlewares.downloadtimeout.DownloadTimeoutMiddleware',\n",
      " 'scrapy.downloadermiddlewares.defaultheaders.DefaultHeadersMiddleware',\n",
      " 'scrapy.downloadermiddlewares.useragent.UserAgentMiddleware',\n",
      " 'scrapy.downloadermiddlewares.retry.RetryMiddleware',\n",
      " 'scrapy.downloadermiddlewares.redirect.MetaRefreshMiddleware',\n",
      " 'scrapy.downloadermiddlewares.httpcompression.HttpCompressionMiddleware',\n",
      " 'scrapy.downloadermiddlewares.redirect.RedirectMiddleware',\n",
      " 'scrapy.downloadermiddlewares.cookies.CookiesMiddleware',\n",
      " 'scrapy.downloadermiddlewares.httpproxy.HttpProxyMiddleware',\n",
      " 'scrapy.downloadermiddlewares.stats.DownloaderStats']\n",
      "2021-03-09 18:36:52 [scrapy.middleware] INFO: Enabled spider middlewares:\n",
      "['scrapy.spidermiddlewares.httperror.HttpErrorMiddleware',\n",
      " 'scrapy.spidermiddlewares.offsite.OffsiteMiddleware',\n",
      " 'scrapy.spidermiddlewares.referer.RefererMiddleware',\n",
      " 'scrapy.spidermiddlewares.urllength.UrlLengthMiddleware',\n",
      " 'scrapy.spidermiddlewares.depth.DepthMiddleware']\n",
      "2021-03-09 18:36:52 [scrapy.middleware] INFO: Enabled item pipelines:\n",
      "[]\n",
      "2021-03-09 18:36:52 [scrapy.core.engine] INFO: Spider opened\n",
      "2021-03-09 18:36:52 [scrapy.extensions.logstats] INFO: Crawled 0 pages (at 0 pages/min), scraped 0 items (at 0 items/min)\n",
      "2021-03-09 18:36:52 [scrapy.extensions.telnet] INFO: Telnet console listening on 127.0.0.1:6023\n",
      "2021-03-09 18:36:52 [scrapy.core.engine] DEBUG: Crawled (200) <GET https://search.naver.com/search.naver?where=news&query=%EC%BD%94%EB%A1%9C%EB%82%98%20%EC%88%98%EB%8F%84%EA%B6%8C%20%ED%99%95%EC%A7%84&pd=4> (referer: None)\n",
      "2021-03-09 18:36:52 [scrapy.core.engine] DEBUG: Crawled (200) <GET https://search.naver.com/search.naver?where=news&query=%EC%BD%94%EB%A1%9C%EB%82%98%20%EA%B5%AD%EB%82%B4%20%EB%B0%B1%EC%8B%A0&pd=4> (referer: None)\n",
      "2021-03-09 18:36:52 [scrapy.core.engine] DEBUG: Crawled (200) <GET https://search.naver.com/search.naver?where=news&query=%EC%BD%94%EB%A1%9C%EB%82%98%20%EC%82%AC%ED%9A%8C%EC%A0%81%EA%B1%B0%EB%A6%AC%EB%91%90%EA%B8%B0&pd=4> (referer: None)\n",
      "2021-03-09 18:36:52 [scrapy.core.engine] DEBUG: Crawled (200) <GET https://search.naver.com/search.naver?where=news&query=%EC%BD%94%EB%A1%9C%EB%82%98%20%EC%A0%95%EB%B6%80%20%EC%A7%80%EC%9B%90%EA%B8%88&pd=4> (referer: None)\n",
      "2021-03-09 18:36:52 [scrapy.core.scraper] DEBUG: Scraped from <200 https://search.naver.com/search.naver?where=news&query=%EC%BD%94%EB%A1%9C%EB%82%98%20%EC%88%98%EB%8F%84%EA%B6%8C%20%ED%99%95%EC%A7%84&pd=4>\n",
      "{'infection': [('신규확진 446명,휴일효과 사라지자 다시 400명대…집단감염 확산(종합)',\n",
      "                'http://yna.kr/AKR20210309032751530?did=1195m'),\n",
      "               ('[속보] 코로나19 신규 확진자 446명…다시 400명대',\n",
      "                'http://www.hani.co.kr/arti/society/health/985968.html'),\n",
      "               ('[속보] 코로나19 신규 확진자 446명...다시 400명대로 증가',\n",
      "                'http://news.khan.co.kr/kh_news/khan_art_view.html?artid=202103090940001&code=940100'),\n",
      "               ('[속보]신규확진 446명, 다시 400명대…지역발생 427명',\n",
      "                'https://www.news1.kr/articles/?4234591'),\n",
      "               ('올해 들어 주점·음식점 집단감염 13건 286명 확진…평균 10.3일',\n",
      "                'http://www.newsis.com/view/?id=NISX20210309_0001364251&cID=10201&pID=10200'),\n",
      "               ('[속보] 코로나19 어제 446명 신규확진…다시 400명대로',\n",
      "                'https://news.imaeil.com/Society/2021030909320365079'),\n",
      "               ('신규확진 다시 400명대… 전일 대비 100명 증가(종합)',\n",
      "                'http://moneys.mt.co.kr/news/mwView.php?no=2021030910228057795'),\n",
      "               ('코로나19 신규 확진 446명…백신 접종 누적 383,346명',\n",
      "                'https://imnews.imbc.com/news/2021/society/article/6113073_34873.html'),\n",
      "               ('정부 \"코로나 백신 믿는다\" 곧 고령층 접종 허용할 듯',\n",
      "                'http://news.mt.co.kr/mtview.php?no=2021030817192656938'),\n",
      "               ('국내 코로나19 신규확진자 446명…하루 만에 다시 4백 명대',\n",
      "                'http://news.kbs.co.kr/news/view.do?ncd=5134385&ref=A')]}\n",
      "2021-03-09 18:36:52 [scrapy.core.scraper] DEBUG: Scraped from <200 https://search.naver.com/search.naver?where=news&query=%EC%BD%94%EB%A1%9C%EB%82%98%20%EA%B5%AD%EB%82%B4%20%EB%B0%B1%EC%8B%A0&pd=4>\n",
      "{'vaccine': [('백신접종자, 마스크 안 써도 된다?…정부 \"국내상황 보고 판단\"(종합)',\n",
      "              'http://yna.kr/AKR20210309080351530?did=1195m'),\n",
      "             ('백신접종 후 확진 총 6명으로 늘어…\"접종 전 감염 등 가능성\"',\n",
      "              'http://www.busan.com/view/busan/view.php?code=2021030915275746614'),\n",
      "             ('백신접종 사망신고 누적 13명...이상반응 4851건 중 AZ가 99.4%',\n",
      "              'http://www.dt.co.kr/contents.html?article_no=2021030902109919607011&ref=naver'),\n",
      "             (\"코로나19 백신접종 빙자 보이스피싱에 '주의보' 발령\",\n",
      "              'http://www.edaily.co.kr/news/newspath.asp?newsid=03181606628981680'),\n",
      "             ('질병청 \"상반기까지 화이자 백신 700만회· AZ백신 210만회 국내 도입\"(종합)',\n",
      "              'http://moneys.mt.co.kr/news/mwView.php?no=2021030914528025246'),\n",
      "             ('코로나19 백신 우선접종대상자 절반 접종 완료',\n",
      "              'https://www.sedaily.com/NewsView/22JQP7D00B'),\n",
      "             ('[속보] 코로나19 신규 확진자 446명…다시 400명대',\n",
      "              'http://www.hani.co.kr/arti/society/health/985968.html'),\n",
      "             ('경남 2명 확진…백신 접종률 79.3%(종합)',\n",
      "              'https://www.nocutnews.co.kr/news/5512968'),\n",
      "             ('백신 접종 11일 만에 2~3월 우선 접종 대상자 절반 완료',\n",
      "              'https://www.pressian.com/pages/articles/2021030915101654457?utm_source=naver&utm_medium=search'),\n",
      "             (\"'코로나19 백신 접종 왔어요'\",\n",
      "              'https://www.news1.kr/photos/view/?4656091')]}\n",
      "2021-03-09 18:36:52 [scrapy.core.scraper] DEBUG: Scraped from <200 https://search.naver.com/search.naver?where=news&query=%EC%BD%94%EB%A1%9C%EB%82%98%20%EC%82%AC%ED%9A%8C%EC%A0%81%EA%B1%B0%EB%A6%AC%EB%91%90%EA%B8%B0&pd=4>\n",
      "{'soc_distance': [('거리두기 4단계 개편안 다음주 확정···적용시기는 미정(종합)',\n",
      "                   'https://www.sedaily.com/NewsView/22JQPLCEEF'),\n",
      "                  ('[속보] 정세균 총리 \"현행 거리두기 단계, 일요일 종료\"',\n",
      "                   'http://news.khan.co.kr/kh_news/khan_art_view.html?artid=202103090916011&code=910100'),\n",
      "                  ('사회적 거리두기 개편 최종안 내주 공개될 듯',\n",
      "                   'http://www.fnnews.com/news/202103091348546924'),\n",
      "                  (\"[경남소식] '지속가능한 사회적 거리두기'…경남 생활방역협의회\",\n",
      "                   'http://yna.kr/AKR20210309136300052?did=1195m'),\n",
      "                  ('코로나19로 경기부진 지속…KDI \"거리두기 조정 따라 완화 가능성\"',\n",
      "                   'http://www.edaily.co.kr/news/newspath.asp?newsid=02830646628981680'),\n",
      "                  ('정세균 \"코로나19 확산세 예의주시…거리두기 조정 신중\"',\n",
      "                   'https://view.asiae.co.kr/article/2021030909120010979'),\n",
      "                  ('정 총리 \"이번주 확산세 예의주시 후 거리두기 조정안 결정\"',\n",
      "                   'http://www.gukjenews.com/news/articleView.html?idxno=2177010'),\n",
      "                  ('당국 \"백신 접종률 높아지면 하반기 거리두기 완화 개편 가능\"',\n",
      "                   'https://www.news1.kr/articles/?4234877'),\n",
      "                  ('코로나 사태, 사교육도 덮쳤다…작년 초·중·고 사교육비 12% 감소',\n",
      "                   'https://biz.chosun.com/site/data/html_dir/2021/03/09/2021030901203.html?utm_source=naver&utm_medium=original&utm_campaign=biz'),\n",
      "                  ('경제와 방역사이…거리두기 ‘도돌이표’',\n",
      "                   'http://news.wowtv.co.kr/NewsCenter/News/Read?articleId=A202103090082&t=NNv')]}\n",
      "2021-03-09 18:36:52 [scrapy.core.scraper] DEBUG: Scraped from <200 https://search.naver.com/search.naver?where=news&query=%EC%BD%94%EB%A1%9C%EB%82%98%20%EC%A0%95%EB%B6%80%20%EC%A7%80%EC%9B%90%EA%B8%88&pd=4>\n",
      "{'support': [('재난지원금 줄테니 개인정보 입력?…\"속지 마세요\"',\n",
      "              'http://www.wowtv.co.kr/NewsCenter/News/Read?articleId=A202103090179&t=NN'),\n",
      "             ('재난지원금·백신 접종 빙자한 보이스피싱 경보',\n",
      "              'https://view.asiae.co.kr/article/2021030914035935624'),\n",
      "             ('광주시(경기), 재난지원금 시비로 10만원 지급',\n",
      "              'http://www.newsis.com/view/?id=NISX20210309_0001364397&cID=14001&pID=14000'),\n",
      "             ('목소리 높이는 자영업자 비대위 \"코로나 손실보상 소급 적용해야\"',\n",
      "              'https://www.sedaily.com/NewsView/22JQQDRWH9'),\n",
      "             ('경북도의회 농수산위, 코로나 19 재난지원금, 농어업분야 지원 확대 촉구',\n",
      "              'https://news.imaeil.com/RegionOfPolitics/2021030814265332287'),\n",
      "             ('투썸플레이스, 코로나19 극복 위해 3차 가맹점 지원 나선다',\n",
      "              'http://www.joseilbo.com/news/news_read.php?uid=418698&class=17&grp='),\n",
      "             (\"김제시의회, 4차 재난지원금 '농어민 포함' 강력촉구\",\n",
      "              'http://www.gukjenews.com/news/articleView.html?idxno=2177078'),\n",
      "             ('‘코로나 청년세대’에게 일어날 도미노 현상',\n",
      "              'http://h21.hani.co.kr/arti/society/society_general/50053.html'),\n",
      "             ('\"재난지원금 도움 안돼\"…자영업자들, 손실보상 소급적용 촉구',\n",
      "              'http://www.edaily.co.kr/news/newspath.asp?newsid=03529286628981680'),\n",
      "             ('“4차 재난지원금에 농어업인 포함하라”',\n",
      "              'http://www.kwnews.co.kr/nview.asp?aid=221030800130')]}\n"
     ]
    },
    {
     "name": "stdout",
     "output_type": "stream",
     "text": [
      "2021-03-09 18:36:52 [scrapy.core.engine] INFO: Closing spider (finished)\r\n",
      "2021-03-09 18:36:52 [scrapy.extensions.feedexport] INFO: Stored csv feed (4 items) in: covid_keyword.csv\r\n",
      "2021-03-09 18:36:52 [scrapy.statscollectors] INFO: Dumping Scrapy stats:\r\n",
      "{'downloader/request_bytes': 1322,\r\n",
      " 'downloader/request_count': 4,\r\n",
      " 'downloader/request_method_count/GET': 4,\r\n",
      " 'downloader/response_bytes': 433459,\r\n",
      " 'downloader/response_count': 4,\r\n",
      " 'downloader/response_status_count/200': 4,\r\n",
      " 'elapsed_time_seconds': 0.505101,\r\n",
      " 'finish_reason': 'finished',\r\n",
      " 'finish_time': datetime.datetime(2021, 3, 9, 9, 36, 52, 906106),\r\n",
      " 'item_scraped_count': 4,\r\n",
      " 'log_count/DEBUG': 8,\r\n",
      " 'log_count/INFO': 11,\r\n",
      " 'memusage/max': 55926784,\r\n",
      " 'memusage/startup': 55926784,\r\n",
      " 'response_received_count': 4,\r\n",
      " 'scheduler/dequeued': 4,\r\n",
      " 'scheduler/dequeued/memory': 4,\r\n",
      " 'scheduler/enqueued': 4,\r\n",
      " 'scheduler/enqueued/memory': 4,\r\n",
      " 'start_time': datetime.datetime(2021, 3, 9, 9, 36, 52, 401005)}\r\n",
      "2021-03-09 18:36:52 [scrapy.core.engine] INFO: Spider closed (finished)\r\n"
     ]
    }
   ],
   "source": [
    "!/bin/bash run.sh"
   ]
  },
  {
   "cell_type": "code",
   "execution_count": 53,
   "metadata": {},
   "outputs": [
    {
     "name": "stdout",
     "output_type": "stream",
     "text": [
      "\u001b[01;34mcovid_keyword\u001b[00m\r\n",
      "├── \u001b[01;34mcovid_keyword\u001b[00m\r\n",
      "│   ├── __init__.py\r\n",
      "│   ├── \u001b[01;34m__pycache__\u001b[00m\r\n",
      "│   │   ├── __init__.cpython-36.pyc\r\n",
      "│   │   ├── items.cpython-36.pyc\r\n",
      "│   │   └── settings.cpython-36.pyc\r\n",
      "│   ├── items.py\r\n",
      "│   ├── middlewares.py\r\n",
      "│   ├── pipelines.py\r\n",
      "│   ├── settings.py\r\n",
      "│   └── \u001b[01;34mspiders\u001b[00m\r\n",
      "│       ├── __init__.py\r\n",
      "│       ├── \u001b[01;34m__pycache__\u001b[00m\r\n",
      "│       │   ├── __init__.cpython-36.pyc\r\n",
      "│       │   └── spider.cpython-36.pyc\r\n",
      "│       └── spider.py\r\n",
      "├── covid_keyword.csv\r\n",
      "└── scrapy.cfg\r\n",
      "\r\n",
      "4 directories, 14 files\r\n"
     ]
    }
   ],
   "source": [
    "!tree covid_keyword"
   ]
  },
  {
   "cell_type": "code",
   "execution_count": 73,
   "metadata": {},
   "outputs": [],
   "source": [
    "import pandas as pd"
   ]
  },
  {
   "cell_type": "code",
   "execution_count": 74,
   "metadata": {
    "scrolled": false
   },
   "outputs": [
    {
     "data": {
      "text/html": [
       "<div>\n",
       "<style scoped>\n",
       "    .dataframe tbody tr th:only-of-type {\n",
       "        vertical-align: middle;\n",
       "    }\n",
       "\n",
       "    .dataframe tbody tr th {\n",
       "        vertical-align: top;\n",
       "    }\n",
       "\n",
       "    .dataframe thead th {\n",
       "        text-align: right;\n",
       "    }\n",
       "</style>\n",
       "<table border=\"1\" class=\"dataframe\">\n",
       "  <thead>\n",
       "    <tr style=\"text-align: right;\">\n",
       "      <th></th>\n",
       "      <th>infection</th>\n",
       "      <th>soc_distance</th>\n",
       "      <th>support</th>\n",
       "      <th>vaccine</th>\n",
       "    </tr>\n",
       "  </thead>\n",
       "  <tbody>\n",
       "    <tr>\n",
       "      <th>0</th>\n",
       "      <td>[('신규확진 446명,휴일효과 사라지자 다시 400명대…집단감염 확산(종합)', ...</td>\n",
       "      <td>NaN</td>\n",
       "      <td>NaN</td>\n",
       "      <td>NaN</td>\n",
       "    </tr>\n",
       "    <tr>\n",
       "      <th>1</th>\n",
       "      <td>NaN</td>\n",
       "      <td>NaN</td>\n",
       "      <td>NaN</td>\n",
       "      <td>[('백신접종자, 마스크 안 써도 된다?…정부 \"국내상황 보고 판단\"(종합)', '...</td>\n",
       "    </tr>\n",
       "    <tr>\n",
       "      <th>2</th>\n",
       "      <td>NaN</td>\n",
       "      <td>[('거리두기 4단계 개편안 다음주 확정···적용시기는 미정(종합)', 'https...</td>\n",
       "      <td>NaN</td>\n",
       "      <td>NaN</td>\n",
       "    </tr>\n",
       "    <tr>\n",
       "      <th>3</th>\n",
       "      <td>NaN</td>\n",
       "      <td>NaN</td>\n",
       "      <td>[('재난지원금 줄테니 개인정보 입력?…\"속지 마세요\"', 'http://www.w...</td>\n",
       "      <td>NaN</td>\n",
       "    </tr>\n",
       "  </tbody>\n",
       "</table>\n",
       "</div>"
      ],
      "text/plain": [
       "                                           infection  \\\n",
       "0  [('신규확진 446명,휴일효과 사라지자 다시 400명대…집단감염 확산(종합)', ...   \n",
       "1                                                NaN   \n",
       "2                                                NaN   \n",
       "3                                                NaN   \n",
       "\n",
       "                                        soc_distance  \\\n",
       "0                                                NaN   \n",
       "1                                                NaN   \n",
       "2  [('거리두기 4단계 개편안 다음주 확정···적용시기는 미정(종합)', 'https...   \n",
       "3                                                NaN   \n",
       "\n",
       "                                             support  \\\n",
       "0                                                NaN   \n",
       "1                                                NaN   \n",
       "2                                                NaN   \n",
       "3  [('재난지원금 줄테니 개인정보 입력?…\"속지 마세요\"', 'http://www.w...   \n",
       "\n",
       "                                             vaccine  \n",
       "0                                                NaN  \n",
       "1  [('백신접종자, 마스크 안 써도 된다?…정부 \"국내상황 보고 판단\"(종합)', '...  \n",
       "2                                                NaN  \n",
       "3                                                NaN  "
      ]
     },
     "execution_count": 74,
     "metadata": {},
     "output_type": "execute_result"
    }
   ],
   "source": [
    "covid_df = pd.read_csv('./covid_keyword/covid_keyword.csv')\n",
    "covid_df"
   ]
  },
  {
   "cell_type": "code",
   "execution_count": 75,
   "metadata": {},
   "outputs": [
    {
     "data": {
      "text/plain": [
       "'[(\\'신규확진 446명,휴일효과 사라지자 다시 400명대…집단감염 확산(종합)\\', \\'http://yna.kr/AKR20210309032751530?did=1195m\\'), (\\'[속보] 코로나19 신규 확진자 446명…다시 400명대\\', \\'http://www.hani.co.kr/arti/society/health/985968.html\\'), (\\'[속보] 코로나19 신규 확진자 446명...다시 400명대로 증가\\', \\'http://news.khan.co.kr/kh_news/khan_art_view.html?artid=202103090940001&code=940100\\'), (\\'[속보]신규확진 446명, 다시 400명대…지역발생 427명\\', \\'https://www.news1.kr/articles/?4234591\\'), (\\'올해 들어 주점·음식점 집단감염 13건 286명 확진…평균 10.3일\\', \\'http://www.newsis.com/view/?id=NISX20210309_0001364251&cID=10201&pID=10200\\'), (\\'[속보] 코로나19 어제 446명 신규확진…다시 400명대로\\', \\'https://news.imaeil.com/Society/2021030909320365079\\'), (\\'신규확진 다시 400명대… 전일 대비 100명 증가(종합)\\', \\'http://moneys.mt.co.kr/news/mwView.php?no=2021030910228057795\\'), (\\'코로나19 신규 확진 446명…백신 접종 누적 383,346명\\', \\'https://imnews.imbc.com/news/2021/society/article/6113073_34873.html\\'), (\\'정부 \"코로나 백신 믿는다\" 곧 고령층 접종 허용할 듯\\', \\'http://news.mt.co.kr/mtview.php?no=2021030817192656938\\'), (\\'국내 코로나19 신규확진자 446명…하루 만에 다시 4백 명대\\', \\'http://news.kbs.co.kr/news/view.do?ncd=5134385&ref=A\\')]'"
      ]
     },
     "execution_count": 75,
     "metadata": {},
     "output_type": "execute_result"
    }
   ],
   "source": [
    "covid_df['infection'][0]"
   ]
  },
  {
   "cell_type": "code",
   "execution_count": null,
   "metadata": {},
   "outputs": [],
   "source": []
  }
 ],
 "metadata": {
  "kernelspec": {
   "display_name": "Python 3",
   "language": "python",
   "name": "python3"
  },
  "language_info": {
   "codemirror_mode": {
    "name": "ipython",
    "version": 3
   },
   "file_extension": ".py",
   "mimetype": "text/x-python",
   "name": "python",
   "nbconvert_exporter": "python",
   "pygments_lexer": "ipython3",
   "version": "3.6.9"
  }
 },
 "nbformat": 4,
 "nbformat_minor": 4
}
