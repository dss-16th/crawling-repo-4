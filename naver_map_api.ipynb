{
 "cells": [
  {
   "cell_type": "code",
   "execution_count": 2,
   "metadata": {},
   "outputs": [],
   "source": [
    "import requests, json"
   ]
  },
  {
   "cell_type": "code",
   "execution_count": 3,
   "metadata": {},
   "outputs": [
    {
     "data": {
      "text/plain": [
       "<Response [200]>"
      ]
     },
     "execution_count": 3,
     "metadata": {},
     "output_type": "execute_result"
    }
   ],
   "source": [
    "headers = {\n",
    "    'X-NCP-APIGW-API-KEY-ID': '040zbk6wd4',\n",
    "    'X-NCP-APIGW-API-KEY' : 'gnEKZ2bqS8J9vRwvUV5VRv6qt7hUDiJqwWW0a9kg'\n",
    "}\n",
    "\n",
    "encodedParam = requests.utils.quote('경기도 군포시 삼성로31')\n",
    "params = 'query=' + encodedParam\n",
    "\n",
    "url = 'https://naveropenapi.apigw.ntruss.com/map-geocode/v2/geocode'\n",
    "response = requests.get(url, params=params, headers=headers)\n",
    "\n",
    "response"
   ]
  },
  {
   "cell_type": "code",
   "execution_count": 4,
   "metadata": {},
   "outputs": [
    {
     "data": {
      "text/plain": [
       "'{\"status\":\"OK\",\"meta\":{\"totalCount\":1,\"page\":1,\"count\":1},\"addresses\":[{\"roadAddress\":\"경기도 군포시 삼성로 31 삼성마을4단지\",\"jibunAddress\":\"경기도 군포시 부곡동 1201 삼성마을4단지\",\"englishAddress\":\"31, Samseong-ro, Gunpo-si, Gyeonggi-do, Republic of Korea\",\"addressElements\":[{\"types\":[\"SIDO\"],\"longName\":\"경기도\",\"shortName\":\"경기도\",\"code\":\"\"},{\"types\":[\"SIGUGUN\"],\"longName\":\"군포시\",\"shortName\":\"군포시\",\"code\":\"\"},{\"types\":[\"DONGMYUN\"],\"longName\":\"부곡동\",\"shortName\":\"부곡동\",\"code\":\"\"},{\"types\":[\"RI\"],\"longName\":\"\",\"shortName\":\"\",\"code\":\"\"},{\"types\":[\"ROAD_NAME\"],\"longName\":\"삼성로\",\"shortName\":\"삼성로\",\"code\":\"\"},{\"types\":[\"BUILDING_NUMBER\"],\"longName\":\"31\",\"shortName\":\"31\",\"code\":\"\"},{\"types\":[\"BUILDING_NAME\"],\"longName\":\"삼성마을4단지\",\"shortName\":\"삼성마을4단지\",\"code\":\"\"},{\"types\":[\"LAND_NUMBER\"],\"longName\":\"1201\",\"shortName\":\"1201\",\"code\":\"\"},{\"types\":[\"POSTAL_CODE\"],\"longName\":\"15874\",\"shortName\":\"15874\",\"code\":\"\"}],\"x\":\"126.9311872\",\"y\":\"37.3377256\",\"distance\":0.0}],\"errorMessage\":\"\"}'"
      ]
     },
     "execution_count": 4,
     "metadata": {},
     "output_type": "execute_result"
    }
   ],
   "source": [
    "response.text"
   ]
  },
  {
   "cell_type": "code",
   "execution_count": 5,
   "metadata": {},
   "outputs": [
    {
     "name": "stdout",
     "output_type": "stream",
     "text": [
      "x : 126.9311872\n",
      "y : 37.3377256\n"
     ]
    }
   ],
   "source": [
    "data = response.json()\n",
    "\n",
    "for list in data['addresses']:\n",
    "    print('x : {}'.format(list.get(\"x\")))\n",
    "    print('y : {}'.format(list.get(\"y\")))"
   ]
  },
  {
   "cell_type": "code",
   "execution_count": 31,
   "metadata": {},
   "outputs": [],
   "source": [
    "def change_x_y(address):\n",
    "        headers = {\n",
    "            'X-NCP-APIGW-API-KEY-ID': '040zbk6wd4',\n",
    "            'X-NCP-APIGW-API-KEY' : 'gnEKZ2bqS8J9vRwvUV5VRv6qt7hUDiJqwWW0a9kg'\n",
    "        }\n",
    "\n",
    "        encodedParam = requests.utils.quote(address)\n",
    "        params = 'query=' + encodedParam\n",
    "\n",
    "        url = 'https://naveropenapi.apigw.ntruss.com/map-geocode/v2/geocode'\n",
    "        response = requests.get(url, params=params, headers=headers)\n",
    "\n",
    "        data = response.json()\n",
    "            \n",
    "        for list in data['addresses']:\n",
    "            print('x : {}'.format(list.get(\"x\")))\n",
    "            print('y : {}'.format(list.get(\"y\")))  "
   ]
  },
  {
   "cell_type": "code",
   "execution_count": 34,
   "metadata": {
    "scrolled": true
   },
   "outputs": [
    {
     "name": "stdout",
     "output_type": "stream",
     "text": [
      "x : 127.0204302\n",
      "y : 37.4831818\n"
     ]
    }
   ],
   "source": [
    "result = change_x_y('서울 서초구 남부순환로333길 10')\n",
    "result"
   ]
  },
  {
   "cell_type": "code",
   "execution_count": null,
   "metadata": {},
   "outputs": [],
   "source": []
  },
  {
   "cell_type": "code",
   "execution_count": null,
   "metadata": {},
   "outputs": [],
   "source": []
  }
 ],
 "metadata": {
  "kernelspec": {
   "display_name": "Python 3",
   "language": "python",
   "name": "python3"
  },
  "language_info": {
   "codemirror_mode": {
    "name": "ipython",
    "version": 3
   },
   "file_extension": ".py",
   "mimetype": "text/x-python",
   "name": "python",
   "nbconvert_exporter": "python",
   "pygments_lexer": "ipython3",
   "version": "3.6.9"
  }
 },
 "nbformat": 4,
 "nbformat_minor": 4
}
