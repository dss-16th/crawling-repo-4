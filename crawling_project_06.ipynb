{
 "cells": [
  {
   "cell_type": "markdown",
   "metadata": {},
   "source": [
    "# 키워드별 Scrapy 프로젝트 모듈화"
   ]
  },
  {
   "cell_type": "markdown",
   "metadata": {},
   "source": [
    "### 키워드 '백신' 프로젝트 생성"
   ]
  },
  {
   "cell_type": "code",
   "execution_count": 1,
   "metadata": {},
   "outputs": [],
   "source": [
    "!rm -rf covid_vaccine"
   ]
  },
  {
   "cell_type": "code",
   "execution_count": 2,
   "metadata": {},
   "outputs": [
    {
     "name": "stdout",
     "output_type": "stream",
     "text": [
      "New Scrapy project 'covid_vaccine', using template directory '/home/ubuntu/.pyenv/versions/3.6.9/envs/python3/lib/python3.6/site-packages/scrapy/templates/project', created in:\r\n",
      "    /home/ubuntu/python3/project/covid_vaccine\r\n",
      "\r\n",
      "You can start your first spider with:\r\n",
      "    cd covid_vaccine\r\n",
      "    scrapy genspider example example.com\r\n"
     ]
    }
   ],
   "source": [
    "!scrapy startproject covid_vaccine"
   ]
  },
  {
   "cell_type": "code",
   "execution_count": 3,
   "metadata": {},
   "outputs": [
    {
     "name": "stdout",
     "output_type": "stream",
     "text": [
      "\u001b[01;34mcovid_vaccine\u001b[00m\r\n",
      "├── \u001b[01;34mcovid_vaccine\u001b[00m\r\n",
      "│   ├── __init__.py\r\n",
      "│   ├── items.py\r\n",
      "│   ├── middlewares.py\r\n",
      "│   ├── pipelines.py\r\n",
      "│   ├── settings.py\r\n",
      "│   └── \u001b[01;34mspiders\u001b[00m\r\n",
      "│       └── __init__.py\r\n",
      "└── scrapy.cfg\r\n",
      "\r\n",
      "2 directories, 7 files\r\n"
     ]
    }
   ],
   "source": [
    "!tree covid_vaccine"
   ]
  },
  {
   "cell_type": "markdown",
   "metadata": {},
   "source": [
    "### items.py 작성"
   ]
  },
  {
   "cell_type": "code",
   "execution_count": 4,
   "metadata": {},
   "outputs": [
    {
     "name": "stdout",
     "output_type": "stream",
     "text": [
      "Overwriting covid_vaccine/covid_vaccine/items.py\n"
     ]
    }
   ],
   "source": [
    "%%writefile covid_vaccine/covid_vaccine/items.py\n",
    "import scrapy\n",
    "\n",
    "\n",
    "class CovidVaccineItem(scrapy.Item):\n",
    "    title = scrapy.Field()\n",
    "    link = scrapy.Field()\n",
    "    date = scrapy.Field()"
   ]
  },
  {
   "cell_type": "markdown",
   "metadata": {},
   "source": [
    "### spider.py 작성"
   ]
  },
  {
   "cell_type": "code",
   "execution_count": 5,
   "metadata": {},
   "outputs": [
    {
     "name": "stdout",
     "output_type": "stream",
     "text": [
      "Writing covid_vaccine/covid_vaccine/spiders/spider.py\n"
     ]
    }
   ],
   "source": [
    "%%writefile covid_vaccine/covid_vaccine/spiders/spider.py\n",
    "\n",
    "import scrapy\n",
    "from datetime import datetime\n",
    "from covid_vaccine.items import CovidVaccineItem\n",
    "\n",
    "class CovidSpider(scrapy.Spider):\n",
    "    name = 'CovidVaccine'\n",
    "    allow_domain = ['https://www.naver.com/']\n",
    "\n",
    "    def start_requests(self):\n",
    "        yield scrapy.Request(\"https://search.naver.com/search.naver?where=news&query=코로나%20국내%20백신&pd=4\", callback=self.parse_kword)\n",
    "           \n",
    "    def parse_kword(self, response):\n",
    "        item = CovidVaccineItem()\n",
    "        now = datetime.now()\n",
    "        item['date'] = \"%s년 %s월 %s일 %s시 %s분\" %(now.year, now.month, now.day, now.hour, now.minute)\n",
    "        vaccine_title = response.xpath('//*[@id=\"main_pack\"]/section/div/div[3]/ul/li/div[1]/div/a/@title').extract()\n",
    "        vaccine_link = response.xpath('//*[@id=\"main_pack\"]/section/div/div[3]/ul/li/div[1]/div/a/@href').extract()\n",
    "        for i in range(len(vaccine_title)):\n",
    "            item['title']= vaccine_title[i]\n",
    "            item['link'] = vaccine_link[i]\n",
    "            yield item"
   ]
  },
  {
   "cell_type": "code",
   "execution_count": 6,
   "metadata": {},
   "outputs": [
    {
     "name": "stdout",
     "output_type": "stream",
     "text": [
      "Overwriting vaccine.sh\n"
     ]
    }
   ],
   "source": [
    "# sh 파일 작성\n",
    "%%writefile vaccine.sh\n",
    "cd covid_vaccine\n",
    "scrapy crawl CovidVaccine -o covid_vaccine.csv"
   ]
  },
  {
   "cell_type": "code",
   "execution_count": 7,
   "metadata": {},
   "outputs": [],
   "source": [
    "# settings.py 작성\n",
    "!sed -i 's/ROBOTSTXT_OBEY = True/ROBOTSTXT_OBEY = False/' covid_vaccine/covid_vaccine/settings.py"
   ]
  },
  {
   "cell_type": "markdown",
   "metadata": {},
   "source": [
    "### mongodb.py 작성"
   ]
  },
  {
   "cell_type": "code",
   "execution_count": 8,
   "metadata": {},
   "outputs": [
    {
     "name": "stdout",
     "output_type": "stream",
     "text": [
      "Writing covid_vaccine/covid_vaccine/mongodb.py\n"
     ]
    }
   ],
   "source": [
    "%%writefile covid_vaccine/covid_vaccine/mongodb.py\n",
    "import pymongo\n",
    "\n",
    "client = pymongo.MongoClient(\"mongodb://public_ip:port\")\n",
    "db = client.naver_kword1\n",
    "collection = db.kword_vaccine"
   ]
  },
  {
   "cell_type": "markdown",
   "metadata": {},
   "source": [
    "### pipelines.py 작성"
   ]
  },
  {
   "cell_type": "code",
   "execution_count": 9,
   "metadata": {},
   "outputs": [
    {
     "name": "stdout",
     "output_type": "stream",
     "text": [
      "Overwriting covid_vaccine/covid_vaccine/pipelines.py\n"
     ]
    }
   ],
   "source": [
    "%%writefile covid_vaccine/covid_vaccine/pipelines.py\n",
    "from itemadapter import ItemAdapter\n",
    "from .mongodb import collection\n",
    "\n",
    "class CovidVaccinePipeline:\n",
    "    def process_item(self, item, spider):\n",
    "        data = {\"title\": item[\"title\"], \"link\": item[\"link\"], \"date\": item[\"date\"]}\n",
    "        collection.insert(data)\n",
    "        return item"
   ]
  },
  {
   "cell_type": "markdown",
   "metadata": {},
   "source": [
    "### 크롤링 테스트 및 데이터 프레임 출력"
   ]
  },
  {
   "cell_type": "code",
   "execution_count": 10,
   "metadata": {},
   "outputs": [
    {
     "name": "stdout",
     "output_type": "stream",
     "text": [
      "2021-03-15 21:16:17 [scrapy.utils.log] INFO: Scrapy 2.4.1 started (bot: covid_vaccine)\n",
      "2021-03-15 21:16:17 [scrapy.utils.log] INFO: Versions: lxml 4.6.2.0, libxml2 2.9.10, cssselect 1.1.0, parsel 1.6.0, w3lib 1.22.0, Twisted 20.3.0, Python 3.6.9 (default, Dec 28 2020, 03:27:25) - [GCC 7.5.0], pyOpenSSL 20.0.1 (OpenSSL 1.1.1j  16 Feb 2021), cryptography 3.4.6, Platform Linux-5.4.0-1038-aws-x86_64-with-debian-buster-sid\n",
      "2021-03-15 21:16:17 [scrapy.utils.log] DEBUG: Using reactor: twisted.internet.epollreactor.EPollReactor\n",
      "2021-03-15 21:16:17 [scrapy.crawler] INFO: Overridden settings:\n",
      "{'BOT_NAME': 'covid_vaccine',\n",
      " 'NEWSPIDER_MODULE': 'covid_vaccine.spiders',\n",
      " 'SPIDER_MODULES': ['covid_vaccine.spiders']}\n",
      "2021-03-15 21:16:17 [scrapy.extensions.telnet] INFO: Telnet Password: fb531e2da891f917\n",
      "2021-03-15 21:16:17 [scrapy.middleware] INFO: Enabled extensions:\n",
      "['scrapy.extensions.corestats.CoreStats',\n",
      " 'scrapy.extensions.telnet.TelnetConsole',\n",
      " 'scrapy.extensions.memusage.MemoryUsage',\n",
      " 'scrapy.extensions.feedexport.FeedExporter',\n",
      " 'scrapy.extensions.logstats.LogStats']\n",
      "2021-03-15 21:16:17 [scrapy.middleware] INFO: Enabled downloader middlewares:\n",
      "['scrapy.downloadermiddlewares.httpauth.HttpAuthMiddleware',\n",
      " 'scrapy.downloadermiddlewares.downloadtimeout.DownloadTimeoutMiddleware',\n",
      " 'scrapy.downloadermiddlewares.defaultheaders.DefaultHeadersMiddleware',\n",
      " 'scrapy.downloadermiddlewares.useragent.UserAgentMiddleware',\n",
      " 'scrapy.downloadermiddlewares.retry.RetryMiddleware',\n",
      " 'scrapy.downloadermiddlewares.redirect.MetaRefreshMiddleware',\n",
      " 'scrapy.downloadermiddlewares.httpcompression.HttpCompressionMiddleware',\n",
      " 'scrapy.downloadermiddlewares.redirect.RedirectMiddleware',\n",
      " 'scrapy.downloadermiddlewares.cookies.CookiesMiddleware',\n",
      " 'scrapy.downloadermiddlewares.httpproxy.HttpProxyMiddleware',\n",
      " 'scrapy.downloadermiddlewares.stats.DownloaderStats']\n",
      "2021-03-15 21:16:17 [scrapy.middleware] INFO: Enabled spider middlewares:\n",
      "['scrapy.spidermiddlewares.httperror.HttpErrorMiddleware',\n",
      " 'scrapy.spidermiddlewares.offsite.OffsiteMiddleware',\n",
      " 'scrapy.spidermiddlewares.referer.RefererMiddleware',\n",
      " 'scrapy.spidermiddlewares.urllength.UrlLengthMiddleware',\n",
      " 'scrapy.spidermiddlewares.depth.DepthMiddleware']\n",
      "2021-03-15 21:16:17 [scrapy.middleware] INFO: Enabled item pipelines:\n",
      "[]\n",
      "2021-03-15 21:16:17 [scrapy.core.engine] INFO: Spider opened\n",
      "2021-03-15 21:16:17 [scrapy.extensions.logstats] INFO: Crawled 0 pages (at 0 pages/min), scraped 0 items (at 0 items/min)\n",
      "2021-03-15 21:16:17 [scrapy.extensions.telnet] INFO: Telnet console listening on 127.0.0.1:6023\n",
      "2021-03-15 21:16:17 [scrapy.core.engine] DEBUG: Crawled (200) <GET https://search.naver.com/search.naver?where=news&query=%EC%BD%94%EB%A1%9C%EB%82%98%20%EA%B5%AD%EB%82%B4%20%EB%B0%B1%EC%8B%A0&pd=4> (referer: None)\n",
      "2021-03-15 21:16:18 [scrapy.core.scraper] DEBUG: Scraped from <200 https://search.naver.com/search.naver?where=news&query=%EC%BD%94%EB%A1%9C%EB%82%98%20%EA%B5%AD%EB%82%B4%20%EB%B0%B1%EC%8B%A0&pd=4>\n",
      "{'date': '2021년 3월 15일 21시 16분',\n",
      " 'link': 'http://yna.kr/AKR20210315044651530?did=1195m',\n",
      " 'title': '코로나19 백신 어제 1천74명 접종…17일간 총 58만8천958명(종합)'}\n",
      "2021-03-15 21:16:18 [scrapy.core.scraper] DEBUG: Scraped from <200 https://search.naver.com/search.naver?where=news&query=%EC%BD%94%EB%A1%9C%EB%82%98%20%EA%B5%AD%EB%82%B4%20%EB%B0%B1%EC%8B%A0&pd=4>\n",
      "{'date': '2021년 3월 15일 21시 16분',\n",
      " 'link': 'https://imnews.imbc.com/news/2021/society/article/6119251_34873.html',\n",
      " 'title': '백신 이상반응 신고 여성-젊은층에서 높아…여성 2.1%-20대 3.6%'}\n",
      "2021-03-15 21:16:18 [scrapy.core.scraper] DEBUG: Scraped from <200 https://search.naver.com/search.naver?where=news&query=%EC%BD%94%EB%A1%9C%EB%82%98%20%EA%B5%AD%EB%82%B4%20%EB%B0%B1%EC%8B%A0&pd=4>\n",
      "{'date': '2021년 3월 15일 21시 16분',\n",
      " 'link': 'https://www.chosun.com/national/welfare-medical/2021/03/15/O7KQBXQP3VCU7DCEXN6GW6YFIU/?utm_source=naver&utm_medium=referral&utm_campaign=naver-news',\n",
      " 'title': '75세 이상은 화이자, 65~74세는 아스트라 백신 맞는다'}\n",
      "2021-03-15 21:16:18 [scrapy.core.scraper] DEBUG: Scraped from <200 https://search.naver.com/search.naver?where=news&query=%EC%BD%94%EB%A1%9C%EB%82%98%20%EA%B5%AD%EB%82%B4%20%EB%B0%B1%EC%8B%A0&pd=4>\n",
      "{'date': '2021년 3월 15일 21시 16분',\n",
      " 'link': 'http://www.dt.co.kr/contents.html?article_no=2021031602100151820001&ref=naver',\n",
      " 'title': '文대통령 23일 AZ백신 접종'}\n",
      "2021-03-15 21:16:18 [scrapy.core.scraper] DEBUG: Scraped from <200 https://search.naver.com/search.naver?where=news&query=%EC%BD%94%EB%A1%9C%EB%82%98%20%EA%B5%AD%EB%82%B4%20%EB%B0%B1%EC%8B%A0&pd=4>\n",
      "{'date': '2021년 3월 15일 21시 16분',\n",
      " 'link': 'https://www.nocutnews.co.kr/news/5516516',\n",
      " 'title': \"충북 2분기 코로나19 예방접종 확대…백신 관리 '비상'\"}\n",
      "2021-03-15 21:16:18 [scrapy.core.scraper] DEBUG: Scraped from <200 https://search.naver.com/search.naver?where=news&query=%EC%BD%94%EB%A1%9C%EB%82%98%20%EA%B5%AD%EB%82%B4%20%EB%B0%B1%EC%8B%A0&pd=4>\n",
      "{'date': '2021년 3월 15일 21시 16분',\n",
      " 'link': 'https://biz.chosun.com/site/data/html_dir/2021/03/15/2021031501626.html?utm_source=naver&utm_medium=original&utm_campaign=biz',\n",
      " 'title': '4월부터 일반국민 백신접종 시작…75세 이상 고령층 접종도 개시'}\n",
      "2021-03-15 21:16:18 [scrapy.core.scraper] DEBUG: Scraped from <200 https://search.naver.com/search.naver?where=news&query=%EC%BD%94%EB%A1%9C%EB%82%98%20%EA%B5%AD%EB%82%B4%20%EB%B0%B1%EC%8B%A0&pd=4>\n",
      "{'date': '2021년 3월 15일 21시 16분',\n",
      " 'link': 'https://news.sbs.co.kr/news/endPage.do?news_id=N1006242559&plink=ORI&cooper=NAVER',\n",
      " 'title': \"접종 후 사망 신고 16명 중 14명 '백신과 무관' 잠정 결론\"}\n",
      "2021-03-15 21:16:18 [scrapy.core.scraper] DEBUG: Scraped from <200 https://search.naver.com/search.naver?where=news&query=%EC%BD%94%EB%A1%9C%EB%82%98%20%EA%B5%AD%EB%82%B4%20%EB%B0%B1%EC%8B%A0&pd=4>\n",
      "{'date': '2021년 3월 15일 21시 16분',\n",
      " 'link': 'http://www.segye.com/content/html/2021/03/15/20210315514218.html?OutUrl=naver',\n",
      " 'title': '‘언제 기회 줍니까’ 물었던 문 대통령…23일 AZ 백신 공개 접종'}\n",
      "2021-03-15 21:16:18 [scrapy.core.scraper] DEBUG: Scraped from <200 https://search.naver.com/search.naver?where=news&query=%EC%BD%94%EB%A1%9C%EB%82%98%20%EA%B5%AD%EB%82%B4%20%EB%B0%B1%EC%8B%A0&pd=4>\n",
      "{'date': '2021년 3월 15일 21시 16분',\n",
      " 'link': 'http://news.kmib.co.kr/article/view.asp?arcid=0015633174&code=61121111&cp=nv',\n",
      " 'title': '접종 후 사망 16명 중 14명 ‘백신과 무관’ 잠정 결론'}\n",
      "2021-03-15 21:16:18 [scrapy.core.scraper] DEBUG: Scraped from <200 https://search.naver.com/search.naver?where=news&query=%EC%BD%94%EB%A1%9C%EB%82%98%20%EA%B5%AD%EB%82%B4%20%EB%B0%B1%EC%8B%A0&pd=4>\n",
      "{'date': '2021년 3월 15일 21시 16분',\n",
      " 'link': 'http://www.newsis.com/view/?id=NISX20210315_0001371152&cID=10201&pID=10200',\n",
      " 'title': \"백신 확보 '한시름'…AZ 455만·화이자 350만명분 6월까지 도입(종합)\"}\n",
      "2021-03-15 21:16:18 [scrapy.core.engine] INFO: Closing spider (finished)\n",
      "2021-03-15 21:16:18 [scrapy.extensions.feedexport] INFO: Stored csv feed (10 items) in: covid_vaccine.csv\n",
      "2021-03-15 21:16:18 [scrapy.statscollectors] INFO: Dumping Scrapy stats:\n",
      "{'downloader/request_bytes': 320,\n",
      " 'downloader/request_count': 1,\n",
      " 'downloader/request_method_count/GET': 1,\n",
      " 'downloader/response_bytes': 113988,\n",
      " 'downloader/response_count': 1,\n",
      " 'downloader/response_status_count/200': 1,\n",
      " 'elapsed_time_seconds': 0.413313,\n",
      " 'finish_reason': 'finished',\n",
      " 'finish_time': datetime.datetime(2021, 3, 15, 12, 16, 18, 75000),\n",
      " 'item_scraped_count': 10,\n",
      " 'log_count/DEBUG': 11,\n",
      " 'log_count/INFO': 11,\n",
      " 'memusage/max': 55590912,\n",
      " 'memusage/startup': 55590912,\n",
      " 'response_received_count': 1,\n",
      " 'scheduler/dequeued': 1,\n",
      " 'scheduler/dequeued/memory': 1,\n",
      " 'scheduler/enqueued': 1,\n",
      " 'scheduler/enqueued/memory': 1,\n",
      " 'start_time': datetime.datetime(2021, 3, 15, 12, 16, 17, 661687)}\n",
      "2021-03-15 21:16:18 [scrapy.core.engine] INFO: Spider closed (finished)\n"
     ]
    }
   ],
   "source": [
    "!/bin/bash vaccine.sh"
   ]
  },
  {
   "cell_type": "code",
   "execution_count": 11,
   "metadata": {},
   "outputs": [],
   "source": [
    "import pandas as pd"
   ]
  },
  {
   "cell_type": "code",
   "execution_count": 12,
   "metadata": {
    "scrolled": true
   },
   "outputs": [
    {
     "data": {
      "text/html": [
       "<div>\n",
       "<style scoped>\n",
       "    .dataframe tbody tr th:only-of-type {\n",
       "        vertical-align: middle;\n",
       "    }\n",
       "\n",
       "    .dataframe tbody tr th {\n",
       "        vertical-align: top;\n",
       "    }\n",
       "\n",
       "    .dataframe thead th {\n",
       "        text-align: right;\n",
       "    }\n",
       "</style>\n",
       "<table border=\"1\" class=\"dataframe\">\n",
       "  <thead>\n",
       "    <tr style=\"text-align: right;\">\n",
       "      <th></th>\n",
       "      <th>date</th>\n",
       "      <th>link</th>\n",
       "      <th>title</th>\n",
       "    </tr>\n",
       "  </thead>\n",
       "  <tbody>\n",
       "    <tr>\n",
       "      <th>0</th>\n",
       "      <td>2021년 3월 15일 21시 16분</td>\n",
       "      <td>http://yna.kr/AKR20210315044651530?did=1195m</td>\n",
       "      <td>코로나19 백신 어제 1천74명 접종…17일간 총 58만8천958명(종합)</td>\n",
       "    </tr>\n",
       "    <tr>\n",
       "      <th>1</th>\n",
       "      <td>2021년 3월 15일 21시 16분</td>\n",
       "      <td>https://imnews.imbc.com/news/2021/society/arti...</td>\n",
       "      <td>백신 이상반응 신고 여성-젊은층에서 높아…여성 2.1%-20대 3.6%</td>\n",
       "    </tr>\n",
       "    <tr>\n",
       "      <th>2</th>\n",
       "      <td>2021년 3월 15일 21시 16분</td>\n",
       "      <td>https://www.chosun.com/national/welfare-medica...</td>\n",
       "      <td>75세 이상은 화이자, 65~74세는 아스트라 백신 맞는다</td>\n",
       "    </tr>\n",
       "    <tr>\n",
       "      <th>3</th>\n",
       "      <td>2021년 3월 15일 21시 16분</td>\n",
       "      <td>http://www.dt.co.kr/contents.html?article_no=2...</td>\n",
       "      <td>文대통령 23일 AZ백신 접종</td>\n",
       "    </tr>\n",
       "    <tr>\n",
       "      <th>4</th>\n",
       "      <td>2021년 3월 15일 21시 16분</td>\n",
       "      <td>https://www.nocutnews.co.kr/news/5516516</td>\n",
       "      <td>충북 2분기 코로나19 예방접종 확대…백신 관리 '비상'</td>\n",
       "    </tr>\n",
       "    <tr>\n",
       "      <th>5</th>\n",
       "      <td>2021년 3월 15일 21시 16분</td>\n",
       "      <td>https://biz.chosun.com/site/data/html_dir/2021...</td>\n",
       "      <td>4월부터 일반국민 백신접종 시작…75세 이상 고령층 접종도 개시</td>\n",
       "    </tr>\n",
       "    <tr>\n",
       "      <th>6</th>\n",
       "      <td>2021년 3월 15일 21시 16분</td>\n",
       "      <td>https://news.sbs.co.kr/news/endPage.do?news_id...</td>\n",
       "      <td>접종 후 사망 신고 16명 중 14명 '백신과 무관' 잠정 결론</td>\n",
       "    </tr>\n",
       "    <tr>\n",
       "      <th>7</th>\n",
       "      <td>2021년 3월 15일 21시 16분</td>\n",
       "      <td>http://www.segye.com/content/html/2021/03/15/2...</td>\n",
       "      <td>‘언제 기회 줍니까’ 물었던 문 대통령…23일 AZ 백신 공개 접종</td>\n",
       "    </tr>\n",
       "    <tr>\n",
       "      <th>8</th>\n",
       "      <td>2021년 3월 15일 21시 16분</td>\n",
       "      <td>http://news.kmib.co.kr/article/view.asp?arcid=...</td>\n",
       "      <td>접종 후 사망 16명 중 14명 ‘백신과 무관’ 잠정 결론</td>\n",
       "    </tr>\n",
       "    <tr>\n",
       "      <th>9</th>\n",
       "      <td>2021년 3월 15일 21시 16분</td>\n",
       "      <td>http://www.newsis.com/view/?id=NISX20210315_00...</td>\n",
       "      <td>백신 확보 '한시름'…AZ 455만·화이자 350만명분 6월까지 도입(종합)</td>\n",
       "    </tr>\n",
       "  </tbody>\n",
       "</table>\n",
       "</div>"
      ],
      "text/plain": [
       "                   date                                               link  \\\n",
       "0  2021년 3월 15일 21시 16분       http://yna.kr/AKR20210315044651530?did=1195m   \n",
       "1  2021년 3월 15일 21시 16분  https://imnews.imbc.com/news/2021/society/arti...   \n",
       "2  2021년 3월 15일 21시 16분  https://www.chosun.com/national/welfare-medica...   \n",
       "3  2021년 3월 15일 21시 16분  http://www.dt.co.kr/contents.html?article_no=2...   \n",
       "4  2021년 3월 15일 21시 16분           https://www.nocutnews.co.kr/news/5516516   \n",
       "5  2021년 3월 15일 21시 16분  https://biz.chosun.com/site/data/html_dir/2021...   \n",
       "6  2021년 3월 15일 21시 16분  https://news.sbs.co.kr/news/endPage.do?news_id...   \n",
       "7  2021년 3월 15일 21시 16분  http://www.segye.com/content/html/2021/03/15/2...   \n",
       "8  2021년 3월 15일 21시 16분  http://news.kmib.co.kr/article/view.asp?arcid=...   \n",
       "9  2021년 3월 15일 21시 16분  http://www.newsis.com/view/?id=NISX20210315_00...   \n",
       "\n",
       "                                        title  \n",
       "0   코로나19 백신 어제 1천74명 접종…17일간 총 58만8천958명(종합)  \n",
       "1     백신 이상반응 신고 여성-젊은층에서 높아…여성 2.1%-20대 3.6%  \n",
       "2            75세 이상은 화이자, 65~74세는 아스트라 백신 맞는다  \n",
       "3                            文대통령 23일 AZ백신 접종  \n",
       "4             충북 2분기 코로나19 예방접종 확대…백신 관리 '비상'  \n",
       "5         4월부터 일반국민 백신접종 시작…75세 이상 고령층 접종도 개시  \n",
       "6         접종 후 사망 신고 16명 중 14명 '백신과 무관' 잠정 결론  \n",
       "7       ‘언제 기회 줍니까’ 물었던 문 대통령…23일 AZ 백신 공개 접종  \n",
       "8            접종 후 사망 16명 중 14명 ‘백신과 무관’ 잠정 결론  \n",
       "9  백신 확보 '한시름'…AZ 455만·화이자 350만명분 6월까지 도입(종합)  "
      ]
     },
     "execution_count": 12,
     "metadata": {},
     "output_type": "execute_result"
    }
   ],
   "source": [
    "df_vaccine = pd.read_csv('./covid_vaccine/covid_vaccine.csv')\n",
    "df_vaccine"
   ]
  },
  {
   "cell_type": "markdown",
   "metadata": {},
   "source": [
    "### 터미널 crontab editor\n",
    "- 'cd python3/project/covid_vaccine && scrapy crawl CovidVaccine' 실행하여 크롤링된 데이터 mongodb 적재"
   ]
  },
  {
   "cell_type": "markdown",
   "metadata": {},
   "source": [
    "### 키워드 '거리두기' 프로젝트 생성"
   ]
  },
  {
   "cell_type": "code",
   "execution_count": 13,
   "metadata": {},
   "outputs": [],
   "source": [
    "!rm -rf covid_soc_distance"
   ]
  },
  {
   "cell_type": "code",
   "execution_count": 14,
   "metadata": {
    "scrolled": true
   },
   "outputs": [
    {
     "name": "stdout",
     "output_type": "stream",
     "text": [
      "New Scrapy project 'covid_soc_distance', using template directory '/home/ubuntu/.pyenv/versions/3.6.9/envs/python3/lib/python3.6/site-packages/scrapy/templates/project', created in:\r\n",
      "    /home/ubuntu/python3/project/covid_soc_distance\r\n",
      "\r\n",
      "You can start your first spider with:\r\n",
      "    cd covid_soc_distance\r\n",
      "    scrapy genspider example example.com\r\n"
     ]
    }
   ],
   "source": [
    "!scrapy startproject covid_soc_distance"
   ]
  },
  {
   "cell_type": "code",
   "execution_count": 15,
   "metadata": {},
   "outputs": [
    {
     "name": "stdout",
     "output_type": "stream",
     "text": [
      "\u001b[01;34mcovid_soc_distance/\u001b[00m\r\n",
      "├── \u001b[01;34mcovid_soc_distance\u001b[00m\r\n",
      "│   ├── __init__.py\r\n",
      "│   ├── items.py\r\n",
      "│   ├── middlewares.py\r\n",
      "│   ├── pipelines.py\r\n",
      "│   ├── settings.py\r\n",
      "│   └── \u001b[01;34mspiders\u001b[00m\r\n",
      "│       └── __init__.py\r\n",
      "└── scrapy.cfg\r\n",
      "\r\n",
      "2 directories, 7 files\r\n"
     ]
    }
   ],
   "source": [
    "!tree covid_soc_distance/"
   ]
  },
  {
   "cell_type": "markdown",
   "metadata": {},
   "source": [
    "### items.py 작성"
   ]
  },
  {
   "cell_type": "code",
   "execution_count": 16,
   "metadata": {},
   "outputs": [
    {
     "name": "stdout",
     "output_type": "stream",
     "text": [
      "Overwriting covid_soc_distance/covid_soc_distance/items.py\n"
     ]
    }
   ],
   "source": [
    "%%writefile covid_soc_distance/covid_soc_distance/items.py\n",
    "import scrapy\n",
    "\n",
    "class CovidSocDistanceItem(scrapy.Item):\n",
    "    title = scrapy.Field()\n",
    "    link = scrapy.Field()\n",
    "    date = scrapy.Field()"
   ]
  },
  {
   "cell_type": "markdown",
   "metadata": {},
   "source": [
    "### spider.py 작성"
   ]
  },
  {
   "cell_type": "code",
   "execution_count": 17,
   "metadata": {},
   "outputs": [
    {
     "name": "stdout",
     "output_type": "stream",
     "text": [
      "Writing covid_soc_distance/covid_soc_distance/spiders/spider.py\n"
     ]
    }
   ],
   "source": [
    "%%writefile covid_soc_distance/covid_soc_distance/spiders/spider.py\n",
    "\n",
    "import scrapy\n",
    "from datetime import datetime\n",
    "from covid_soc_distance.items import CovidSocDistanceItem\n",
    "\n",
    "class CovidSpider(scrapy.Spider):\n",
    "    name = 'CovidSocDistance'\n",
    "    allow_domain = ['https://www.naver.com/']\n",
    "    \n",
    "    def start_requests(self):\n",
    "        yield scrapy.Request(\"https://search.naver.com/search.naver?where=news&query=코로나%20사회적거리두기&pd=4\", callback=self.parse_kword)\n",
    "        \n",
    "    def parse_kword(self, response):\n",
    "        item = CovidSocDistanceItem()\n",
    "        now = datetime.now()\n",
    "        item['date'] = \"%s년 %s월 %s일 %s시 %s분\" %(now.year, now.month, now.day, now.hour, now.minute)\n",
    "        soc_distance_title = response.xpath('//*[@id=\"main_pack\"]/section/div/div[3]/ul/li/div[1]/div/a/@title').extract()\n",
    "        soc_distance_link = response.xpath('//*[@id=\"main_pack\"]/section/div/div[3]/ul/li/div[1]/div/a/@href').extract()\n",
    "        for i in range(len(soc_distance_title)):\n",
    "            item['title']= soc_distance_title[i]\n",
    "            item['link'] = soc_distance_link[i]\n",
    "            yield item"
   ]
  },
  {
   "cell_type": "code",
   "execution_count": 18,
   "metadata": {},
   "outputs": [
    {
     "name": "stdout",
     "output_type": "stream",
     "text": [
      "Overwriting soc_distance.sh\n"
     ]
    }
   ],
   "source": [
    "# sh 파일 작성\n",
    "%%writefile soc_distance.sh\n",
    "cd covid_soc_distance\n",
    "scrapy crawl CovidSocDistance -o covid_soc_distance.csv"
   ]
  },
  {
   "cell_type": "code",
   "execution_count": 19,
   "metadata": {},
   "outputs": [],
   "source": [
    "# settings.py 수정\n",
    "!sed -i 's/ROBOTSTXT_OBEY = True/ROBOTSTXT_OBEY = False/' covid_soc_distance/covid_soc_distance/settings.py"
   ]
  },
  {
   "cell_type": "markdown",
   "metadata": {},
   "source": [
    "### mongodb.py 작성"
   ]
  },
  {
   "cell_type": "code",
   "execution_count": 20,
   "metadata": {
    "scrolled": true
   },
   "outputs": [
    {
     "name": "stdout",
     "output_type": "stream",
     "text": [
      "Writing covid_soc_distance/covid_soc_distance/mongodb.py\n"
     ]
    }
   ],
   "source": [
    "%%writefile covid_soc_distance/covid_soc_distance/mongodb.py\n",
    "import pymongo\n",
    "\n",
    "client = pymongo.MongoClient(\"mongodb://public_ip:port\")\n",
    "db = client.naver_kword2\n",
    "collection = db.kword_soc_distance"
   ]
  },
  {
   "cell_type": "markdown",
   "metadata": {},
   "source": [
    "### pipelines.py 작성"
   ]
  },
  {
   "cell_type": "code",
   "execution_count": 21,
   "metadata": {},
   "outputs": [
    {
     "name": "stdout",
     "output_type": "stream",
     "text": [
      "Overwriting covid_soc_distance/covid_soc_distance/pipelines.py\n"
     ]
    }
   ],
   "source": [
    "%%writefile covid_soc_distance/covid_soc_distance/pipelines.py\n",
    "from itemadapter import ItemAdapter\n",
    "from .mongodb import collection\n",
    "\n",
    "class CovidSocDistancePipeline:\n",
    "    def process_item(self, item, spider):\n",
    "        data = {\"title\": item[\"title\"], \"link\": item[\"link\"], \"date\": item[\"date\"]}\n",
    "        collection.insert(data)\n",
    "        return item"
   ]
  },
  {
   "cell_type": "markdown",
   "metadata": {},
   "source": [
    "### 크롤링 테스트 및 데이터 프레임 출력"
   ]
  },
  {
   "cell_type": "code",
   "execution_count": 22,
   "metadata": {},
   "outputs": [
    {
     "name": "stdout",
     "output_type": "stream",
     "text": [
      "2021-03-15 21:16:38 [scrapy.utils.log] INFO: Scrapy 2.4.1 started (bot: covid_soc_distance)\n",
      "2021-03-15 21:16:38 [scrapy.utils.log] INFO: Versions: lxml 4.6.2.0, libxml2 2.9.10, cssselect 1.1.0, parsel 1.6.0, w3lib 1.22.0, Twisted 20.3.0, Python 3.6.9 (default, Dec 28 2020, 03:27:25) - [GCC 7.5.0], pyOpenSSL 20.0.1 (OpenSSL 1.1.1j  16 Feb 2021), cryptography 3.4.6, Platform Linux-5.4.0-1038-aws-x86_64-with-debian-buster-sid\n",
      "2021-03-15 21:16:38 [scrapy.utils.log] DEBUG: Using reactor: twisted.internet.epollreactor.EPollReactor\n",
      "2021-03-15 21:16:38 [scrapy.crawler] INFO: Overridden settings:\n",
      "{'BOT_NAME': 'covid_soc_distance',\n",
      " 'NEWSPIDER_MODULE': 'covid_soc_distance.spiders',\n",
      " 'SPIDER_MODULES': ['covid_soc_distance.spiders']}\n",
      "2021-03-15 21:16:38 [scrapy.extensions.telnet] INFO: Telnet Password: a9395d44e887fd85\n",
      "2021-03-15 21:16:38 [scrapy.middleware] INFO: Enabled extensions:\n",
      "['scrapy.extensions.corestats.CoreStats',\n",
      " 'scrapy.extensions.telnet.TelnetConsole',\n",
      " 'scrapy.extensions.memusage.MemoryUsage',\n",
      " 'scrapy.extensions.feedexport.FeedExporter',\n",
      " 'scrapy.extensions.logstats.LogStats']\n",
      "2021-03-15 21:16:38 [scrapy.middleware] INFO: Enabled downloader middlewares:\n",
      "['scrapy.downloadermiddlewares.httpauth.HttpAuthMiddleware',\n",
      " 'scrapy.downloadermiddlewares.downloadtimeout.DownloadTimeoutMiddleware',\n",
      " 'scrapy.downloadermiddlewares.defaultheaders.DefaultHeadersMiddleware',\n",
      " 'scrapy.downloadermiddlewares.useragent.UserAgentMiddleware',\n",
      " 'scrapy.downloadermiddlewares.retry.RetryMiddleware',\n",
      " 'scrapy.downloadermiddlewares.redirect.MetaRefreshMiddleware',\n",
      " 'scrapy.downloadermiddlewares.httpcompression.HttpCompressionMiddleware',\n",
      " 'scrapy.downloadermiddlewares.redirect.RedirectMiddleware',\n",
      " 'scrapy.downloadermiddlewares.cookies.CookiesMiddleware',\n",
      " 'scrapy.downloadermiddlewares.httpproxy.HttpProxyMiddleware',\n",
      " 'scrapy.downloadermiddlewares.stats.DownloaderStats']\n",
      "2021-03-15 21:16:38 [scrapy.middleware] INFO: Enabled spider middlewares:\n",
      "['scrapy.spidermiddlewares.httperror.HttpErrorMiddleware',\n",
      " 'scrapy.spidermiddlewares.offsite.OffsiteMiddleware',\n",
      " 'scrapy.spidermiddlewares.referer.RefererMiddleware',\n",
      " 'scrapy.spidermiddlewares.urllength.UrlLengthMiddleware',\n",
      " 'scrapy.spidermiddlewares.depth.DepthMiddleware']\n",
      "2021-03-15 21:16:38 [scrapy.middleware] INFO: Enabled item pipelines:\n",
      "[]\n",
      "2021-03-15 21:16:38 [scrapy.core.engine] INFO: Spider opened\n",
      "2021-03-15 21:16:38 [scrapy.extensions.logstats] INFO: Crawled 0 pages (at 0 pages/min), scraped 0 items (at 0 items/min)\n",
      "2021-03-15 21:16:38 [scrapy.extensions.telnet] INFO: Telnet console listening on 127.0.0.1:6023\n",
      "2021-03-15 21:16:38 [scrapy.core.engine] DEBUG: Crawled (200) <GET https://search.naver.com/search.naver?where=news&query=%EC%BD%94%EB%A1%9C%EB%82%98%20%EC%82%AC%ED%9A%8C%EC%A0%81%EA%B1%B0%EB%A6%AC%EB%91%90%EA%B8%B0&pd=4> (referer: None)\n",
      "2021-03-15 21:16:38 [scrapy.core.scraper] DEBUG: Scraped from <200 https://search.naver.com/search.naver?where=news&query=%EC%BD%94%EB%A1%9C%EB%82%98%20%EC%82%AC%ED%9A%8C%EC%A0%81%EA%B1%B0%EB%A6%AC%EB%91%90%EA%B8%B0&pd=4>\n",
      "{'date': '2021년 3월 15일 21시 16분',\n",
      " 'link': 'http://www.newsis.com/view/?id=NISX20210315_0001370578&cID=10201&pID=10200',\n",
      " 'title': '서울시, 거리두기 2단계 28일까지 연장…5인모임 금지도 유지'}\n",
      "2021-03-15 21:16:38 [scrapy.core.scraper] DEBUG: Scraped from <200 https://search.naver.com/search.naver?where=news&query=%EC%BD%94%EB%A1%9C%EB%82%98%20%EC%82%AC%ED%9A%8C%EC%A0%81%EA%B1%B0%EB%A6%AC%EB%91%90%EA%B8%B0&pd=4>\n",
      "{'date': '2021년 3월 15일 21시 16분',\n",
      " 'link': 'http://tk.newdaily.co.kr/site/data/html/2021/03/15/2021031500134.html',\n",
      " 'title': '울진군, 사회적 거리두기 1.5단계 2주 연장'}\n",
      "2021-03-15 21:16:38 [scrapy.core.scraper] DEBUG: Scraped from <200 https://search.naver.com/search.naver?where=news&query=%EC%BD%94%EB%A1%9C%EB%82%98%20%EC%82%AC%ED%9A%8C%EC%A0%81%EA%B1%B0%EB%A6%AC%EB%91%90%EA%B8%B0&pd=4>\n",
      "{'date': '2021년 3월 15일 21시 16분',\n",
      " 'link': 'https://www.pressian.com/pages/articles/2021031513143209159?utm_source=naver&utm_medium=search',\n",
      " 'title': '전남도, 거리두기 1.5단계 2주 연장'}\n",
      "2021-03-15 21:16:38 [scrapy.core.scraper] DEBUG: Scraped from <200 https://search.naver.com/search.naver?where=news&query=%EC%BD%94%EB%A1%9C%EB%82%98%20%EC%82%AC%ED%9A%8C%EC%A0%81%EA%B1%B0%EB%A6%AC%EB%91%90%EA%B8%B0&pd=4>\n",
      "{'date': '2021년 3월 15일 21시 16분',\n",
      " 'link': 'http://www.kukinews.com/newsView/kuk202103150270',\n",
      " 'title': '태백시, 사회적 거리두기 28일까지 1.5단계 재연장'}\n",
      "2021-03-15 21:16:38 [scrapy.core.scraper] DEBUG: Scraped from <200 https://search.naver.com/search.naver?where=news&query=%EC%BD%94%EB%A1%9C%EB%82%98%20%EC%82%AC%ED%9A%8C%EC%A0%81%EA%B1%B0%EB%A6%AC%EB%91%90%EA%B8%B0&pd=4>\n",
      "{'date': '2021년 3월 15일 21시 16분',\n",
      " 'link': 'http://moneys.mt.co.kr/news/mwView.php?no=2021031510308068332',\n",
      " 'title': '신규확진 382명… 아직 거리두기 2.5단계(종합)'}\n",
      "2021-03-15 21:16:38 [scrapy.core.scraper] DEBUG: Scraped from <200 https://search.naver.com/search.naver?where=news&query=%EC%BD%94%EB%A1%9C%EB%82%98%20%EC%82%AC%ED%9A%8C%EC%A0%81%EA%B1%B0%EB%A6%AC%EB%91%90%EA%B8%B0&pd=4>\n",
      "{'date': '2021년 3월 15일 21시 16분',\n",
      " 'link': 'https://ilyo.co.kr/?ac=article_view&entry_id=395488',\n",
      " 'title': '[포항시정] 현 사회적 거리두기 단계 2주간 유지 外'}\n",
      "2021-03-15 21:16:38 [scrapy.core.scraper] DEBUG: Scraped from <200 https://search.naver.com/search.naver?where=news&query=%EC%BD%94%EB%A1%9C%EB%82%98%20%EC%82%AC%ED%9A%8C%EC%A0%81%EA%B1%B0%EB%A6%AC%EB%91%90%EA%B8%B0&pd=4>\n",
      "{'date': '2021년 3월 15일 21시 16분',\n",
      " 'link': 'http://www.fnnews.com/news/202103151005256447',\n",
      " 'title': '\"코로나 팬데믹, 서비스상표 지형도 바꿨다\"'}\n",
      "2021-03-15 21:16:38 [scrapy.core.scraper] DEBUG: Scraped from <200 https://search.naver.com/search.naver?where=news&query=%EC%BD%94%EB%A1%9C%EB%82%98%20%EC%82%AC%ED%9A%8C%EC%A0%81%EA%B1%B0%EB%A6%AC%EB%91%90%EA%B8%B0&pd=4>\n",
      "{'date': '2021년 3월 15일 21시 16분',\n",
      " 'link': 'http://www.segye.com/content/html/2021/03/15/20210315502312.html?OutUrl=naver',\n",
      " 'title': \"미국은 코로나19 '1m 거리두기' 시험 중\"}\n",
      "2021-03-15 21:16:38 [scrapy.core.scraper] DEBUG: Scraped from <200 https://search.naver.com/search.naver?where=news&query=%EC%BD%94%EB%A1%9C%EB%82%98%20%EC%82%AC%ED%9A%8C%EC%A0%81%EA%B1%B0%EB%A6%AC%EB%91%90%EA%B8%B0&pd=4>\n",
      "{'date': '2021년 3월 15일 21시 16분',\n",
      " 'link': 'http://news.kbs.co.kr/news/view.do?ncd=5138858&ref=A',\n",
      " 'title': '신규 확진자 382명…“거리두기 2주 연장”'}\n",
      "2021-03-15 21:16:38 [scrapy.core.scraper] DEBUG: Scraped from <200 https://search.naver.com/search.naver?where=news&query=%EC%BD%94%EB%A1%9C%EB%82%98%20%EC%82%AC%ED%9A%8C%EC%A0%81%EA%B1%B0%EB%A6%AC%EB%91%90%EA%B8%B0&pd=4>\n",
      "{'date': '2021년 3월 15일 21시 16분',\n",
      " 'link': 'http://www.cts.tv/news/view?ncate=THMNWS01&dpid=274874',\n",
      " 'title': '사회적 거리두기 2단계 유지, 예배 적용은?'}\n",
      "2021-03-15 21:16:38 [scrapy.core.engine] INFO: Closing spider (finished)\n",
      "2021-03-15 21:16:38 [scrapy.extensions.feedexport] INFO: Stored csv feed (10 items) in: covid_soc_distance.csv\n",
      "2021-03-15 21:16:38 [scrapy.statscollectors] INFO: Dumping Scrapy stats:\n",
      "{'downloader/request_bytes': 344,\n",
      " 'downloader/request_count': 1,\n",
      " 'downloader/request_method_count/GET': 1,\n",
      " 'downloader/response_bytes': 114807,\n",
      " 'downloader/response_count': 1,\n",
      " 'downloader/response_status_count/200': 1,\n",
      " 'elapsed_time_seconds': 0.399832,\n",
      " 'finish_reason': 'finished',\n",
      " 'finish_time': datetime.datetime(2021, 3, 15, 12, 16, 38, 761288),\n",
      " 'item_scraped_count': 10,\n",
      " 'log_count/DEBUG': 11,\n",
      " 'log_count/INFO': 11,\n",
      " 'memusage/max': 55652352,\n",
      " 'memusage/startup': 55652352,\n",
      " 'response_received_count': 1,\n",
      " 'scheduler/dequeued': 1,\n",
      " 'scheduler/dequeued/memory': 1,\n",
      " 'scheduler/enqueued': 1,\n",
      " 'scheduler/enqueued/memory': 1,\n",
      " 'start_time': datetime.datetime(2021, 3, 15, 12, 16, 38, 361456)}\n",
      "2021-03-15 21:16:38 [scrapy.core.engine] INFO: Spider closed (finished)\n"
     ]
    }
   ],
   "source": [
    "!/bin/bash soc_distance.sh"
   ]
  },
  {
   "cell_type": "code",
   "execution_count": 23,
   "metadata": {},
   "outputs": [],
   "source": [
    "import pandas as pd"
   ]
  },
  {
   "cell_type": "code",
   "execution_count": 24,
   "metadata": {},
   "outputs": [
    {
     "data": {
      "text/html": [
       "<div>\n",
       "<style scoped>\n",
       "    .dataframe tbody tr th:only-of-type {\n",
       "        vertical-align: middle;\n",
       "    }\n",
       "\n",
       "    .dataframe tbody tr th {\n",
       "        vertical-align: top;\n",
       "    }\n",
       "\n",
       "    .dataframe thead th {\n",
       "        text-align: right;\n",
       "    }\n",
       "</style>\n",
       "<table border=\"1\" class=\"dataframe\">\n",
       "  <thead>\n",
       "    <tr style=\"text-align: right;\">\n",
       "      <th></th>\n",
       "      <th>date</th>\n",
       "      <th>link</th>\n",
       "      <th>title</th>\n",
       "    </tr>\n",
       "  </thead>\n",
       "  <tbody>\n",
       "    <tr>\n",
       "      <th>0</th>\n",
       "      <td>2021년 3월 15일 21시 16분</td>\n",
       "      <td>http://www.newsis.com/view/?id=NISX20210315_00...</td>\n",
       "      <td>서울시, 거리두기 2단계 28일까지 연장…5인모임 금지도 유지</td>\n",
       "    </tr>\n",
       "    <tr>\n",
       "      <th>1</th>\n",
       "      <td>2021년 3월 15일 21시 16분</td>\n",
       "      <td>http://tk.newdaily.co.kr/site/data/html/2021/0...</td>\n",
       "      <td>울진군, 사회적 거리두기 1.5단계 2주 연장</td>\n",
       "    </tr>\n",
       "    <tr>\n",
       "      <th>2</th>\n",
       "      <td>2021년 3월 15일 21시 16분</td>\n",
       "      <td>https://www.pressian.com/pages/articles/202103...</td>\n",
       "      <td>전남도, 거리두기 1.5단계 2주 연장</td>\n",
       "    </tr>\n",
       "    <tr>\n",
       "      <th>3</th>\n",
       "      <td>2021년 3월 15일 21시 16분</td>\n",
       "      <td>http://www.kukinews.com/newsView/kuk202103150270</td>\n",
       "      <td>태백시, 사회적 거리두기 28일까지 1.5단계 재연장</td>\n",
       "    </tr>\n",
       "    <tr>\n",
       "      <th>4</th>\n",
       "      <td>2021년 3월 15일 21시 16분</td>\n",
       "      <td>http://moneys.mt.co.kr/news/mwView.php?no=2021...</td>\n",
       "      <td>신규확진 382명… 아직 거리두기 2.5단계(종합)</td>\n",
       "    </tr>\n",
       "    <tr>\n",
       "      <th>5</th>\n",
       "      <td>2021년 3월 15일 21시 16분</td>\n",
       "      <td>https://ilyo.co.kr/?ac=article_view&amp;entry_id=3...</td>\n",
       "      <td>[포항시정] 현 사회적 거리두기 단계 2주간 유지 外</td>\n",
       "    </tr>\n",
       "    <tr>\n",
       "      <th>6</th>\n",
       "      <td>2021년 3월 15일 21시 16분</td>\n",
       "      <td>http://www.fnnews.com/news/202103151005256447</td>\n",
       "      <td>\"코로나 팬데믹, 서비스상표 지형도 바꿨다\"</td>\n",
       "    </tr>\n",
       "    <tr>\n",
       "      <th>7</th>\n",
       "      <td>2021년 3월 15일 21시 16분</td>\n",
       "      <td>http://www.segye.com/content/html/2021/03/15/2...</td>\n",
       "      <td>미국은 코로나19 '1m 거리두기' 시험 중</td>\n",
       "    </tr>\n",
       "    <tr>\n",
       "      <th>8</th>\n",
       "      <td>2021년 3월 15일 21시 16분</td>\n",
       "      <td>http://news.kbs.co.kr/news/view.do?ncd=5138858...</td>\n",
       "      <td>신규 확진자 382명…“거리두기 2주 연장”</td>\n",
       "    </tr>\n",
       "    <tr>\n",
       "      <th>9</th>\n",
       "      <td>2021년 3월 15일 21시 16분</td>\n",
       "      <td>http://www.cts.tv/news/view?ncate=THMNWS01&amp;dpi...</td>\n",
       "      <td>사회적 거리두기 2단계 유지, 예배 적용은?</td>\n",
       "    </tr>\n",
       "  </tbody>\n",
       "</table>\n",
       "</div>"
      ],
      "text/plain": [
       "                   date                                               link  \\\n",
       "0  2021년 3월 15일 21시 16분  http://www.newsis.com/view/?id=NISX20210315_00...   \n",
       "1  2021년 3월 15일 21시 16분  http://tk.newdaily.co.kr/site/data/html/2021/0...   \n",
       "2  2021년 3월 15일 21시 16분  https://www.pressian.com/pages/articles/202103...   \n",
       "3  2021년 3월 15일 21시 16분   http://www.kukinews.com/newsView/kuk202103150270   \n",
       "4  2021년 3월 15일 21시 16분  http://moneys.mt.co.kr/news/mwView.php?no=2021...   \n",
       "5  2021년 3월 15일 21시 16분  https://ilyo.co.kr/?ac=article_view&entry_id=3...   \n",
       "6  2021년 3월 15일 21시 16분      http://www.fnnews.com/news/202103151005256447   \n",
       "7  2021년 3월 15일 21시 16분  http://www.segye.com/content/html/2021/03/15/2...   \n",
       "8  2021년 3월 15일 21시 16분  http://news.kbs.co.kr/news/view.do?ncd=5138858...   \n",
       "9  2021년 3월 15일 21시 16분  http://www.cts.tv/news/view?ncate=THMNWS01&dpi...   \n",
       "\n",
       "                                title  \n",
       "0  서울시, 거리두기 2단계 28일까지 연장…5인모임 금지도 유지  \n",
       "1           울진군, 사회적 거리두기 1.5단계 2주 연장  \n",
       "2               전남도, 거리두기 1.5단계 2주 연장  \n",
       "3       태백시, 사회적 거리두기 28일까지 1.5단계 재연장  \n",
       "4        신규확진 382명… 아직 거리두기 2.5단계(종합)  \n",
       "5       [포항시정] 현 사회적 거리두기 단계 2주간 유지 外  \n",
       "6            \"코로나 팬데믹, 서비스상표 지형도 바꿨다\"  \n",
       "7            미국은 코로나19 '1m 거리두기' 시험 중  \n",
       "8            신규 확진자 382명…“거리두기 2주 연장”  \n",
       "9            사회적 거리두기 2단계 유지, 예배 적용은?  "
      ]
     },
     "execution_count": 24,
     "metadata": {},
     "output_type": "execute_result"
    }
   ],
   "source": [
    "df_soc_distance = pd.read_csv('./covid_soc_distance/covid_soc_distance.csv')\n",
    "df_soc_distance"
   ]
  },
  {
   "cell_type": "markdown",
   "metadata": {},
   "source": [
    "### 터미널 crontab editor\n",
    "- 'cd python3/project/covid_vaccine && scrapy crawl CovidVaccine' 실행하여 크롤링된 데이터 mongodb 적재"
   ]
  },
  {
   "cell_type": "markdown",
   "metadata": {},
   "source": [
    "### 키워드 '확진' 프로젝트 생성"
   ]
  },
  {
   "cell_type": "code",
   "execution_count": 25,
   "metadata": {},
   "outputs": [],
   "source": [
    "!rm -rf covid_infection"
   ]
  },
  {
   "cell_type": "code",
   "execution_count": 26,
   "metadata": {},
   "outputs": [
    {
     "name": "stdout",
     "output_type": "stream",
     "text": [
      "New Scrapy project 'covid_infection', using template directory '/home/ubuntu/.pyenv/versions/3.6.9/envs/python3/lib/python3.6/site-packages/scrapy/templates/project', created in:\r\n",
      "    /home/ubuntu/python3/project/covid_infection\r\n",
      "\r\n",
      "You can start your first spider with:\r\n",
      "    cd covid_infection\r\n",
      "    scrapy genspider example example.com\r\n"
     ]
    }
   ],
   "source": [
    "!scrapy startproject covid_infection"
   ]
  },
  {
   "cell_type": "code",
   "execution_count": 27,
   "metadata": {},
   "outputs": [
    {
     "name": "stdout",
     "output_type": "stream",
     "text": [
      "\u001b[01;34mcovid_infection\u001b[00m\r\n",
      "├── \u001b[01;34mcovid_infection\u001b[00m\r\n",
      "│   ├── __init__.py\r\n",
      "│   ├── items.py\r\n",
      "│   ├── middlewares.py\r\n",
      "│   ├── pipelines.py\r\n",
      "│   ├── settings.py\r\n",
      "│   └── \u001b[01;34mspiders\u001b[00m\r\n",
      "│       └── __init__.py\r\n",
      "└── scrapy.cfg\r\n",
      "\r\n",
      "2 directories, 7 files\r\n"
     ]
    }
   ],
   "source": [
    "!tree covid_infection"
   ]
  },
  {
   "cell_type": "markdown",
   "metadata": {},
   "source": [
    "### items.py 작성"
   ]
  },
  {
   "cell_type": "code",
   "execution_count": 28,
   "metadata": {},
   "outputs": [
    {
     "name": "stdout",
     "output_type": "stream",
     "text": [
      "Overwriting covid_infection/covid_infection/items.py\n"
     ]
    }
   ],
   "source": [
    "%%writefile covid_infection/covid_infection/items.py\n",
    "import scrapy\n",
    "\n",
    "\n",
    "class CovidInfectionItem(scrapy.Item):\n",
    "    title = scrapy.Field()\n",
    "    link = scrapy.Field()\n",
    "    date = scrapy.Field()"
   ]
  },
  {
   "cell_type": "markdown",
   "metadata": {},
   "source": [
    "### spider.py 작성"
   ]
  },
  {
   "cell_type": "code",
   "execution_count": 29,
   "metadata": {},
   "outputs": [
    {
     "name": "stdout",
     "output_type": "stream",
     "text": [
      "Writing covid_infection/covid_infection/spiders/spider.py\n"
     ]
    }
   ],
   "source": [
    "%%writefile covid_infection/covid_infection/spiders/spider.py\n",
    "\n",
    "import scrapy\n",
    "from datetime import datetime\n",
    "from covid_infection.items import CovidInfectionItem\n",
    "\n",
    "class CovidSpider(scrapy.Spider):\n",
    "    name = 'CovidInfection'\n",
    "    allow_domain = ['https://www.naver.com/']\n",
    "    \n",
    "    def start_requests(self):\n",
    "        yield scrapy.Request(\"https://search.naver.com/search.naver?where=news&query=코로나%20수도권%20확진&pd=4\", callback=self.parse_kword)\n",
    "        \n",
    "    def parse_kword(self, response):\n",
    "        item = CovidInfectionItem()\n",
    "        now = datetime.now()\n",
    "        item['date'] = \"%s년 %s월 %s일 %s시 %s분\" %(now.year, now.month, now.day, now.hour, now.minute)\n",
    "        infection_title = response.xpath('//*[@id=\"main_pack\"]/section/div/div[3]/ul/li/div[1]/div/a/@title').extract()\n",
    "        infection_link = response.xpath('//*[@id=\"main_pack\"]/section/div/div[3]/ul/li/div[1]/div/a/@href').extract()\n",
    "        for i in range(len(infection_title)):\n",
    "            item['title']= infection_title[i]\n",
    "            item['link'] = infection_link[i]\n",
    "            yield item"
   ]
  },
  {
   "cell_type": "code",
   "execution_count": 30,
   "metadata": {},
   "outputs": [
    {
     "name": "stdout",
     "output_type": "stream",
     "text": [
      "Overwriting infection.sh\n"
     ]
    }
   ],
   "source": [
    "# sh 파일 작성\n",
    "%%writefile infection.sh\n",
    "cd covid_infection\n",
    "scrapy crawl CovidInfection -o covid_infection.csv"
   ]
  },
  {
   "cell_type": "code",
   "execution_count": 31,
   "metadata": {},
   "outputs": [],
   "source": [
    "# settings.py 수정\n",
    "!sed -i 's/ROBOTSTXT_OBEY = True/ROBOTSTXT_OBEY = False/' covid_infection/covid_infection/settings.py"
   ]
  },
  {
   "cell_type": "markdown",
   "metadata": {},
   "source": [
    "### mongodb.py 작성"
   ]
  },
  {
   "cell_type": "code",
   "execution_count": 32,
   "metadata": {},
   "outputs": [
    {
     "name": "stdout",
     "output_type": "stream",
     "text": [
      "Writing covid_infection/covid_infection/mongodb.py\n"
     ]
    }
   ],
   "source": [
    "%%writefile covid_infection/covid_infection/mongodb.py\n",
    "import pymongo\n",
    "\n",
    "client = pymongo.MongoClient(\"mongodb://public_ip:port\")\n",
    "db = client.naver_kword3\n",
    "collection = db.kword_infection"
   ]
  },
  {
   "cell_type": "markdown",
   "metadata": {},
   "source": [
    "### pipelines.py 작성"
   ]
  },
  {
   "cell_type": "code",
   "execution_count": 33,
   "metadata": {},
   "outputs": [
    {
     "name": "stdout",
     "output_type": "stream",
     "text": [
      "Overwriting covid_infection/covid_infection/pipelines.py\n"
     ]
    }
   ],
   "source": [
    "%%writefile covid_infection/covid_infection/pipelines.py\n",
    "from itemadapter import ItemAdapter\n",
    "from .mongodb import collection\n",
    "\n",
    "class CovidInfectionPipeline:\n",
    "    def process_item(self, item, spider):\n",
    "        data = {\"title\": item[\"title\"], \"link\": item[\"link\"], \"date\": item[\"date\"]}\n",
    "        collection.insert(data)\n",
    "        return item"
   ]
  },
  {
   "cell_type": "markdown",
   "metadata": {},
   "source": [
    "### 크롤링 테스트 및 데이터 프레임 출력"
   ]
  },
  {
   "cell_type": "code",
   "execution_count": 50,
   "metadata": {},
   "outputs": [
    {
     "name": "stdout",
     "output_type": "stream",
     "text": [
      "2021-03-15 21:38:13 [scrapy.utils.log] INFO: Scrapy 2.4.1 started (bot: covid_infection)\n",
      "2021-03-15 21:38:13 [scrapy.utils.log] INFO: Versions: lxml 4.6.2.0, libxml2 2.9.10, cssselect 1.1.0, parsel 1.6.0, w3lib 1.22.0, Twisted 20.3.0, Python 3.6.9 (default, Dec 28 2020, 03:27:25) - [GCC 7.5.0], pyOpenSSL 20.0.1 (OpenSSL 1.1.1j  16 Feb 2021), cryptography 3.4.6, Platform Linux-5.4.0-1038-aws-x86_64-with-debian-buster-sid\n",
      "2021-03-15 21:38:13 [scrapy.utils.log] DEBUG: Using reactor: twisted.internet.epollreactor.EPollReactor\n",
      "2021-03-15 21:38:13 [scrapy.crawler] INFO: Overridden settings:\n",
      "{'BOT_NAME': 'covid_infection',\n",
      " 'NEWSPIDER_MODULE': 'covid_infection.spiders',\n",
      " 'SPIDER_MODULES': ['covid_infection.spiders']}\n",
      "2021-03-15 21:38:13 [scrapy.extensions.telnet] INFO: Telnet Password: fb5de452dec74693\n",
      "2021-03-15 21:38:13 [scrapy.middleware] INFO: Enabled extensions:\n",
      "['scrapy.extensions.corestats.CoreStats',\n",
      " 'scrapy.extensions.telnet.TelnetConsole',\n",
      " 'scrapy.extensions.memusage.MemoryUsage',\n",
      " 'scrapy.extensions.feedexport.FeedExporter',\n",
      " 'scrapy.extensions.logstats.LogStats']\n",
      "2021-03-15 21:38:13 [scrapy.middleware] INFO: Enabled downloader middlewares:\n",
      "['scrapy.downloadermiddlewares.httpauth.HttpAuthMiddleware',\n",
      " 'scrapy.downloadermiddlewares.downloadtimeout.DownloadTimeoutMiddleware',\n",
      " 'scrapy.downloadermiddlewares.defaultheaders.DefaultHeadersMiddleware',\n",
      " 'scrapy.downloadermiddlewares.useragent.UserAgentMiddleware',\n",
      " 'scrapy.downloadermiddlewares.retry.RetryMiddleware',\n",
      " 'scrapy.downloadermiddlewares.redirect.MetaRefreshMiddleware',\n",
      " 'scrapy.downloadermiddlewares.httpcompression.HttpCompressionMiddleware',\n",
      " 'scrapy.downloadermiddlewares.redirect.RedirectMiddleware',\n",
      " 'scrapy.downloadermiddlewares.cookies.CookiesMiddleware',\n",
      " 'scrapy.downloadermiddlewares.httpproxy.HttpProxyMiddleware',\n",
      " 'scrapy.downloadermiddlewares.stats.DownloaderStats']\n",
      "2021-03-15 21:38:13 [scrapy.middleware] INFO: Enabled spider middlewares:\n",
      "['scrapy.spidermiddlewares.httperror.HttpErrorMiddleware',\n",
      " 'scrapy.spidermiddlewares.offsite.OffsiteMiddleware',\n",
      " 'scrapy.spidermiddlewares.referer.RefererMiddleware',\n",
      " 'scrapy.spidermiddlewares.urllength.UrlLengthMiddleware',\n",
      " 'scrapy.spidermiddlewares.depth.DepthMiddleware']\n",
      "2021-03-15 21:38:13 [scrapy.middleware] INFO: Enabled item pipelines:\n",
      "['covid_infection.pipelines.CovidInfectionPipeline']\n",
      "2021-03-15 21:38:13 [scrapy.core.engine] INFO: Spider opened\n",
      "2021-03-15 21:38:13 [scrapy.extensions.logstats] INFO: Crawled 0 pages (at 0 pages/min), scraped 0 items (at 0 items/min)\n",
      "2021-03-15 21:38:13 [scrapy.extensions.telnet] INFO: Telnet console listening on 127.0.0.1:6023\n",
      "2021-03-15 21:38:14 [scrapy.core.engine] DEBUG: Crawled (200) <GET https://search.naver.com/search.naver?where=news&query=%EC%BD%94%EB%A1%9C%EB%82%98%20%EC%88%98%EB%8F%84%EA%B6%8C%20%ED%99%95%EC%A7%84&pd=4> (referer: None)\n",
      "2021-03-15 21:38:14 [scrapy.core.scraper] DEBUG: Scraped from <200 https://search.naver.com/search.naver?where=news&query=%EC%BD%94%EB%A1%9C%EB%82%98%20%EC%88%98%EB%8F%84%EA%B6%8C%20%ED%99%95%EC%A7%84&pd=4>\n",
      "{'date': '2021년 3월 15일 21시 38분',\n",
      " 'link': 'http://yna.kr/AKR20210315078600530?did=1195m',\n",
      " 'title': '내일 수도권 특별 방역대책 발표…\"3차 유행, 안정세로 바꿔야\"'}\n",
      "2021-03-15 21:38:14 [scrapy.core.scraper] DEBUG: Scraped from <200 https://search.naver.com/search.naver?where=news&query=%EC%BD%94%EB%A1%9C%EB%82%98%20%EC%88%98%EB%8F%84%EA%B6%8C%20%ED%99%95%EC%A7%84&pd=4>\n",
      "{'date': '2021년 3월 15일 21시 38분',\n",
      " 'link': 'http://www.wowtv.co.kr/NewsCenter/News/Read?articleId=A202103150096&t=NN',\n",
      " 'title': '코로나19 신규확진 382명…휴일영향 1주 만에 300명대'}\n",
      "2021-03-15 21:38:14 [scrapy.core.scraper] DEBUG: Scraped from <200 https://search.naver.com/search.naver?where=news&query=%EC%BD%94%EB%A1%9C%EB%82%98%20%EC%88%98%EB%8F%84%EA%B6%8C%20%ED%99%95%EC%A7%84&pd=4>\n",
      "{'date': '2021년 3월 15일 21시 38분',\n",
      " 'link': 'http://www.newsis.com/view/?id=NISX20210315_0001370702&cID=10812&pID=10800',\n",
      " 'title': '경남 코로나 53명 신규 확진…누적 2443명(종합)'}\n",
      "2021-03-15 21:38:14 [scrapy.core.scraper] DEBUG: Scraped from <200 https://search.naver.com/search.naver?where=news&query=%EC%BD%94%EB%A1%9C%EB%82%98%20%EC%88%98%EB%8F%84%EA%B6%8C%20%ED%99%95%EC%A7%84&pd=4>\n",
      "{'date': '2021년 3월 15일 21시 38분',\n",
      " 'link': 'https://biz.chosun.com/site/data/html_dir/2021/03/15/2021031501291.html?utm_source=naver&utm_medium=original&utm_campaign=biz',\n",
      " 'title': '확진자 몰린 수도권… “서울·경기 특별방역대책 내일 발표”'}\n",
      "2021-03-15 21:38:14 [scrapy.core.scraper] DEBUG: Scraped from <200 https://search.naver.com/search.naver?where=news&query=%EC%BD%94%EB%A1%9C%EB%82%98%20%EC%88%98%EB%8F%84%EA%B6%8C%20%ED%99%95%EC%A7%84&pd=4>\n",
      "{'date': '2021년 3월 15일 21시 38분',\n",
      " 'link': 'http://www.busan.com/view/busan/view.php?code=2021031515310357984',\n",
      " 'title': '진주·거제 지역 목욕탕 관련 코로나19 영향 경남에서 하루 53명 확진(종합)'}\n",
      "2021-03-15 21:38:14 [scrapy.core.scraper] DEBUG: Scraped from <200 https://search.naver.com/search.naver?where=news&query=%EC%BD%94%EB%A1%9C%EB%82%98%20%EC%88%98%EB%8F%84%EA%B6%8C%20%ED%99%95%EC%A7%84&pd=4>\n",
      "{'date': '2021년 3월 15일 21시 38분',\n",
      " 'link': 'https://view.asiae.co.kr/article/2021031519050323705',\n",
      " 'title': '오후 6시까지 신규 확진 274명…내일 300명대 중반 예상'}\n",
      "2021-03-15 21:38:14 [scrapy.core.scraper] DEBUG: Scraped from <200 https://search.naver.com/search.naver?where=news&query=%EC%BD%94%EB%A1%9C%EB%82%98%20%EC%88%98%EB%8F%84%EA%B6%8C%20%ED%99%95%EC%A7%84&pd=4>\n",
      "{'date': '2021년 3월 15일 21시 38분',\n",
      " 'link': 'https://www.news1.kr/articles/?4241803',\n",
      " 'title': '15일 오후 6시 276명 확진…진주 목욕탕 집단감염 확산(종합)'}\n",
      "2021-03-15 21:38:14 [scrapy.core.scraper] DEBUG: Scraped from <200 https://search.naver.com/search.naver?where=news&query=%EC%BD%94%EB%A1%9C%EB%82%98%20%EC%88%98%EB%8F%84%EA%B6%8C%20%ED%99%95%EC%A7%84&pd=4>\n",
      "{'date': '2021년 3월 15일 21시 38분',\n",
      " 'link': 'http://kormedi.com/?p=1335608',\n",
      " 'title': '코로나19 모든 방역지표 나빠졌다.. 3차유행 확산'}\n",
      "2021-03-15 21:38:14 [scrapy.core.scraper] DEBUG: Scraped from <200 https://search.naver.com/search.naver?where=news&query=%EC%BD%94%EB%A1%9C%EB%82%98%20%EC%88%98%EB%8F%84%EA%B6%8C%20%ED%99%95%EC%A7%84&pd=4>\n",
      "{'date': '2021년 3월 15일 21시 38분',\n",
      " 'link': 'http://yna.kr/AKR20210315046851052?did=1195m',\n",
      " 'title': '경남 53명 신규 확진…진주 사우나·거제 유흥시설 여파(종합)'}\n",
      "2021-03-15 21:38:14 [scrapy.core.scraper] DEBUG: Scraped from <200 https://search.naver.com/search.naver?where=news&query=%EC%BD%94%EB%A1%9C%EB%82%98%20%EC%88%98%EB%8F%84%EA%B6%8C%20%ED%99%95%EC%A7%84&pd=4>\n",
      "{'date': '2021년 3월 15일 21시 38분',\n",
      " 'link': 'http://news.khan.co.kr/kh_news/khan_art_view.html?artid=202103150939001&code=940100',\n",
      " 'title': '[속보] 코로나19 신규 확진자 382명…일주일 만에 300명대'}\n",
      "2021-03-15 21:38:14 [scrapy.core.engine] INFO: Closing spider (finished)\n",
      "2021-03-15 21:38:14 [scrapy.extensions.feedexport] INFO: Stored csv feed (10 items) in: covid_infection.csv\n",
      "2021-03-15 21:38:14 [scrapy.statscollectors] INFO: Dumping Scrapy stats:\n",
      "{'downloader/request_bytes': 329,\n",
      " 'downloader/request_count': 1,\n",
      " 'downloader/request_method_count/GET': 1,\n",
      " 'downloader/response_bytes': 114139,\n",
      " 'downloader/response_count': 1,\n",
      " 'downloader/response_status_count/200': 1,\n",
      " 'elapsed_time_seconds': 0.27197,\n",
      " 'finish_reason': 'finished',\n",
      " 'finish_time': datetime.datetime(2021, 3, 15, 12, 38, 14, 211015),\n",
      " 'item_scraped_count': 10,\n",
      " 'log_count/DEBUG': 11,\n",
      " 'log_count/INFO': 11,\n",
      " 'memusage/max': 57196544,\n",
      " 'memusage/startup': 57196544,\n",
      " 'response_received_count': 1,\n",
      " 'scheduler/dequeued': 1,\n",
      " 'scheduler/dequeued/memory': 1,\n",
      " 'scheduler/enqueued': 1,\n",
      " 'scheduler/enqueued/memory': 1,\n",
      " 'start_time': datetime.datetime(2021, 3, 15, 12, 38, 13, 939045)}\n",
      "2021-03-15 21:38:14 [scrapy.core.engine] INFO: Spider closed (finished)\n"
     ]
    }
   ],
   "source": [
    "!/bin/bash infection.sh"
   ]
  },
  {
   "cell_type": "code",
   "execution_count": 51,
   "metadata": {
    "scrolled": true
   },
   "outputs": [
    {
     "data": {
      "text/html": [
       "<div>\n",
       "<style scoped>\n",
       "    .dataframe tbody tr th:only-of-type {\n",
       "        vertical-align: middle;\n",
       "    }\n",
       "\n",
       "    .dataframe tbody tr th {\n",
       "        vertical-align: top;\n",
       "    }\n",
       "\n",
       "    .dataframe thead th {\n",
       "        text-align: right;\n",
       "    }\n",
       "</style>\n",
       "<table border=\"1\" class=\"dataframe\">\n",
       "  <thead>\n",
       "    <tr style=\"text-align: right;\">\n",
       "      <th></th>\n",
       "      <th>date</th>\n",
       "      <th>link</th>\n",
       "      <th>title</th>\n",
       "    </tr>\n",
       "  </thead>\n",
       "  <tbody>\n",
       "    <tr>\n",
       "      <th>0</th>\n",
       "      <td>2021년 3월 15일 21시 38분</td>\n",
       "      <td>http://yna.kr/AKR20210315078600530?did=1195m</td>\n",
       "      <td>내일 수도권 특별 방역대책 발표…\"3차 유행, 안정세로 바꿔야\"</td>\n",
       "    </tr>\n",
       "    <tr>\n",
       "      <th>1</th>\n",
       "      <td>2021년 3월 15일 21시 38분</td>\n",
       "      <td>http://www.wowtv.co.kr/NewsCenter/News/Read?ar...</td>\n",
       "      <td>코로나19 신규확진 382명…휴일영향 1주 만에 300명대</td>\n",
       "    </tr>\n",
       "    <tr>\n",
       "      <th>2</th>\n",
       "      <td>2021년 3월 15일 21시 38분</td>\n",
       "      <td>http://www.newsis.com/view/?id=NISX20210315_00...</td>\n",
       "      <td>경남 코로나 53명 신규 확진…누적 2443명(종합)</td>\n",
       "    </tr>\n",
       "    <tr>\n",
       "      <th>3</th>\n",
       "      <td>2021년 3월 15일 21시 38분</td>\n",
       "      <td>https://biz.chosun.com/site/data/html_dir/2021...</td>\n",
       "      <td>확진자 몰린 수도권… “서울·경기 특별방역대책 내일 발표”</td>\n",
       "    </tr>\n",
       "    <tr>\n",
       "      <th>4</th>\n",
       "      <td>2021년 3월 15일 21시 38분</td>\n",
       "      <td>http://www.busan.com/view/busan/view.php?code=...</td>\n",
       "      <td>진주·거제 지역 목욕탕 관련 코로나19 영향 경남에서 하루 53명 확진(종합)</td>\n",
       "    </tr>\n",
       "    <tr>\n",
       "      <th>5</th>\n",
       "      <td>2021년 3월 15일 21시 38분</td>\n",
       "      <td>https://view.asiae.co.kr/article/2021031519050...</td>\n",
       "      <td>오후 6시까지 신규 확진 274명…내일 300명대 중반 예상</td>\n",
       "    </tr>\n",
       "    <tr>\n",
       "      <th>6</th>\n",
       "      <td>2021년 3월 15일 21시 38분</td>\n",
       "      <td>https://www.news1.kr/articles/?4241803</td>\n",
       "      <td>15일 오후 6시 276명 확진…진주 목욕탕 집단감염 확산(종합)</td>\n",
       "    </tr>\n",
       "    <tr>\n",
       "      <th>7</th>\n",
       "      <td>2021년 3월 15일 21시 38분</td>\n",
       "      <td>http://kormedi.com/?p=1335608</td>\n",
       "      <td>코로나19 모든 방역지표 나빠졌다.. 3차유행 확산</td>\n",
       "    </tr>\n",
       "    <tr>\n",
       "      <th>8</th>\n",
       "      <td>2021년 3월 15일 21시 38분</td>\n",
       "      <td>http://yna.kr/AKR20210315046851052?did=1195m</td>\n",
       "      <td>경남 53명 신규 확진…진주 사우나·거제 유흥시설 여파(종합)</td>\n",
       "    </tr>\n",
       "    <tr>\n",
       "      <th>9</th>\n",
       "      <td>2021년 3월 15일 21시 38분</td>\n",
       "      <td>http://news.khan.co.kr/kh_news/khan_art_view.h...</td>\n",
       "      <td>[속보] 코로나19 신규 확진자 382명…일주일 만에 300명대</td>\n",
       "    </tr>\n",
       "  </tbody>\n",
       "</table>\n",
       "</div>"
      ],
      "text/plain": [
       "                   date                                               link  \\\n",
       "0  2021년 3월 15일 21시 38분       http://yna.kr/AKR20210315078600530?did=1195m   \n",
       "1  2021년 3월 15일 21시 38분  http://www.wowtv.co.kr/NewsCenter/News/Read?ar...   \n",
       "2  2021년 3월 15일 21시 38분  http://www.newsis.com/view/?id=NISX20210315_00...   \n",
       "3  2021년 3월 15일 21시 38분  https://biz.chosun.com/site/data/html_dir/2021...   \n",
       "4  2021년 3월 15일 21시 38분  http://www.busan.com/view/busan/view.php?code=...   \n",
       "5  2021년 3월 15일 21시 38분  https://view.asiae.co.kr/article/2021031519050...   \n",
       "6  2021년 3월 15일 21시 38분             https://www.news1.kr/articles/?4241803   \n",
       "7  2021년 3월 15일 21시 38분                      http://kormedi.com/?p=1335608   \n",
       "8  2021년 3월 15일 21시 38분       http://yna.kr/AKR20210315046851052?did=1195m   \n",
       "9  2021년 3월 15일 21시 38분  http://news.khan.co.kr/kh_news/khan_art_view.h...   \n",
       "\n",
       "                                         title  \n",
       "0          내일 수도권 특별 방역대책 발표…\"3차 유행, 안정세로 바꿔야\"  \n",
       "1             코로나19 신규확진 382명…휴일영향 1주 만에 300명대  \n",
       "2                경남 코로나 53명 신규 확진…누적 2443명(종합)  \n",
       "3             확진자 몰린 수도권… “서울·경기 특별방역대책 내일 발표”  \n",
       "4  진주·거제 지역 목욕탕 관련 코로나19 영향 경남에서 하루 53명 확진(종합)  \n",
       "5            오후 6시까지 신규 확진 274명…내일 300명대 중반 예상  \n",
       "6         15일 오후 6시 276명 확진…진주 목욕탕 집단감염 확산(종합)  \n",
       "7                 코로나19 모든 방역지표 나빠졌다.. 3차유행 확산  \n",
       "8           경남 53명 신규 확진…진주 사우나·거제 유흥시설 여파(종합)  \n",
       "9          [속보] 코로나19 신규 확진자 382명…일주일 만에 300명대  "
      ]
     },
     "execution_count": 51,
     "metadata": {},
     "output_type": "execute_result"
    }
   ],
   "source": [
    "df_infection = pd.read_csv('./covid_infection/covid_infection.csv')\n",
    "df_infection"
   ]
  },
  {
   "cell_type": "markdown",
   "metadata": {},
   "source": [
    "### 터미널 crontab editor\n",
    "- 'cd python3/project/covid_vaccine && scrapy crawl CovidInfection' 실행하여 크롤링된 데이터 mongodb 적재"
   ]
  },
  {
   "cell_type": "markdown",
   "metadata": {},
   "source": [
    "### 키워드 '지원금' 프로젝트 생성"
   ]
  },
  {
   "cell_type": "code",
   "execution_count": 37,
   "metadata": {},
   "outputs": [],
   "source": [
    "!rm -rf covid_support"
   ]
  },
  {
   "cell_type": "code",
   "execution_count": 38,
   "metadata": {},
   "outputs": [
    {
     "name": "stdout",
     "output_type": "stream",
     "text": [
      "New Scrapy project 'covid_support', using template directory '/home/ubuntu/.pyenv/versions/3.6.9/envs/python3/lib/python3.6/site-packages/scrapy/templates/project', created in:\r\n",
      "    /home/ubuntu/python3/project/covid_support\r\n",
      "\r\n",
      "You can start your first spider with:\r\n",
      "    cd covid_support\r\n",
      "    scrapy genspider example example.com\r\n"
     ]
    }
   ],
   "source": [
    "!scrapy startproject covid_support"
   ]
  },
  {
   "cell_type": "code",
   "execution_count": 39,
   "metadata": {},
   "outputs": [
    {
     "name": "stdout",
     "output_type": "stream",
     "text": [
      "\u001b[01;34mcovid_support\u001b[00m\r\n",
      "├── \u001b[01;34mcovid_support\u001b[00m\r\n",
      "│   ├── __init__.py\r\n",
      "│   ├── items.py\r\n",
      "│   ├── middlewares.py\r\n",
      "│   ├── pipelines.py\r\n",
      "│   ├── settings.py\r\n",
      "│   └── \u001b[01;34mspiders\u001b[00m\r\n",
      "│       └── __init__.py\r\n",
      "└── scrapy.cfg\r\n",
      "\r\n",
      "2 directories, 7 files\r\n"
     ]
    }
   ],
   "source": [
    "!tree covid_support"
   ]
  },
  {
   "cell_type": "markdown",
   "metadata": {},
   "source": [
    "### items.py 작성"
   ]
  },
  {
   "cell_type": "code",
   "execution_count": 40,
   "metadata": {},
   "outputs": [
    {
     "name": "stdout",
     "output_type": "stream",
     "text": [
      "Overwriting covid_support/covid_support/items.py\n"
     ]
    }
   ],
   "source": [
    "%%writefile covid_support/covid_support/items.py\n",
    "import scrapy\n",
    "\n",
    "\n",
    "class CovidSupportItem(scrapy.Item):\n",
    "    title = scrapy.Field()\n",
    "    link = scrapy.Field()\n",
    "    date = scrapy.Field()"
   ]
  },
  {
   "cell_type": "markdown",
   "metadata": {},
   "source": [
    "### spider.py 작성"
   ]
  },
  {
   "cell_type": "code",
   "execution_count": 52,
   "metadata": {},
   "outputs": [
    {
     "name": "stdout",
     "output_type": "stream",
     "text": [
      "Overwriting covid_support/covid_support/spiders/spider.py\n"
     ]
    }
   ],
   "source": [
    "%%writefile covid_support/covid_support/spiders/spider.py\n",
    "\n",
    "import scrapy\n",
    "from datetime import datetime\n",
    "from covid_support.items import CovidSupportItem\n",
    "\n",
    "class CovidSpider(scrapy.Spider):\n",
    "    name = 'CovidSupport'\n",
    "    allow_domain = ['https://www.naver.com/']\n",
    "    \n",
    "    def start_requests(self):\n",
    "        yield scrapy.Request(\"https://search.naver.com/search.naver?where=news&query=코로나%20수도권%20지원금&pd=4\", callback=self.parse_kword)\n",
    "        \n",
    "    def parse_kword(self, response):\n",
    "        item = CovidSupportItem()\n",
    "        now = datetime.now()\n",
    "        item['date'] = \"%s년 %s월 %s일 %s시 %s분\" %(now.year, now.month, now.day, now.hour, now.minute)\n",
    "        support_title = response.xpath('//*[@id=\"main_pack\"]/section/div/div[3]/ul/li/div[1]/div/a/@title').extract()\n",
    "        support_link = response.xpath('//*[@id=\"main_pack\"]/section/div/div[3]/ul/li/div[1]/div/a/@href').extract()\n",
    "        for i in range(len(support_title)):\n",
    "            item['title']= support_title[i]\n",
    "            item['link'] = support_link[i]\n",
    "            yield item"
   ]
  },
  {
   "cell_type": "code",
   "execution_count": 42,
   "metadata": {},
   "outputs": [
    {
     "name": "stdout",
     "output_type": "stream",
     "text": [
      "Writing support.sh\n"
     ]
    }
   ],
   "source": [
    "# sh 파일 작성\n",
    "%%writefile support.sh\n",
    "cd covid_support\n",
    "scrapy crawl CovidSupport -o covid_support.csv"
   ]
  },
  {
   "cell_type": "code",
   "execution_count": 43,
   "metadata": {},
   "outputs": [],
   "source": [
    "# settings.py 수정\n",
    "!sed -i 's/ROBOTSTXT_OBEY = True/ROBOTSTXT_OBEY = False/' covid_support/covid_support/settings.py"
   ]
  },
  {
   "cell_type": "markdown",
   "metadata": {},
   "source": [
    "### mongodb.py 작성"
   ]
  },
  {
   "cell_type": "code",
   "execution_count": 44,
   "metadata": {},
   "outputs": [
    {
     "name": "stdout",
     "output_type": "stream",
     "text": [
      "Writing covid_support/covid_support/mongodb.py\n"
     ]
    }
   ],
   "source": [
    "%%writefile covid_support/covid_support/mongodb.py\n",
    "import pymongo\n",
    "\n",
    "client = pymongo.MongoClient(\"mongodb://public_ip:port\")\n",
    "db = client.naver_kword4\n",
    "collection = db.kword_support"
   ]
  },
  {
   "cell_type": "markdown",
   "metadata": {},
   "source": [
    "### pipelines.py 작성"
   ]
  },
  {
   "cell_type": "code",
   "execution_count": 45,
   "metadata": {},
   "outputs": [
    {
     "name": "stdout",
     "output_type": "stream",
     "text": [
      "Overwriting covid_support/covid_support/pipelines.py\n"
     ]
    }
   ],
   "source": [
    "%%writefile covid_support/covid_support/pipelines.py\n",
    "from itemadapter import ItemAdapter\n",
    "from .mongodb import collection\n",
    "\n",
    "class CovidSupportPipeline:\n",
    "    def process_item(self, item, spider):\n",
    "        data = {\"title\": item[\"title\"], \"link\": item[\"link\"], \"date\": item[\"date\"]}\n",
    "        collection.insert(data)\n",
    "        return item"
   ]
  },
  {
   "cell_type": "markdown",
   "metadata": {},
   "source": [
    "### 크롤링 테스트 및 데이터 프레임 출력"
   ]
  },
  {
   "cell_type": "code",
   "execution_count": 46,
   "metadata": {},
   "outputs": [
    {
     "name": "stdout",
     "output_type": "stream",
     "text": [
      "2021-03-15 21:30:27 [scrapy.utils.log] INFO: Scrapy 2.4.1 started (bot: covid_support)\n",
      "2021-03-15 21:30:27 [scrapy.utils.log] INFO: Versions: lxml 4.6.2.0, libxml2 2.9.10, cssselect 1.1.0, parsel 1.6.0, w3lib 1.22.0, Twisted 20.3.0, Python 3.6.9 (default, Dec 28 2020, 03:27:25) - [GCC 7.5.0], pyOpenSSL 20.0.1 (OpenSSL 1.1.1j  16 Feb 2021), cryptography 3.4.6, Platform Linux-5.4.0-1038-aws-x86_64-with-debian-buster-sid\n",
      "2021-03-15 21:30:27 [scrapy.utils.log] DEBUG: Using reactor: twisted.internet.epollreactor.EPollReactor\n",
      "2021-03-15 21:30:27 [scrapy.crawler] INFO: Overridden settings:\n",
      "{'BOT_NAME': 'covid_support',\n",
      " 'NEWSPIDER_MODULE': 'covid_support.spiders',\n",
      " 'SPIDER_MODULES': ['covid_support.spiders']}\n",
      "2021-03-15 21:30:27 [scrapy.extensions.telnet] INFO: Telnet Password: 86106226760d56aa\n",
      "2021-03-15 21:30:27 [scrapy.middleware] INFO: Enabled extensions:\n",
      "['scrapy.extensions.corestats.CoreStats',\n",
      " 'scrapy.extensions.telnet.TelnetConsole',\n",
      " 'scrapy.extensions.memusage.MemoryUsage',\n",
      " 'scrapy.extensions.feedexport.FeedExporter',\n",
      " 'scrapy.extensions.logstats.LogStats']\n",
      "2021-03-15 21:30:27 [scrapy.middleware] INFO: Enabled downloader middlewares:\n",
      "['scrapy.downloadermiddlewares.httpauth.HttpAuthMiddleware',\n",
      " 'scrapy.downloadermiddlewares.downloadtimeout.DownloadTimeoutMiddleware',\n",
      " 'scrapy.downloadermiddlewares.defaultheaders.DefaultHeadersMiddleware',\n",
      " 'scrapy.downloadermiddlewares.useragent.UserAgentMiddleware',\n",
      " 'scrapy.downloadermiddlewares.retry.RetryMiddleware',\n",
      " 'scrapy.downloadermiddlewares.redirect.MetaRefreshMiddleware',\n",
      " 'scrapy.downloadermiddlewares.httpcompression.HttpCompressionMiddleware',\n",
      " 'scrapy.downloadermiddlewares.redirect.RedirectMiddleware',\n",
      " 'scrapy.downloadermiddlewares.cookies.CookiesMiddleware',\n",
      " 'scrapy.downloadermiddlewares.httpproxy.HttpProxyMiddleware',\n",
      " 'scrapy.downloadermiddlewares.stats.DownloaderStats']\n",
      "2021-03-15 21:30:27 [scrapy.middleware] INFO: Enabled spider middlewares:\n",
      "['scrapy.spidermiddlewares.httperror.HttpErrorMiddleware',\n",
      " 'scrapy.spidermiddlewares.offsite.OffsiteMiddleware',\n",
      " 'scrapy.spidermiddlewares.referer.RefererMiddleware',\n",
      " 'scrapy.spidermiddlewares.urllength.UrlLengthMiddleware',\n",
      " 'scrapy.spidermiddlewares.depth.DepthMiddleware']\n",
      "2021-03-15 21:30:27 [scrapy.middleware] INFO: Enabled item pipelines:\n",
      "[]\n",
      "2021-03-15 21:30:27 [scrapy.core.engine] INFO: Spider opened\n",
      "2021-03-15 21:30:27 [scrapy.extensions.logstats] INFO: Crawled 0 pages (at 0 pages/min), scraped 0 items (at 0 items/min)\n",
      "2021-03-15 21:30:27 [scrapy.extensions.telnet] INFO: Telnet console listening on 127.0.0.1:6023\n",
      "2021-03-15 21:30:27 [scrapy.core.engine] DEBUG: Crawled (200) <GET https://search.naver.com/search.naver?where=news&query=%EC%BD%94%EB%A1%9C%EB%82%98%20%EC%A0%95%EB%B6%80%20%EC%A7%80%EC%9B%90%EA%B8%88&pd=4> (referer: None)\n",
      "2021-03-15 21:30:27 [scrapy.core.scraper] DEBUG: Scraped from <200 https://search.naver.com/search.naver?where=news&query=%EC%BD%94%EB%A1%9C%EB%82%98%20%EC%A0%95%EB%B6%80%20%EC%A7%80%EC%9B%90%EA%B8%88&pd=4>\n",
      "{'date': '2021년 3월 15일 21시 30분',\n",
      " 'link': 'https://www.chosun.com/politics/assembly/2021/03/15/MMOZQMMGR5A3RBQLCVU5D2AZWQ/?utm_source=naver&utm_medium=referral&utm_campaign=naver-news',\n",
      " 'title': '[단독] “4차지원금 추경안 허점많다” 국회 예결위, 정부 비판 보고서'}\n",
      "2021-03-15 21:30:27 [scrapy.core.scraper] DEBUG: Scraped from <200 https://search.naver.com/search.naver?where=news&query=%EC%BD%94%EB%A1%9C%EB%82%98%20%EC%A0%95%EB%B6%80%20%EC%A7%80%EC%9B%90%EA%B8%88&pd=4>\n",
      "{'date': '2021년 3월 15일 21시 30분',\n",
      " 'link': 'http://www.newsis.com/view/?id=NISX20210315_0001370826&cID=10806&pID=10800',\n",
      " 'title': '충북도의회, 농어업인 재난지원금 지급대상 포함 건의문 채택'}\n",
      "2021-03-15 21:30:27 [scrapy.core.scraper] DEBUG: Scraped from <200 https://search.naver.com/search.naver?where=news&query=%EC%BD%94%EB%A1%9C%EB%82%98%20%EC%A0%95%EB%B6%80%20%EC%A7%80%EC%9B%90%EA%B8%88&pd=4>\n",
      "{'date': '2021년 3월 15일 21시 30분',\n",
      " 'link': 'https://www.news1.kr/articles/?4241847',\n",
      " 'title': '여야, 여행업·웨딩업에 재난지원금 300만원 지원 추진(종합)'}\n",
      "2021-03-15 21:30:27 [scrapy.core.scraper] DEBUG: Scraped from <200 https://search.naver.com/search.naver?where=news&query=%EC%BD%94%EB%A1%9C%EB%82%98%20%EC%A0%95%EB%B6%80%20%EC%A7%80%EC%9B%90%EA%B8%88&pd=4>\n",
      "{'date': '2021년 3월 15일 21시 30분',\n",
      " 'link': 'http://www.fnnews.com/news/202103151304486036',\n",
      " 'title': '전남도, 대중교통 분야 재난지원금 확보 총력'}\n",
      "2021-03-15 21:30:27 [scrapy.core.scraper] DEBUG: Scraped from <200 https://search.naver.com/search.naver?where=news&query=%EC%BD%94%EB%A1%9C%EB%82%98%20%EC%A0%95%EB%B6%80%20%EC%A7%80%EC%9B%90%EA%B8%88&pd=4>\n",
      "{'date': '2021년 3월 15일 21시 30분',\n",
      " 'link': 'https://www.wikitree.co.kr/articles/628463',\n",
      " 'title': '영암군, 코로나19 소상공인 지원으로 지역경제 살리기 전력질주'}\n",
      "2021-03-15 21:30:27 [scrapy.core.scraper] DEBUG: Scraped from <200 https://search.naver.com/search.naver?where=news&query=%EC%BD%94%EB%A1%9C%EB%82%98%20%EC%A0%95%EB%B6%80%20%EC%A7%80%EC%9B%90%EA%B8%88&pd=4>\n",
      "{'date': '2021년 3월 15일 21시 30분',\n",
      " 'link': 'http://news.mk.co.kr/newsRead.php?no=246328&year=2021',\n",
      " 'title': '[단독] \"나도 300만원 받을 수 있나\" 여행·웨딩업에 재난지원금 100만원 더'}\n",
      "2021-03-15 21:30:27 [scrapy.core.scraper] DEBUG: Scraped from <200 https://search.naver.com/search.naver?where=news&query=%EC%BD%94%EB%A1%9C%EB%82%98%20%EC%A0%95%EB%B6%80%20%EC%A7%80%EC%9B%90%EA%B8%88&pd=4>\n",
      "{'date': '2021년 3월 15일 21시 30분',\n",
      " 'link': 'http://www.wowtv.co.kr/NewsCenter/News/Read?articleId=A202103150397&t=NN',\n",
      " 'title': '매출 오른 영업제한 업종도 지원금 100만원 받는다'}\n",
      "2021-03-15 21:30:27 [scrapy.core.scraper] DEBUG: Scraped from <200 https://search.naver.com/search.naver?where=news&query=%EC%BD%94%EB%A1%9C%EB%82%98%20%EC%A0%95%EB%B6%80%20%EC%A7%80%EC%9B%90%EA%B8%88&pd=4>\n",
      "{'date': '2021년 3월 15일 21시 30분',\n",
      " 'link': 'https://www.hankyung.com/politics/article/2021031560287',\n",
      " 'title': \"여야, 코로나19 직격탄 '여행·웨딩업' 재난지원금 300만원 추진\"}\n",
      "2021-03-15 21:30:27 [scrapy.core.scraper] DEBUG: Scraped from <200 https://search.naver.com/search.naver?where=news&query=%EC%BD%94%EB%A1%9C%EB%82%98%20%EC%A0%95%EB%B6%80%20%EC%A7%80%EC%9B%90%EA%B8%88&pd=4>\n",
      "{'date': '2021년 3월 15일 21시 30분',\n",
      " 'link': 'https://view.asiae.co.kr/article/2021031509051015843',\n",
      " 'title': '은평구, 실직자 등 위한 코로나19 위기극복 긴급 재정(182억) 투입'}\n",
      "2021-03-15 21:30:27 [scrapy.core.scraper] DEBUG: Scraped from <200 https://search.naver.com/search.naver?where=news&query=%EC%BD%94%EB%A1%9C%EB%82%98%20%EC%A0%95%EB%B6%80%20%EC%A7%80%EC%9B%90%EA%B8%88&pd=4>\n",
      "{'date': '2021년 3월 15일 21시 30분',\n",
      " 'link': 'https://www.pressian.com/pages/articles/2021031509432432400?utm_source=naver&utm_medium=search',\n",
      " 'title': '4.7 서울·부산 후보들, 코로나19 대응 공약은?'}\n",
      "2021-03-15 21:30:27 [scrapy.core.engine] INFO: Closing spider (finished)\n",
      "2021-03-15 21:30:27 [scrapy.extensions.feedexport] INFO: Stored csv feed (10 items) in: covid_support.csv\n",
      "2021-03-15 21:30:27 [scrapy.statscollectors] INFO: Dumping Scrapy stats:\n",
      "{'downloader/request_bytes': 329,\n",
      " 'downloader/request_count': 1,\n",
      " 'downloader/request_method_count/GET': 1,\n",
      " 'downloader/response_bytes': 113880,\n",
      " 'downloader/response_count': 1,\n",
      " 'downloader/response_status_count/200': 1,\n",
      " 'elapsed_time_seconds': 0.405367,\n",
      " 'finish_reason': 'finished',\n",
      " 'finish_time': datetime.datetime(2021, 3, 15, 12, 30, 27, 973007),\n",
      " 'item_scraped_count': 10,\n",
      " 'log_count/DEBUG': 11,\n",
      " 'log_count/INFO': 11,\n",
      " 'memusage/max': 55668736,\n",
      " 'memusage/startup': 55668736,\n",
      " 'response_received_count': 1,\n",
      " 'scheduler/dequeued': 1,\n",
      " 'scheduler/dequeued/memory': 1,\n",
      " 'scheduler/enqueued': 1,\n",
      " 'scheduler/enqueued/memory': 1,\n",
      " 'start_time': datetime.datetime(2021, 3, 15, 12, 30, 27, 567640)}\n",
      "2021-03-15 21:30:27 [scrapy.core.engine] INFO: Spider closed (finished)\n"
     ]
    }
   ],
   "source": [
    "!/bin/bash support.sh"
   ]
  },
  {
   "cell_type": "code",
   "execution_count": 47,
   "metadata": {},
   "outputs": [],
   "source": [
    "import pandas as pd"
   ]
  },
  {
   "cell_type": "code",
   "execution_count": 48,
   "metadata": {
    "scrolled": false
   },
   "outputs": [
    {
     "data": {
      "text/html": [
       "<div>\n",
       "<style scoped>\n",
       "    .dataframe tbody tr th:only-of-type {\n",
       "        vertical-align: middle;\n",
       "    }\n",
       "\n",
       "    .dataframe tbody tr th {\n",
       "        vertical-align: top;\n",
       "    }\n",
       "\n",
       "    .dataframe thead th {\n",
       "        text-align: right;\n",
       "    }\n",
       "</style>\n",
       "<table border=\"1\" class=\"dataframe\">\n",
       "  <thead>\n",
       "    <tr style=\"text-align: right;\">\n",
       "      <th></th>\n",
       "      <th>date</th>\n",
       "      <th>link</th>\n",
       "      <th>title</th>\n",
       "    </tr>\n",
       "  </thead>\n",
       "  <tbody>\n",
       "    <tr>\n",
       "      <th>0</th>\n",
       "      <td>2021년 3월 15일 21시 30분</td>\n",
       "      <td>https://www.chosun.com/politics/assembly/2021/...</td>\n",
       "      <td>[단독] “4차지원금 추경안 허점많다” 국회 예결위, 정부 비판 보고서</td>\n",
       "    </tr>\n",
       "    <tr>\n",
       "      <th>1</th>\n",
       "      <td>2021년 3월 15일 21시 30분</td>\n",
       "      <td>http://www.newsis.com/view/?id=NISX20210315_00...</td>\n",
       "      <td>충북도의회, 농어업인 재난지원금 지급대상 포함 건의문 채택</td>\n",
       "    </tr>\n",
       "    <tr>\n",
       "      <th>2</th>\n",
       "      <td>2021년 3월 15일 21시 30분</td>\n",
       "      <td>https://www.news1.kr/articles/?4241847</td>\n",
       "      <td>여야, 여행업·웨딩업에 재난지원금 300만원 지원 추진(종합)</td>\n",
       "    </tr>\n",
       "    <tr>\n",
       "      <th>3</th>\n",
       "      <td>2021년 3월 15일 21시 30분</td>\n",
       "      <td>http://www.fnnews.com/news/202103151304486036</td>\n",
       "      <td>전남도, 대중교통 분야 재난지원금 확보 총력</td>\n",
       "    </tr>\n",
       "    <tr>\n",
       "      <th>4</th>\n",
       "      <td>2021년 3월 15일 21시 30분</td>\n",
       "      <td>https://www.wikitree.co.kr/articles/628463</td>\n",
       "      <td>영암군, 코로나19 소상공인 지원으로 지역경제 살리기 전력질주</td>\n",
       "    </tr>\n",
       "    <tr>\n",
       "      <th>5</th>\n",
       "      <td>2021년 3월 15일 21시 30분</td>\n",
       "      <td>http://news.mk.co.kr/newsRead.php?no=246328&amp;ye...</td>\n",
       "      <td>[단독] \"나도 300만원 받을 수 있나\" 여행·웨딩업에 재난지원금 100만원 더</td>\n",
       "    </tr>\n",
       "    <tr>\n",
       "      <th>6</th>\n",
       "      <td>2021년 3월 15일 21시 30분</td>\n",
       "      <td>http://www.wowtv.co.kr/NewsCenter/News/Read?ar...</td>\n",
       "      <td>매출 오른 영업제한 업종도 지원금 100만원 받는다</td>\n",
       "    </tr>\n",
       "    <tr>\n",
       "      <th>7</th>\n",
       "      <td>2021년 3월 15일 21시 30분</td>\n",
       "      <td>https://www.hankyung.com/politics/article/2021...</td>\n",
       "      <td>여야, 코로나19 직격탄 '여행·웨딩업' 재난지원금 300만원 추진</td>\n",
       "    </tr>\n",
       "    <tr>\n",
       "      <th>8</th>\n",
       "      <td>2021년 3월 15일 21시 30분</td>\n",
       "      <td>https://view.asiae.co.kr/article/2021031509051...</td>\n",
       "      <td>은평구, 실직자 등 위한 코로나19 위기극복 긴급 재정(182억) 투입</td>\n",
       "    </tr>\n",
       "    <tr>\n",
       "      <th>9</th>\n",
       "      <td>2021년 3월 15일 21시 30분</td>\n",
       "      <td>https://www.pressian.com/pages/articles/202103...</td>\n",
       "      <td>4.7 서울·부산 후보들, 코로나19 대응 공약은?</td>\n",
       "    </tr>\n",
       "  </tbody>\n",
       "</table>\n",
       "</div>"
      ],
      "text/plain": [
       "                   date                                               link  \\\n",
       "0  2021년 3월 15일 21시 30분  https://www.chosun.com/politics/assembly/2021/...   \n",
       "1  2021년 3월 15일 21시 30분  http://www.newsis.com/view/?id=NISX20210315_00...   \n",
       "2  2021년 3월 15일 21시 30분             https://www.news1.kr/articles/?4241847   \n",
       "3  2021년 3월 15일 21시 30분      http://www.fnnews.com/news/202103151304486036   \n",
       "4  2021년 3월 15일 21시 30분         https://www.wikitree.co.kr/articles/628463   \n",
       "5  2021년 3월 15일 21시 30분  http://news.mk.co.kr/newsRead.php?no=246328&ye...   \n",
       "6  2021년 3월 15일 21시 30분  http://www.wowtv.co.kr/NewsCenter/News/Read?ar...   \n",
       "7  2021년 3월 15일 21시 30분  https://www.hankyung.com/politics/article/2021...   \n",
       "8  2021년 3월 15일 21시 30분  https://view.asiae.co.kr/article/2021031509051...   \n",
       "9  2021년 3월 15일 21시 30분  https://www.pressian.com/pages/articles/202103...   \n",
       "\n",
       "                                           title  \n",
       "0        [단독] “4차지원금 추경안 허점많다” 국회 예결위, 정부 비판 보고서  \n",
       "1               충북도의회, 농어업인 재난지원금 지급대상 포함 건의문 채택  \n",
       "2             여야, 여행업·웨딩업에 재난지원금 300만원 지원 추진(종합)  \n",
       "3                       전남도, 대중교통 분야 재난지원금 확보 총력  \n",
       "4             영암군, 코로나19 소상공인 지원으로 지역경제 살리기 전력질주  \n",
       "5  [단독] \"나도 300만원 받을 수 있나\" 여행·웨딩업에 재난지원금 100만원 더  \n",
       "6                   매출 오른 영업제한 업종도 지원금 100만원 받는다  \n",
       "7          여야, 코로나19 직격탄 '여행·웨딩업' 재난지원금 300만원 추진  \n",
       "8        은평구, 실직자 등 위한 코로나19 위기극복 긴급 재정(182억) 투입  \n",
       "9                   4.7 서울·부산 후보들, 코로나19 대응 공약은?  "
      ]
     },
     "execution_count": 48,
     "metadata": {},
     "output_type": "execute_result"
    }
   ],
   "source": [
    "df_support = pd.read_csv('./covid_support/covid_support.csv')\n",
    "df_support"
   ]
  },
  {
   "cell_type": "markdown",
   "metadata": {},
   "source": [
    "### 터미널 crontab editor\n",
    "- 'cd python3/project/covid_vaccine && scrapy crawl CovidSupport' 실행하여 크롤링된 데이터 mongodb 적재"
   ]
  }
 ],
 "metadata": {
  "kernelspec": {
   "display_name": "Python 3",
   "language": "python",
   "name": "python3"
  },
  "language_info": {
   "codemirror_mode": {
    "name": "ipython",
    "version": 3
   },
   "file_extension": ".py",
   "mimetype": "text/x-python",
   "name": "python",
   "nbconvert_exporter": "python",
   "pygments_lexer": "ipython3",
   "version": "3.8.3"
  }
 },
 "nbformat": 4,
 "nbformat_minor": 4
}
