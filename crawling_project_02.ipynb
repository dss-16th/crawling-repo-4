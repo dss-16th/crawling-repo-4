{
 "cells": [
  {
   "cell_type": "code",
   "execution_count": 30,
   "metadata": {},
   "outputs": [],
   "source": [
    "import scrapy, requests\n",
    "from scrapy.http import TextResponse"
   ]
  },
  {
   "cell_type": "markdown",
   "metadata": {},
   "source": [
    "### 네이버 뉴스 기사 검색 키워드 : \"코로나 백신\""
   ]
  },
  {
   "cell_type": "code",
   "execution_count": 2,
   "metadata": {},
   "outputs": [],
   "source": [
    "URL = \"https://search.naver.com/search.naver?where=news&query=코로나%20백신&pd=4\""
   ]
  },
  {
   "cell_type": "code",
   "execution_count": 3,
   "metadata": {},
   "outputs": [
    {
     "data": {
      "text/plain": [
       "<200 https://search.naver.com/search.naver?where=news&query=%EC%BD%94%EB%A1%9C%EB%82%98%20%EB%B0%B1%EC%8B%A0&pd=4>"
      ]
     },
     "execution_count": 3,
     "metadata": {},
     "output_type": "execute_result"
    }
   ],
   "source": [
    "headers = {'user-agent': 'Mozilla/5.0 (Windows NT 10.0; Win64; x64) AppleWebKit/537.36 (KHTML, like Gecko) Chrome/88.0.4324.150 Safari/537.36 Edg/88.0.705.68'}\n",
    "req = requests.get(URL, headers=headers)\n",
    "response = TextResponse(req.url, body=req.text, encoding='utf-8')\n",
    "response"
   ]
  },
  {
   "cell_type": "code",
   "execution_count": 4,
   "metadata": {},
   "outputs": [
    {
     "data": {
      "text/plain": [
       "['문대통령 \"어떤 백신이든 정부가 안전성 책임진다\"',\n",
       " '울릉군 AZ 백신 접종 시작… 요양시설 종사자 11명',\n",
       " '\"국민 54%, 코로나19 백신 접종은 모두의 책임\"',\n",
       " '어제 백신 이상반응 4건 신고, 누적 156건',\n",
       " '프·독 “AZ백신 고령층에도 효능”…정부, 접종여부 결정 빨라지나',\n",
       " '코로나19 백신 어제 1,442명 접종…나흘동안 총 2만 3,086명',\n",
       " '백신 접종후 경미한 이상반응 156건…“3일 내 완치”',\n",
       " '한국도 ‘백신 여권’ 도입 나선다',\n",
       " '\"코로나 백신, 매년 접종받아야 할 가능성 낮아\"',\n",
       " \"경남도, 코로나19 백신 접종 '순조'(종합)\"]"
      ]
     },
     "execution_count": 4,
     "metadata": {},
     "output_type": "execute_result"
    }
   ],
   "source": [
    "title = response.xpath('//*[@id=\"main_pack\"]/section/div/div[3]/ul/li/div[1]/div/a/@title').extract()\n",
    "title"
   ]
  },
  {
   "cell_type": "code",
   "execution_count": 5,
   "metadata": {},
   "outputs": [],
   "source": [
    "# '코로나 백신' 키워드 함수 설정\n",
    "\n",
    "def title_vac():\n",
    "    URL = \"https://search.naver.com/search.naver?where=news&query=코로나%20백신&sm=tab_opt&sort=0&photo=0&field=0&reporter_article=&pd=4&ds=&de=&docid=&nso=so%3Ar%2Cp%3A1d%2Ca%3Aall&mynews=0&refresh_start=0&related=0\"\n",
    "    # URL = \"https://search.naver.com/search.naver?where=news&query=코로나%20백신&pd=4&ds=&de=\"\n",
    "    headers = {'user-agent': 'Mozilla/5.0 (Windows NT 10.0; Win64; x64) AppleWebKit/537.36 (KHTML, like Gecko) Chrome/88.0.4324.150 Safari/537.36 Edg/88.0.705.68'}\n",
    "    req = requests.get(URL, headers=headers)\n",
    "    response = TextResponse(req.url, body=req.text, encoding='utf-8')\n",
    "    title = response.xpath('//*[@id=\"main_pack\"]/section/div/div[3]/ul/li/div[1]/div/a/@title').extract()\n",
    "    return title"
   ]
  },
  {
   "cell_type": "code",
   "execution_count": 6,
   "metadata": {},
   "outputs": [
    {
     "data": {
      "text/plain": [
       "['문대통령 \"어떤 백신이든 정부가 안전성 책임진다\"',\n",
       " '울릉군 AZ 백신 접종 시작… 요양시설 종사자 11명',\n",
       " '\"국민 54%, 코로나19 백신 접종은 모두의 책임\"',\n",
       " '어제 백신 이상반응 4건 신고, 누적 156건',\n",
       " '프·독 “AZ백신 고령층에도 효능”…정부, 접종여부 결정 빨라지나',\n",
       " '코로나19 백신 어제 1,442명 접종…나흘동안 총 2만 3,086명',\n",
       " '백신 접종후 경미한 이상반응 156건…“3일 내 완치”',\n",
       " '한국도 ‘백신 여권’ 도입 나선다',\n",
       " '\"코로나 백신, 매년 접종받아야 할 가능성 낮아\"',\n",
       " \"경남도, 코로나19 백신 접종 '순조'(종합)\"]"
      ]
     },
     "execution_count": 6,
     "metadata": {},
     "output_type": "execute_result"
    }
   ],
   "source": [
    "title_vac()"
   ]
  },
  {
   "cell_type": "code",
   "execution_count": 7,
   "metadata": {},
   "outputs": [
    {
     "data": {
      "text/plain": [
       "<200 https://search.naver.com/search.naver?where=news&query=%EC%BD%94%EB%A1%9C%EB%82%98%20%EC%82%AC%ED%9A%8C%EC%A0%81%EA%B1%B0%EB%A6%AC%EB%91%90%EA%B8%B0&pd=4>"
      ]
     },
     "execution_count": 7,
     "metadata": {},
     "output_type": "execute_result"
    }
   ],
   "source": [
    "# 해당 기사 링크 추가(기사제목, 해당기사 링크 순으로 정렬)\n",
    "URL = \"https://search.naver.com/search.naver?where=news&query=코로나%20사회적거리두기&pd=4\"\n",
    "headers = {'user-agent': 'Mozilla/5.0 (Windows NT 10.0; Win64; x64) AppleWebKit/537.36 (KHTML, like Gecko) Chrome/88.0.4324.150 Safari/537.36 Edg/88.0.705.68'}\n",
    "req = requests.get(URL, headers=headers)\n",
    "response = TextResponse(req.url, body=req.text, encoding='utf-8')\n",
    "response"
   ]
  },
  {
   "cell_type": "code",
   "execution_count": 8,
   "metadata": {},
   "outputs": [
    {
     "data": {
      "text/plain": [
       "(10,\n",
       " 10,\n",
       " [('1월 생산 8개월 만에 감소…거리두기에도 소비 1.6%↑(종합2보)',\n",
       "   'http://www.newsis.com/view/?id=NISX20210226_0001352545&cID=10401&pID=10400'),\n",
       "  ('오늘 코로나 2년차 새학년 첫등교…유·초1∼2·고3 매일 학교에',\n",
       "   'http://yna.kr/AKR20210226096500530?did=1195m'),\n",
       "  ('영광군, 14일까지 ‘사회적 거리두기’ 1.5단계 연장',\n",
       "   'https://view.asiae.co.kr/article/2021030212551647935')])"
      ]
     },
     "execution_count": 8,
     "metadata": {},
     "output_type": "execute_result"
    }
   ],
   "source": [
    "titles = response.xpath('//*[@id=\"main_pack\"]/section/div/div[3]/ul/li/div[1]/div/a/@title').extract()\n",
    "links = response.xpath('//*[@id=\"main_pack\"]/section/div/div[3]/ul/li/div[1]/div/a/@href').extract()\n",
    "pairs = [pair for pair in zip(titles, links)]\n",
    "len(titles), len(links), pairs[:3]"
   ]
  },
  {
   "cell_type": "markdown",
   "metadata": {},
   "source": [
    "### 네이버 뉴스 기사 검색 키워드 : \"코로나 사회적거리두기\""
   ]
  },
  {
   "cell_type": "code",
   "execution_count": 31,
   "metadata": {},
   "outputs": [
    {
     "data": {
      "text/plain": [
       "<200 https://search.naver.com/search.naver?where=news&query=%EC%BD%94%EB%A1%9C%EB%82%98%20%EC%82%AC%ED%9A%8C%EC%A0%81%EA%B1%B0%EB%A6%AC%EB%91%90%EA%B8%B0&pd=4>"
      ]
     },
     "execution_count": 31,
     "metadata": {},
     "output_type": "execute_result"
    }
   ],
   "source": [
    "URL = \"https://search.naver.com/search.naver?where=news&query=코로나%20사회적거리두기&pd=4\"\n",
    "headers = {'user-agent': 'Mozilla/5.0 (Windows NT 10.0; Win64; x64) AppleWebKit/537.36 (KHTML, like Gecko) Chrome/88.0.4324.150 Safari/537.36 Edg/88.0.705.68'}\n",
    "req = requests.get(URL, headers=headers)\n",
    "response = TextResponse(req.url, body=req.text, encoding='utf-8')\n",
    "response"
   ]
  },
  {
   "cell_type": "code",
   "execution_count": 10,
   "metadata": {},
   "outputs": [
    {
     "data": {
      "text/plain": [
       "(10,\n",
       " 10,\n",
       " [('1월 생산 8개월 만에 감소…거리두기에도 소비 1.6%↑(종합2보)',\n",
       "   'http://www.newsis.com/view/?id=NISX20210226_0001352545&cID=10401&pID=10400'),\n",
       "  ('오늘 코로나 2년차 새학년 첫등교…유·초1∼2·고3 매일 학교에',\n",
       "   'http://yna.kr/AKR20210226096500530?did=1195m'),\n",
       "  ('영광군, 14일까지 ‘사회적 거리두기’ 1.5단계 연장',\n",
       "   'https://view.asiae.co.kr/article/2021030212551647935')])"
      ]
     },
     "execution_count": 10,
     "metadata": {},
     "output_type": "execute_result"
    }
   ],
   "source": [
    "titles = response.xpath('//*[@id=\"main_pack\"]/section/div/div[3]/ul/li/div[1]/div/a/@title').extract()\n",
    "links = response.xpath('//*[@id=\"main_pack\"]/section/div/div[3]/ul/li/div[1]/div/a/@href').extract()\n",
    "pairs = [pair for pair in zip(titles, links)]\n",
    "len(titles), len(links), pairs[:3]"
   ]
  },
  {
   "cell_type": "markdown",
   "metadata": {},
   "source": [
    "### 네이버 뉴스 기사 검색 키워드 : \"코로나 확진\""
   ]
  },
  {
   "cell_type": "code",
   "execution_count": 42,
   "metadata": {},
   "outputs": [
    {
     "data": {
      "text/plain": [
       "<200 https://search.naver.com/search.naver?where=news&query=%EC%BD%94%EB%A1%9C%EB%82%98%20%EC%88%98%EB%8F%84%EA%B6%8C%20%ED%99%95%EC%A7%84&pd=4>"
      ]
     },
     "execution_count": 42,
     "metadata": {},
     "output_type": "execute_result"
    }
   ],
   "source": [
    "URL = \"https://search.naver.com/search.naver?where=news&query=코로나%20수도권%20확진&pd=4\"\n",
    "headers = {'user-agent': 'Mozilla/5.0 (Windows NT 10.0; Win64; x64) AppleWebKit/537.36 (KHTML, like Gecko) Chrome/88.0.4324.150 Safari/537.36 Edg/88.0.705.68'}\n",
    "req = requests.get(URL, headers=headers)\n",
    "response = TextResponse(req.url, body=req.text, encoding='utf-8')\n",
    "response"
   ]
  },
  {
   "cell_type": "code",
   "execution_count": 43,
   "metadata": {},
   "outputs": [
    {
     "data": {
      "text/plain": [
       "(10,\n",
       " 10,\n",
       " [('신규확진 444명, 나흘만에 다시 400명대…외국인 집단감염 비상(종합)',\n",
       "   'http://yna.kr/AKR20210303030751530?did=1195m'),\n",
       "  (\"'동두천 집단감염' 여파, 나흘 만에 확진자 400명대로(종합)\",\n",
       "   'http://www.edaily.co.kr/news/newspath.asp?newsid=02315686628979712'),\n",
       "  ('코로나19 신규 확진자 444명…나흘만에 다시 400명대',\n",
       "   'http://www.hani.co.kr/arti/society/health/985177.html'),\n",
       "  ('444명 신규확진…나흘만에 다시 400명대',\n",
       "   'http://www.yonhapnewstv.co.kr/MYH20210303005400641/?did=1825m'),\n",
       "  ('코로나19 신규 확진 4일 만에 다시 400명대',\n",
       "   'https://imnews.imbc.com/news/2021/society/article/6107103_34873.html'),\n",
       "  ('\"도쿄 등 日수도권, 정부에 긴급사태 연장 요청 조정 중\"',\n",
       "   'http://www.newsis.com/view/?id=NISX20210303_0001356685&cID=10101&pID=10100'),\n",
       "  ('\\'동두천 외국인노동자 확진\\'에 당국 특별점검 나선다…\"환경검체 검사도\"(상보)',\n",
       "   'https://view.asiae.co.kr/article/2021030311530125577'),\n",
       "  (\"'코로나19' 신규확진 444명…나흘 만에 다시 400명대\",\n",
       "   'http://www.joseilbo.com/news/news_read.php?uid=418231&class=33&grp='),\n",
       "  ('코로나19 확진자, 오후 9시까지 408명···어제보다 89명↑',\n",
       "   'https://www.sedaily.com/NewsView/22JNJHBFDJ'),\n",
       "  (\"봄 오니 국민 이동량 '코로나 3차 유행 이전 회복'\",\n",
       "   'https://www.pressian.com/pages/articles/2021030311405100053?utm_source=naver&utm_medium=search')])"
      ]
     },
     "execution_count": 43,
     "metadata": {},
     "output_type": "execute_result"
    }
   ],
   "source": [
    "titles = response.xpath('//*[@id=\"main_pack\"]/section/div/div[3]/ul/li/div[1]/div/a/@title').extract()\n",
    "links = response.xpath('//*[@id=\"main_pack\"]/section/div/div[3]/ul/li/div[1]/div/a/@href').extract()\n",
    "pairs = [pair for pair in zip(titles, links)]\n",
    "len(titles), len(links), pairs"
   ]
  },
  {
   "cell_type": "code",
   "execution_count": 32,
   "metadata": {},
   "outputs": [
    {
     "data": {
      "text/plain": [
       "(31, 74, [('정', 'h'), ('부', 't'), (',', 't')])"
      ]
     },
     "execution_count": 32,
     "metadata": {},
     "output_type": "execute_result"
    }
   ],
   "source": [
    "titles = response.xpath('//*[@id=\"main_pack\"]/section/div/div[3]/ul/li/div[1]/div/a/@title')[0].extract()\n",
    "links = response.xpath('//*[@id=\"main_pack\"]/section/div/div[3]/ul/li/div[1]/div/a/@href')[0].extract()\n",
    "pairs = [pair for pair in zip(titles, links)]\n",
    "len(titles), len(links), pairs[:3]"
   ]
  },
  {
   "cell_type": "code",
   "execution_count": null,
   "metadata": {},
   "outputs": [],
   "source": []
  },
  {
   "cell_type": "code",
   "execution_count": null,
   "metadata": {},
   "outputs": [],
   "source": []
  },
  {
   "cell_type": "code",
   "execution_count": null,
   "metadata": {},
   "outputs": [],
   "source": []
  },
  {
   "cell_type": "code",
   "execution_count": null,
   "metadata": {},
   "outputs": [],
   "source": []
  },
  {
   "cell_type": "code",
   "execution_count": null,
   "metadata": {},
   "outputs": [],
   "source": []
  },
  {
   "cell_type": "markdown",
   "metadata": {},
   "source": [
    "### 프로젝트 생성"
   ]
  },
  {
   "cell_type": "code",
   "execution_count": 257,
   "metadata": {},
   "outputs": [],
   "source": [
    "!rm -rf covid_keyword"
   ]
  },
  {
   "cell_type": "code",
   "execution_count": 258,
   "metadata": {},
   "outputs": [
    {
     "name": "stdout",
     "output_type": "stream",
     "text": [
      "New Scrapy project 'covid_keyword', using template directory '/home/ubuntu/.pyenv/versions/3.6.9/envs/python3/lib/python3.6/site-packages/scrapy/templates/project', created in:\r\n",
      "    /home/ubuntu/python3/project/covid_keyword\r\n",
      "\r\n",
      "You can start your first spider with:\r\n",
      "    cd covid_keyword\r\n",
      "    scrapy genspider example example.com\r\n"
     ]
    }
   ],
   "source": [
    "!scrapy startproject covid_keyword"
   ]
  },
  {
   "cell_type": "code",
   "execution_count": 259,
   "metadata": {},
   "outputs": [
    {
     "name": "stdout",
     "output_type": "stream",
     "text": [
      "\u001b[01;34mcovid_keyword\u001b[00m\r\n",
      "├── \u001b[01;34mcovid_keyword\u001b[00m\r\n",
      "│   ├── __init__.py\r\n",
      "│   ├── items.py\r\n",
      "│   ├── middlewares.py\r\n",
      "│   ├── pipelines.py\r\n",
      "│   ├── settings.py\r\n",
      "│   └── \u001b[01;34mspiders\u001b[00m\r\n",
      "│       └── __init__.py\r\n",
      "└── scrapy.cfg\r\n",
      "\r\n",
      "2 directories, 7 files\r\n"
     ]
    }
   ],
   "source": [
    "!tree covid_keyword"
   ]
  },
  {
   "cell_type": "code",
   "execution_count": 260,
   "metadata": {},
   "outputs": [
    {
     "name": "stdout",
     "output_type": "stream",
     "text": [
      "Overwriting covid_keyword/covid_keyword/items.py\n"
     ]
    }
   ],
   "source": [
    "%%writefile covid_keyword/covid_keyword/items.py\n",
    "import scrapy\n",
    "\n",
    "\n",
    "class CovidKeywordItem(scrapy.Item):\n",
    "    titles = scrapy.Field()\n",
    "    links = scrapy.Field()"
   ]
  },
  {
   "cell_type": "markdown",
   "metadata": {},
   "source": [
    "#### 생성자 삽입을 통한 키워드 입력"
   ]
  },
  {
   "cell_type": "code",
   "execution_count": 32,
   "metadata": {},
   "outputs": [
    {
     "name": "stdout",
     "output_type": "stream",
     "text": [
      "Writing covid_keyword/covid_keyword/spiders/spider.py\n"
     ]
    }
   ],
   "source": [
    "# %%writefile covid_keyword/covid_keyword/spiders/spider.py\n",
    "\n",
    "# import scrapy\n",
    "# from covid_keyword.items import CovidKeywordItem\n",
    "\n",
    "# class CovidSpider(scrapy.Spider):\n",
    "#     name = \"CovidKeyword\"\n",
    "#     allow_domain = ['https://www.naver.com/']\n",
    "#     start_urls = [\"https://search.naver.com/search.naver?where=news&query=&pd=4\"]\n",
    "    \n",
    "#     def __init__(self, keyword='백신', **kwargs):\n",
    "#         self.start_url = f\"https://search.naver.com/search.naver?where=news&query=코로나%20{keyword}&pd=4&ds=&de=\"\n",
    "#         super().__init__(**kwargs)\n",
    "        \n",
    "#     def start_requests(self):\n",
    "#         url = self.start_url\n",
    "#         yield scrapy.Request(url, callback=self.parse)\n",
    "        \n",
    "#     def parse(self, response):\n",
    "#         item = CovidKeywordItem() \n",
    "#         titles = response.xpath('//*[@id=\"main_pack\"]/section/div/div[3]/ul/li/div[1]/div/a/@title').extract()\n",
    "#         links = response.xpath('//*[@id=\"main_pack\"]/section/div/div[3]/ul/li/div[1]/div/a/@href').extract()\n",
    "#         item['pair'] = [pair for pair in zip(titles, links)]\n",
    "#         yield item"
   ]
  },
  {
   "cell_type": "markdown",
   "metadata": {},
   "source": [
    "#### start_urls 설정(방법2)"
   ]
  },
  {
   "cell_type": "code",
   "execution_count": 200,
   "metadata": {},
   "outputs": [
    {
     "name": "stdout",
     "output_type": "stream",
     "text": [
      "Writing covid_keyword/covid_keyword/spiders/spider.py\n"
     ]
    }
   ],
   "source": [
    "# %%writefile covid_keyword/covid_keyword/spiders/spider.py\n",
    "\n",
    "# import scrapy\n",
    "# from covid_keyword.items import CovidKeywordItem\n",
    "\n",
    "# class CovidSpider(scrapy.Spider):\n",
    "#     name = \"CovidKeyword\"\n",
    "#     allow_domain = ['https://www.naver.com/']\n",
    "#     start_urls = [\"https://search.naver.com/search.naver?where=news&query=코로나%20수도권%20확진&pd=4\",\n",
    "#                   \"https://search.naver.com/search.naver?where=news&query=코로나%20국내%20백신&pd=4\",\n",
    "#                   \"https://search.naver.com/search.naver?where=news&query=코로나%20사회적거리두기&pd=4\",\n",
    "#                   \"https://search.naver.com/search.naver?where=news&query=코로나%20정부%20재난지원금&pd=4\",\n",
    "#                  ]\n",
    "       \n",
    "#     def start_requests(self):\n",
    "#         urls = self.start_urls\n",
    "#         for url in urls:\n",
    "#             yield scrapy.Request(url, callback=self.parse)\n",
    "    \n",
    "#     def parse(self, response):\n",
    "#         item = CovidKeywordItem()\n",
    "#         titles = response.xpath('//*[@id=\"main_pack\"]/section/div/div[3]/ul/li/div[1]/div/a/@title').extract()\n",
    "#         links = response.xpath('//*[@id=\"main_pack\"]/section/div/div[3]/ul/li/div[1]/div/a/@href').extract()\n",
    "#         item['pair'] = [pair for pair in zip(titles, links)]\n",
    "        \n",
    "#         yield item"
   ]
  },
  {
   "cell_type": "code",
   "execution_count": null,
   "metadata": {},
   "outputs": [],
   "source": []
  },
  {
   "cell_type": "code",
   "execution_count": 158,
   "metadata": {},
   "outputs": [
    {
     "name": "stdout",
     "output_type": "stream",
     "text": [
      "Writing covid_keyword/covid_keyword/spiders/spider.py\n"
     ]
    }
   ],
   "source": [
    "# %%writefile covid_keyword/covid_keyword/spiders/spider.py\n",
    "\n",
    "# import scrapy\n",
    "# from covid_keyword.items import CovidKeywordItem\n",
    "\n",
    "# class CovidSpider(scrapy.Spider):\n",
    "#     name = \"CovidKeyword\"\n",
    "#     allow_domain = ['https://www.naver.com/']\n",
    "#     start_urls = [\"https://search.naver.com/search.naver?where=news&query=코로나%20수도권%20확진&pd=4\",\n",
    "#                   \"https://search.naver.com/search.naver?where=news&query=코로나%20국내%20백신&pd=4\",\n",
    "#                   \"https://search.naver.com/search.naver?where=news&query=코로나%20사회적거리두기&pd=4\",\n",
    "#                   \"https://search.naver.com/search.naver?where=news&query=코로나%20정부%20재난지원금&pd=4\",\n",
    "#                  ]\n",
    "       \n",
    "#     def start_requests(self):\n",
    "#         urls = self.start_urls\n",
    "#         for url in urls:\n",
    "#             yield scrapy.Request(url, callback=self.parse)\n",
    "    \n",
    "#     def parse(self, response):\n",
    "#         item = CovidKeywordItem()\n",
    "#         item['titles'] = response.xpath('//*[@id=\"main_pack\"]/section/div/div[3]/ul/li/div[1]/div/a/@title').extract()\n",
    "#         item['links'] = response.xpath('//*[@id=\"main_pack\"]/section/div/div[3]/ul/li/div[1]/div/a/@href').extract()\n",
    "#         yield item"
   ]
  },
  {
   "cell_type": "code",
   "execution_count": 261,
   "metadata": {},
   "outputs": [
    {
     "name": "stdout",
     "output_type": "stream",
     "text": [
      "Writing covid_keyword/covid_keyword/spiders/spider.py\n"
     ]
    }
   ],
   "source": [
    "%%writefile covid_keyword/covid_keyword/spiders/spider.py\n",
    "\n",
    "import scrapy\n",
    "from covid_keyword.items import CovidKeywordItem\n",
    "\n",
    "class CovidSpider(scrapy.Spider):\n",
    "    name = \"CovidKeyword\"\n",
    "    allow_domain = ['https://www.naver.com/']\n",
    "    start_urls = [\"https://search.naver.com/search.naver?where=news&query=코로나%20수도권%20확진&pd=4\",\n",
    "                  \"https://search.naver.com/search.naver?where=news&query=코로나%20국내%20백신&pd=4\",\n",
    "                  \"https://search.naver.com/search.naver?where=news&query=코로나%20사회적거리두기&pd=4\",\n",
    "                  \"https://search.naver.com/search.naver?where=news&query=코로나%20정부%20재난지원금&pd=4\",\n",
    "                 ]\n",
    "       \n",
    "    def start_requests(self):\n",
    "        urls = self.start_urls\n",
    "        for url in urls:\n",
    "            yield scrapy.Request(url, callback=self.parse)\n",
    "    \n",
    "    def parse(self, response):\n",
    "        item = CovidKeywordItem()\n",
    "        item['titles'] = response.xpath('//*[@id=\"main_pack\"]/section/div/div[3]/ul/li/div[1]/div/a/@title').extract()\n",
    "        item['links'] = response.xpath('//*[@id=\"main_pack\"]/section/div/div[3]/ul/li/div[1]/div/a/@href').extract()\n",
    "        yield item"
   ]
  },
  {
   "cell_type": "code",
   "execution_count": 83,
   "metadata": {},
   "outputs": [
    {
     "name": "stdout",
     "output_type": "stream",
     "text": [
      "Writing covid_keyword/covid_keyword/spiders/spider.py\n"
     ]
    }
   ],
   "source": [
    "# %%writefile covid_keyword/covid_keyword/spiders/spider.py\n",
    "\n",
    "# import scrapy\n",
    "# from covid_keyword.items import CovidKeywordItem\n",
    "\n",
    "# class CovidSpider(scrapy.Spider):\n",
    "#     name = \"CovidKeyword\"\n",
    "#     allow_domain = ['https://www.naver.com/']\n",
    "#     start_urls = [\"https://search.naver.com/search.naver?where=news&query=코로나%20확진&pd=4\",\n",
    "#                   \"https://search.naver.com/search.naver?where=news&query=코로나%20백신&pd=4\",\n",
    "#                   \"https://search.naver.com/search.naver?where=news&query=코로나%20사회적거리두기&pd=4\",\n",
    "#                  ]\n",
    "       \n",
    "#     def start_requests(self):\n",
    "#         url = self.start_urls\n",
    "#         yield scrapy.Request(url, callback=self.parse)\n",
    "    \n",
    "#     def parse(self, response):\n",
    "#         item = CovidKeywordItem()\n",
    "#         titles = response.xpath('//*[@id=\"main_pack\"]/section/div/div[3]/ul/li/div[1]/div/a/@title').extract()\n",
    "#         links = response.xpath('//*[@id=\"main_pack\"]/section/div/div[3]/ul/li/div[1]/div/a/@href').extract()\n",
    "#         item['pair'] = [pair for pair in zip(titles, links)]\n",
    "#         yield item"
   ]
  },
  {
   "cell_type": "code",
   "execution_count": 262,
   "metadata": {
    "scrolled": true
   },
   "outputs": [
    {
     "name": "stdout",
     "output_type": "stream",
     "text": [
      "Overwriting run.sh\n"
     ]
    }
   ],
   "source": [
    "%%writefile run.sh\n",
    "cd covid_keyword\n",
    "scrapy crawl CovidKeyword -o covid_keyword.csv"
   ]
  },
  {
   "cell_type": "code",
   "execution_count": 263,
   "metadata": {},
   "outputs": [],
   "source": [
    "!sed -i 's/ROBOTSTXT_OBEY = True/ROBOTSTXT_OBEY = False/' covid_keyword/covid_keyword/settings.py"
   ]
  },
  {
   "cell_type": "code",
   "execution_count": 264,
   "metadata": {
    "collapsed": true
   },
   "outputs": [
    {
     "name": "stdout",
     "output_type": "stream",
     "text": [
      "2021-03-03 18:03:23 [scrapy.utils.log] INFO: Scrapy 2.4.1 started (bot: covid_keyword)\n",
      "2021-03-03 18:03:23 [scrapy.utils.log] INFO: Versions: lxml 4.6.2.0, libxml2 2.9.10, cssselect 1.1.0, parsel 1.6.0, w3lib 1.22.0, Twisted 20.3.0, Python 3.6.9 (default, Dec 28 2020, 03:27:25) - [GCC 7.5.0], pyOpenSSL 20.0.1 (OpenSSL 1.1.1j  16 Feb 2021), cryptography 3.4.6, Platform Linux-5.4.0-1037-aws-x86_64-with-debian-buster-sid\n",
      "2021-03-03 18:03:23 [scrapy.utils.log] DEBUG: Using reactor: twisted.internet.epollreactor.EPollReactor\n",
      "2021-03-03 18:03:23 [scrapy.crawler] INFO: Overridden settings:\n",
      "{'BOT_NAME': 'covid_keyword',\n",
      " 'NEWSPIDER_MODULE': 'covid_keyword.spiders',\n",
      " 'SPIDER_MODULES': ['covid_keyword.spiders']}\n",
      "2021-03-03 18:03:23 [scrapy.extensions.telnet] INFO: Telnet Password: 3c4f82d0d770a516\n",
      "2021-03-03 18:03:23 [scrapy.middleware] INFO: Enabled extensions:\n",
      "['scrapy.extensions.corestats.CoreStats',\n",
      " 'scrapy.extensions.telnet.TelnetConsole',\n",
      " 'scrapy.extensions.memusage.MemoryUsage',\n",
      " 'scrapy.extensions.feedexport.FeedExporter',\n",
      " 'scrapy.extensions.logstats.LogStats']\n",
      "2021-03-03 18:03:23 [scrapy.middleware] INFO: Enabled downloader middlewares:\n",
      "['scrapy.downloadermiddlewares.httpauth.HttpAuthMiddleware',\n",
      " 'scrapy.downloadermiddlewares.downloadtimeout.DownloadTimeoutMiddleware',\n",
      " 'scrapy.downloadermiddlewares.defaultheaders.DefaultHeadersMiddleware',\n",
      " 'scrapy.downloadermiddlewares.useragent.UserAgentMiddleware',\n",
      " 'scrapy.downloadermiddlewares.retry.RetryMiddleware',\n",
      " 'scrapy.downloadermiddlewares.redirect.MetaRefreshMiddleware',\n",
      " 'scrapy.downloadermiddlewares.httpcompression.HttpCompressionMiddleware',\n",
      " 'scrapy.downloadermiddlewares.redirect.RedirectMiddleware',\n",
      " 'scrapy.downloadermiddlewares.cookies.CookiesMiddleware',\n",
      " 'scrapy.downloadermiddlewares.httpproxy.HttpProxyMiddleware',\n",
      " 'scrapy.downloadermiddlewares.stats.DownloaderStats']\n",
      "2021-03-03 18:03:23 [scrapy.middleware] INFO: Enabled spider middlewares:\n",
      "['scrapy.spidermiddlewares.httperror.HttpErrorMiddleware',\n",
      " 'scrapy.spidermiddlewares.offsite.OffsiteMiddleware',\n",
      " 'scrapy.spidermiddlewares.referer.RefererMiddleware',\n",
      " 'scrapy.spidermiddlewares.urllength.UrlLengthMiddleware',\n",
      " 'scrapy.spidermiddlewares.depth.DepthMiddleware']\n",
      "2021-03-03 18:03:23 [scrapy.middleware] INFO: Enabled item pipelines:\n",
      "[]\n",
      "2021-03-03 18:03:23 [scrapy.core.engine] INFO: Spider opened\n",
      "2021-03-03 18:03:23 [scrapy.extensions.logstats] INFO: Crawled 0 pages (at 0 pages/min), scraped 0 items (at 0 items/min)\n",
      "2021-03-03 18:03:23 [scrapy.extensions.telnet] INFO: Telnet console listening on 127.0.0.1:6023\n",
      "2021-03-03 18:03:23 [scrapy.core.engine] DEBUG: Crawled (200) <GET https://search.naver.com/search.naver?where=news&query=%EC%BD%94%EB%A1%9C%EB%82%98%20%EC%88%98%EB%8F%84%EA%B6%8C%20%ED%99%95%EC%A7%84&pd=4> (referer: None)\n",
      "2021-03-03 18:03:23 [scrapy.core.engine] DEBUG: Crawled (200) <GET https://search.naver.com/search.naver?where=news&query=%EC%BD%94%EB%A1%9C%EB%82%98%20%EC%82%AC%ED%9A%8C%EC%A0%81%EA%B1%B0%EB%A6%AC%EB%91%90%EA%B8%B0&pd=4> (referer: None)\n",
      "2021-03-03 18:03:23 [scrapy.core.engine] DEBUG: Crawled (200) <GET https://search.naver.com/search.naver?where=news&query=%EC%BD%94%EB%A1%9C%EB%82%98%20%EA%B5%AD%EB%82%B4%20%EB%B0%B1%EC%8B%A0&pd=4> (referer: None)\n",
      "2021-03-03 18:03:23 [scrapy.core.engine] DEBUG: Crawled (200) <GET https://search.naver.com/search.naver?where=news&query=%EC%BD%94%EB%A1%9C%EB%82%98%20%EC%A0%95%EB%B6%80%20%EC%9E%AC%EB%82%9C%EC%A7%80%EC%9B%90%EA%B8%88&pd=4> (referer: None)\n",
      "2021-03-03 18:03:23 [scrapy.core.scraper] DEBUG: Scraped from <200 https://search.naver.com/search.naver?where=news&query=%EC%BD%94%EB%A1%9C%EB%82%98%20%EC%88%98%EB%8F%84%EA%B6%8C%20%ED%99%95%EC%A7%84&pd=4>\n",
      "{'links': ['http://yna.kr/AKR20210303030751530?did=1195m',\n",
      "           'http://www.hani.co.kr/arti/society/health/985177.html',\n",
      "           'https://www.hankyung.com/international/article/2021030328237',\n",
      "           'http://www.dongascience.com/news/view/44412',\n",
      "           'http://www.yonhapnewstv.co.kr/MYH20210303005400641/?did=1825m',\n",
      "           'https://www.pressian.com/pages/articles/2021030311405100053?utm_source=naver&utm_medium=search',\n",
      "           'http://news.kbs.co.kr/news/view.do?ncd=5130322&ref=A',\n",
      "           'https://health.chosun.com/site/data/html_dir/2021/03/03/2021030300934.html',\n",
      "           'https://view.asiae.co.kr/article/2021030311530125577',\n",
      "           'http://www.edaily.co.kr/news/newspath.asp?newsid=03175046628979712'],\n",
      " 'titles': ['신규확진 444명, 나흘만에 다시 400명대…외국인 집단감염 비상(종합)',\n",
      "            '코로나19 신규 확진자 444명…나흘만에 다시 400명대',\n",
      "            \"코로나 사망자 8000명 넘은 일본, '긴급사태' 연장 가능성\",\n",
      "            '신규확진 444명 전날보다 100명 증가...나흘만에 다시 400명대',\n",
      "            '444명 신규확진…나흘만에 다시 400명대',\n",
      "            \"봄 오니 국민 이동량 '코로나 3차 유행 이전 회복'\",\n",
      "            '신규 확진자 444명…AZ백신 접종한 2명 사망, 부작용 여부 확인 안 돼',\n",
      "            \"셀트리온 코로나 치료제 '렉키로나', 1인당 치료비 45만원 들었다\",\n",
      "            '\\'동두천 외국인노동자 확진\\'에 당국 특별점검 나선다…\"환경검체 검사도\"(상보)',\n",
      "            '\"코로나 급증에 거리두기 강화\"..서비스업 등 대출액 27.7조 증가']}\n",
      "2021-03-03 18:03:24 [scrapy.core.scraper] DEBUG: Scraped from <200 https://search.naver.com/search.naver?where=news&query=%EC%BD%94%EB%A1%9C%EB%82%98%20%EC%82%AC%ED%9A%8C%EC%A0%81%EA%B1%B0%EB%A6%AC%EB%91%90%EA%B8%B0&pd=4>\n",
      "{'links': ['https://www.news1.kr/articles/?4228183',\n",
      "           'http://www.edaily.co.kr/news/newspath.asp?newsid=03175046628979712',\n",
      "           'http://www.tournews21.com/news/articleView.html?idxno=45928',\n",
      "           'http://www.sisajournal.com/news/articleView.html?idxno=212788',\n",
      "           'http://news.kmib.co.kr/article/view.asp?arcid=0015592283&code=61181511&cp=nv',\n",
      "           'https://www.sedaily.com/NewsView/22JNWWS906',\n",
      "           'http://www.kukinews.com/newsView/kuk202103030083',\n",
      "           'http://www.joseilbo.com/news/news_read.php?uid=418252&class=10&grp=',\n",
      "           'http://www.jbnews.com/news/articleView.html?idxno=1329240',\n",
      "           'http://www.bzeronews.com/news/articleView.html?idxno=470020'],\n",
      " 'titles': ['울산시, 사회적 거리두기 방역수칙 위반 87건 적발',\n",
      "            '\"코로나 급증에 거리두기 강화\"..서비스업 등 대출액 27.7조 증가',\n",
      "            '안동 온뜨레피움, 사회적 거리두기 완화로 재개장',\n",
      "            \"'봄과 함께 느슨해진 코로나 경각심'…빅데이터로 확인\",\n",
      "            '영화관 거리두기 완화?…황희 “관객 찾도록 지원”',\n",
      "            '펠레도 코로나19 백신 접종···\"아직 끝나지 않아, 거리 두기 유지하자\"',\n",
      "            '코로나19에 비만 위험 증가...전문가들 \"거리두기 상황에도 충분한 신체활동 필요\"',\n",
      "            '[제57회 세무사 자격시험] 거리두기로 달라진 실무교육… 수습처 확보 중요해졌다',\n",
      "            \"충북발전 모색한 민주당 당정협, 거리두기는 '미흡'\",\n",
      "            \"한범덕 청주시장, '생활은 거리 두기, 안전은 곁에 두기'\"]}\n",
      "2021-03-03 18:03:24 [scrapy.core.scraper] DEBUG: Scraped from <200 https://search.naver.com/search.naver?where=news&query=%EC%BD%94%EB%A1%9C%EB%82%98%20%EA%B5%AD%EB%82%B4%20%EB%B0%B1%EC%8B%A0&pd=4>\n",
      "{'links': ['https://www.nocutnews.co.kr/news/5509391',\n",
      "           'https://view.asiae.co.kr/article/2021030312491128481',\n",
      "           'https://www.kgnews.co.kr/news/article.html?no=631814',\n",
      "           'https://news.jtbc.joins.com/article/article.aspx?news_id=NB11994733',\n",
      "           'http://news.tf.co.kr/read/life/1846130.htm',\n",
      "           'http://www.hani.co.kr/arti/society/health/985177.html',\n",
      "           'http://www.newsis.com/view/?id=NISX20210303_0001357655&cID=10201&pID=10200',\n",
      "           'https://www.news1.kr/articles/?4229064',\n",
      "           'http://yna.kr/AKR20210302152400530?did=1195m',\n",
      "           'https://www.donga.com/news/article/all/20210303/105688740/1'],\n",
      " 'titles': ['AZ 백신 접종한 평택·고양 요양병원 환자 2명 사망',\n",
      "            '경기 고양·평택서 AZ백신 접종 환자 2명 사망… 당국 \"조사 중\"(종합)',\n",
      "            '고양·평택서 AZ 백신접종 사망자 발생',\n",
      "            '신규 444명…정 총리 \"AZ백신, 고령층 접종 재검토\"',\n",
      "            '접종 뒤 사망 2명은 요양병원 환자…\"백신 연관성 조사 중\"',\n",
      "            '코로나19 신규 확진자 444명…나흘만에 다시 400명대',\n",
      "            '백신접종 이상반응 총 209건…\"사망신고 2건 보고\"',\n",
      "            '국내 백신 접종 후 2명 사망…아나필락시스 의심 3명',\n",
      "            '백신접종 속도 빨라질 듯…요양병원 65세 이상도 AZ백신 맞을까',\n",
      "            '정부 “국내도 백신여권 도입 논의”']}\n",
      "2021-03-03 18:03:24 [scrapy.core.scraper] DEBUG: Scraped from <200 https://search.naver.com/search.naver?where=news&query=%EC%BD%94%EB%A1%9C%EB%82%98%20%EC%A0%95%EB%B6%80%20%EC%9E%AC%EB%82%9C%EC%A7%80%EC%9B%90%EA%B8%88&pd=4>\n",
      "{'links': ['https://www.hankyung.com/economy/article/202103038827i',\n",
      "           'https://biz.sbs.co.kr/article_hub/20000005964?division=NAVER',\n",
      "           'http://www.hani.co.kr/arti/economy/economy_general/985196.html',\n",
      "           'http://www.edaily.co.kr/news/newspath.asp?newsid=03804806628979712',\n",
      "           'https://www.sedaily.com/NewsView/22JNYZDJDH',\n",
      "           'https://www.donga.com/news/article/all/20210303/105688890/1',\n",
      "           'http://www.segye.com/content/html/2021/03/02/20210302518608.html?OutUrl=naver',\n",
      "           'http://yna.kr/AKR20210303053300001?did=1195m',\n",
      "           'http://www.todaykorea.co.kr/news/articleView.html?idxno=284425',\n",
      "           'http://weekly.chosun.com/client/news/viw.asp?nNewsNumb=002647100013&ctcd=C03'],\n",
      " 'titles': ['[단독] 꽃·친환경 농가 2만곳에도 재난지원금 지급 추진',\n",
      "            '정부, 4차 재난지원금 지급 결정…누가 얼마나 받나?',\n",
      "            '“노점상도 재난지원금 50만원” 방침… 노점상들 “탁상행정” 반발',\n",
      "            '국민의힘 \"농어업인, 투명인간 취급…4차 재난지원금에 포함해야\"',\n",
      "            '與 \"뿔난 農心 달래자\"...4차 지원금에 농민 끼워넣기',\n",
      "            '4차 재난지원금, 최대 1180만원… 작년 매출 줄어야 혜택',\n",
      "            '홍남기, 4차 재난지원금에 대해 \"이달 말부터 지급 가능할 듯\"',\n",
      "            '김태년 \"재난지원금 사각지대 있다면 추경 심사서 반영\"',\n",
      "            '\\'4차 재난지원금 제외\\' 농업인들 폭발···\"우리는 국민도 아니냐\"',\n",
      "            '김태기 교수 “이재명 기본소득은 궤변… 현 정부의 뇌관은 세금”']}\n",
      "2021-03-03 18:03:24 [scrapy.core.engine] INFO: Closing spider (finished)\n",
      "2021-03-03 18:03:24 [scrapy.extensions.feedexport] INFO: Stored csv feed (4 items) in: covid_keyword.csv\n",
      "2021-03-03 18:03:24 [scrapy.statscollectors] INFO: Dumping Scrapy stats:\n",
      "{'downloader/request_bytes': 1340,\n",
      " 'downloader/request_count': 4,\n",
      " 'downloader/request_method_count/GET': 4,\n",
      " 'downloader/response_bytes': 430471,\n",
      " 'downloader/response_count': 4,\n",
      " 'downloader/response_status_count/200': 4,\n",
      " 'elapsed_time_seconds': 0.582339,\n",
      " 'finish_reason': 'finished',\n",
      " 'finish_time': datetime.datetime(2021, 3, 3, 9, 3, 24, 207090),\n",
      " 'item_scraped_count': 4,\n",
      " 'log_count/DEBUG': 8,\n",
      " 'log_count/INFO': 11,\n",
      " 'memusage/max': 55267328,\n",
      " 'memusage/startup': 55267328,\n",
      " 'response_received_count': 4,\n",
      " 'scheduler/dequeued': 4,\n",
      " 'scheduler/dequeued/memory': 4,\n",
      " 'scheduler/enqueued': 4,\n",
      " 'scheduler/enqueued/memory': 4,\n",
      " 'start_time': datetime.datetime(2021, 3, 3, 9, 3, 23, 624751)}\n",
      "2021-03-03 18:03:24 [scrapy.core.engine] INFO: Spider closed (finished)\n"
     ]
    }
   ],
   "source": [
    "!/bin/bash run.sh"
   ]
  },
  {
   "cell_type": "code",
   "execution_count": 265,
   "metadata": {},
   "outputs": [],
   "source": [
    "import pandas as pd"
   ]
  },
  {
   "cell_type": "code",
   "execution_count": 266,
   "metadata": {
    "scrolled": true
   },
   "outputs": [
    {
     "data": {
      "text/html": [
       "<div>\n",
       "<style scoped>\n",
       "    .dataframe tbody tr th:only-of-type {\n",
       "        vertical-align: middle;\n",
       "    }\n",
       "\n",
       "    .dataframe tbody tr th {\n",
       "        vertical-align: top;\n",
       "    }\n",
       "\n",
       "    .dataframe thead th {\n",
       "        text-align: right;\n",
       "    }\n",
       "</style>\n",
       "<table border=\"1\" class=\"dataframe\">\n",
       "  <thead>\n",
       "    <tr style=\"text-align: right;\">\n",
       "      <th></th>\n",
       "      <th>links</th>\n",
       "      <th>titles</th>\n",
       "    </tr>\n",
       "  </thead>\n",
       "  <tbody>\n",
       "    <tr>\n",
       "      <th>0</th>\n",
       "      <td>http://yna.kr/AKR20210303030751530?did=1195m,h...</td>\n",
       "      <td>신규확진 444명, 나흘만에 다시 400명대…외국인 집단감염 비상(종합),코로나19...</td>\n",
       "    </tr>\n",
       "    <tr>\n",
       "      <th>1</th>\n",
       "      <td>https://www.news1.kr/articles/?4228183,http://...</td>\n",
       "      <td>울산시, 사회적 거리두기 방역수칙 위반 87건 적발,\"코로나 급증에 거리두기 강화\"...</td>\n",
       "    </tr>\n",
       "    <tr>\n",
       "      <th>2</th>\n",
       "      <td>https://www.nocutnews.co.kr/news/5509391,https...</td>\n",
       "      <td>AZ 백신 접종한 평택·고양 요양병원 환자 2명 사망,경기 고양·평택서 AZ백신 접...</td>\n",
       "    </tr>\n",
       "    <tr>\n",
       "      <th>3</th>\n",
       "      <td>https://www.hankyung.com/economy/article/20210...</td>\n",
       "      <td>[단독] 꽃·친환경 농가 2만곳에도 재난지원금 지급 추진,정부, 4차 재난지원금 지...</td>\n",
       "    </tr>\n",
       "  </tbody>\n",
       "</table>\n",
       "</div>"
      ],
      "text/plain": [
       "                                               links  \\\n",
       "0  http://yna.kr/AKR20210303030751530?did=1195m,h...   \n",
       "1  https://www.news1.kr/articles/?4228183,http://...   \n",
       "2  https://www.nocutnews.co.kr/news/5509391,https...   \n",
       "3  https://www.hankyung.com/economy/article/20210...   \n",
       "\n",
       "                                              titles  \n",
       "0  신규확진 444명, 나흘만에 다시 400명대…외국인 집단감염 비상(종합),코로나19...  \n",
       "1  울산시, 사회적 거리두기 방역수칙 위반 87건 적발,\"코로나 급증에 거리두기 강화\"...  \n",
       "2  AZ 백신 접종한 평택·고양 요양병원 환자 2명 사망,경기 고양·평택서 AZ백신 접...  \n",
       "3  [단독] 꽃·친환경 농가 2만곳에도 재난지원금 지급 추진,정부, 4차 재난지원금 지...  "
      ]
     },
     "execution_count": 266,
     "metadata": {},
     "output_type": "execute_result"
    }
   ],
   "source": [
    "df = pd.read_csv('./covid_keyword/covid_keyword.csv')\n",
    "df"
   ]
  },
  {
   "cell_type": "code",
   "execution_count": 274,
   "metadata": {},
   "outputs": [
    {
     "data": {
      "text/plain": [
       "'http://yna.kr/AKR20210303030751530?did=1195m,http://www.hani.co.kr/arti/society/health/985177.html,https://www.hankyung.com/international/article/2021030328237,http://www.dongascience.com/news/view/44412,http://www.yonhapnewstv.co.kr/MYH20210303005400641/?did=1825m,https://www.pressian.com/pages/articles/2021030311405100053?utm_source=naver&utm_medium=search,http://news.kbs.co.kr/news/view.do?ncd=5130322&ref=A,https://health.chosun.com/site/data/html_dir/2021/03/03/2021030300934.html,https://view.asiae.co.kr/article/2021030311530125577,http://www.edaily.co.kr/news/newspath.asp?newsid=03175046628979712'"
      ]
     },
     "execution_count": 274,
     "metadata": {},
     "output_type": "execute_result"
    }
   ],
   "source": [
    "df['links'][0]"
   ]
  },
  {
   "cell_type": "code",
   "execution_count": 271,
   "metadata": {},
   "outputs": [
    {
     "data": {
      "text/plain": [
       "'신규확진 444명, 나흘만에 다시 400명대…외국인 집단감염 비상(종합),코로나19 신규 확진자 444명…나흘만에 다시 400명대,코로나 사망자 8000명 넘은 일본, \\'긴급사태\\' 연장 가능성,신규확진 444명 전날보다 100명 증가...나흘만에 다시 400명대,444명 신규확진…나흘만에 다시 400명대,봄 오니 국민 이동량 \\'코로나 3차 유행 이전 회복\\',신규 확진자 444명…AZ백신 접종한 2명 사망, 부작용 여부 확인 안 돼,셀트리온 코로나 치료제 \\'렉키로나\\', 1인당 치료비 45만원 들었다,\\'동두천 외국인노동자 확진\\'에 당국 특별점검 나선다…\"환경검체 검사도\"(상보),\"코로나 급증에 거리두기 강화\"..서비스업 등 대출액 27.7조 증가'"
      ]
     },
     "execution_count": 271,
     "metadata": {},
     "output_type": "execute_result"
    }
   ],
   "source": [
    "df['titles'][0]"
   ]
  },
  {
   "cell_type": "code",
   "execution_count": null,
   "metadata": {},
   "outputs": [],
   "source": []
  }
 ],
 "metadata": {
  "kernelspec": {
   "display_name": "Python 3",
   "language": "python",
   "name": "python3"
  },
  "language_info": {
   "codemirror_mode": {
    "name": "ipython",
    "version": 3
   },
   "file_extension": ".py",
   "mimetype": "text/x-python",
   "name": "python",
   "nbconvert_exporter": "python",
   "pygments_lexer": "ipython3",
   "version": "3.6.9"
  }
 },
 "nbformat": 4,
 "nbformat_minor": 5
}
