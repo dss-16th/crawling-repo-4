{
 "cells": [
  {
   "cell_type": "markdown",
   "metadata": {},
   "source": [
    "## 2. kakaotalk message 전송"
   ]
  },
  {
   "cell_type": "markdown",
   "metadata": {},
   "source": [
    "### 1) scrapy 파일 생성"
   ]
  },
  {
   "cell_type": "code",
   "execution_count": 76,
   "metadata": {},
   "outputs": [],
   "source": [
    "import scrapy, requests\n",
    "from scrapy.http import TextResponse"
   ]
  },
  {
   "cell_type": "code",
   "execution_count": 75,
   "metadata": {},
   "outputs": [
    {
     "name": "stdout",
     "output_type": "stream",
     "text": [
      "Error: scrapy.cfg already exists in /home/ubuntu/python3/notebook/covid_19/covid_19_total_backup\r\n"
     ]
    }
   ],
   "source": [
    "!scrapy startproject covid_19_total_backup"
   ]
  },
  {
   "cell_type": "markdown",
   "metadata": {},
   "source": [
    "### 2) 데이터 크롤링 확인"
   ]
  },
  {
   "cell_type": "markdown",
   "metadata": {},
   "source": [
    "#### 코로나 바이러스 감염증"
   ]
  },
  {
   "cell_type": "code",
   "execution_count": 3,
   "metadata": {},
   "outputs": [
    {
     "data": {
      "text/plain": [
       "<200 http://ncov.mohw.go.kr/>"
      ]
     },
     "execution_count": 3,
     "metadata": {},
     "output_type": "execute_result"
    }
   ],
   "source": [
    "headers = {'user-agent':'Mozilla/5.0'}\n",
    "req = requests.get('http://ncov.mohw.go.kr/',headers=headers)\n",
    "response = TextResponse(req.url, body=req.text, encoding='utf-8')\n",
    "response"
   ]
  },
  {
   "cell_type": "code",
   "execution_count": 4,
   "metadata": {},
   "outputs": [
    {
     "data": {
      "text/plain": [
       "('21.3.15. 00시 기준', [370], [12], 382, '2', '1.5')"
      ]
     },
     "execution_count": 4,
     "metadata": {},
     "output_type": "execute_result"
    }
   ],
   "source": [
    "date = response.xpath('/html/body/div/div[5]/div[2]/div/div[1]/div[1]/h2/a/span[1]/text()').extract()\n",
    "date = list(date)[0].split(\" \") \n",
    "date = date[0:3]\n",
    "date = \" \".join(date)\n",
    "date = date.replace(\"(\",\"21.\").replace(\",\",\"\")\n",
    "country_in =list(map(int, response.xpath('/html/body/div/div[5]/div[2]/div/div[1]/div[1]/div[1]/div/ul/li[1]/span[2]/text()').extract()))\n",
    "country_out =list(map(int, response.xpath('/html/body/div/div[5]/div[2]/div/div[1]/div[1]/div[1]/div/ul/li[2]/span[2]/text()').extract()))\n",
    "total_country = [country_in+country_out for country_in,country_out in zip(country_in,country_out)][0]\n",
    "capital_distance = response.xpath('//*[@id=\"main_maplayout\"]/button[9]/span[2]/text()').extract()[0]\n",
    "noncapital_distance = response.xpath('//*[@id=\"main_maplayout\"]/button[17]/span[2]/text()').extract()[0]\n",
    "\n",
    "date,country_in, country_out, total_country,capital_distance,noncapital_distance\n"
   ]
  },
  {
   "cell_type": "markdown",
   "metadata": {},
   "source": [
    "#### 코로나19 예방접종"
   ]
  },
  {
   "cell_type": "code",
   "execution_count": 3,
   "metadata": {},
   "outputs": [
    {
     "data": {
      "text/plain": [
       "<200 http://ncv.kdca.go.kr/>"
      ]
     },
     "execution_count": 3,
     "metadata": {},
     "output_type": "execute_result"
    }
   ],
   "source": [
    "headers = {'user-agent':'Mozilla/5.0'}\n",
    "req = requests.get('http://ncv.kdca.go.kr/',headers=headers)\n",
    "response = TextResponse(req.url, body=req.text, encoding='utf-8')\n",
    "response"
   ]
  },
  {
   "cell_type": "code",
   "execution_count": 7,
   "metadata": {},
   "outputs": [
    {
     "data": {
      "text/plain": [
       "('21.3.16. 0시 기준',\n",
       " '11,922',\n",
       " ['0'],\n",
       " ['602,150'],\n",
       " ['0'],\n",
       " ['3,216'],\n",
       " ['2,875'],\n",
       " ['501'])"
      ]
     },
     "execution_count": 7,
     "metadata": {},
     "output_type": "execute_result"
    }
   ],
   "source": [
    "date = response.xpath('//*[@id=\"content\"]/div[2]/div/h2/span[2]/em/text()').extract()\n",
    "date = list(date)[0].split(\" \") \n",
    "date = \" \".join(date)\n",
    "date = date.replace(\",\",\"\")\n",
    "date = '21.' + date\n",
    "\n",
    "take_yesterday_1 = response.xpath('//*[@id=\"content\"]/div[2]/div/div/div[1]/div[1]/ul/li[2]/div/p/span/text()').extract()\n",
    "take_yesterday_1 = list(take_yesterday_1)[0]\n",
    "take_yesterday_2 = response.xpath('//*[@id=\"content\"]/div[2]/div/div/div[1]/div[2]/ul/li[2]/div/p/span/text()').extract()\n",
    "\n",
    "total_1 = response.xpath('//*[@id=\"content\"]/div[2]/div/div/div[1]/div[1]/ul/li[1]/div/p/span[1]/text()').extract()\n",
    "total_2 = response.xpath('//*[@id=\"content\"]/div[2]/div/div/div[1]/div[2]/ul/li[1]/div/p/span[1]/text()').extract()\n",
    "\n",
    "seoul_vaccine = response.xpath('//*[@id=\"content\"]/div[2]/div/div/div[2]/div/div[1]/div[2]/div[2]/div/p[1]/span[2]/text()').extract()\n",
    "gyeonggi_vaccine = response.xpath('//*[@id=\"content\"]/div[2]/div/div/div[2]/div/div[1]/div[2]/div[2]/div/p[9]/span[2]/text()').extract()\n",
    "incheon_vaccine = response.xpath('//*[@id=\"content\"]/div[2]/div/div/div[2]/div/div[1]/div[2]/div[2]/div/p[4]/span[2]/text()').extract()\n",
    "\n",
    "date,take_yesterday_1,take_yesterday_2,total_1,total_2,seoul_vaccine, gyeonggi_vaccine, incheon_vaccine"
   ]
  },
  {
   "cell_type": "markdown",
   "metadata": {},
   "source": [
    "### 3) items.py 파일 생성"
   ]
  },
  {
   "cell_type": "code",
   "execution_count": 40,
   "metadata": {
    "scrolled": true
   },
   "outputs": [
    {
     "name": "stdout",
     "output_type": "stream",
     "text": [
      "Overwriting covid_19_total_backup/covid_19_total_backup/items.py\n"
     ]
    }
   ],
   "source": [
    "%%writefile covid_19_total_backup/covid_19_total_backup/items.py\n",
    "import scrapy\n",
    "\n",
    "\n",
    "class Covid19TotalBackupItem(scrapy.Item):\n",
    "    date = scrapy.Field()\n",
    "    country_in = scrapy.Field()\n",
    "    country_out = scrapy.Field()\n",
    "    total_country = scrapy.Field()\n",
    "    capital_distance = scrapy.Field()\n",
    "    noncapital_distance = scrapy.Field()\n",
    "    take_yesterday_1 = scrapy.Field()\n",
    "    take_yesterday_2 = scrapy.Field()\n",
    "    total_1 = scrapy.Field()\n",
    "    total_2 = scrapy.Field()\n",
    "    seoul_vaccine = scrapy.Field()\n",
    "    gyeonggi_vaccine = scrapy.Field()\n",
    "    incheon_vaccine = scrapy.Field()"
   ]
  },
  {
   "cell_type": "markdown",
   "metadata": {},
   "source": [
    "### 4) spider.py 생성"
   ]
  },
  {
   "cell_type": "code",
   "execution_count": 66,
   "metadata": {},
   "outputs": [
    {
     "name": "stdout",
     "output_type": "stream",
     "text": [
      "Overwriting covid_19_total_backup/covid_19_total_backup/spiders/spider.py\n"
     ]
    }
   ],
   "source": [
    "%%writefile  covid_19_total_backup/covid_19_total_backup/spiders/spider.py\n",
    "import scrapy,re\n",
    "from scrapy.crawler import CrawlerProcess\n",
    "from covid_19_total_backup.items import Covid19TotalBackupItem\n",
    "\n",
    "class Spider(scrapy.Spider):\n",
    "    name = \"covid_19_total_backup\"\n",
    "    start_urls =  [\"http://ncov.mohw.go.kr/\",\n",
    "                   'http://ncv.kdca.go.kr/']\n",
    "    \n",
    "    def start_requests(self):  \n",
    "        yield scrapy.Request(\"http://ncov.mohw.go.kr/\", callback=self.parse_content)\n",
    "        yield scrapy.Request('http://ncv.kdca.go.kr/', callback=self.parse)\n",
    "        \n",
    "\n",
    "    def parse_content(self,response):\n",
    "        item = Covid19TotalBackupItem()\n",
    "        date = response.xpath('/html/body/div/div[5]/div[2]/div/div[1]/div[1]/h2/a/span[1]/text()').extract()\n",
    "        date = list(date)[0].split(\" \") \n",
    "        date = date[0:3]\n",
    "        date = \" \".join(date)\n",
    "        item['date'] = date.replace(\"(\",\"21.\").replace(\",\",\"\")\n",
    "        item['country_in'] =list(map(int, response.xpath('/html/body/div/div[5]/div[2]/div/div[1]/div[1]/div[1]/div/ul/li[1]/span[2]/text()').extract()))\n",
    "        item['country_out'] =list(map(int, response.xpath('/html/body/div/div[5]/div[2]/div/div[1]/div[1]/div[1]/div/ul/li[2]/span[2]/text()').extract()))\n",
    "        item['total_country'] = [item['country_in']+item['country_out'] for item['country_in'],item['country_out'] in zip(item['country_in'],item['country_out'])][0]\n",
    "        item['capital_distance'] = response.xpath('//*[@id=\"main_maplayout\"]/button[9]/span[2]/text()').extract()[0]\n",
    "        item['noncapital_distance'] = response.xpath('//*[@id=\"main_maplayout\"]/button[17]/span[2]/text()').extract()[0]\n",
    "        yield item\n",
    "    \n",
    "    def parse(self, response):\n",
    "        item = Covid19TotalBackupItem()\n",
    "        item['take_yesterday_1'] = response.xpath('//*[@id=\"content\"]/div[2]/div/div/div[1]/div[1]/ul/li[2]/div/p/span/text()').extract()\n",
    "        item['take_yesterday_2']= response.xpath('//*[@id=\"content\"]/div[2]/div/div/div[1]/div[2]/ul/li[2]/div/p/span/text()').extract()\n",
    "\n",
    "        item['total_1'] = response.xpath('//*[@id=\"content\"]/div[2]/div/div/div[1]/div[1]/ul/li[1]/div/p/span[1]/text()').extract()\n",
    "        item['total_2'] = response.xpath('//*[@id=\"content\"]/div[2]/div/div/div[1]/div[2]/ul/li[1]/div/p/span[1]/text()').extract()\n",
    "\n",
    "        item['seoul_vaccine'] = response.xpath('//*[@id=\"content\"]/div[2]/div/div/div[2]/div/div[1]/div[2]/div[2]/div/p[1]/span[2]/text()').extract()\n",
    "        item['gyeonggi_vaccine'] = response.xpath('//*[@id=\"content\"]/div[2]/div/div/div[2]/div/div[1]/div[2]/div[2]/div/p[9]/span[2]/text()').extract()\n",
    "        item['incheon_vaccine'] = response.xpath('//*[@id=\"content\"]/div[2]/div/div/div[2]/div/div[1]/div[2]/div[2]/div/p[4]/span[2]/text()').extract()\n",
    "\n",
    "        yield item"
   ]
  },
  {
   "cell_type": "markdown",
   "metadata": {},
   "source": [
    "### 5) shell script 파일 생성"
   ]
  },
  {
   "cell_type": "code",
   "execution_count": 36,
   "metadata": {},
   "outputs": [
    {
     "data": {
      "text/plain": [
       "'/home/ubuntu/python3/notebook/covid_19'"
      ]
     },
     "execution_count": 36,
     "metadata": {},
     "output_type": "execute_result"
    }
   ],
   "source": [
    "%pwd"
   ]
  },
  {
   "cell_type": "code",
   "execution_count": 68,
   "metadata": {},
   "outputs": [
    {
     "name": "stdout",
     "output_type": "stream",
     "text": [
      "Overwriting run.sh\n"
     ]
    }
   ],
   "source": [
    "%%writefile run.sh\n",
    "cd /home/ubuntu/python3/notebook/covid_19/covid_19_total_backup/\n",
    "scrapy crawl covid_19_total_backup"
   ]
  },
  {
   "cell_type": "code",
   "execution_count": 69,
   "metadata": {
    "collapsed": true
   },
   "outputs": [
    {
     "name": "stdout",
     "output_type": "stream",
     "text": [
      "2021-03-15 05:33:05 [scrapy.utils.log] INFO: Scrapy 2.4.1 started (bot: covid_19_total_backup)\n",
      "2021-03-15 05:33:05 [scrapy.utils.log] INFO: Versions: lxml 4.6.2.0, libxml2 2.9.10, cssselect 1.1.0, parsel 1.6.0, w3lib 1.22.0, Twisted 20.3.0, Python 3.6.9 (default, Dec 25 2020, 07:37:56) - [GCC 7.5.0], pyOpenSSL 20.0.1 (OpenSSL 1.1.1j  16 Feb 2021), cryptography 3.4.6, Platform Linux-5.4.0-1038-aws-x86_64-with-debian-buster-sid\n",
      "2021-03-15 05:33:05 [scrapy.utils.log] DEBUG: Using reactor: twisted.internet.epollreactor.EPollReactor\n",
      "2021-03-15 05:33:05 [scrapy.crawler] INFO: Overridden settings:\n",
      "{'BOT_NAME': 'covid_19_total_backup',\n",
      " 'NEWSPIDER_MODULE': 'covid_19_total_backup.spiders',\n",
      " 'ROBOTSTXT_OBEY': True,\n",
      " 'SPIDER_MODULES': ['covid_19_total_backup.spiders']}\n",
      "2021-03-15 05:33:05 [scrapy.extensions.telnet] INFO: Telnet Password: e0e374c7bae59339\n",
      "2021-03-15 05:33:05 [scrapy.middleware] INFO: Enabled extensions:\n",
      "['scrapy.extensions.corestats.CoreStats',\n",
      " 'scrapy.extensions.telnet.TelnetConsole',\n",
      " 'scrapy.extensions.memusage.MemoryUsage',\n",
      " 'scrapy.extensions.feedexport.FeedExporter',\n",
      " 'scrapy.extensions.logstats.LogStats']\n",
      "2021-03-15 05:33:05 [scrapy.middleware] INFO: Enabled downloader middlewares:\n",
      "['scrapy.downloadermiddlewares.robotstxt.RobotsTxtMiddleware',\n",
      " 'scrapy.downloadermiddlewares.httpauth.HttpAuthMiddleware',\n",
      " 'scrapy.downloadermiddlewares.downloadtimeout.DownloadTimeoutMiddleware',\n",
      " 'scrapy.downloadermiddlewares.defaultheaders.DefaultHeadersMiddleware',\n",
      " 'scrapy.downloadermiddlewares.useragent.UserAgentMiddleware',\n",
      " 'scrapy.downloadermiddlewares.retry.RetryMiddleware',\n",
      " 'scrapy.downloadermiddlewares.redirect.MetaRefreshMiddleware',\n",
      " 'scrapy.downloadermiddlewares.httpcompression.HttpCompressionMiddleware',\n",
      " 'scrapy.downloadermiddlewares.redirect.RedirectMiddleware',\n",
      " 'scrapy.downloadermiddlewares.cookies.CookiesMiddleware',\n",
      " 'scrapy.downloadermiddlewares.httpproxy.HttpProxyMiddleware',\n",
      " 'scrapy.downloadermiddlewares.stats.DownloaderStats']\n",
      "2021-03-15 05:33:05 [scrapy.middleware] INFO: Enabled spider middlewares:\n",
      "['scrapy.spidermiddlewares.httperror.HttpErrorMiddleware',\n",
      " 'scrapy.spidermiddlewares.offsite.OffsiteMiddleware',\n",
      " 'scrapy.spidermiddlewares.referer.RefererMiddleware',\n",
      " 'scrapy.spidermiddlewares.urllength.UrlLengthMiddleware',\n",
      " 'scrapy.spidermiddlewares.depth.DepthMiddleware']\n",
      "2021-03-15 05:33:06 [scrapy.middleware] INFO: Enabled item pipelines:\n",
      "['covid_19_total_backup.pipelines.Covid19TotalBackupPipeline']\n",
      "2021-03-15 05:33:06 [scrapy.core.engine] INFO: Spider opened\n",
      "2021-03-15 05:33:06 [scrapy.extensions.logstats] INFO: Crawled 0 pages (at 0 pages/min), scraped 0 items (at 0 items/min)\n",
      "2021-03-15 05:33:06 [scrapy.extensions.telnet] INFO: Telnet console listening on 127.0.0.1:6023\n",
      "2021-03-15 05:33:06 [scrapy.core.engine] DEBUG: Crawled (404) <GET http://ncov.mohw.go.kr/robots.txt> (referer: None)\n",
      "2021-03-15 05:33:06 [protego] DEBUG: Rule at line 19 without any user agent to enforce it on.\n",
      "2021-03-15 05:33:06 [protego] DEBUG: Rule at line 20 without any user agent to enforce it on.\n",
      "2021-03-15 05:33:06 [protego] DEBUG: Rule at line 21 without any user agent to enforce it on.\n",
      "2021-03-15 05:33:06 [protego] DEBUG: Rule at line 22 without any user agent to enforce it on.\n",
      "2021-03-15 05:33:06 [protego] DEBUG: Rule at line 23 without any user agent to enforce it on.\n",
      "2021-03-15 05:33:06 [protego] DEBUG: Rule at line 24 without any user agent to enforce it on.\n",
      "2021-03-15 05:33:06 [protego] DEBUG: Rule at line 25 without any user agent to enforce it on.\n",
      "2021-03-15 05:33:06 [protego] DEBUG: Rule at line 26 without any user agent to enforce it on.\n",
      "2021-03-15 05:33:06 [protego] DEBUG: Rule at line 28 without any user agent to enforce it on.\n",
      "2021-03-15 05:33:06 [protego] DEBUG: Rule at line 30 without any user agent to enforce it on.\n",
      "2021-03-15 05:33:06 [protego] DEBUG: Rule at line 31 without any user agent to enforce it on.\n",
      "2021-03-15 05:33:06 [protego] DEBUG: Rule at line 32 without any user agent to enforce it on.\n",
      "2021-03-15 05:33:06 [protego] DEBUG: Rule at line 33 without any user agent to enforce it on.\n",
      "2021-03-15 05:33:06 [protego] DEBUG: Rule at line 35 without any user agent to enforce it on.\n",
      "2021-03-15 05:33:06 [protego] DEBUG: Rule at line 36 without any user agent to enforce it on.\n",
      "2021-03-15 05:33:06 [protego] DEBUG: Rule at line 37 without any user agent to enforce it on.\n",
      "2021-03-15 05:33:06 [protego] DEBUG: Rule at line 38 without any user agent to enforce it on.\n",
      "2021-03-15 05:33:06 [protego] DEBUG: Rule at line 40 without any user agent to enforce it on.\n",
      "2021-03-15 05:33:06 [protego] DEBUG: Rule at line 41 without any user agent to enforce it on.\n",
      "2021-03-15 05:33:06 [protego] DEBUG: Rule at line 42 without any user agent to enforce it on.\n",
      "2021-03-15 05:33:06 [protego] DEBUG: Rule at line 43 without any user agent to enforce it on.\n",
      "2021-03-15 05:33:06 [protego] DEBUG: Rule at line 45 without any user agent to enforce it on.\n",
      "2021-03-15 05:33:06 [protego] DEBUG: Rule at line 46 without any user agent to enforce it on.\n",
      "2021-03-15 05:33:06 [protego] DEBUG: Rule at line 47 without any user agent to enforce it on.\n",
      "2021-03-15 05:33:06 [protego] DEBUG: Rule at line 48 without any user agent to enforce it on.\n",
      "2021-03-15 05:33:06 [protego] DEBUG: Rule at line 49 without any user agent to enforce it on.\n",
      "2021-03-15 05:33:06 [protego] DEBUG: Rule at line 50 without any user agent to enforce it on.\n",
      "2021-03-15 05:33:06 [protego] DEBUG: Rule at line 53 without any user agent to enforce it on.\n",
      "2021-03-15 05:33:06 [protego] DEBUG: Rule at line 54 without any user agent to enforce it on.\n",
      "2021-03-15 05:33:06 [protego] DEBUG: Rule at line 55 without any user agent to enforce it on.\n",
      "2021-03-15 05:33:06 [protego] DEBUG: Rule at line 58 without any user agent to enforce it on.\n",
      "2021-03-15 05:33:06 [protego] DEBUG: Rule at line 59 without any user agent to enforce it on.\n",
      "2021-03-15 05:33:06 [protego] DEBUG: Rule at line 61 without any user agent to enforce it on.\n",
      "2021-03-15 05:33:06 [protego] DEBUG: Rule at line 62 without any user agent to enforce it on.\n",
      "2021-03-15 05:33:06 [protego] DEBUG: Rule at line 63 without any user agent to enforce it on.\n",
      "2021-03-15 05:33:06 [scrapy.downloadermiddlewares.redirect] DEBUG: Redirecting (302) to <GET http://152.99.73.154/error.html> from <GET http://ncv.kdca.go.kr/robots.txt>\n",
      "2021-03-15 05:33:06 [scrapy.core.engine] DEBUG: Crawled (200) <GET http://152.99.73.154/error.html> (referer: None)\n",
      "2021-03-15 05:33:06 [protego] DEBUG: Rule at line 3 without any user agent to enforce it on.\n",
      "2021-03-15 05:33:06 [protego] DEBUG: Rule at line 4 without any user agent to enforce it on.\n",
      "2021-03-15 05:33:06 [scrapy.core.engine] DEBUG: Crawled (200) <GET http://ncov.mohw.go.kr/> (referer: None)\n",
      "2021-03-15 05:33:06 [scrapy.core.engine] DEBUG: Crawled (200) <GET http://ncv.kdca.go.kr/> (referer: None)\n",
      "2021-03-15 05:33:07 [selenium.webdriver.remote.remote_connection] DEBUG: POST http://127.0.0.1:56765/session {\"capabilities\": {\"firstMatch\": [{}], \"alwaysMatch\": {\"browserName\": \"chrome\", \"platformName\": \"any\", \"goog:chromeOptions\": {\"extensions\": [], \"args\": [\"headless\", \"window-size=1920x1080\", \"Mozilla/5.0 (Macintosh; Intel Mac OS X 10_15_7) AppleWebKit/537.36 (KHTML, like Gecko) Chrome/88.0.4324.192 Safari/537.36\"]}}}, \"desiredCapabilities\": {\"browserName\": \"chrome\", \"version\": \"\", \"platform\": \"ANY\", \"goog:chromeOptions\": {\"extensions\": [], \"args\": [\"headless\", \"window-size=1920x1080\", \"Mozilla/5.0 (Macintosh; Intel Mac OS X 10_15_7) AppleWebKit/537.36 (KHTML, like Gecko) Chrome/88.0.4324.192 Safari/537.36\"]}}}\n",
      "2021-03-15 05:33:07 [urllib3.connectionpool] DEBUG: Starting new HTTP connection (1): 127.0.0.1:56765\n",
      "2021-03-15 05:33:07 [urllib3.connectionpool] DEBUG: http://127.0.0.1:56765 \"POST /session HTTP/1.1\" 200 680\n",
      "2021-03-15 05:33:07 [selenium.webdriver.remote.remote_connection] DEBUG: Finished Request\n",
      "2021-03-15 05:33:07 [selenium.webdriver.remote.remote_connection] DEBUG: POST http://127.0.0.1:56765/session/91b67acedb40f5f5c957c85cb0cf00e2/url {\"url\": \"https://kauth.kakao.com/oauth/authorize?client_id=96271c29c325bdd5788e976138bfea61&redirect_uri=https://fastcampus.co.kr/oauth&response_type=code\"}\n",
      "2021-03-15 05:33:09 [urllib3.connectionpool] DEBUG: http://127.0.0.1:56765 \"POST /session/91b67acedb40f5f5c957c85cb0cf00e2/url HTTP/1.1\" 200 14\n",
      "2021-03-15 05:33:09 [selenium.webdriver.remote.remote_connection] DEBUG: Finished Request\n"
     ]
    },
    {
     "name": "stdout",
     "output_type": "stream",
     "text": [
      "2021-03-15 05:33:11 [selenium.webdriver.remote.remote_connection] DEBUG: POST http://127.0.0.1:56765/session/91b67acedb40f5f5c957c85cb0cf00e2/element {\"using\": \"css selector\", \"value\": \"[id=\\\"id_email_2\\\"]\"}\n",
      "2021-03-15 05:33:11 [urllib3.connectionpool] DEBUG: http://127.0.0.1:56765 \"POST /session/91b67acedb40f5f5c957c85cb0cf00e2/element HTTP/1.1\" 200 88\n",
      "2021-03-15 05:33:11 [selenium.webdriver.remote.remote_connection] DEBUG: Finished Request\n",
      "2021-03-15 05:33:11 [selenium.webdriver.remote.remote_connection] DEBUG: POST http://127.0.0.1:56765/session/91b67acedb40f5f5c957c85cb0cf00e2/element/3084a416-0650-4f4e-b043-3b47b8b0818a/clear {\"id\": \"3084a416-0650-4f4e-b043-3b47b8b0818a\"}\n",
      "2021-03-15 05:33:11 [urllib3.connectionpool] DEBUG: http://127.0.0.1:56765 \"POST /session/91b67acedb40f5f5c957c85cb0cf00e2/element/3084a416-0650-4f4e-b043-3b47b8b0818a/clear HTTP/1.1\" 200 14\n",
      "2021-03-15 05:33:11 [selenium.webdriver.remote.remote_connection] DEBUG: Finished Request\n",
      "2021-03-15 05:33:11 [selenium.webdriver.remote.remote_connection] DEBUG: POST http://127.0.0.1:56765/session/91b67acedb40f5f5c957c85cb0cf00e2/element/3084a416-0650-4f4e-b043-3b47b8b0818a/value {\"text\": \"hi\", \"value\": [\"h\", \"i\"], \"id\": \"3084a416-0650-4f4e-b043-3b47b8b0818a\"}\n",
      "2021-03-15 05:33:11 [urllib3.connectionpool] DEBUG: http://127.0.0.1:56765 \"POST /session/91b67acedb40f5f5c957c85cb0cf00e2/element/3084a416-0650-4f4e-b043-3b47b8b0818a/value HTTP/1.1\" 200 14\n",
      "2021-03-15 05:33:11 [selenium.webdriver.remote.remote_connection] DEBUG: Finished Request\n",
      "2021-03-15 05:33:12 [selenium.webdriver.remote.remote_connection] DEBUG: POST http://127.0.0.1:56765/session/91b67acedb40f5f5c957c85cb0cf00e2/element/3084a416-0650-4f4e-b043-3b47b8b0818a/value {\"text\": \"dyjh@\", \"value\": [\"d\", \"y\", \"j\", \"h\", \"@\"], \"id\": \"3084a416-0650-4f4e-b043-3b47b8b0818a\"}\n",
      "2021-03-15 05:33:12 [urllib3.connectionpool] DEBUG: http://127.0.0.1:56765 \"POST /session/91b67acedb40f5f5c957c85cb0cf00e2/element/3084a416-0650-4f4e-b043-3b47b8b0818a/value HTTP/1.1\" 200 14\n",
      "2021-03-15 05:33:12 [selenium.webdriver.remote.remote_connection] DEBUG: Finished Request\n",
      "2021-03-15 05:33:12 [selenium.webdriver.remote.remote_connection] DEBUG: POST http://127.0.0.1:56765/session/91b67acedb40f5f5c957c85cb0cf00e2/element/3084a416-0650-4f4e-b043-3b47b8b0818a/value {\"text\": \"na\", \"value\": [\"n\", \"a\"], \"id\": \"3084a416-0650-4f4e-b043-3b47b8b0818a\"}\n",
      "2021-03-15 05:33:12 [urllib3.connectionpool] DEBUG: http://127.0.0.1:56765 \"POST /session/91b67acedb40f5f5c957c85cb0cf00e2/element/3084a416-0650-4f4e-b043-3b47b8b0818a/value HTTP/1.1\" 200 14\n",
      "2021-03-15 05:33:12 [selenium.webdriver.remote.remote_connection] DEBUG: Finished Request\n",
      "2021-03-15 05:33:13 [selenium.webdriver.remote.remote_connection] DEBUG: POST http://127.0.0.1:56765/session/91b67acedb40f5f5c957c85cb0cf00e2/element/3084a416-0650-4f4e-b043-3b47b8b0818a/value {\"text\": \"ver\", \"value\": [\"v\", \"e\", \"r\"], \"id\": \"3084a416-0650-4f4e-b043-3b47b8b0818a\"}\n",
      "2021-03-15 05:33:13 [urllib3.connectionpool] DEBUG: http://127.0.0.1:56765 \"POST /session/91b67acedb40f5f5c957c85cb0cf00e2/element/3084a416-0650-4f4e-b043-3b47b8b0818a/value HTTP/1.1\" 200 14\n",
      "2021-03-15 05:33:13 [selenium.webdriver.remote.remote_connection] DEBUG: Finished Request\n",
      "2021-03-15 05:33:14 [selenium.webdriver.remote.remote_connection] DEBUG: POST http://127.0.0.1:56765/session/91b67acedb40f5f5c957c85cb0cf00e2/element/3084a416-0650-4f4e-b043-3b47b8b0818a/value {\"text\": \".com\", \"value\": [\".\", \"c\", \"o\", \"m\"], \"id\": \"3084a416-0650-4f4e-b043-3b47b8b0818a\"}\n",
      "2021-03-15 05:33:14 [urllib3.connectionpool] DEBUG: http://127.0.0.1:56765 \"POST /session/91b67acedb40f5f5c957c85cb0cf00e2/element/3084a416-0650-4f4e-b043-3b47b8b0818a/value HTTP/1.1\" 200 14\n",
      "2021-03-15 05:33:14 [selenium.webdriver.remote.remote_connection] DEBUG: Finished Request\n",
      "2021-03-15 05:33:16 [selenium.webdriver.remote.remote_connection] DEBUG: POST http://127.0.0.1:56765/session/91b67acedb40f5f5c957c85cb0cf00e2/element {\"using\": \"css selector\", \"value\": \"[id=\\\"id_password_3\\\"]\"}\n",
      "2021-03-15 05:33:16 [urllib3.connectionpool] DEBUG: http://127.0.0.1:56765 \"POST /session/91b67acedb40f5f5c957c85cb0cf00e2/element HTTP/1.1\" 200 88\n",
      "2021-03-15 05:33:16 [selenium.webdriver.remote.remote_connection] DEBUG: Finished Request\n",
      "2021-03-15 05:33:16 [selenium.webdriver.remote.remote_connection] DEBUG: POST http://127.0.0.1:56765/session/91b67acedb40f5f5c957c85cb0cf00e2/element/a18ba53b-23d6-4061-b5de-af86e4937d69/clear {\"id\": \"a18ba53b-23d6-4061-b5de-af86e4937d69\"}\n",
      "2021-03-15 05:33:16 [urllib3.connectionpool] DEBUG: http://127.0.0.1:56765 \"POST /session/91b67acedb40f5f5c957c85cb0cf00e2/element/a18ba53b-23d6-4061-b5de-af86e4937d69/clear HTTP/1.1\" 200 14\n",
      "2021-03-15 05:33:16 [selenium.webdriver.remote.remote_connection] DEBUG: Finished Request\n",
      "2021-03-15 05:33:16 [selenium.webdriver.remote.remote_connection] DEBUG: POST http://127.0.0.1:56765/session/91b67acedb40f5f5c957c85cb0cf00e2/element/a18ba53b-23d6-4061-b5de-af86e4937d69/value {\"text\": \"wlghd4816!\", \"value\": [\"w\", \"l\", \"g\", \"h\", \"d\", \"4\", \"8\", \"1\", \"6\", \"!\"], \"id\": \"a18ba53b-23d6-4061-b5de-af86e4937d69\"}\n",
      "2021-03-15 05:33:16 [urllib3.connectionpool] DEBUG: http://127.0.0.1:56765 \"POST /session/91b67acedb40f5f5c957c85cb0cf00e2/element/a18ba53b-23d6-4061-b5de-af86e4937d69/value HTTP/1.1\" 200 14\n",
      "2021-03-15 05:33:16 [selenium.webdriver.remote.remote_connection] DEBUG: Finished Request\n",
      "2021-03-15 05:33:19 [selenium.webdriver.remote.remote_connection] DEBUG: POST http://127.0.0.1:56765/session/91b67acedb40f5f5c957c85cb0cf00e2/element {\"using\": \"xpath\", \"value\": \"//*[@id=\\\"login-form\\\"]/fieldset/div[8]/button[1]\"}\n",
      "2021-03-15 05:33:19 [urllib3.connectionpool] DEBUG: http://127.0.0.1:56765 \"POST /session/91b67acedb40f5f5c957c85cb0cf00e2/element HTTP/1.1\" 200 88\n",
      "2021-03-15 05:33:19 [selenium.webdriver.remote.remote_connection] DEBUG: Finished Request\n",
      "2021-03-15 05:33:19 [selenium.webdriver.remote.remote_connection] DEBUG: POST http://127.0.0.1:56765/session/91b67acedb40f5f5c957c85cb0cf00e2/element/c592896f-039e-4c20-82ee-272512402ba5/click {\"id\": \"c592896f-039e-4c20-82ee-272512402ba5\"}\n",
      "2021-03-15 05:33:19 [urllib3.connectionpool] DEBUG: http://127.0.0.1:56765 \"POST /session/91b67acedb40f5f5c957c85cb0cf00e2/element/c592896f-039e-4c20-82ee-272512402ba5/click HTTP/1.1\" 200 14\n",
      "2021-03-15 05:33:19 [selenium.webdriver.remote.remote_connection] DEBUG: Finished Request\n",
      "2021-03-15 05:33:25 [selenium.webdriver.remote.remote_connection] DEBUG: POST http://127.0.0.1:56765/session/91b67acedb40f5f5c957c85cb0cf00e2/timeouts {\"implicit\": 60000}\n",
      "2021-03-15 05:33:25 [urllib3.connectionpool] DEBUG: http://127.0.0.1:56765 \"POST /session/91b67acedb40f5f5c957c85cb0cf00e2/timeouts HTTP/1.1\" 200 14\n",
      "2021-03-15 05:33:25 [selenium.webdriver.remote.remote_connection] DEBUG: Finished Request\n",
      "2021-03-15 05:33:25 [selenium.webdriver.remote.remote_connection] DEBUG: GET http://127.0.0.1:56765/session/91b67acedb40f5f5c957c85cb0cf00e2/url {}\n",
      "2021-03-15 05:33:25 [urllib3.connectionpool] DEBUG: http://127.0.0.1:56765 \"GET /session/91b67acedb40f5f5c957c85cb0cf00e2/url HTTP/1.1\" 200 134\n",
      "2021-03-15 05:33:25 [selenium.webdriver.remote.remote_connection] DEBUG: Finished Request\n",
      "2021-03-15 05:33:25 [selenium.webdriver.remote.remote_connection] DEBUG: DELETE http://127.0.0.1:56765/session/91b67acedb40f5f5c957c85cb0cf00e2/window {}\n",
      "2021-03-15 05:33:25 [urllib3.connectionpool] DEBUG: http://127.0.0.1:56765 \"DELETE /session/91b67acedb40f5f5c957c85cb0cf00e2/window HTTP/1.1\" 200 12\n",
      "2021-03-15 05:33:25 [selenium.webdriver.remote.remote_connection] DEBUG: Finished Request\n",
      "2021-03-15 05:33:25 [urllib3.connectionpool] DEBUG: Starting new HTTPS connection (1): kauth.kakao.com:443\n",
      "2021-03-15 05:33:25 [urllib3.connectionpool] DEBUG: https://kauth.kakao.com:443 \"POST /oauth/token HTTP/1.1\" 200 None\n",
      "2021-03-15 05:33:25 [scrapy.core.scraper] ERROR: Error processing {'capital_distance': '2',\n",
      " 'country_in': 436,\n",
      " 'country_out': 23,\n",
      " 'date': '21.3.14. 00시 기준',\n",
      " 'noncapital_distance': '1.5',\n",
      " 'total_country': 459}\n",
      "Traceback (most recent call last):\n",
      "  File \"/home/ubuntu/.pyenv/versions/3.6.9/envs/python3/lib/python3.6/site-packages/twisted/internet/defer.py\", line 654, in _runCallbacks\n",
      "    current.result = callback(current.result, *args, **kw)\n",
      "  File \"/home/ubuntu/.pyenv/versions/3.6.9/envs/python3/lib/python3.6/site-packages/scrapy/utils/defer.py\", line 150, in f\n",
      "    return deferred_from_coro(coro_f(*coro_args, **coro_kwargs))\n",
      "  File \"/home/ubuntu/python3/notebook/covid_19/covid_19_total_backup/covid_19_total_backup/pipelines.py\", line 89, in process_item\n",
      "    \"text\" : '<코로나 알리미>\\n\\n{0}\\n\\n전체 확진자 : {1}\\n국내 : {2}\\n해외 유입 : {3}\\n\\n수도권 거리두기 : {4} 단계\\n비수도권 거리두기 : {5} 단계\\n\\n백신현황 : {6}'.format(str(item['date']), str(item['total_country']),str(item['country_in']),str(item['country_out']),str(item['capital_distance']),str(item['noncapital_distance']),str(item['take_yesterday_1'])),\n",
      "  File \"/home/ubuntu/.pyenv/versions/3.6.9/envs/python3/lib/python3.6/site-packages/scrapy/item.py\", line 93, in __getitem__\n",
      "    return self._values[key]\n",
      "KeyError: 'take_yesterday_1'\n"
     ]
    },
    {
     "name": "stdout",
     "output_type": "stream",
     "text": [
      "2021-03-15 05:33:26 [selenium.webdriver.remote.remote_connection] DEBUG: POST http://127.0.0.1:45799/session {\"capabilities\": {\"firstMatch\": [{}], \"alwaysMatch\": {\"browserName\": \"chrome\", \"platformName\": \"any\", \"goog:chromeOptions\": {\"extensions\": [], \"args\": [\"headless\", \"window-size=1920x1080\", \"Mozilla/5.0 (Macintosh; Intel Mac OS X 10_15_7) AppleWebKit/537.36 (KHTML, like Gecko) Chrome/88.0.4324.192 Safari/537.36\"]}}}, \"desiredCapabilities\": {\"browserName\": \"chrome\", \"version\": \"\", \"platform\": \"ANY\", \"goog:chromeOptions\": {\"extensions\": [], \"args\": [\"headless\", \"window-size=1920x1080\", \"Mozilla/5.0 (Macintosh; Intel Mac OS X 10_15_7) AppleWebKit/537.36 (KHTML, like Gecko) Chrome/88.0.4324.192 Safari/537.36\"]}}}\n",
      "2021-03-15 05:33:26 [urllib3.connectionpool] DEBUG: Starting new HTTP connection (1): 127.0.0.1:45799\n",
      "2021-03-15 05:33:27 [urllib3.connectionpool] DEBUG: http://127.0.0.1:45799 \"POST /session HTTP/1.1\" 200 680\n",
      "2021-03-15 05:33:27 [selenium.webdriver.remote.remote_connection] DEBUG: Finished Request\n",
      "2021-03-15 05:33:27 [selenium.webdriver.remote.remote_connection] DEBUG: POST http://127.0.0.1:45799/session/8010873b8d03494e864055f063820f94/url {\"url\": \"https://kauth.kakao.com/oauth/authorize?client_id=96271c29c325bdd5788e976138bfea61&redirect_uri=https://fastcampus.co.kr/oauth&response_type=code\"}\n",
      "2021-03-15 05:33:29 [urllib3.connectionpool] DEBUG: http://127.0.0.1:45799 \"POST /session/8010873b8d03494e864055f063820f94/url HTTP/1.1\" 200 14\n",
      "2021-03-15 05:33:29 [selenium.webdriver.remote.remote_connection] DEBUG: Finished Request\n",
      "2021-03-15 05:33:31 [selenium.webdriver.remote.remote_connection] DEBUG: POST http://127.0.0.1:45799/session/8010873b8d03494e864055f063820f94/element {\"using\": \"css selector\", \"value\": \"[id=\\\"id_email_2\\\"]\"}\n",
      "2021-03-15 05:33:31 [urllib3.connectionpool] DEBUG: http://127.0.0.1:45799 \"POST /session/8010873b8d03494e864055f063820f94/element HTTP/1.1\" 200 88\n",
      "2021-03-15 05:33:31 [selenium.webdriver.remote.remote_connection] DEBUG: Finished Request\n",
      "2021-03-15 05:33:31 [selenium.webdriver.remote.remote_connection] DEBUG: POST http://127.0.0.1:45799/session/8010873b8d03494e864055f063820f94/element/af05160a-37fe-4f23-abbc-ec88b2d785d3/clear {\"id\": \"af05160a-37fe-4f23-abbc-ec88b2d785d3\"}\n",
      "2021-03-15 05:33:31 [urllib3.connectionpool] DEBUG: http://127.0.0.1:45799 \"POST /session/8010873b8d03494e864055f063820f94/element/af05160a-37fe-4f23-abbc-ec88b2d785d3/clear HTTP/1.1\" 200 14\n",
      "2021-03-15 05:33:31 [selenium.webdriver.remote.remote_connection] DEBUG: Finished Request\n",
      "2021-03-15 05:33:31 [selenium.webdriver.remote.remote_connection] DEBUG: POST http://127.0.0.1:45799/session/8010873b8d03494e864055f063820f94/element/af05160a-37fe-4f23-abbc-ec88b2d785d3/value {\"text\": \"hi\", \"value\": [\"h\", \"i\"], \"id\": \"af05160a-37fe-4f23-abbc-ec88b2d785d3\"}\n",
      "2021-03-15 05:33:31 [urllib3.connectionpool] DEBUG: http://127.0.0.1:45799 \"POST /session/8010873b8d03494e864055f063820f94/element/af05160a-37fe-4f23-abbc-ec88b2d785d3/value HTTP/1.1\" 200 14\n",
      "2021-03-15 05:33:31 [selenium.webdriver.remote.remote_connection] DEBUG: Finished Request\n",
      "2021-03-15 05:33:31 [selenium.webdriver.remote.remote_connection] DEBUG: POST http://127.0.0.1:45799/session/8010873b8d03494e864055f063820f94/element/af05160a-37fe-4f23-abbc-ec88b2d785d3/value {\"text\": \"dyjh@\", \"value\": [\"d\", \"y\", \"j\", \"h\", \"@\"], \"id\": \"af05160a-37fe-4f23-abbc-ec88b2d785d3\"}\n",
      "2021-03-15 05:33:31 [urllib3.connectionpool] DEBUG: http://127.0.0.1:45799 \"POST /session/8010873b8d03494e864055f063820f94/element/af05160a-37fe-4f23-abbc-ec88b2d785d3/value HTTP/1.1\" 200 14\n",
      "2021-03-15 05:33:31 [selenium.webdriver.remote.remote_connection] DEBUG: Finished Request\n",
      "2021-03-15 05:33:32 [selenium.webdriver.remote.remote_connection] DEBUG: POST http://127.0.0.1:45799/session/8010873b8d03494e864055f063820f94/element/af05160a-37fe-4f23-abbc-ec88b2d785d3/value {\"text\": \"na\", \"value\": [\"n\", \"a\"], \"id\": \"af05160a-37fe-4f23-abbc-ec88b2d785d3\"}\n",
      "2021-03-15 05:33:32 [urllib3.connectionpool] DEBUG: http://127.0.0.1:45799 \"POST /session/8010873b8d03494e864055f063820f94/element/af05160a-37fe-4f23-abbc-ec88b2d785d3/value HTTP/1.1\" 200 14\n",
      "2021-03-15 05:33:32 [selenium.webdriver.remote.remote_connection] DEBUG: Finished Request\n",
      "2021-03-15 05:33:32 [selenium.webdriver.remote.remote_connection] DEBUG: POST http://127.0.0.1:45799/session/8010873b8d03494e864055f063820f94/element/af05160a-37fe-4f23-abbc-ec88b2d785d3/value {\"text\": \"ver\", \"value\": [\"v\", \"e\", \"r\"], \"id\": \"af05160a-37fe-4f23-abbc-ec88b2d785d3\"}\n",
      "2021-03-15 05:33:32 [urllib3.connectionpool] DEBUG: http://127.0.0.1:45799 \"POST /session/8010873b8d03494e864055f063820f94/element/af05160a-37fe-4f23-abbc-ec88b2d785d3/value HTTP/1.1\" 200 14\n",
      "2021-03-15 05:33:32 [selenium.webdriver.remote.remote_connection] DEBUG: Finished Request\n",
      "2021-03-15 05:33:33 [selenium.webdriver.remote.remote_connection] DEBUG: POST http://127.0.0.1:45799/session/8010873b8d03494e864055f063820f94/element/af05160a-37fe-4f23-abbc-ec88b2d785d3/value {\"text\": \".com\", \"value\": [\".\", \"c\", \"o\", \"m\"], \"id\": \"af05160a-37fe-4f23-abbc-ec88b2d785d3\"}\n",
      "2021-03-15 05:33:33 [urllib3.connectionpool] DEBUG: http://127.0.0.1:45799 \"POST /session/8010873b8d03494e864055f063820f94/element/af05160a-37fe-4f23-abbc-ec88b2d785d3/value HTTP/1.1\" 200 14\n",
      "2021-03-15 05:33:33 [selenium.webdriver.remote.remote_connection] DEBUG: Finished Request\n",
      "2021-03-15 05:33:35 [selenium.webdriver.remote.remote_connection] DEBUG: POST http://127.0.0.1:45799/session/8010873b8d03494e864055f063820f94/element {\"using\": \"css selector\", \"value\": \"[id=\\\"id_password_3\\\"]\"}\n",
      "2021-03-15 05:33:35 [urllib3.connectionpool] DEBUG: http://127.0.0.1:45799 \"POST /session/8010873b8d03494e864055f063820f94/element HTTP/1.1\" 200 88\n",
      "2021-03-15 05:33:35 [selenium.webdriver.remote.remote_connection] DEBUG: Finished Request\n",
      "2021-03-15 05:33:35 [selenium.webdriver.remote.remote_connection] DEBUG: POST http://127.0.0.1:45799/session/8010873b8d03494e864055f063820f94/element/13119d96-c85d-4803-84b0-1206970d39e7/clear {\"id\": \"13119d96-c85d-4803-84b0-1206970d39e7\"}\n",
      "2021-03-15 05:33:35 [urllib3.connectionpool] DEBUG: http://127.0.0.1:45799 \"POST /session/8010873b8d03494e864055f063820f94/element/13119d96-c85d-4803-84b0-1206970d39e7/clear HTTP/1.1\" 200 14\n",
      "2021-03-15 05:33:35 [selenium.webdriver.remote.remote_connection] DEBUG: Finished Request\n",
      "2021-03-15 05:33:35 [selenium.webdriver.remote.remote_connection] DEBUG: POST http://127.0.0.1:45799/session/8010873b8d03494e864055f063820f94/element/13119d96-c85d-4803-84b0-1206970d39e7/value {\"text\": \"wlghd4816!\", \"value\": [\"w\", \"l\", \"g\", \"h\", \"d\", \"4\", \"8\", \"1\", \"6\", \"!\"], \"id\": \"13119d96-c85d-4803-84b0-1206970d39e7\"}\n",
      "2021-03-15 05:33:35 [urllib3.connectionpool] DEBUG: http://127.0.0.1:45799 \"POST /session/8010873b8d03494e864055f063820f94/element/13119d96-c85d-4803-84b0-1206970d39e7/value HTTP/1.1\" 200 14\n",
      "2021-03-15 05:33:35 [selenium.webdriver.remote.remote_connection] DEBUG: Finished Request\n",
      "2021-03-15 05:33:38 [selenium.webdriver.remote.remote_connection] DEBUG: POST http://127.0.0.1:45799/session/8010873b8d03494e864055f063820f94/element {\"using\": \"xpath\", \"value\": \"//*[@id=\\\"login-form\\\"]/fieldset/div[8]/button[1]\"}\n",
      "2021-03-15 05:33:38 [urllib3.connectionpool] DEBUG: http://127.0.0.1:45799 \"POST /session/8010873b8d03494e864055f063820f94/element HTTP/1.1\" 200 88\n",
      "2021-03-15 05:33:38 [selenium.webdriver.remote.remote_connection] DEBUG: Finished Request\n",
      "2021-03-15 05:33:38 [selenium.webdriver.remote.remote_connection] DEBUG: POST http://127.0.0.1:45799/session/8010873b8d03494e864055f063820f94/element/397dbfe4-17ab-4e26-b830-c97a03258b4d/click {\"id\": \"397dbfe4-17ab-4e26-b830-c97a03258b4d\"}\n",
      "2021-03-15 05:33:38 [urllib3.connectionpool] DEBUG: http://127.0.0.1:45799 \"POST /session/8010873b8d03494e864055f063820f94/element/397dbfe4-17ab-4e26-b830-c97a03258b4d/click HTTP/1.1\" 200 14\n",
      "2021-03-15 05:33:38 [selenium.webdriver.remote.remote_connection] DEBUG: Finished Request\n",
      "2021-03-15 05:33:44 [selenium.webdriver.remote.remote_connection] DEBUG: POST http://127.0.0.1:45799/session/8010873b8d03494e864055f063820f94/timeouts {\"implicit\": 60000}\n",
      "2021-03-15 05:33:44 [urllib3.connectionpool] DEBUG: http://127.0.0.1:45799 \"POST /session/8010873b8d03494e864055f063820f94/timeouts HTTP/1.1\" 200 14\n",
      "2021-03-15 05:33:44 [selenium.webdriver.remote.remote_connection] DEBUG: Finished Request\n",
      "2021-03-15 05:33:44 [selenium.webdriver.remote.remote_connection] DEBUG: GET http://127.0.0.1:45799/session/8010873b8d03494e864055f063820f94/url {}\n",
      "2021-03-15 05:33:44 [urllib3.connectionpool] DEBUG: http://127.0.0.1:45799 \"GET /session/8010873b8d03494e864055f063820f94/url HTTP/1.1\" 200 134\n",
      "2021-03-15 05:33:44 [selenium.webdriver.remote.remote_connection] DEBUG: Finished Request\n",
      "2021-03-15 05:33:44 [selenium.webdriver.remote.remote_connection] DEBUG: DELETE http://127.0.0.1:45799/session/8010873b8d03494e864055f063820f94/window {}\n"
     ]
    },
    {
     "name": "stdout",
     "output_type": "stream",
     "text": [
      "2021-03-15 05:33:44 [urllib3.connectionpool] DEBUG: http://127.0.0.1:45799 \"DELETE /session/8010873b8d03494e864055f063820f94/window HTTP/1.1\" 200 12\n",
      "2021-03-15 05:33:44 [selenium.webdriver.remote.remote_connection] DEBUG: Finished Request\n",
      "2021-03-15 05:33:44 [urllib3.connectionpool] DEBUG: Starting new HTTPS connection (1): kauth.kakao.com:443\n",
      "2021-03-15 05:33:45 [urllib3.connectionpool] DEBUG: https://kauth.kakao.com:443 \"POST /oauth/token HTTP/1.1\" 200 None\n",
      "2021-03-15 05:33:45 [scrapy.core.scraper] ERROR: Error processing {'gyeonggi_vaccine': ['744'],\n",
      " 'incheon_vaccine': ['79'],\n",
      " 'seoul_vaccine': ['1,704'],\n",
      " 'take_yesterday_1': ['3,487'],\n",
      " 'take_yesterday_2': ['0'],\n",
      " 'total_1': ['587,884'],\n",
      " 'total_2': ['0']}\n",
      "Traceback (most recent call last):\n",
      "  File \"/home/ubuntu/.pyenv/versions/3.6.9/envs/python3/lib/python3.6/site-packages/twisted/internet/defer.py\", line 654, in _runCallbacks\n",
      "    current.result = callback(current.result, *args, **kw)\n",
      "  File \"/home/ubuntu/.pyenv/versions/3.6.9/envs/python3/lib/python3.6/site-packages/scrapy/utils/defer.py\", line 150, in f\n",
      "    return deferred_from_coro(coro_f(*coro_args, **coro_kwargs))\n",
      "  File \"/home/ubuntu/python3/notebook/covid_19/covid_19_total_backup/covid_19_total_backup/pipelines.py\", line 89, in process_item\n",
      "    \"text\" : '<코로나 알리미>\\n\\n{0}\\n\\n전체 확진자 : {1}\\n국내 : {2}\\n해외 유입 : {3}\\n\\n수도권 거리두기 : {4} 단계\\n비수도권 거리두기 : {5} 단계\\n\\n백신현황 : {6}'.format(str(item['date']), str(item['total_country']),str(item['country_in']),str(item['country_out']),str(item['capital_distance']),str(item['noncapital_distance']),str(item['take_yesterday_1'])),\n",
      "  File \"/home/ubuntu/.pyenv/versions/3.6.9/envs/python3/lib/python3.6/site-packages/scrapy/item.py\", line 93, in __getitem__\n",
      "    return self._values[key]\n",
      "KeyError: 'date'\n",
      "2021-03-15 05:33:45 [scrapy.core.engine] INFO: Closing spider (finished)\n",
      "2021-03-15 05:33:45 [scrapy.statscollectors] INFO: Dumping Scrapy stats:\n",
      "{'downloader/request_bytes': 1212,\n",
      " 'downloader/request_count': 5,\n",
      " 'downloader/request_method_count/GET': 5,\n",
      " 'downloader/response_bytes': 255435,\n",
      " 'downloader/response_count': 5,\n",
      " 'downloader/response_status_count/200': 3,\n",
      " 'downloader/response_status_count/302': 1,\n",
      " 'downloader/response_status_count/404': 1,\n",
      " 'elapsed_time_seconds': 39.041603,\n",
      " 'finish_reason': 'finished',\n",
      " 'finish_time': datetime.datetime(2021, 3, 14, 20, 33, 45, 171119),\n",
      " 'log_count/DEBUG': 150,\n",
      " 'log_count/ERROR': 2,\n",
      " 'log_count/INFO': 10,\n",
      " 'memusage/max': 60932096,\n",
      " 'memusage/startup': 60932096,\n",
      " 'response_received_count': 4,\n",
      " 'robotstxt/request_count': 2,\n",
      " 'robotstxt/response_count': 2,\n",
      " 'robotstxt/response_status_count/200': 1,\n",
      " 'robotstxt/response_status_count/404': 1,\n",
      " 'scheduler/dequeued': 2,\n",
      " 'scheduler/dequeued/memory': 2,\n",
      " 'scheduler/enqueued': 2,\n",
      " 'scheduler/enqueued/memory': 2,\n",
      " 'start_time': datetime.datetime(2021, 3, 14, 20, 33, 6, 129516)}\n",
      "2021-03-15 05:33:45 [scrapy.core.engine] INFO: Spider closed (finished)\n"
     ]
    }
   ],
   "source": [
    "!/bin/bash run.sh"
   ]
  },
  {
   "cell_type": "markdown",
   "metadata": {},
   "source": [
    "### 6) kakaotalk message 전송을 위한 pipeline.py"
   ]
  },
  {
   "cell_type": "code",
   "execution_count": 84,
   "metadata": {},
   "outputs": [
    {
     "name": "stdout",
     "output_type": "stream",
     "text": [
      "Overwriting covid_19_total_backup/covid_19_total_backup/pipelines.py\n"
     ]
    }
   ],
   "source": [
    "%%writefile covid_19_total_backup/covid_19_total_backup/pipelines.py\n",
    "from itemadapter import ItemAdapter\n",
    "import requests, json\n",
    "from selenium import webdriver\n",
    "from selenium.webdriver.support.ui import WebDriverWait\n",
    "from selenium.webdriver.support import expected_conditions as EC\n",
    "from selenium.webdriver.common.by import By\n",
    "import urllib.parse as urlparse\n",
    "from urllib.parse import parse_qs\n",
    "import random\n",
    "from selenium.webdriver.chrome.options import Options\n",
    "import time\n",
    "import logging\n",
    "from itemadapter import ItemAdapter\n",
    "\n",
    "\n",
    "class Covid19TotalBackupPipeline:\n",
    "    def process_item(self, item, spider):\n",
    "        options = webdriver.ChromeOptions()\n",
    "        options.add_argument(\"headless\")\n",
    "        options.add_argument(\"window-size=1920x1080\")\n",
    "        options.add_argument('Mozilla/5.0')\n",
    "        driver = webdriver.Chrome(options=options)\n",
    "\n",
    "        REST_API_KEY = \"REST_API_KEY\"\n",
    "        REDIRECT_URL = \"REDIRECT_URL/oauth\"\n",
    "\n",
    "        url = \"https://kauth.kakao.com/oauth/authorize?client_id={}&redirect_uri={}&response_type=code\".format(REST_API_KEY, REDIRECT_URL)\n",
    "        driver.get(url)\n",
    "        time.sleep(2)\n",
    "\n",
    "        elem_login = driver.find_element_by_id(\"id_email_2\")\n",
    "        elem_login.clear()\n",
    "        elem_login.send_keys(\"id_email1\")\n",
    "        time.sleep(0.3)\n",
    "        elem_login.send_keys(\"id_email2\")\n",
    "        time.sleep(0.6)\n",
    "        elem_login.send_keys(\"id_email3\")\n",
    "        time.sleep(0.5)\n",
    "        elem_login.send_keys(\"id_email4\")\n",
    "        time.sleep(0.7)\n",
    "        elem_login.send_keys(\"id_email5\")\n",
    "        time.sleep(2)\n",
    "\n",
    "        elem_login = driver.find_element_by_id(\"id_password_3\")\n",
    "        elem_login.clear()\n",
    "        elem_login.send_keys(\"password\") \n",
    "        time.sleep(2.8)\n",
    "\n",
    "        xpath = \"\"\"//*[@id=\"login-form\"]/fieldset/div[8]/button[1]\"\"\"\n",
    "        driver.find_element_by_xpath(xpath).click()\n",
    "\n",
    "        time.sleep(6)\n",
    "\n",
    "        wait_time = 60\n",
    "\n",
    "        driver.implicitly_wait(wait_time)\n",
    "        url_current = driver.current_url\n",
    "\n",
    "        parsed = urlparse.urlparse(url_current)\n",
    "        access_token = parse_qs(parsed.query)\n",
    "\n",
    "        driver.close()\n",
    "\n",
    "        auth_code = access_token\n",
    "        auth_code = auth_code['code'][0]\n",
    "        url = \"https://kauth.kakao.com/oauth/token\" #post\n",
    "        params ={\n",
    "            \"grant_type\":\"authorization_code\",\n",
    "            \"client_id\":REST_API_KEY,\n",
    "            \"redirect_uri\":REDIRECT_URL,\n",
    "            \"code\": auth_code,\n",
    "        }\n",
    "\n",
    "        response = requests.post(url, params)\n",
    "\n",
    "        user_datas = response.json()\n",
    "\n",
    "        ACCESS_TOKEN = user_datas[\"access_token\"]\n",
    "\n",
    "        url = \"https://kapi.kakao.com/v2/user/me\"\n",
    "\n",
    "        headers = {\"Authorization\" : f'Bearer {ACCESS_TOKEN}'}\n",
    "\n",
    "        url = \"https://kapi.kakao.com/v2/api/talk/memo/default/send\"\n",
    "        params = {\n",
    "           \"object_type\":\"text\",\n",
    "            \"text\" : '<코로나 알리미>\\n\\n{0}\\n\\n전체 확진자 : {1}\\n국내 : {2}\\n해외 유입 : {3}\\n\\n수도권 거리두기 : {4} 단계\\n비수도권 거리두기 : {5} 단계\\n\\n백신현황 : {6}'.format(str(item['date']), str(item['total_country']),str(item['country_in']),str(item['country_out']),str(item['capital_distance']),str(item['noncapital_distance']),str(item['take_yesterday_1'])), \n",
    "            \"link\":{\n",
    "                \"web_url\":\"http://ncov.mohw.go.kr/\",\n",
    "                \"mobile_web_url\":\"http://ncov.mohw.go.kr/\",\n",
    "            },\n",
    "            \"button_title\" : \"바로 클릭하세요!!\",    \n",
    "        }\n",
    "\n",
    "        headers[\"Content-Type\"] = \"application/x-www-form-urlencoded\"\n",
    "\n",
    "        payload = \"template_object=\" + json.dumps(params)\n",
    "\n",
    "        response = requests.post(url, payload, headers=headers) \n",
    "        \n",
    "        return item"
   ]
  },
  {
   "cell_type": "code",
   "execution_count": 69,
   "metadata": {
    "collapsed": true
   },
   "outputs": [
    {
     "name": "stdout",
     "output_type": "stream",
     "text": [
      "2021-03-15 05:33:05 [scrapy.utils.log] INFO: Scrapy 2.4.1 started (bot: covid_19_total_backup)\n",
      "2021-03-15 05:33:05 [scrapy.utils.log] INFO: Versions: lxml 4.6.2.0, libxml2 2.9.10, cssselect 1.1.0, parsel 1.6.0, w3lib 1.22.0, Twisted 20.3.0, Python 3.6.9 (default, Dec 25 2020, 07:37:56) - [GCC 7.5.0], pyOpenSSL 20.0.1 (OpenSSL 1.1.1j  16 Feb 2021), cryptography 3.4.6, Platform Linux-5.4.0-1038-aws-x86_64-with-debian-buster-sid\n",
      "2021-03-15 05:33:05 [scrapy.utils.log] DEBUG: Using reactor: twisted.internet.epollreactor.EPollReactor\n",
      "2021-03-15 05:33:05 [scrapy.crawler] INFO: Overridden settings:\n",
      "{'BOT_NAME': 'covid_19_total_backup',\n",
      " 'NEWSPIDER_MODULE': 'covid_19_total_backup.spiders',\n",
      " 'ROBOTSTXT_OBEY': True,\n",
      " 'SPIDER_MODULES': ['covid_19_total_backup.spiders']}\n",
      "2021-03-15 05:33:05 [scrapy.extensions.telnet] INFO: Telnet Password: e0e374c7bae59339\n",
      "2021-03-15 05:33:05 [scrapy.middleware] INFO: Enabled extensions:\n",
      "['scrapy.extensions.corestats.CoreStats',\n",
      " 'scrapy.extensions.telnet.TelnetConsole',\n",
      " 'scrapy.extensions.memusage.MemoryUsage',\n",
      " 'scrapy.extensions.feedexport.FeedExporter',\n",
      " 'scrapy.extensions.logstats.LogStats']\n",
      "2021-03-15 05:33:05 [scrapy.middleware] INFO: Enabled downloader middlewares:\n",
      "['scrapy.downloadermiddlewares.robotstxt.RobotsTxtMiddleware',\n",
      " 'scrapy.downloadermiddlewares.httpauth.HttpAuthMiddleware',\n",
      " 'scrapy.downloadermiddlewares.downloadtimeout.DownloadTimeoutMiddleware',\n",
      " 'scrapy.downloadermiddlewares.defaultheaders.DefaultHeadersMiddleware',\n",
      " 'scrapy.downloadermiddlewares.useragent.UserAgentMiddleware',\n",
      " 'scrapy.downloadermiddlewares.retry.RetryMiddleware',\n",
      " 'scrapy.downloadermiddlewares.redirect.MetaRefreshMiddleware',\n",
      " 'scrapy.downloadermiddlewares.httpcompression.HttpCompressionMiddleware',\n",
      " 'scrapy.downloadermiddlewares.redirect.RedirectMiddleware',\n",
      " 'scrapy.downloadermiddlewares.cookies.CookiesMiddleware',\n",
      " 'scrapy.downloadermiddlewares.httpproxy.HttpProxyMiddleware',\n",
      " 'scrapy.downloadermiddlewares.stats.DownloaderStats']\n",
      "2021-03-15 05:33:05 [scrapy.middleware] INFO: Enabled spider middlewares:\n",
      "['scrapy.spidermiddlewares.httperror.HttpErrorMiddleware',\n",
      " 'scrapy.spidermiddlewares.offsite.OffsiteMiddleware',\n",
      " 'scrapy.spidermiddlewares.referer.RefererMiddleware',\n",
      " 'scrapy.spidermiddlewares.urllength.UrlLengthMiddleware',\n",
      " 'scrapy.spidermiddlewares.depth.DepthMiddleware']\n",
      "2021-03-15 05:33:06 [scrapy.middleware] INFO: Enabled item pipelines:\n",
      "['covid_19_total_backup.pipelines.Covid19TotalBackupPipeline']\n",
      "2021-03-15 05:33:06 [scrapy.core.engine] INFO: Spider opened\n",
      "2021-03-15 05:33:06 [scrapy.extensions.logstats] INFO: Crawled 0 pages (at 0 pages/min), scraped 0 items (at 0 items/min)\n",
      "2021-03-15 05:33:06 [scrapy.extensions.telnet] INFO: Telnet console listening on 127.0.0.1:6023\n",
      "2021-03-15 05:33:06 [scrapy.core.engine] DEBUG: Crawled (404) <GET http://ncov.mohw.go.kr/robots.txt> (referer: None)\n",
      "2021-03-15 05:33:06 [protego] DEBUG: Rule at line 19 without any user agent to enforce it on.\n",
      "2021-03-15 05:33:06 [protego] DEBUG: Rule at line 20 without any user agent to enforce it on.\n",
      "2021-03-15 05:33:06 [protego] DEBUG: Rule at line 21 without any user agent to enforce it on.\n",
      "2021-03-15 05:33:06 [protego] DEBUG: Rule at line 22 without any user agent to enforce it on.\n",
      "2021-03-15 05:33:06 [protego] DEBUG: Rule at line 23 without any user agent to enforce it on.\n",
      "2021-03-15 05:33:06 [protego] DEBUG: Rule at line 24 without any user agent to enforce it on.\n",
      "2021-03-15 05:33:06 [protego] DEBUG: Rule at line 25 without any user agent to enforce it on.\n",
      "2021-03-15 05:33:06 [protego] DEBUG: Rule at line 26 without any user agent to enforce it on.\n",
      "2021-03-15 05:33:06 [protego] DEBUG: Rule at line 28 without any user agent to enforce it on.\n",
      "2021-03-15 05:33:06 [protego] DEBUG: Rule at line 30 without any user agent to enforce it on.\n",
      "2021-03-15 05:33:06 [protego] DEBUG: Rule at line 31 without any user agent to enforce it on.\n",
      "2021-03-15 05:33:06 [protego] DEBUG: Rule at line 32 without any user agent to enforce it on.\n",
      "2021-03-15 05:33:06 [protego] DEBUG: Rule at line 33 without any user agent to enforce it on.\n",
      "2021-03-15 05:33:06 [protego] DEBUG: Rule at line 35 without any user agent to enforce it on.\n",
      "2021-03-15 05:33:06 [protego] DEBUG: Rule at line 36 without any user agent to enforce it on.\n",
      "2021-03-15 05:33:06 [protego] DEBUG: Rule at line 37 without any user agent to enforce it on.\n",
      "2021-03-15 05:33:06 [protego] DEBUG: Rule at line 38 without any user agent to enforce it on.\n",
      "2021-03-15 05:33:06 [protego] DEBUG: Rule at line 40 without any user agent to enforce it on.\n",
      "2021-03-15 05:33:06 [protego] DEBUG: Rule at line 41 without any user agent to enforce it on.\n",
      "2021-03-15 05:33:06 [protego] DEBUG: Rule at line 42 without any user agent to enforce it on.\n",
      "2021-03-15 05:33:06 [protego] DEBUG: Rule at line 43 without any user agent to enforce it on.\n",
      "2021-03-15 05:33:06 [protego] DEBUG: Rule at line 45 without any user agent to enforce it on.\n",
      "2021-03-15 05:33:06 [protego] DEBUG: Rule at line 46 without any user agent to enforce it on.\n",
      "2021-03-15 05:33:06 [protego] DEBUG: Rule at line 47 without any user agent to enforce it on.\n",
      "2021-03-15 05:33:06 [protego] DEBUG: Rule at line 48 without any user agent to enforce it on.\n",
      "2021-03-15 05:33:06 [protego] DEBUG: Rule at line 49 without any user agent to enforce it on.\n",
      "2021-03-15 05:33:06 [protego] DEBUG: Rule at line 50 without any user agent to enforce it on.\n",
      "2021-03-15 05:33:06 [protego] DEBUG: Rule at line 53 without any user agent to enforce it on.\n",
      "2021-03-15 05:33:06 [protego] DEBUG: Rule at line 54 without any user agent to enforce it on.\n",
      "2021-03-15 05:33:06 [protego] DEBUG: Rule at line 55 without any user agent to enforce it on.\n",
      "2021-03-15 05:33:06 [protego] DEBUG: Rule at line 58 without any user agent to enforce it on.\n",
      "2021-03-15 05:33:06 [protego] DEBUG: Rule at line 59 without any user agent to enforce it on.\n",
      "2021-03-15 05:33:06 [protego] DEBUG: Rule at line 61 without any user agent to enforce it on.\n",
      "2021-03-15 05:33:06 [protego] DEBUG: Rule at line 62 without any user agent to enforce it on.\n",
      "2021-03-15 05:33:06 [protego] DEBUG: Rule at line 63 without any user agent to enforce it on.\n",
      "2021-03-15 05:33:06 [scrapy.downloadermiddlewares.redirect] DEBUG: Redirecting (302) to <GET http://152.99.73.154/error.html> from <GET http://ncv.kdca.go.kr/robots.txt>\n",
      "2021-03-15 05:33:06 [scrapy.core.engine] DEBUG: Crawled (200) <GET http://152.99.73.154/error.html> (referer: None)\n",
      "2021-03-15 05:33:06 [protego] DEBUG: Rule at line 3 without any user agent to enforce it on.\n",
      "2021-03-15 05:33:06 [protego] DEBUG: Rule at line 4 without any user agent to enforce it on.\n",
      "2021-03-15 05:33:06 [scrapy.core.engine] DEBUG: Crawled (200) <GET http://ncov.mohw.go.kr/> (referer: None)\n",
      "2021-03-15 05:33:06 [scrapy.core.engine] DEBUG: Crawled (200) <GET http://ncv.kdca.go.kr/> (referer: None)\n",
      "2021-03-15 05:33:07 [selenium.webdriver.remote.remote_connection] DEBUG: POST http://127.0.0.1:56765/session {\"capabilities\": {\"firstMatch\": [{}], \"alwaysMatch\": {\"browserName\": \"chrome\", \"platformName\": \"any\", \"goog:chromeOptions\": {\"extensions\": [], \"args\": [\"headless\", \"window-size=1920x1080\", \"Mozilla/5.0 (Macintosh; Intel Mac OS X 10_15_7) AppleWebKit/537.36 (KHTML, like Gecko) Chrome/88.0.4324.192 Safari/537.36\"]}}}, \"desiredCapabilities\": {\"browserName\": \"chrome\", \"version\": \"\", \"platform\": \"ANY\", \"goog:chromeOptions\": {\"extensions\": [], \"args\": [\"headless\", \"window-size=1920x1080\", \"Mozilla/5.0 (Macintosh; Intel Mac OS X 10_15_7) AppleWebKit/537.36 (KHTML, like Gecko) Chrome/88.0.4324.192 Safari/537.36\"]}}}\n",
      "2021-03-15 05:33:07 [urllib3.connectionpool] DEBUG: Starting new HTTP connection (1): 127.0.0.1:56765\n",
      "2021-03-15 05:33:07 [urllib3.connectionpool] DEBUG: http://127.0.0.1:56765 \"POST /session HTTP/1.1\" 200 680\n",
      "2021-03-15 05:33:07 [selenium.webdriver.remote.remote_connection] DEBUG: Finished Request\n",
      "2021-03-15 05:33:07 [selenium.webdriver.remote.remote_connection] DEBUG: POST http://127.0.0.1:56765/session/91b67acedb40f5f5c957c85cb0cf00e2/url {\"url\": \"https://kauth.kakao.com/oauth/authorize?client_id=96271c29c325bdd5788e976138bfea61&redirect_uri=https://fastcampus.co.kr/oauth&response_type=code\"}\n",
      "2021-03-15 05:33:09 [urllib3.connectionpool] DEBUG: http://127.0.0.1:56765 \"POST /session/91b67acedb40f5f5c957c85cb0cf00e2/url HTTP/1.1\" 200 14\n",
      "2021-03-15 05:33:09 [selenium.webdriver.remote.remote_connection] DEBUG: Finished Request\n"
     ]
    },
    {
     "name": "stdout",
     "output_type": "stream",
     "text": [
      "2021-03-15 05:33:11 [selenium.webdriver.remote.remote_connection] DEBUG: POST http://127.0.0.1:56765/session/91b67acedb40f5f5c957c85cb0cf00e2/element {\"using\": \"css selector\", \"value\": \"[id=\\\"id_email_2\\\"]\"}\n",
      "2021-03-15 05:33:11 [urllib3.connectionpool] DEBUG: http://127.0.0.1:56765 \"POST /session/91b67acedb40f5f5c957c85cb0cf00e2/element HTTP/1.1\" 200 88\n",
      "2021-03-15 05:33:11 [selenium.webdriver.remote.remote_connection] DEBUG: Finished Request\n",
      "2021-03-15 05:33:11 [selenium.webdriver.remote.remote_connection] DEBUG: POST http://127.0.0.1:56765/session/91b67acedb40f5f5c957c85cb0cf00e2/element/3084a416-0650-4f4e-b043-3b47b8b0818a/clear {\"id\": \"3084a416-0650-4f4e-b043-3b47b8b0818a\"}\n",
      "2021-03-15 05:33:11 [urllib3.connectionpool] DEBUG: http://127.0.0.1:56765 \"POST /session/91b67acedb40f5f5c957c85cb0cf00e2/element/3084a416-0650-4f4e-b043-3b47b8b0818a/clear HTTP/1.1\" 200 14\n",
      "2021-03-15 05:33:11 [selenium.webdriver.remote.remote_connection] DEBUG: Finished Request\n",
      "2021-03-15 05:33:11 [selenium.webdriver.remote.remote_connection] DEBUG: POST http://127.0.0.1:56765/session/91b67acedb40f5f5c957c85cb0cf00e2/element/3084a416-0650-4f4e-b043-3b47b8b0818a/value {\"text\": \"hi\", \"value\": [\"h\", \"i\"], \"id\": \"3084a416-0650-4f4e-b043-3b47b8b0818a\"}\n",
      "2021-03-15 05:33:11 [urllib3.connectionpool] DEBUG: http://127.0.0.1:56765 \"POST /session/91b67acedb40f5f5c957c85cb0cf00e2/element/3084a416-0650-4f4e-b043-3b47b8b0818a/value HTTP/1.1\" 200 14\n",
      "2021-03-15 05:33:11 [selenium.webdriver.remote.remote_connection] DEBUG: Finished Request\n",
      "2021-03-15 05:33:12 [selenium.webdriver.remote.remote_connection] DEBUG: POST http://127.0.0.1:56765/session/91b67acedb40f5f5c957c85cb0cf00e2/element/3084a416-0650-4f4e-b043-3b47b8b0818a/value {\"text\": \"dyjh@\", \"value\": [\"d\", \"y\", \"j\", \"h\", \"@\"], \"id\": \"3084a416-0650-4f4e-b043-3b47b8b0818a\"}\n",
      "2021-03-15 05:33:12 [urllib3.connectionpool] DEBUG: http://127.0.0.1:56765 \"POST /session/91b67acedb40f5f5c957c85cb0cf00e2/element/3084a416-0650-4f4e-b043-3b47b8b0818a/value HTTP/1.1\" 200 14\n",
      "2021-03-15 05:33:12 [selenium.webdriver.remote.remote_connection] DEBUG: Finished Request\n",
      "2021-03-15 05:33:12 [selenium.webdriver.remote.remote_connection] DEBUG: POST http://127.0.0.1:56765/session/91b67acedb40f5f5c957c85cb0cf00e2/element/3084a416-0650-4f4e-b043-3b47b8b0818a/value {\"text\": \"na\", \"value\": [\"n\", \"a\"], \"id\": \"3084a416-0650-4f4e-b043-3b47b8b0818a\"}\n",
      "2021-03-15 05:33:12 [urllib3.connectionpool] DEBUG: http://127.0.0.1:56765 \"POST /session/91b67acedb40f5f5c957c85cb0cf00e2/element/3084a416-0650-4f4e-b043-3b47b8b0818a/value HTTP/1.1\" 200 14\n",
      "2021-03-15 05:33:12 [selenium.webdriver.remote.remote_connection] DEBUG: Finished Request\n",
      "2021-03-15 05:33:13 [selenium.webdriver.remote.remote_connection] DEBUG: POST http://127.0.0.1:56765/session/91b67acedb40f5f5c957c85cb0cf00e2/element/3084a416-0650-4f4e-b043-3b47b8b0818a/value {\"text\": \"ver\", \"value\": [\"v\", \"e\", \"r\"], \"id\": \"3084a416-0650-4f4e-b043-3b47b8b0818a\"}\n",
      "2021-03-15 05:33:13 [urllib3.connectionpool] DEBUG: http://127.0.0.1:56765 \"POST /session/91b67acedb40f5f5c957c85cb0cf00e2/element/3084a416-0650-4f4e-b043-3b47b8b0818a/value HTTP/1.1\" 200 14\n",
      "2021-03-15 05:33:13 [selenium.webdriver.remote.remote_connection] DEBUG: Finished Request\n",
      "2021-03-15 05:33:14 [selenium.webdriver.remote.remote_connection] DEBUG: POST http://127.0.0.1:56765/session/91b67acedb40f5f5c957c85cb0cf00e2/element/3084a416-0650-4f4e-b043-3b47b8b0818a/value {\"text\": \".com\", \"value\": [\".\", \"c\", \"o\", \"m\"], \"id\": \"3084a416-0650-4f4e-b043-3b47b8b0818a\"}\n",
      "2021-03-15 05:33:14 [urllib3.connectionpool] DEBUG: http://127.0.0.1:56765 \"POST /session/91b67acedb40f5f5c957c85cb0cf00e2/element/3084a416-0650-4f4e-b043-3b47b8b0818a/value HTTP/1.1\" 200 14\n",
      "2021-03-15 05:33:14 [selenium.webdriver.remote.remote_connection] DEBUG: Finished Request\n",
      "2021-03-15 05:33:16 [selenium.webdriver.remote.remote_connection] DEBUG: POST http://127.0.0.1:56765/session/91b67acedb40f5f5c957c85cb0cf00e2/element {\"using\": \"css selector\", \"value\": \"[id=\\\"id_password_3\\\"]\"}\n",
      "2021-03-15 05:33:16 [urllib3.connectionpool] DEBUG: http://127.0.0.1:56765 \"POST /session/91b67acedb40f5f5c957c85cb0cf00e2/element HTTP/1.1\" 200 88\n",
      "2021-03-15 05:33:16 [selenium.webdriver.remote.remote_connection] DEBUG: Finished Request\n",
      "2021-03-15 05:33:16 [selenium.webdriver.remote.remote_connection] DEBUG: POST http://127.0.0.1:56765/session/91b67acedb40f5f5c957c85cb0cf00e2/element/a18ba53b-23d6-4061-b5de-af86e4937d69/clear {\"id\": \"a18ba53b-23d6-4061-b5de-af86e4937d69\"}\n",
      "2021-03-15 05:33:16 [urllib3.connectionpool] DEBUG: http://127.0.0.1:56765 \"POST /session/91b67acedb40f5f5c957c85cb0cf00e2/element/a18ba53b-23d6-4061-b5de-af86e4937d69/clear HTTP/1.1\" 200 14\n",
      "2021-03-15 05:33:16 [selenium.webdriver.remote.remote_connection] DEBUG: Finished Request\n",
      "2021-03-15 05:33:16 [selenium.webdriver.remote.remote_connection] DEBUG: POST http://127.0.0.1:56765/session/91b67acedb40f5f5c957c85cb0cf00e2/element/a18ba53b-23d6-4061-b5de-af86e4937d69/value {\"text\": \"wlghd4816!\", \"value\": [\"w\", \"l\", \"g\", \"h\", \"d\", \"4\", \"8\", \"1\", \"6\", \"!\"], \"id\": \"a18ba53b-23d6-4061-b5de-af86e4937d69\"}\n",
      "2021-03-15 05:33:16 [urllib3.connectionpool] DEBUG: http://127.0.0.1:56765 \"POST /session/91b67acedb40f5f5c957c85cb0cf00e2/element/a18ba53b-23d6-4061-b5de-af86e4937d69/value HTTP/1.1\" 200 14\n",
      "2021-03-15 05:33:16 [selenium.webdriver.remote.remote_connection] DEBUG: Finished Request\n",
      "2021-03-15 05:33:19 [selenium.webdriver.remote.remote_connection] DEBUG: POST http://127.0.0.1:56765/session/91b67acedb40f5f5c957c85cb0cf00e2/element {\"using\": \"xpath\", \"value\": \"//*[@id=\\\"login-form\\\"]/fieldset/div[8]/button[1]\"}\n",
      "2021-03-15 05:33:19 [urllib3.connectionpool] DEBUG: http://127.0.0.1:56765 \"POST /session/91b67acedb40f5f5c957c85cb0cf00e2/element HTTP/1.1\" 200 88\n",
      "2021-03-15 05:33:19 [selenium.webdriver.remote.remote_connection] DEBUG: Finished Request\n",
      "2021-03-15 05:33:19 [selenium.webdriver.remote.remote_connection] DEBUG: POST http://127.0.0.1:56765/session/91b67acedb40f5f5c957c85cb0cf00e2/element/c592896f-039e-4c20-82ee-272512402ba5/click {\"id\": \"c592896f-039e-4c20-82ee-272512402ba5\"}\n",
      "2021-03-15 05:33:19 [urllib3.connectionpool] DEBUG: http://127.0.0.1:56765 \"POST /session/91b67acedb40f5f5c957c85cb0cf00e2/element/c592896f-039e-4c20-82ee-272512402ba5/click HTTP/1.1\" 200 14\n",
      "2021-03-15 05:33:19 [selenium.webdriver.remote.remote_connection] DEBUG: Finished Request\n",
      "2021-03-15 05:33:25 [selenium.webdriver.remote.remote_connection] DEBUG: POST http://127.0.0.1:56765/session/91b67acedb40f5f5c957c85cb0cf00e2/timeouts {\"implicit\": 60000}\n",
      "2021-03-15 05:33:25 [urllib3.connectionpool] DEBUG: http://127.0.0.1:56765 \"POST /session/91b67acedb40f5f5c957c85cb0cf00e2/timeouts HTTP/1.1\" 200 14\n",
      "2021-03-15 05:33:25 [selenium.webdriver.remote.remote_connection] DEBUG: Finished Request\n",
      "2021-03-15 05:33:25 [selenium.webdriver.remote.remote_connection] DEBUG: GET http://127.0.0.1:56765/session/91b67acedb40f5f5c957c85cb0cf00e2/url {}\n",
      "2021-03-15 05:33:25 [urllib3.connectionpool] DEBUG: http://127.0.0.1:56765 \"GET /session/91b67acedb40f5f5c957c85cb0cf00e2/url HTTP/1.1\" 200 134\n",
      "2021-03-15 05:33:25 [selenium.webdriver.remote.remote_connection] DEBUG: Finished Request\n",
      "2021-03-15 05:33:25 [selenium.webdriver.remote.remote_connection] DEBUG: DELETE http://127.0.0.1:56765/session/91b67acedb40f5f5c957c85cb0cf00e2/window {}\n",
      "2021-03-15 05:33:25 [urllib3.connectionpool] DEBUG: http://127.0.0.1:56765 \"DELETE /session/91b67acedb40f5f5c957c85cb0cf00e2/window HTTP/1.1\" 200 12\n",
      "2021-03-15 05:33:25 [selenium.webdriver.remote.remote_connection] DEBUG: Finished Request\n",
      "2021-03-15 05:33:25 [urllib3.connectionpool] DEBUG: Starting new HTTPS connection (1): kauth.kakao.com:443\n",
      "2021-03-15 05:33:25 [urllib3.connectionpool] DEBUG: https://kauth.kakao.com:443 \"POST /oauth/token HTTP/1.1\" 200 None\n",
      "2021-03-15 05:33:25 [scrapy.core.scraper] ERROR: Error processing {'capital_distance': '2',\n",
      " 'country_in': 436,\n",
      " 'country_out': 23,\n",
      " 'date': '21.3.14. 00시 기준',\n",
      " 'noncapital_distance': '1.5',\n",
      " 'total_country': 459}\n",
      "Traceback (most recent call last):\n",
      "  File \"/home/ubuntu/.pyenv/versions/3.6.9/envs/python3/lib/python3.6/site-packages/twisted/internet/defer.py\", line 654, in _runCallbacks\n",
      "    current.result = callback(current.result, *args, **kw)\n",
      "  File \"/home/ubuntu/.pyenv/versions/3.6.9/envs/python3/lib/python3.6/site-packages/scrapy/utils/defer.py\", line 150, in f\n",
      "    return deferred_from_coro(coro_f(*coro_args, **coro_kwargs))\n",
      "  File \"/home/ubuntu/python3/notebook/covid_19/covid_19_total_backup/covid_19_total_backup/pipelines.py\", line 89, in process_item\n",
      "    \"text\" : '<코로나 알리미>\\n\\n{0}\\n\\n전체 확진자 : {1}\\n국내 : {2}\\n해외 유입 : {3}\\n\\n수도권 거리두기 : {4} 단계\\n비수도권 거리두기 : {5} 단계\\n\\n백신현황 : {6}'.format(str(item['date']), str(item['total_country']),str(item['country_in']),str(item['country_out']),str(item['capital_distance']),str(item['noncapital_distance']),str(item['take_yesterday_1'])),\n",
      "  File \"/home/ubuntu/.pyenv/versions/3.6.9/envs/python3/lib/python3.6/site-packages/scrapy/item.py\", line 93, in __getitem__\n",
      "    return self._values[key]\n",
      "KeyError: 'take_yesterday_1'\n"
     ]
    },
    {
     "name": "stdout",
     "output_type": "stream",
     "text": [
      "2021-03-15 05:33:26 [selenium.webdriver.remote.remote_connection] DEBUG: POST http://127.0.0.1:45799/session {\"capabilities\": {\"firstMatch\": [{}], \"alwaysMatch\": {\"browserName\": \"chrome\", \"platformName\": \"any\", \"goog:chromeOptions\": {\"extensions\": [], \"args\": [\"headless\", \"window-size=1920x1080\", \"Mozilla/5.0 (Macintosh; Intel Mac OS X 10_15_7) AppleWebKit/537.36 (KHTML, like Gecko) Chrome/88.0.4324.192 Safari/537.36\"]}}}, \"desiredCapabilities\": {\"browserName\": \"chrome\", \"version\": \"\", \"platform\": \"ANY\", \"goog:chromeOptions\": {\"extensions\": [], \"args\": [\"headless\", \"window-size=1920x1080\", \"Mozilla/5.0 (Macintosh; Intel Mac OS X 10_15_7) AppleWebKit/537.36 (KHTML, like Gecko) Chrome/88.0.4324.192 Safari/537.36\"]}}}\n",
      "2021-03-15 05:33:26 [urllib3.connectionpool] DEBUG: Starting new HTTP connection (1): 127.0.0.1:45799\n",
      "2021-03-15 05:33:27 [urllib3.connectionpool] DEBUG: http://127.0.0.1:45799 \"POST /session HTTP/1.1\" 200 680\n",
      "2021-03-15 05:33:27 [selenium.webdriver.remote.remote_connection] DEBUG: Finished Request\n",
      "2021-03-15 05:33:27 [selenium.webdriver.remote.remote_connection] DEBUG: POST http://127.0.0.1:45799/session/8010873b8d03494e864055f063820f94/url {\"url\": \"https://kauth.kakao.com/oauth/authorize?client_id=96271c29c325bdd5788e976138bfea61&redirect_uri=https://fastcampus.co.kr/oauth&response_type=code\"}\n",
      "2021-03-15 05:33:29 [urllib3.connectionpool] DEBUG: http://127.0.0.1:45799 \"POST /session/8010873b8d03494e864055f063820f94/url HTTP/1.1\" 200 14\n",
      "2021-03-15 05:33:29 [selenium.webdriver.remote.remote_connection] DEBUG: Finished Request\n",
      "2021-03-15 05:33:31 [selenium.webdriver.remote.remote_connection] DEBUG: POST http://127.0.0.1:45799/session/8010873b8d03494e864055f063820f94/element {\"using\": \"css selector\", \"value\": \"[id=\\\"id_email_2\\\"]\"}\n",
      "2021-03-15 05:33:31 [urllib3.connectionpool] DEBUG: http://127.0.0.1:45799 \"POST /session/8010873b8d03494e864055f063820f94/element HTTP/1.1\" 200 88\n",
      "2021-03-15 05:33:31 [selenium.webdriver.remote.remote_connection] DEBUG: Finished Request\n",
      "2021-03-15 05:33:31 [selenium.webdriver.remote.remote_connection] DEBUG: POST http://127.0.0.1:45799/session/8010873b8d03494e864055f063820f94/element/af05160a-37fe-4f23-abbc-ec88b2d785d3/clear {\"id\": \"af05160a-37fe-4f23-abbc-ec88b2d785d3\"}\n",
      "2021-03-15 05:33:31 [urllib3.connectionpool] DEBUG: http://127.0.0.1:45799 \"POST /session/8010873b8d03494e864055f063820f94/element/af05160a-37fe-4f23-abbc-ec88b2d785d3/clear HTTP/1.1\" 200 14\n",
      "2021-03-15 05:33:31 [selenium.webdriver.remote.remote_connection] DEBUG: Finished Request\n",
      "2021-03-15 05:33:31 [selenium.webdriver.remote.remote_connection] DEBUG: POST http://127.0.0.1:45799/session/8010873b8d03494e864055f063820f94/element/af05160a-37fe-4f23-abbc-ec88b2d785d3/value {\"text\": \"hi\", \"value\": [\"h\", \"i\"], \"id\": \"af05160a-37fe-4f23-abbc-ec88b2d785d3\"}\n",
      "2021-03-15 05:33:31 [urllib3.connectionpool] DEBUG: http://127.0.0.1:45799 \"POST /session/8010873b8d03494e864055f063820f94/element/af05160a-37fe-4f23-abbc-ec88b2d785d3/value HTTP/1.1\" 200 14\n",
      "2021-03-15 05:33:31 [selenium.webdriver.remote.remote_connection] DEBUG: Finished Request\n",
      "2021-03-15 05:33:31 [selenium.webdriver.remote.remote_connection] DEBUG: POST http://127.0.0.1:45799/session/8010873b8d03494e864055f063820f94/element/af05160a-37fe-4f23-abbc-ec88b2d785d3/value {\"text\": \"dyjh@\", \"value\": [\"d\", \"y\", \"j\", \"h\", \"@\"], \"id\": \"af05160a-37fe-4f23-abbc-ec88b2d785d3\"}\n",
      "2021-03-15 05:33:31 [urllib3.connectionpool] DEBUG: http://127.0.0.1:45799 \"POST /session/8010873b8d03494e864055f063820f94/element/af05160a-37fe-4f23-abbc-ec88b2d785d3/value HTTP/1.1\" 200 14\n",
      "2021-03-15 05:33:31 [selenium.webdriver.remote.remote_connection] DEBUG: Finished Request\n",
      "2021-03-15 05:33:32 [selenium.webdriver.remote.remote_connection] DEBUG: POST http://127.0.0.1:45799/session/8010873b8d03494e864055f063820f94/element/af05160a-37fe-4f23-abbc-ec88b2d785d3/value {\"text\": \"na\", \"value\": [\"n\", \"a\"], \"id\": \"af05160a-37fe-4f23-abbc-ec88b2d785d3\"}\n",
      "2021-03-15 05:33:32 [urllib3.connectionpool] DEBUG: http://127.0.0.1:45799 \"POST /session/8010873b8d03494e864055f063820f94/element/af05160a-37fe-4f23-abbc-ec88b2d785d3/value HTTP/1.1\" 200 14\n",
      "2021-03-15 05:33:32 [selenium.webdriver.remote.remote_connection] DEBUG: Finished Request\n",
      "2021-03-15 05:33:32 [selenium.webdriver.remote.remote_connection] DEBUG: POST http://127.0.0.1:45799/session/8010873b8d03494e864055f063820f94/element/af05160a-37fe-4f23-abbc-ec88b2d785d3/value {\"text\": \"ver\", \"value\": [\"v\", \"e\", \"r\"], \"id\": \"af05160a-37fe-4f23-abbc-ec88b2d785d3\"}\n",
      "2021-03-15 05:33:32 [urllib3.connectionpool] DEBUG: http://127.0.0.1:45799 \"POST /session/8010873b8d03494e864055f063820f94/element/af05160a-37fe-4f23-abbc-ec88b2d785d3/value HTTP/1.1\" 200 14\n",
      "2021-03-15 05:33:32 [selenium.webdriver.remote.remote_connection] DEBUG: Finished Request\n",
      "2021-03-15 05:33:33 [selenium.webdriver.remote.remote_connection] DEBUG: POST http://127.0.0.1:45799/session/8010873b8d03494e864055f063820f94/element/af05160a-37fe-4f23-abbc-ec88b2d785d3/value {\"text\": \".com\", \"value\": [\".\", \"c\", \"o\", \"m\"], \"id\": \"af05160a-37fe-4f23-abbc-ec88b2d785d3\"}\n",
      "2021-03-15 05:33:33 [urllib3.connectionpool] DEBUG: http://127.0.0.1:45799 \"POST /session/8010873b8d03494e864055f063820f94/element/af05160a-37fe-4f23-abbc-ec88b2d785d3/value HTTP/1.1\" 200 14\n",
      "2021-03-15 05:33:33 [selenium.webdriver.remote.remote_connection] DEBUG: Finished Request\n",
      "2021-03-15 05:33:35 [selenium.webdriver.remote.remote_connection] DEBUG: POST http://127.0.0.1:45799/session/8010873b8d03494e864055f063820f94/element {\"using\": \"css selector\", \"value\": \"[id=\\\"id_password_3\\\"]\"}\n",
      "2021-03-15 05:33:35 [urllib3.connectionpool] DEBUG: http://127.0.0.1:45799 \"POST /session/8010873b8d03494e864055f063820f94/element HTTP/1.1\" 200 88\n",
      "2021-03-15 05:33:35 [selenium.webdriver.remote.remote_connection] DEBUG: Finished Request\n",
      "2021-03-15 05:33:35 [selenium.webdriver.remote.remote_connection] DEBUG: POST http://127.0.0.1:45799/session/8010873b8d03494e864055f063820f94/element/13119d96-c85d-4803-84b0-1206970d39e7/clear {\"id\": \"13119d96-c85d-4803-84b0-1206970d39e7\"}\n",
      "2021-03-15 05:33:35 [urllib3.connectionpool] DEBUG: http://127.0.0.1:45799 \"POST /session/8010873b8d03494e864055f063820f94/element/13119d96-c85d-4803-84b0-1206970d39e7/clear HTTP/1.1\" 200 14\n",
      "2021-03-15 05:33:35 [selenium.webdriver.remote.remote_connection] DEBUG: Finished Request\n",
      "2021-03-15 05:33:35 [selenium.webdriver.remote.remote_connection] DEBUG: POST http://127.0.0.1:45799/session/8010873b8d03494e864055f063820f94/element/13119d96-c85d-4803-84b0-1206970d39e7/value {\"text\": \"wlghd4816!\", \"value\": [\"w\", \"l\", \"g\", \"h\", \"d\", \"4\", \"8\", \"1\", \"6\", \"!\"], \"id\": \"13119d96-c85d-4803-84b0-1206970d39e7\"}\n",
      "2021-03-15 05:33:35 [urllib3.connectionpool] DEBUG: http://127.0.0.1:45799 \"POST /session/8010873b8d03494e864055f063820f94/element/13119d96-c85d-4803-84b0-1206970d39e7/value HTTP/1.1\" 200 14\n",
      "2021-03-15 05:33:35 [selenium.webdriver.remote.remote_connection] DEBUG: Finished Request\n",
      "2021-03-15 05:33:38 [selenium.webdriver.remote.remote_connection] DEBUG: POST http://127.0.0.1:45799/session/8010873b8d03494e864055f063820f94/element {\"using\": \"xpath\", \"value\": \"//*[@id=\\\"login-form\\\"]/fieldset/div[8]/button[1]\"}\n",
      "2021-03-15 05:33:38 [urllib3.connectionpool] DEBUG: http://127.0.0.1:45799 \"POST /session/8010873b8d03494e864055f063820f94/element HTTP/1.1\" 200 88\n",
      "2021-03-15 05:33:38 [selenium.webdriver.remote.remote_connection] DEBUG: Finished Request\n",
      "2021-03-15 05:33:38 [selenium.webdriver.remote.remote_connection] DEBUG: POST http://127.0.0.1:45799/session/8010873b8d03494e864055f063820f94/element/397dbfe4-17ab-4e26-b830-c97a03258b4d/click {\"id\": \"397dbfe4-17ab-4e26-b830-c97a03258b4d\"}\n",
      "2021-03-15 05:33:38 [urllib3.connectionpool] DEBUG: http://127.0.0.1:45799 \"POST /session/8010873b8d03494e864055f063820f94/element/397dbfe4-17ab-4e26-b830-c97a03258b4d/click HTTP/1.1\" 200 14\n",
      "2021-03-15 05:33:38 [selenium.webdriver.remote.remote_connection] DEBUG: Finished Request\n",
      "2021-03-15 05:33:44 [selenium.webdriver.remote.remote_connection] DEBUG: POST http://127.0.0.1:45799/session/8010873b8d03494e864055f063820f94/timeouts {\"implicit\": 60000}\n",
      "2021-03-15 05:33:44 [urllib3.connectionpool] DEBUG: http://127.0.0.1:45799 \"POST /session/8010873b8d03494e864055f063820f94/timeouts HTTP/1.1\" 200 14\n",
      "2021-03-15 05:33:44 [selenium.webdriver.remote.remote_connection] DEBUG: Finished Request\n",
      "2021-03-15 05:33:44 [selenium.webdriver.remote.remote_connection] DEBUG: GET http://127.0.0.1:45799/session/8010873b8d03494e864055f063820f94/url {}\n",
      "2021-03-15 05:33:44 [urllib3.connectionpool] DEBUG: http://127.0.0.1:45799 \"GET /session/8010873b8d03494e864055f063820f94/url HTTP/1.1\" 200 134\n",
      "2021-03-15 05:33:44 [selenium.webdriver.remote.remote_connection] DEBUG: Finished Request\n",
      "2021-03-15 05:33:44 [selenium.webdriver.remote.remote_connection] DEBUG: DELETE http://127.0.0.1:45799/session/8010873b8d03494e864055f063820f94/window {}\n"
     ]
    },
    {
     "name": "stdout",
     "output_type": "stream",
     "text": [
      "2021-03-15 05:33:44 [urllib3.connectionpool] DEBUG: http://127.0.0.1:45799 \"DELETE /session/8010873b8d03494e864055f063820f94/window HTTP/1.1\" 200 12\n",
      "2021-03-15 05:33:44 [selenium.webdriver.remote.remote_connection] DEBUG: Finished Request\n",
      "2021-03-15 05:33:44 [urllib3.connectionpool] DEBUG: Starting new HTTPS connection (1): kauth.kakao.com:443\n",
      "2021-03-15 05:33:45 [urllib3.connectionpool] DEBUG: https://kauth.kakao.com:443 \"POST /oauth/token HTTP/1.1\" 200 None\n",
      "2021-03-15 05:33:45 [scrapy.core.scraper] ERROR: Error processing {'gyeonggi_vaccine': ['744'],\n",
      " 'incheon_vaccine': ['79'],\n",
      " 'seoul_vaccine': ['1,704'],\n",
      " 'take_yesterday_1': ['3,487'],\n",
      " 'take_yesterday_2': ['0'],\n",
      " 'total_1': ['587,884'],\n",
      " 'total_2': ['0']}\n",
      "Traceback (most recent call last):\n",
      "  File \"/home/ubuntu/.pyenv/versions/3.6.9/envs/python3/lib/python3.6/site-packages/twisted/internet/defer.py\", line 654, in _runCallbacks\n",
      "    current.result = callback(current.result, *args, **kw)\n",
      "  File \"/home/ubuntu/.pyenv/versions/3.6.9/envs/python3/lib/python3.6/site-packages/scrapy/utils/defer.py\", line 150, in f\n",
      "    return deferred_from_coro(coro_f(*coro_args, **coro_kwargs))\n",
      "  File \"/home/ubuntu/python3/notebook/covid_19/covid_19_total_backup/covid_19_total_backup/pipelines.py\", line 89, in process_item\n",
      "    \"text\" : '<코로나 알리미>\\n\\n{0}\\n\\n전체 확진자 : {1}\\n국내 : {2}\\n해외 유입 : {3}\\n\\n수도권 거리두기 : {4} 단계\\n비수도권 거리두기 : {5} 단계\\n\\n백신현황 : {6}'.format(str(item['date']), str(item['total_country']),str(item['country_in']),str(item['country_out']),str(item['capital_distance']),str(item['noncapital_distance']),str(item['take_yesterday_1'])),\n",
      "  File \"/home/ubuntu/.pyenv/versions/3.6.9/envs/python3/lib/python3.6/site-packages/scrapy/item.py\", line 93, in __getitem__\n",
      "    return self._values[key]\n",
      "KeyError: 'date'\n",
      "2021-03-15 05:33:45 [scrapy.core.engine] INFO: Closing spider (finished)\n",
      "2021-03-15 05:33:45 [scrapy.statscollectors] INFO: Dumping Scrapy stats:\n",
      "{'downloader/request_bytes': 1212,\n",
      " 'downloader/request_count': 5,\n",
      " 'downloader/request_method_count/GET': 5,\n",
      " 'downloader/response_bytes': 255435,\n",
      " 'downloader/response_count': 5,\n",
      " 'downloader/response_status_count/200': 3,\n",
      " 'downloader/response_status_count/302': 1,\n",
      " 'downloader/response_status_count/404': 1,\n",
      " 'elapsed_time_seconds': 39.041603,\n",
      " 'finish_reason': 'finished',\n",
      " 'finish_time': datetime.datetime(2021, 3, 14, 20, 33, 45, 171119),\n",
      " 'log_count/DEBUG': 150,\n",
      " 'log_count/ERROR': 2,\n",
      " 'log_count/INFO': 10,\n",
      " 'memusage/max': 60932096,\n",
      " 'memusage/startup': 60932096,\n",
      " 'response_received_count': 4,\n",
      " 'robotstxt/request_count': 2,\n",
      " 'robotstxt/response_count': 2,\n",
      " 'robotstxt/response_status_count/200': 1,\n",
      " 'robotstxt/response_status_count/404': 1,\n",
      " 'scheduler/dequeued': 2,\n",
      " 'scheduler/dequeued/memory': 2,\n",
      " 'scheduler/enqueued': 2,\n",
      " 'scheduler/enqueued/memory': 2,\n",
      " 'start_time': datetime.datetime(2021, 3, 14, 20, 33, 6, 129516)}\n",
      "2021-03-15 05:33:45 [scrapy.core.engine] INFO: Spider closed (finished)\n"
     ]
    }
   ],
   "source": [
    "!/bin/bash run.sh"
   ]
  }
 ],
 "metadata": {
  "kernelspec": {
   "display_name": "Python 3",
   "language": "python",
   "name": "python3"
  },
  "language_info": {
   "codemirror_mode": {
    "name": "ipython",
    "version": 3
   },
   "file_extension": ".py",
   "mimetype": "text/x-python",
   "name": "python",
   "nbconvert_exporter": "python",
   "pygments_lexer": "ipython3",
   "version": "3.8.3"
  }
 },
 "nbformat": 4,
 "nbformat_minor": 4
}
