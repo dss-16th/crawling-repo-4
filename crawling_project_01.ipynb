{
 "cells": [
  {
   "cell_type": "code",
   "execution_count": 1,
   "metadata": {},
   "outputs": [],
   "source": [
    "import scrapy, requests\n",
    "from scrapy.http import TextResponse"
   ]
  },
  {
   "cell_type": "markdown",
   "metadata": {},
   "source": [
    "### 네이버 뉴스 기사 검색 키워드 : \"코로나 백신\""
   ]
  },
  {
   "cell_type": "code",
   "execution_count": 2,
   "metadata": {},
   "outputs": [],
   "source": [
    "URL = \"https://search.naver.com/search.naver?where=news&query=코로나%20백신&pd=4\""
   ]
  },
  {
   "cell_type": "code",
   "execution_count": 3,
   "metadata": {},
   "outputs": [
    {
     "data": {
      "text/plain": [
       "<200 https://search.naver.com/search.naver?where=news&query=%EC%BD%94%EB%A1%9C%EB%82%98%20%EB%B0%B1%EC%8B%A0&pd=4>"
      ]
     },
     "execution_count": 3,
     "metadata": {},
     "output_type": "execute_result"
    }
   ],
   "source": [
    "headers = {'user-agent': 'Mozilla/5.0 (Windows NT 10.0; Win64; x64) AppleWebKit/537.36 (KHTML, like Gecko) Chrome/88.0.4324.150 Safari/537.36 Edg/88.0.705.68'}\n",
    "req = requests.get(URL, headers=headers)\n",
    "response = TextResponse(req.url, body=req.text, encoding='utf-8')\n",
    "response"
   ]
  },
  {
   "cell_type": "code",
   "execution_count": 4,
   "metadata": {},
   "outputs": [
    {
     "data": {
      "text/plain": [
       "['문대통령 \"어떤 백신이든 정부가 안전성 책임진다\"',\n",
       " '울릉군 AZ 백신 접종 시작… 요양시설 종사자 11명',\n",
       " '\"국민 54%, 코로나19 백신 접종은 모두의 책임\"',\n",
       " '어제 백신 이상반응 4건 신고, 누적 156건',\n",
       " '프·독 “AZ백신 고령층에도 효능”…정부, 접종여부 결정 빨라지나',\n",
       " '코로나19 백신 어제 1,442명 접종…나흘동안 총 2만 3,086명',\n",
       " '백신 접종후 경미한 이상반응 156건…“3일 내 완치”',\n",
       " '한국도 ‘백신 여권’ 도입 나선다',\n",
       " '\"코로나 백신, 매년 접종받아야 할 가능성 낮아\"',\n",
       " \"경남도, 코로나19 백신 접종 '순조'(종합)\"]"
      ]
     },
     "execution_count": 4,
     "metadata": {},
     "output_type": "execute_result"
    }
   ],
   "source": [
    "title = response.xpath('//*[@id=\"main_pack\"]/section/div/div[3]/ul/li/div[1]/div/a/@title').extract()\n",
    "title"
   ]
  },
  {
   "cell_type": "code",
   "execution_count": 5,
   "metadata": {},
   "outputs": [],
   "source": [
    "# '코로나 백신' 키워드 함수 설정\n",
    "\n",
    "def title_vac():\n",
    "    URL = \"https://search.naver.com/search.naver?where=news&query=코로나%20백신&sm=tab_opt&sort=0&photo=0&field=0&reporter_article=&pd=4&ds=&de=&docid=&nso=so%3Ar%2Cp%3A1d%2Ca%3Aall&mynews=0&refresh_start=0&related=0\"\n",
    "    # URL = \"https://search.naver.com/search.naver?where=news&query=코로나%20백신&pd=4&ds=&de=\"\n",
    "    headers = {'user-agent': 'Mozilla/5.0 (Windows NT 10.0; Win64; x64) AppleWebKit/537.36 (KHTML, like Gecko) Chrome/88.0.4324.150 Safari/537.36 Edg/88.0.705.68'}\n",
    "    req = requests.get(URL, headers=headers)\n",
    "    response = TextResponse(req.url, body=req.text, encoding='utf-8')\n",
    "    title = response.xpath('//*[@id=\"main_pack\"]/section/div/div[3]/ul/li/div[1]/div/a/@title').extract()\n",
    "    return title"
   ]
  },
  {
   "cell_type": "code",
   "execution_count": 6,
   "metadata": {},
   "outputs": [
    {
     "data": {
      "text/plain": [
       "['문대통령 \"어떤 백신이든 정부가 안전성 책임진다\"',\n",
       " '울릉군 AZ 백신 접종 시작… 요양시설 종사자 11명',\n",
       " '\"국민 54%, 코로나19 백신 접종은 모두의 책임\"',\n",
       " '어제 백신 이상반응 4건 신고, 누적 156건',\n",
       " '프·독 “AZ백신 고령층에도 효능”…정부, 접종여부 결정 빨라지나',\n",
       " '코로나19 백신 어제 1,442명 접종…나흘동안 총 2만 3,086명',\n",
       " '백신 접종후 경미한 이상반응 156건…“3일 내 완치”',\n",
       " '한국도 ‘백신 여권’ 도입 나선다',\n",
       " '\"코로나 백신, 매년 접종받아야 할 가능성 낮아\"',\n",
       " \"경남도, 코로나19 백신 접종 '순조'(종합)\"]"
      ]
     },
     "execution_count": 6,
     "metadata": {},
     "output_type": "execute_result"
    }
   ],
   "source": [
    "title_vac()"
   ]
  },
  {
   "cell_type": "code",
   "execution_count": 7,
   "metadata": {},
   "outputs": [
    {
     "data": {
      "text/plain": [
       "<200 https://search.naver.com/search.naver?where=news&query=%EC%BD%94%EB%A1%9C%EB%82%98%20%EC%82%AC%ED%9A%8C%EC%A0%81%EA%B1%B0%EB%A6%AC%EB%91%90%EA%B8%B0&pd=4>"
      ]
     },
     "execution_count": 7,
     "metadata": {},
     "output_type": "execute_result"
    }
   ],
   "source": [
    "# 해당 기사 링크 추가(기사제목, 해당기사 링크 순으로 정렬)\n",
    "URL = \"https://search.naver.com/search.naver?where=news&query=코로나%20사회적거리두기&pd=4\"\n",
    "headers = {'user-agent': 'Mozilla/5.0 (Windows NT 10.0; Win64; x64) AppleWebKit/537.36 (KHTML, like Gecko) Chrome/88.0.4324.150 Safari/537.36 Edg/88.0.705.68'}\n",
    "req = requests.get(URL, headers=headers)\n",
    "response = TextResponse(req.url, body=req.text, encoding='utf-8')\n",
    "response"
   ]
  },
  {
   "cell_type": "code",
   "execution_count": 8,
   "metadata": {},
   "outputs": [
    {
     "data": {
      "text/plain": [
       "(10,\n",
       " 10,\n",
       " [('1월 생산 8개월 만에 감소…거리두기에도 소비 1.6%↑(종합2보)',\n",
       "   'http://www.newsis.com/view/?id=NISX20210226_0001352545&cID=10401&pID=10400'),\n",
       "  ('오늘 코로나 2년차 새학년 첫등교…유·초1∼2·고3 매일 학교에',\n",
       "   'http://yna.kr/AKR20210226096500530?did=1195m'),\n",
       "  ('영광군, 14일까지 ‘사회적 거리두기’ 1.5단계 연장',\n",
       "   'https://view.asiae.co.kr/article/2021030212551647935')])"
      ]
     },
     "execution_count": 8,
     "metadata": {},
     "output_type": "execute_result"
    }
   ],
   "source": [
    "titles = response.xpath('//*[@id=\"main_pack\"]/section/div/div[3]/ul/li/div[1]/div/a/@title').extract()\n",
    "links = response.xpath('//*[@id=\"main_pack\"]/section/div/div[3]/ul/li/div[1]/div/a/@href').extract()\n",
    "pairs = [pair for pair in zip(titles, links)]\n",
    "len(titles), len(links), pairs[:3]"
   ]
  },
  {
   "cell_type": "markdown",
   "metadata": {},
   "source": [
    "### 네이버 뉴스 기사 검색 키워드 : \"코로나 사회적거리두기\""
   ]
  },
  {
   "cell_type": "code",
   "execution_count": 9,
   "metadata": {},
   "outputs": [
    {
     "data": {
      "text/plain": [
       "<200 https://search.naver.com/search.naver?where=news&query=%EC%BD%94%EB%A1%9C%EB%82%98%20%EC%82%AC%ED%9A%8C%EC%A0%81%EA%B1%B0%EB%A6%AC%EB%91%90%EA%B8%B0&pd=4>"
      ]
     },
     "execution_count": 9,
     "metadata": {},
     "output_type": "execute_result"
    }
   ],
   "source": [
    "URL = \"https://search.naver.com/search.naver?where=news&query=코로나%20사회적거리두기&pd=4\"\n",
    "headers = {'user-agent': 'Mozilla/5.0 (Windows NT 10.0; Win64; x64) AppleWebKit/537.36 (KHTML, like Gecko) Chrome/88.0.4324.150 Safari/537.36 Edg/88.0.705.68'}\n",
    "req = requests.get(URL, headers=headers)\n",
    "response = TextResponse(req.url, body=req.text, encoding='utf-8')\n",
    "response"
   ]
  },
  {
   "cell_type": "code",
   "execution_count": 10,
   "metadata": {},
   "outputs": [
    {
     "data": {
      "text/plain": [
       "(10,\n",
       " 10,\n",
       " [('1월 생산 8개월 만에 감소…거리두기에도 소비 1.6%↑(종합2보)',\n",
       "   'http://www.newsis.com/view/?id=NISX20210226_0001352545&cID=10401&pID=10400'),\n",
       "  ('오늘 코로나 2년차 새학년 첫등교…유·초1∼2·고3 매일 학교에',\n",
       "   'http://yna.kr/AKR20210226096500530?did=1195m'),\n",
       "  ('영광군, 14일까지 ‘사회적 거리두기’ 1.5단계 연장',\n",
       "   'https://view.asiae.co.kr/article/2021030212551647935')])"
      ]
     },
     "execution_count": 10,
     "metadata": {},
     "output_type": "execute_result"
    }
   ],
   "source": [
    "titles = response.xpath('//*[@id=\"main_pack\"]/section/div/div[3]/ul/li/div[1]/div/a/@title').extract()\n",
    "links = response.xpath('//*[@id=\"main_pack\"]/section/div/div[3]/ul/li/div[1]/div/a/@href').extract()\n",
    "pairs = [pair for pair in zip(titles, links)]\n",
    "len(titles), len(links), pairs[:3]"
   ]
  },
  {
   "cell_type": "markdown",
   "metadata": {},
   "source": [
    "### 네이버 뉴스 기사 검색 키워드 : \"코로나 확진\""
   ]
  },
  {
   "cell_type": "code",
   "execution_count": 11,
   "metadata": {},
   "outputs": [
    {
     "data": {
      "text/plain": [
       "<200 https://search.naver.com/search.naver?where=news&query=%EC%BD%94%EB%A1%9C%EB%82%98%20%ED%99%95%EC%A7%84&pd=4>"
      ]
     },
     "execution_count": 11,
     "metadata": {},
     "output_type": "execute_result"
    }
   ],
   "source": [
    "URL = \"https://search.naver.com/search.naver?where=news&query=코로나%20확진&pd=4\"\n",
    "headers = {'user-agent': 'Mozilla/5.0 (Windows NT 10.0; Win64; x64) AppleWebKit/537.36 (KHTML, like Gecko) Chrome/88.0.4324.150 Safari/537.36 Edg/88.0.705.68'}\n",
    "req = requests.get(URL, headers=headers)\n",
    "response = TextResponse(req.url, body=req.text, encoding='utf-8')\n",
    "response"
   ]
  },
  {
   "cell_type": "code",
   "execution_count": 12,
   "metadata": {},
   "outputs": [
    {
     "data": {
      "text/plain": [
       "(10,\n",
       " 10,\n",
       " [('동두천 외국인 선제검사서 이틀간 84명 무더기 확진(종합)',\n",
       "   'http://yna.kr/AKR20210302098052060?did=1195m'),\n",
       "  ('[속보] 코로나19 신규 확진 344명·사망 1명…국내발생 319명',\n",
       "   'http://www.wowtv.co.kr/NewsCenter/News/Read?articleId=A202103020089&t=NN'),\n",
       "  ('제주도의회 직원 코로나19 확진…도의회 의사일정 중단',\n",
       "   'http://www.hani.co.kr/arti/area/jeju/985009.html')])"
      ]
     },
     "execution_count": 12,
     "metadata": {},
     "output_type": "execute_result"
    }
   ],
   "source": [
    "titles = response.xpath('//*[@id=\"main_pack\"]/section/div/div[3]/ul/li/div[1]/div/a/@title').extract()\n",
    "links = response.xpath('//*[@id=\"main_pack\"]/section/div/div[3]/ul/li/div[1]/div/a/@href').extract()\n",
    "pairs = [pair for pair in zip(titles, links)]\n",
    "len(titles), len(links), pairs[:3]"
   ]
  },
  {
   "cell_type": "code",
   "execution_count": null,
   "metadata": {},
   "outputs": [],
   "source": []
  },
  {
   "cell_type": "markdown",
   "metadata": {},
   "source": [
    "### 프로젝트 생성"
   ]
  },
  {
   "cell_type": "code",
   "execution_count": 28,
   "metadata": {},
   "outputs": [],
   "source": [
    "!rm -rf covid_keyword"
   ]
  },
  {
   "cell_type": "code",
   "execution_count": 29,
   "metadata": {},
   "outputs": [
    {
     "name": "stdout",
     "output_type": "stream",
     "text": [
      "New Scrapy project 'covid_keyword', using template directory '/home/ubuntu/.pyenv/versions/3.6.9/envs/python3/lib/python3.6/site-packages/scrapy/templates/project', created in:\r\n",
      "    /home/ubuntu/python3/project/covid_keyword\r\n",
      "\r\n",
      "You can start your first spider with:\r\n",
      "    cd covid_keyword\r\n",
      "    scrapy genspider example example.com\r\n"
     ]
    }
   ],
   "source": [
    "!scrapy startproject covid_keyword"
   ]
  },
  {
   "cell_type": "code",
   "execution_count": 30,
   "metadata": {},
   "outputs": [
    {
     "name": "stdout",
     "output_type": "stream",
     "text": [
      "\u001b[01;34mcovid_keyword\u001b[00m\r\n",
      "├── \u001b[01;34mcovid_keyword\u001b[00m\r\n",
      "│   ├── __init__.py\r\n",
      "│   ├── items.py\r\n",
      "│   ├── middlewares.py\r\n",
      "│   ├── pipelines.py\r\n",
      "│   ├── settings.py\r\n",
      "│   └── \u001b[01;34mspiders\u001b[00m\r\n",
      "│       └── __init__.py\r\n",
      "└── scrapy.cfg\r\n",
      "\r\n",
      "2 directories, 7 files\r\n"
     ]
    }
   ],
   "source": [
    "!tree covid_keyword"
   ]
  },
  {
   "cell_type": "code",
   "execution_count": 31,
   "metadata": {},
   "outputs": [
    {
     "name": "stdout",
     "output_type": "stream",
     "text": [
      "Overwriting covid_keyword/covid_keyword/items.py\n"
     ]
    }
   ],
   "source": [
    "%%writefile covid_keyword/covid_keyword/items.py\n",
    "import scrapy\n",
    "\n",
    "\n",
    "class CovidKeywordItem(scrapy.Item):\n",
    "    title = scrapy.Field()\n",
    "    link = scrapy.Field()"
   ]
  },
  {
   "cell_type": "code",
   "execution_count": 32,
   "metadata": {},
   "outputs": [
    {
     "name": "stdout",
     "output_type": "stream",
     "text": [
      "Writing covid_keyword/covid_keyword/spiders/spider.py\n"
     ]
    }
   ],
   "source": [
    "%%writefile covid_keyword/covid_keyword/spiders/spider.py\n",
    "\n",
    "import scrapy\n",
    "from covid_keyword.items import CovidKeywordItem\n",
    "\n",
    "class CovidSpider(scrapy.Spider):\n",
    "    name = \"CovidKeyword\"\n",
    "    allow_domain = ['https://www.naver.com/']\n",
    "    start_urls = [\"https://search.naver.com/search.naver?where=news&query=&pd=4\"]\n",
    "    \n",
    "    def __init__(self, keyword='백신', **kwargs):\n",
    "        self.start_url = f\"https://search.naver.com/search.naver?where=news&query=코로나%20{keyword}&pd=4&ds=&de=\"\n",
    "        super().__init__(**kwargs)\n",
    "        \n",
    "    def start_requests(self):\n",
    "        url = self.start_url\n",
    "        yield scrapy.Request(url, callback=self.parse)\n",
    "        \n",
    "    def parse(self, response):\n",
    "        item = CovidKeywordItem() \n",
    "        titles = response.xpath('//*[@id=\"main_pack\"]/section/div/div[3]/ul/li/div[1]/div/a/@title').extract()\n",
    "        links = response.xpath('//*[@id=\"main_pack\"]/section/div/div[3]/ul/li/div[1]/div/a/@href').extract()\n",
    "        item['pair'] = [pair for pair in zip(titles, links)]\n",
    "        yield item"
   ]
  },
  {
   "cell_type": "code",
   "execution_count": null,
   "metadata": {},
   "outputs": [],
   "source": [
    "# %%writefile covid_keyword/covid_keyword/spiders/spider.py\n",
    "\n",
    "# import scrapy\n",
    "# from covid_keyword.items import CovidKeywordItem\n",
    "\n",
    "# class CovidSpider(scrapy.Spider):\n",
    "#     name = \"CovidKeyword\"\n",
    "#     allow_domain = ['https://www.naver.com/']\n",
    "#     start_urls = [\"https://search.naver.com/search.naver?where=news&query=코로나%20확진&pd=4\",\n",
    "#                   \"https://search.naver.com/search.naver?where=news&query=코로나%20백신&pd=4\",\n",
    "#                   \"https://search.naver.com/search.naver?where=news&query=코로나%20사회적거리두기&pd=4\",\n",
    "#                  ]\n",
    "       \n",
    "#     def parse(self, response):\n",
    "        \n",
    "    \n",
    "    \n",
    "    \n",
    "    \n",
    "    \n",
    "    \n",
    "#     def parse_title(self, response):\n",
    "#         item = CovidKeywordItem()\n",
    "#         titles = response.xpath('//*[@id=\"main_pack\"]/section/div/div[3]/ul/li/div[1]/div/a/@title').extract()\n",
    "#         links = response.xpath('//*[@id=\"main_pack\"]/section/div/div[3]/ul/li/div[1]/div/a/@href').extract()\n",
    "#         item['pairs'] = [pair for pair in zip(titles, links)]\n",
    "        "
   ]
  },
  {
   "cell_type": "code",
   "execution_count": null,
   "metadata": {},
   "outputs": [],
   "source": [
    "# %%writefile covid_keyword/covid_keyword/spiders/spider.py\n",
    "\n",
    "# import scrapy\n",
    "# from covid_keyword.items import CovidKeywordItem\n",
    "\n",
    "# class CovidSpider(scrapy.Spider):\n",
    "#     name = \"CovidKeyword\"\n",
    "#     allow_domain = ['https://www.naver.com/']\n",
    "#     start_urls = [\"https://search.naver.com/search.naver?where=news&query=&pd=4\"]\n",
    "    \n",
    "#     def __init__(self, keyword='백신', **kwargs):\n",
    "#         self.start_url = f\"https://search.naver.com/search.naver?where=news&query=코로나%20{keyword}&pd=4&ds=&de=\"\n",
    "#         super().__init__(**kwargs)\n",
    "        \n",
    "#     def start_requests(self):\n",
    "#         url = self.start_url\n",
    "#         yield scrapy.Request(url, callback=self.parse)\n",
    "        \n",
    "#     def parse(self, response):\n",
    "#         titles = response.xpath('//*[@id=\"main_pack\"]/section/div/div[3]/ul/li/div[1]/div/a/@title').extract()\n",
    "#         links = response.xpath('//*[@id=\"main_pack\"]/section/div/div[3]/ul/li/div[1]/div/a/@href').extract()\n",
    "#         for pair in zip(titles, links):\n",
    "#             yield pair"
   ]
  },
  {
   "cell_type": "code",
   "execution_count": 33,
   "metadata": {},
   "outputs": [
    {
     "name": "stdout",
     "output_type": "stream",
     "text": [
      "Overwriting run.sh\n"
     ]
    }
   ],
   "source": [
    "%%writefile run.sh\n",
    "cd covid_keyword\n",
    "scrapy crawl CovidKeyword -o keyword.csv -a keyword=확진"
   ]
  },
  {
   "cell_type": "code",
   "execution_count": 36,
   "metadata": {},
   "outputs": [
    {
     "name": "stdout",
     "output_type": "stream",
     "text": [
      "2021-03-02 21:42:17 [scrapy.utils.log] INFO: Scrapy 2.4.1 started (bot: covid_keyword)\n",
      "2021-03-02 21:42:17 [scrapy.utils.log] INFO: Versions: lxml 4.6.2.0, libxml2 2.9.10, cssselect 1.1.0, parsel 1.6.0, w3lib 1.22.0, Twisted 20.3.0, Python 3.6.9 (default, Dec 28 2020, 03:27:25) - [GCC 7.5.0], pyOpenSSL 20.0.1 (OpenSSL 1.1.1j  16 Feb 2021), cryptography 3.4.6, Platform Linux-5.4.0-1037-aws-x86_64-with-debian-buster-sid\n",
      "2021-03-02 21:42:17 [scrapy.utils.log] DEBUG: Using reactor: twisted.internet.epollreactor.EPollReactor\n",
      "2021-03-02 21:42:17 [scrapy.crawler] INFO: Overridden settings:\n",
      "{'BOT_NAME': 'covid_keyword',\n",
      " 'NEWSPIDER_MODULE': 'covid_keyword.spiders',\n",
      " 'ROBOTSTXT_OBEY': True,\n",
      " 'SPIDER_MODULES': ['covid_keyword.spiders']}\n",
      "2021-03-02 21:42:17 [scrapy.extensions.telnet] INFO: Telnet Password: 6def7ee466b1d621\n",
      "2021-03-02 21:42:17 [scrapy.middleware] INFO: Enabled extensions:\n",
      "['scrapy.extensions.corestats.CoreStats',\n",
      " 'scrapy.extensions.telnet.TelnetConsole',\n",
      " 'scrapy.extensions.memusage.MemoryUsage',\n",
      " 'scrapy.extensions.feedexport.FeedExporter',\n",
      " 'scrapy.extensions.logstats.LogStats']\n",
      "2021-03-02 21:42:17 [scrapy.middleware] INFO: Enabled downloader middlewares:\n",
      "['scrapy.downloadermiddlewares.robotstxt.RobotsTxtMiddleware',\n",
      " 'scrapy.downloadermiddlewares.httpauth.HttpAuthMiddleware',\n",
      " 'scrapy.downloadermiddlewares.downloadtimeout.DownloadTimeoutMiddleware',\n",
      " 'scrapy.downloadermiddlewares.defaultheaders.DefaultHeadersMiddleware',\n",
      " 'scrapy.downloadermiddlewares.useragent.UserAgentMiddleware',\n",
      " 'scrapy.downloadermiddlewares.retry.RetryMiddleware',\n",
      " 'scrapy.downloadermiddlewares.redirect.MetaRefreshMiddleware',\n",
      " 'scrapy.downloadermiddlewares.httpcompression.HttpCompressionMiddleware',\n",
      " 'scrapy.downloadermiddlewares.redirect.RedirectMiddleware',\n",
      " 'scrapy.downloadermiddlewares.cookies.CookiesMiddleware',\n",
      " 'scrapy.downloadermiddlewares.httpproxy.HttpProxyMiddleware',\n",
      " 'scrapy.downloadermiddlewares.stats.DownloaderStats']\n",
      "2021-03-02 21:42:17 [scrapy.middleware] INFO: Enabled spider middlewares:\n",
      "['scrapy.spidermiddlewares.httperror.HttpErrorMiddleware',\n",
      " 'scrapy.spidermiddlewares.offsite.OffsiteMiddleware',\n",
      " 'scrapy.spidermiddlewares.referer.RefererMiddleware',\n",
      " 'scrapy.spidermiddlewares.urllength.UrlLengthMiddleware',\n",
      " 'scrapy.spidermiddlewares.depth.DepthMiddleware']\n",
      "2021-03-02 21:42:17 [scrapy.middleware] INFO: Enabled item pipelines:\n",
      "[]\n",
      "2021-03-02 21:42:17 [scrapy.core.engine] INFO: Spider opened\n",
      "2021-03-02 21:42:17 [scrapy.extensions.logstats] INFO: Crawled 0 pages (at 0 pages/min), scraped 0 items (at 0 items/min)\n",
      "2021-03-02 21:42:17 [scrapy.extensions.telnet] INFO: Telnet console listening on 127.0.0.1:6023\n",
      "2021-03-02 21:42:17 [scrapy.core.engine] DEBUG: Crawled (200) <GET https://search.naver.com/robots.txt> (referer: None)\n",
      "2021-03-02 21:42:17 [scrapy.downloadermiddlewares.robotstxt] DEBUG: Forbidden by robots.txt: <GET https://search.naver.com/search.naver?where=news&query=%EC%BD%94%EB%A1%9C%EB%82%98%20%ED%99%95%EC%A7%84&pd=4&ds=&de=>\n",
      "2021-03-02 21:42:17 [scrapy.core.engine] INFO: Closing spider (finished)\n",
      "2021-03-02 21:42:17 [scrapy.statscollectors] INFO: Dumping Scrapy stats:\n",
      "{'downloader/exception_count': 1,\n",
      " 'downloader/exception_type_count/scrapy.exceptions.IgnoreRequest': 1,\n",
      " 'downloader/request_bytes': 226,\n",
      " 'downloader/request_count': 1,\n",
      " 'downloader/request_method_count/GET': 1,\n",
      " 'downloader/response_bytes': 230,\n",
      " 'downloader/response_count': 1,\n",
      " 'downloader/response_status_count/200': 1,\n",
      " 'elapsed_time_seconds': 0.24451,\n",
      " 'finish_reason': 'finished',\n",
      " 'finish_time': datetime.datetime(2021, 3, 2, 12, 42, 17, 467912),\n",
      " 'log_count/DEBUG': 2,\n",
      " 'log_count/INFO': 10,\n",
      " 'memusage/max': 56119296,\n",
      " 'memusage/startup': 56119296,\n",
      " 'response_received_count': 1,\n",
      " 'robotstxt/forbidden': 1,\n",
      " 'robotstxt/request_count': 1,\n",
      " 'robotstxt/response_count': 1,\n",
      " 'robotstxt/response_status_count/200': 1,\n",
      " 'scheduler/dequeued': 1,\n",
      " 'scheduler/dequeued/memory': 1,\n",
      " 'scheduler/enqueued': 1,\n",
      " 'scheduler/enqueued/memory': 1,\n",
      " 'start_time': datetime.datetime(2021, 3, 2, 12, 42, 17, 223402)}\n",
      "2021-03-02 21:42:17 [scrapy.core.engine] INFO: Spider closed (finished)\n"
     ]
    }
   ],
   "source": [
    "!/bin/bash run.sh"
   ]
  },
  {
   "cell_type": "code",
   "execution_count": null,
   "metadata": {},
   "outputs": [],
   "source": []
  }
 ],
 "metadata": {
  "kernelspec": {
   "display_name": "Python 3",
   "language": "python",
   "name": "python3"
  },
  "language_info": {
   "codemirror_mode": {
    "name": "ipython",
    "version": 3
   },
   "file_extension": ".py",
   "mimetype": "text/x-python",
   "name": "python",
   "nbconvert_exporter": "python",
   "pygments_lexer": "ipython3",
   "version": "3.6.9"
  }
 },
 "nbformat": 4,
 "nbformat_minor": 5
}
