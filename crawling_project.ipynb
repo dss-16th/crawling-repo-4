{
 "cells": [
  {
   "cell_type": "markdown",
   "metadata": {},
   "source": [
    "#### 데이터 크롤링 프로젝트\n",
    "- 데이터 수집의 개요\n",
    "    - 수집 목적, 동기 작성\n",
    "- 데이서 수집 계획\n",
    "    - 데이터 수집의 스케쥴\n",
    "    - 데이터 수집 시스템의 구조도\n",
    "- 크롤링하는 방법\n",
    "    - 시스템 성능이 지원되는한 서버에서 크롤링이 되도록 합니다.\n",
    "    - 스크래피 사용, reqeusts or selenium을 사용할때는 무조건 패키지로 만듦\n",
    "- 데이터의 저장\n",
    "    - mongodb, mysql 서버에 크롤링한 데이터가 저장\n",
    "- 코드 관리\n",
    "    - github에서 관리 : notebook 파일보다는 .py 확장자를 가지고 있는 모듈파일로 관리\n",
    "    - pycharm, vsc, atom\n",
    "    - README.md 파일 작성 : 파이썬만 아는 사람이 readme.md 파일 보고 여러분 코드를 사용해볼수 있을 정도의 수준으로 설명을 작성\n",
    "    - 설치 패키지는 requirements.txt 파일로 작성\n",
    "    - requirements.txt : `$ pip install -r requirements.txt`\n",
    "    \n",
    "    ```\n",
    "    pandas\n",
    "    requests==2.24.5\n",
    "    selenium\n",
    "    ```\n",
    "- 프로젝트 회고\n",
    "    - 프로젝트하면 느낀점, 어려웠던점, 배운점 등등\n",
    "    - 추후 개선 방향 및 계획"
   ]
  },
  {
   "cell_type": "code",
   "execution_count": 6,
   "metadata": {},
   "outputs": [],
   "source": [
    "# import requests\n",
    "# from selenium import webdriver"
   ]
  },
  {
   "cell_type": "code",
   "execution_count": 7,
   "metadata": {},
   "outputs": [],
   "source": [
    "# # '코로나 백신' 키워드 뉴스 검색결과\n",
    "# kword = '코로나%20백신'\n",
    "# url = \"https://search.naver.com/search.naver?where=news&query={}&sm=tab_opt&sort=0&photo=0&field=0&reporter_article=&pd=4&ds=&de=&docid=&nso=so%3Ar%2Cp%3A1d%2Ca%3Aall&mynews=0&refresh_start=0&related=0\".format(kword)"
   ]
  },
  {
   "cell_type": "code",
   "execution_count": 8,
   "metadata": {},
   "outputs": [],
   "source": [
    "# options = webdriver.ChromeOptions()\n",
    "# options.add_argument('headless')\n",
    "# driver = webdriver.Chrome(options=options)\n",
    "# driver.get(url)"
   ]
  },
  {
   "cell_type": "code",
   "execution_count": 16,
   "metadata": {},
   "outputs": [
    {
     "ename": "AttributeError",
     "evalue": "'WebDriver' object has no attribute 'xpath'",
     "output_type": "error",
     "traceback": [
      "\u001b[0;31m---------------------------------------------------------------------------\u001b[0m",
      "\u001b[0;31mAttributeError\u001b[0m                            Traceback (most recent call last)",
      "\u001b[0;32m<ipython-input-16-fb0e62a28dd7>\u001b[0m in \u001b[0;36m<module>\u001b[0;34m\u001b[0m\n\u001b[0;32m----> 1\u001b[0;31m \u001b[0marticles\u001b[0m \u001b[0;34m=\u001b[0m \u001b[0mdriver\u001b[0m\u001b[0;34m.\u001b[0m\u001b[0mxpath\u001b[0m\u001b[0;34m(\u001b[0m\u001b[0;34m'//*[@id=\"sp_nws1\"]/div[1]/div/a'\u001b[0m\u001b[0;34m)\u001b[0m\u001b[0;34m\u001b[0m\u001b[0;34m\u001b[0m\u001b[0m\n\u001b[0m\u001b[1;32m      2\u001b[0m \u001b[0mlen\u001b[0m\u001b[0;34m(\u001b[0m\u001b[0marticles\u001b[0m\u001b[0;34m)\u001b[0m\u001b[0;34m,\u001b[0m \u001b[0marticles\u001b[0m\u001b[0;34m\u001b[0m\u001b[0;34m\u001b[0m\u001b[0m\n",
      "\u001b[0;31mAttributeError\u001b[0m: 'WebDriver' object has no attribute 'xpath'"
     ]
    }
   ],
   "source": [
    "# articles = driver.xpath('//*[@id=\"sp_nws1\"]/div[1]/div/a')\n",
    "# len(articles), articles"
   ]
  },
  {
   "cell_type": "code",
   "execution_count": 17,
   "metadata": {},
   "outputs": [],
   "source": [
    "# driver.quit()"
   ]
  },
  {
   "cell_type": "code",
   "execution_count": 1,
   "metadata": {},
   "outputs": [],
   "source": [
    "import scrapy, requests\n",
    "from scrapy.http import TextResponse"
   ]
  },
  {
   "cell_type": "markdown",
   "metadata": {},
   "source": [
    "### 네이버 뉴스 기사 검색 키워드 : \"코로나 백신\""
   ]
  },
  {
   "cell_type": "code",
   "execution_count": 2,
   "metadata": {},
   "outputs": [],
   "source": [
    "URL = \"https://search.naver.com/search.naver?where=news&query=코로나%20백신&sm=tab_opt&sort=0&photo=0&field=0&reporter_article=&pd=4&ds=&de=&docid=&nso=so%3Ar%2Cp%3A1d%2Ca%3Aall&mynews=0&refresh_start=0&related=0\"\n",
    "# URL = \"https://search.naver.com/search.naver?where=news&query=코로나%20백신&pd=4&ds=&de=\""
   ]
  },
  {
   "cell_type": "code",
   "execution_count": 3,
   "metadata": {},
   "outputs": [
    {
     "data": {
      "text/plain": [
       "<200 https://search.naver.com/search.naver?where=news&query=%EC%BD%94%EB%A1%9C%EB%82%98%20%EB%B0%B1%EC%8B%A0&sm=tab_opt&sort=0&photo=0&field=0&reporter_article=&pd=4&ds=&de=&docid=&nso=so%3Ar%2Cp%3A1d%2Ca%3Aall&mynews=0&refresh_start=0&related=0>"
      ]
     },
     "execution_count": 3,
     "metadata": {},
     "output_type": "execute_result"
    }
   ],
   "source": [
    "headers = {'user-agent': 'Mozilla/5.0 (Windows NT 10.0; Win64; x64) AppleWebKit/537.36 (KHTML, like Gecko) Chrome/88.0.4324.150 Safari/537.36 Edg/88.0.705.68'}\n",
    "req = requests.get(URL, headers=headers)\n",
    "response = TextResponse(req.url, body=req.text, encoding='utf-8')\n",
    "response"
   ]
  },
  {
   "cell_type": "code",
   "execution_count": 32,
   "metadata": {},
   "outputs": [],
   "source": [
    "# title = response.xpath('//*[@id=\"sp_nws1\"]/div[1]/div/a/@title').extract()\n",
    "# title"
   ]
  },
  {
   "cell_type": "code",
   "execution_count": 4,
   "metadata": {},
   "outputs": [
    {
     "data": {
      "text/plain": [
       "['백신접종 D-1…AZ백신 전국으로 배송…보관온도 이탈-출발지연도(종합)',\n",
       " '당국, \\'온도 이탈\\' AZ 백신 \"폐기 안 하고 사용\"',\n",
       " '26일, 코로나 백신 접종 시작…첫날 전국서 5266명 맞는다',\n",
       " \"무슨 전단 붙이다 체포됐나 봤더니 '백신=죽음'\",\n",
       " \"코로나19 백신 접종 D-1…AZ 백신 전국 배송·'1호 접종자' 특정 않기로\",\n",
       " '백신접종 D-1, 서울확진 112명…병원·어린이집 감염 지속(종합)',\n",
       " '제주 향하던 백신, 온도문제로 일부 회수…새 백신 교체 공급 완료',\n",
       " '[단독] 부산 1호 백신접종자는 해운대 50대 여성 간호사',\n",
       " 'FDA \"존슨앤드존슨 백신, 안전하고 효과적\"…승인 임박',\n",
       " '존슨앤드존슨 백신 승인 임박…FDA \"안정적\"']"
      ]
     },
     "execution_count": 4,
     "metadata": {},
     "output_type": "execute_result"
    }
   ],
   "source": [
    "title = response.xpath('//*[@id=\"main_pack\"]/section/div/div[3]/ul/li/div[1]/div/a/@title').extract()\n",
    "title"
   ]
  },
  {
   "cell_type": "code",
   "execution_count": 5,
   "metadata": {},
   "outputs": [],
   "source": [
    "# '코로나 백신' 키워드 함수 선언\n",
    "\n",
    "def title_vac():\n",
    "    URL = \"https://search.naver.com/search.naver?where=news&query=코로나%20백신&sm=tab_opt&sort=0&photo=0&field=0&reporter_article=&pd=4&ds=&de=&docid=&nso=so%3Ar%2Cp%3A1d%2Ca%3Aall&mynews=0&refresh_start=0&related=0\"\n",
    "    # URL = \"https://search.naver.com/search.naver?where=news&query=코로나%20백신&pd=4&ds=&de=\"\n",
    "    headers = {'user-agent': 'Mozilla/5.0 (Windows NT 10.0; Win64; x64) AppleWebKit/537.36 (KHTML, like Gecko) Chrome/88.0.4324.150 Safari/537.36 Edg/88.0.705.68'}\n",
    "    req = requests.get(URL, headers=headers)\n",
    "    response = TextResponse(req.url, body=req.text, encoding='utf-8')\n",
    "    title = response.xpath('//*[@id=\"main_pack\"]/section/div/div[3]/ul/li/div[1]/div/a/@title').extract()\n",
    "    return title"
   ]
  },
  {
   "cell_type": "code",
   "execution_count": 6,
   "metadata": {},
   "outputs": [
    {
     "data": {
      "text/plain": [
       "['백신접종 D-1…AZ백신 전국으로 배송…보관온도 이탈-출발지연도(종합)',\n",
       " '당국, \\'온도 이탈\\' AZ 백신 \"폐기 안 하고 사용\"',\n",
       " '26일, 코로나 백신 접종 시작…첫날 전국서 5266명 맞는다',\n",
       " \"무슨 전단 붙이다 체포됐나 봤더니 '백신=죽음'\",\n",
       " \"코로나19 백신 접종 D-1…AZ 백신 전국 배송·'1호 접종자' 특정 않기로\",\n",
       " '백신접종 D-1, 서울확진 112명…병원·어린이집 감염 지속(종합)',\n",
       " '제주 향하던 백신, 온도문제로 일부 회수…새 백신 교체 공급 완료',\n",
       " '[단독] 부산 1호 백신접종자는 해운대 50대 여성 간호사',\n",
       " 'FDA \"존슨앤드존슨 백신, 안전하고 효과적\"…승인 임박',\n",
       " '존슨앤드존슨 백신 승인 임박…FDA \"안정적\"']"
      ]
     },
     "execution_count": 6,
     "metadata": {},
     "output_type": "execute_result"
    }
   ],
   "source": [
    "title_vac()"
   ]
  },
  {
   "cell_type": "markdown",
   "metadata": {},
   "source": [
    "### 네이버 뉴스 기사 검색 키워드 : \"코로나 사회적거리두기\""
   ]
  },
  {
   "cell_type": "code",
   "execution_count": 36,
   "metadata": {},
   "outputs": [
    {
     "data": {
      "text/plain": [
       "[\"정부, 모레 '거리두기 조정안' 발표…내주부터 적용\",\n",
       " '학부모 거리두기 2.5단계 매일등교 70% \\'찬성\\'…\"등교확대 제안\"',\n",
       " '정부 \"검사량 따라 환자 수 등락\"…26일 거리두기 조정안 발표(종합)',\n",
       " '“거리두기 상향 조정돼도 개학 첫주는 현재 단계대로 등교”',\n",
       " \"정부, 모레 '거리두기 조정안' 발표…내주부터 적용(종합)\",\n",
       " '[속보] 거리두기 방역위반 1235명…유흥시설 관련이 절반',\n",
       " \"[단독] 코로나 지침 위반 과태료, '10만원→20만원' 올릴 듯\",\n",
       " '오늘 다시 400명대 예상…거리두기 조정안 이르면 26일 발표',\n",
       " '신규 확진 다시 400명대…이틀 뒤 거리두기 조정 어떻게',\n",
       " '거리두기 완화 이후 주말 이동량 7.6% 증가']"
      ]
     },
     "execution_count": 36,
     "metadata": {},
     "output_type": "execute_result"
    }
   ],
   "source": [
    "URL = \"https://search.naver.com/search.naver?where=news&query=코로나%20사회적거리두기&sm=tab_opt&sort=0&photo=0&field=0&reporter_article=&pd=4&ds=&de=&docid=&nso=so%3Ar%2Cp%3A1d%2Ca%3Aall&mynews=0&refresh_start=0&related=0\"\n",
    "headers = {'user-agent': 'Mozilla/5.0 (Windows NT 10.0; Win64; x64) AppleWebKit/537.36 (KHTML, like Gecko) Chrome/88.0.4324.150 Safari/537.36 Edg/88.0.705.68'}\n",
    "req = requests.get(URL, headers=headers)\n",
    "response = TextResponse(req.url, body=req.text, encoding='utf-8')\n",
    "title = response.xpath('//*[@id=\"main_pack\"]/section/div/div[3]/ul/li/div[1]/div/a/@title').extract()\n",
    "title"
   ]
  },
  {
   "cell_type": "code",
   "execution_count": 7,
   "metadata": {},
   "outputs": [],
   "source": [
    "def title_sodi():\n",
    "    URL = \"https://search.naver.com/search.naver?where=news&query=코로나%20사회적거리두기&sm=tab_opt&sort=0&photo=0&field=0&reporter_article=&pd=4&ds=&de=&docid=&nso=so%3Ar%2Cp%3A1d%2Ca%3Aall&mynews=0&refresh_start=0&related=0\"\n",
    "    # URL = \"https://search.naver.com/search.naver?where=news&query=코로나%20사회적거리두기&pd=4&ds=&de=\"\n",
    "    headers = {'user-agent': 'Mozilla/5.0 (Windows NT 10.0; Win64; x64) AppleWebKit/537.36 (KHTML, like Gecko) Chrome/88.0.4324.150 Safari/537.36 Edg/88.0.705.68'}\n",
    "    req = requests.get(URL, headers=headers)\n",
    "    response = TextResponse(req.url, body=req.text, encoding='utf-8')\n",
    "    title = response.xpath('//*[@id=\"main_pack\"]/section/div/div[3]/ul/li/div[1]/div/a/@title').extract()\n",
    "    return title"
   ]
  },
  {
   "cell_type": "code",
   "execution_count": 8,
   "metadata": {
    "scrolled": true
   },
   "outputs": [
    {
     "data": {
      "text/plain": [
       "['정부 \"사회적 거리두기 근본 개편안 초안 다음주 공개\"',\n",
       " '오늘 400명 안팎…내일 거리두기 조정, 현단계 연장 가능성도',\n",
       " '신규확진 396명, 국내 일평균 395.4명…내일 거리두기 조정(종합)',\n",
       " '불안한 400명 아래…내일 거리두기 조정, 현 단계 연장 가능성도(종합)',\n",
       " '코로나 신규 확진 396명…26일 첫 백신 접종·거리두기 개편안도 발표',\n",
       " '사회적 거리두기 강화로 숙박·음식점업 종사자 감소폭 역대 최대',\n",
       " '내일 거리두기 단계 \\'유지\\' 가능성…중수본 \"확산 커지지 않아 긍정적\"',\n",
       " '정부 “거리두기 개편안 다음주 공개 검토… 모임금지 연장 내일 발표”',\n",
       " '백신-거리두기 연계 청사진 나올까…\"접종률 20% 넘는 5~6월 가능\"',\n",
       " '거리두기 완화하자 中企 경기전망 꿈틀']"
      ]
     },
     "execution_count": 8,
     "metadata": {},
     "output_type": "execute_result"
    }
   ],
   "source": [
    "title_sodi()"
   ]
  },
  {
   "cell_type": "code",
   "execution_count": null,
   "metadata": {},
   "outputs": [],
   "source": []
  }
 ],
 "metadata": {
  "kernelspec": {
   "display_name": "Python 3",
   "language": "python",
   "name": "python3"
  },
  "language_info": {
   "codemirror_mode": {
    "name": "ipython",
    "version": 3
   },
   "file_extension": ".py",
   "mimetype": "text/x-python",
   "name": "python",
   "nbconvert_exporter": "python",
   "pygments_lexer": "ipython3",
   "version": "3.8.3"
  }
 },
 "nbformat": 4,
 "nbformat_minor": 5
}
