{
 "cells": [
  {
   "cell_type": "markdown",
   "metadata": {},
   "source": [
    "## scrapy 실행"
   ]
  },
  {
   "cell_type": "code",
   "execution_count": 83,
   "metadata": {},
   "outputs": [],
   "source": [
    "import scrapy, requests\n",
    "from scrapy.http import TextResponse"
   ]
  },
  {
   "cell_type": "code",
   "execution_count": 84,
   "metadata": {},
   "outputs": [
    {
     "name": "stdout",
     "output_type": "stream",
     "text": [
      "Error: scrapy.cfg already exists in /home/ubuntu/python3/notebook/covid_19/covid_19_total\r\n"
     ]
    }
   ],
   "source": [
    "#!rm -rf covid_19_total\n",
    "!scrapy startproject covid_19_total"
   ]
  },
  {
   "cell_type": "code",
   "execution_count": 2,
   "metadata": {},
   "outputs": [
    {
     "data": {
      "text/plain": [
       "<200 http://ncov.mohw.go.kr/>"
      ]
     },
     "execution_count": 2,
     "metadata": {},
     "output_type": "execute_result"
    }
   ],
   "source": [
    "headers = {'user-agent':'Mozilla/5.0 (Macintosh; Intel Mac OS X 10_15_7) AppleWebKit/537.36 (KHTML, like Gecko) Chrome/88.0.4324.182 Safari/537.36'}\n",
    "req = requests.get('http://ncov.mohw.go.kr/',headers=headers)\n",
    "response = TextResponse(req.url, body=req.text, encoding='utf-8')\n",
    "response"
   ]
  },
  {
   "cell_type": "code",
   "execution_count": 70,
   "metadata": {},
   "outputs": [
    {
     "data": {
      "text/plain": [
       "('21.3.5. 00시 기준', [381], [17], 398, '2', '1.5')"
      ]
     },
     "execution_count": 70,
     "metadata": {},
     "output_type": "execute_result"
    }
   ],
   "source": [
    "date = response.xpath('/html/body/div/div[5]/div[2]/div/div[1]/div[1]/h2/a/span[1]/text()').extract()\n",
    "date = list(date)[0].split(\" \") \n",
    "date = date[0:3]\n",
    "date = \" \".join(date)\n",
    "date = date.replace(\"(\",\"21.\").replace(\",\",\"\")\n",
    "country_in =list(map(int, response.xpath('/html/body/div/div[5]/div[2]/div/div[1]/div[1]/div[1]/div/ul/li[1]/span[2]/text()').extract()))\n",
    "country_out =list(map(int, response.xpath('/html/body/div/div[5]/div[2]/div/div[1]/div[1]/div[1]/div/ul/li[2]/span[2]/text()').extract()))\n",
    "total_country = [country_in+country_out for country_in,country_out in zip(country_in,country_out)][0]\n",
    "capital_distance = response.xpath('//*[@id=\"main_maplayout\"]/button[9]/span[2]/text()').extract()[0]\n",
    "noncapital_distance = response.xpath('//*[@id=\"main_maplayout\"]/button[17]/span[2]/text()').extract()[0]\n",
    "\n",
    "date,country_in, country_out, total_country,capital_distance,noncapital_distance\n"
   ]
  },
  {
   "cell_type": "code",
   "execution_count": 13,
   "metadata": {
    "scrolled": true
   },
   "outputs": [
    {
     "name": "stdout",
     "output_type": "stream",
     "text": [
      "Overwriting covid_19_total/covid_19_total/items.py\n"
     ]
    }
   ],
   "source": [
    "%%writefile covid_19_total/covid_19_total/items.py\n",
    "import scrapy\n",
    "\n",
    "\n",
    "class Covid19TotalItem(scrapy.Item):\n",
    "    date = scrapy.Field()\n",
    "    country_in = scrapy.Field()\n",
    "    country_out = scrapy.Field()\n",
    "    total_country = scrapy.Field()\n",
    "    capital_distance = scrapy.Field()\n",
    "    noncapital_distance = scrapy.Field()"
   ]
  },
  {
   "cell_type": "code",
   "execution_count": 71,
   "metadata": {},
   "outputs": [
    {
     "name": "stdout",
     "output_type": "stream",
     "text": [
      "Overwriting covid_19_total/covid_19_total/spiders/spider.py\n"
     ]
    }
   ],
   "source": [
    "%%writefile  covid_19_total/covid_19_total/spiders/spider.py\n",
    "import scrapy,re\n",
    "from covid_19_total.items import Covid19TotalItem\n",
    "\n",
    "class spider(scrapy.Spider):\n",
    "    name = \"covid_19_total\"\n",
    "    start_urls =  [\"http://ncov.mohw.go.kr/\"]\n",
    "    \n",
    "    def parse(self, response):  \n",
    "#         links = response.xpath('/html/head/meta[8]/@content').extract()\n",
    "#         for link in links:\n",
    "            yield scrapy.Request(\"http://ncov.mohw.go.kr/\", callback=self.parse_content)\n",
    "   \n",
    "    def parse_content(self,response):\n",
    "        item = Covid19TotalItem()\n",
    "        date = response.xpath('/html/body/div/div[5]/div[2]/div/div[1]/div[1]/h2/a/span[1]/text()').extract()\n",
    "        date = list(date)[0].split(\" \") \n",
    "        date = date[0:3]\n",
    "        date = \" \".join(date)\n",
    "        item['date'] = date.replace(\"(\",\"21.\").replace(\",\",\"\")\n",
    "        item['country_in'] =list(map(int, response.xpath('/html/body/div/div[5]/div[2]/div/div[1]/div[1]/div[1]/div/ul/li[1]/span[2]/text()').extract()))\n",
    "        item['country_out'] =list(map(int, response.xpath('/html/body/div/div[5]/div[2]/div/div[1]/div[1]/div[1]/div/ul/li[2]/span[2]/text()').extract()))\n",
    "        item['total_country'] = [item['country_in']+item['country_out'] for item['country_in'],item['country_out'] in zip(item['country_in'],item['country_out'])][0]\n",
    "        item['capital_distance'] = response.xpath('//*[@id=\"main_maplayout\"]/button[9]/span[2]/text()').extract()[0]\n",
    "        item['noncapital_distance'] = response.xpath('//*[@id=\"main_maplayout\"]/button[17]/span[2]/text()').extract()[0]\n",
    "        yield item"
   ]
  },
  {
   "cell_type": "code",
   "execution_count": 72,
   "metadata": {},
   "outputs": [
    {
     "data": {
      "text/plain": [
       "'/home/ubuntu/python3/notebook/covid_19'"
      ]
     },
     "execution_count": 72,
     "metadata": {},
     "output_type": "execute_result"
    }
   ],
   "source": [
    "%pwd"
   ]
  },
  {
   "cell_type": "code",
   "execution_count": 73,
   "metadata": {},
   "outputs": [
    {
     "name": "stdout",
     "output_type": "stream",
     "text": [
      "Overwriting run.sh\n"
     ]
    }
   ],
   "source": [
    "%%writefile run.sh\n",
    "cd /home/ubuntu/python3/notebook/covid_19/covid_19_total/\n",
    "scrapy crawl covid_19_total -o covid_19_total.csv"
   ]
  },
  {
   "cell_type": "code",
   "execution_count": 74,
   "metadata": {
    "collapsed": true
   },
   "outputs": [
    {
     "name": "stdout",
     "output_type": "stream",
     "text": [
      "2021-03-05 10:58:59 [scrapy.utils.log] INFO: Scrapy 2.4.1 started (bot: covid_19_total)\n",
      "2021-03-05 10:58:59 [scrapy.utils.log] INFO: Versions: lxml 4.6.2.0, libxml2 2.9.10, cssselect 1.1.0, parsel 1.6.0, w3lib 1.22.0, Twisted 20.3.0, Python 3.6.9 (default, Dec 25 2020, 07:37:56) - [GCC 7.5.0], pyOpenSSL 20.0.1 (OpenSSL 1.1.1j  16 Feb 2021), cryptography 3.4.6, Platform Linux-5.4.0-1038-aws-x86_64-with-debian-buster-sid\n",
      "2021-03-05 10:58:59 [scrapy.utils.log] DEBUG: Using reactor: twisted.internet.epollreactor.EPollReactor\n",
      "2021-03-05 10:58:59 [scrapy.crawler] INFO: Overridden settings:\n",
      "{'BOT_NAME': 'covid_19_total',\n",
      " 'NEWSPIDER_MODULE': 'covid_19_total.spiders',\n",
      " 'ROBOTSTXT_OBEY': True,\n",
      " 'SPIDER_MODULES': ['covid_19_total.spiders']}\n",
      "2021-03-05 10:58:59 [scrapy.extensions.telnet] INFO: Telnet Password: 1bb1d494a2498cac\n",
      "2021-03-05 10:58:59 [scrapy.middleware] INFO: Enabled extensions:\n",
      "['scrapy.extensions.corestats.CoreStats',\n",
      " 'scrapy.extensions.telnet.TelnetConsole',\n",
      " 'scrapy.extensions.memusage.MemoryUsage',\n",
      " 'scrapy.extensions.feedexport.FeedExporter',\n",
      " 'scrapy.extensions.logstats.LogStats']\n",
      "2021-03-05 10:58:59 [scrapy.middleware] INFO: Enabled downloader middlewares:\n",
      "['scrapy.downloadermiddlewares.robotstxt.RobotsTxtMiddleware',\n",
      " 'scrapy.downloadermiddlewares.httpauth.HttpAuthMiddleware',\n",
      " 'scrapy.downloadermiddlewares.downloadtimeout.DownloadTimeoutMiddleware',\n",
      " 'scrapy.downloadermiddlewares.defaultheaders.DefaultHeadersMiddleware',\n",
      " 'scrapy.downloadermiddlewares.useragent.UserAgentMiddleware',\n",
      " 'scrapy.downloadermiddlewares.retry.RetryMiddleware',\n",
      " 'scrapy.downloadermiddlewares.redirect.MetaRefreshMiddleware',\n",
      " 'scrapy.downloadermiddlewares.httpcompression.HttpCompressionMiddleware',\n",
      " 'scrapy.downloadermiddlewares.redirect.RedirectMiddleware',\n",
      " 'scrapy.downloadermiddlewares.cookies.CookiesMiddleware',\n",
      " 'scrapy.downloadermiddlewares.httpproxy.HttpProxyMiddleware',\n",
      " 'scrapy.downloadermiddlewares.stats.DownloaderStats']\n",
      "2021-03-05 10:58:59 [scrapy.middleware] INFO: Enabled spider middlewares:\n",
      "['scrapy.spidermiddlewares.httperror.HttpErrorMiddleware',\n",
      " 'scrapy.spidermiddlewares.offsite.OffsiteMiddleware',\n",
      " 'scrapy.spidermiddlewares.referer.RefererMiddleware',\n",
      " 'scrapy.spidermiddlewares.urllength.UrlLengthMiddleware',\n",
      " 'scrapy.spidermiddlewares.depth.DepthMiddleware']\n",
      "2021-03-05 10:58:59 [scrapy.middleware] INFO: Enabled item pipelines:\n",
      "[]\n",
      "2021-03-05 10:58:59 [scrapy.core.engine] INFO: Spider opened\n",
      "2021-03-05 10:58:59 [scrapy.extensions.logstats] INFO: Crawled 0 pages (at 0 pages/min), scraped 0 items (at 0 items/min)\n",
      "2021-03-05 10:58:59 [scrapy.extensions.telnet] INFO: Telnet console listening on 127.0.0.1:6023\n",
      "2021-03-05 10:58:59 [scrapy.core.engine] DEBUG: Crawled (404) <GET http://ncov.mohw.go.kr/robots.txt> (referer: None)\n",
      "2021-03-05 10:58:59 [protego] DEBUG: Rule at line 19 without any user agent to enforce it on.\n",
      "2021-03-05 10:58:59 [protego] DEBUG: Rule at line 20 without any user agent to enforce it on.\n",
      "2021-03-05 10:58:59 [protego] DEBUG: Rule at line 21 without any user agent to enforce it on.\n",
      "2021-03-05 10:58:59 [protego] DEBUG: Rule at line 22 without any user agent to enforce it on.\n",
      "2021-03-05 10:58:59 [protego] DEBUG: Rule at line 23 without any user agent to enforce it on.\n",
      "2021-03-05 10:58:59 [protego] DEBUG: Rule at line 24 without any user agent to enforce it on.\n",
      "2021-03-05 10:58:59 [protego] DEBUG: Rule at line 25 without any user agent to enforce it on.\n",
      "2021-03-05 10:58:59 [protego] DEBUG: Rule at line 26 without any user agent to enforce it on.\n",
      "2021-03-05 10:58:59 [protego] DEBUG: Rule at line 28 without any user agent to enforce it on.\n",
      "2021-03-05 10:58:59 [protego] DEBUG: Rule at line 30 without any user agent to enforce it on.\n",
      "2021-03-05 10:58:59 [protego] DEBUG: Rule at line 31 without any user agent to enforce it on.\n",
      "2021-03-05 10:58:59 [protego] DEBUG: Rule at line 32 without any user agent to enforce it on.\n",
      "2021-03-05 10:58:59 [protego] DEBUG: Rule at line 33 without any user agent to enforce it on.\n",
      "2021-03-05 10:58:59 [protego] DEBUG: Rule at line 35 without any user agent to enforce it on.\n",
      "2021-03-05 10:58:59 [protego] DEBUG: Rule at line 36 without any user agent to enforce it on.\n",
      "2021-03-05 10:58:59 [protego] DEBUG: Rule at line 37 without any user agent to enforce it on.\n",
      "2021-03-05 10:58:59 [protego] DEBUG: Rule at line 38 without any user agent to enforce it on.\n",
      "2021-03-05 10:58:59 [protego] DEBUG: Rule at line 40 without any user agent to enforce it on.\n",
      "2021-03-05 10:58:59 [protego] DEBUG: Rule at line 41 without any user agent to enforce it on.\n",
      "2021-03-05 10:58:59 [protego] DEBUG: Rule at line 42 without any user agent to enforce it on.\n",
      "2021-03-05 10:58:59 [protego] DEBUG: Rule at line 43 without any user agent to enforce it on.\n",
      "2021-03-05 10:58:59 [protego] DEBUG: Rule at line 45 without any user agent to enforce it on.\n",
      "2021-03-05 10:58:59 [protego] DEBUG: Rule at line 46 without any user agent to enforce it on.\n",
      "2021-03-05 10:58:59 [protego] DEBUG: Rule at line 47 without any user agent to enforce it on.\n",
      "2021-03-05 10:58:59 [protego] DEBUG: Rule at line 48 without any user agent to enforce it on.\n",
      "2021-03-05 10:58:59 [protego] DEBUG: Rule at line 49 without any user agent to enforce it on.\n",
      "2021-03-05 10:58:59 [protego] DEBUG: Rule at line 50 without any user agent to enforce it on.\n",
      "2021-03-05 10:58:59 [protego] DEBUG: Rule at line 53 without any user agent to enforce it on.\n",
      "2021-03-05 10:58:59 [protego] DEBUG: Rule at line 54 without any user agent to enforce it on.\n",
      "2021-03-05 10:58:59 [protego] DEBUG: Rule at line 55 without any user agent to enforce it on.\n",
      "2021-03-05 10:58:59 [protego] DEBUG: Rule at line 58 without any user agent to enforce it on.\n",
      "2021-03-05 10:58:59 [protego] DEBUG: Rule at line 59 without any user agent to enforce it on.\n",
      "2021-03-05 10:58:59 [protego] DEBUG: Rule at line 61 without any user agent to enforce it on.\n",
      "2021-03-05 10:58:59 [protego] DEBUG: Rule at line 62 without any user agent to enforce it on.\n",
      "2021-03-05 10:58:59 [protego] DEBUG: Rule at line 63 without any user agent to enforce it on.\n",
      "2021-03-05 10:58:59 [scrapy.core.engine] DEBUG: Crawled (200) <GET http://ncov.mohw.go.kr/> (referer: None)\n",
      "2021-03-05 10:58:59 [scrapy.core.engine] DEBUG: Crawled (200) <GET http://ncov.mohw.go.kr/> (referer: http://ncov.mohw.go.kr/)\n",
      "2021-03-05 10:59:00 [scrapy.core.scraper] DEBUG: Scraped from <200 http://ncov.mohw.go.kr/>\n",
      "{'capital_distance': '2',\n",
      " 'country_in': 381,\n",
      " 'country_out': 17,\n",
      " 'date': '21.3.5. 00시 기준',\n",
      " 'noncapital_distance': '1.5',\n",
      " 'total_country': 398}\n",
      "2021-03-05 10:59:00 [scrapy.core.engine] INFO: Closing spider (finished)\n",
      "2021-03-05 10:59:00 [scrapy.extensions.feedexport] INFO: Stored csv feed (1 items) in: covid_19_total.csv\n",
      "2021-03-05 10:59:00 [scrapy.statscollectors] INFO: Dumping Scrapy stats:\n",
      "{'downloader/request_bytes': 911,\n",
      " 'downloader/request_count': 3,\n",
      " 'downloader/request_method_count/GET': 3,\n",
      " 'downloader/response_bytes': 424379,\n",
      " 'downloader/response_count': 3,\n",
      " 'downloader/response_status_count/200': 2,\n",
      " 'downloader/response_status_count/404': 1,\n",
      " 'elapsed_time_seconds': 0.693241,\n",
      " 'finish_reason': 'finished',\n",
      " 'finish_time': datetime.datetime(2021, 3, 5, 1, 59, 0, 71987),\n",
      " 'item_scraped_count': 1,\n",
      " 'log_count/DEBUG': 39,\n",
      " 'log_count/INFO': 11,\n",
      " 'memusage/max': 55406592,\n",
      " 'memusage/startup': 55406592,\n",
      " 'request_depth_max': 1,\n",
      " 'response_received_count': 3,\n",
      " 'robotstxt/request_count': 1,\n",
      " 'robotstxt/response_count': 1,\n",
      " 'robotstxt/response_status_count/404': 1,\n",
      " 'scheduler/dequeued': 2,\n",
      " 'scheduler/dequeued/memory': 2,\n",
      " 'scheduler/enqueued': 2,\n",
      " 'scheduler/enqueued/memory': 2,\n",
      " 'start_time': datetime.datetime(2021, 3, 5, 1, 58, 59, 378746)}\n",
      "2021-03-05 10:59:00 [scrapy.core.engine] INFO: Spider closed (finished)\n"
     ]
    }
   ],
   "source": [
    "!/bin/bash run.sh"
   ]
  },
  {
   "cell_type": "code",
   "execution_count": 75,
   "metadata": {
    "collapsed": true
   },
   "outputs": [
    {
     "data": {
      "text/html": [
       "<div>\n",
       "<style scoped>\n",
       "    .dataframe tbody tr th:only-of-type {\n",
       "        vertical-align: middle;\n",
       "    }\n",
       "\n",
       "    .dataframe tbody tr th {\n",
       "        vertical-align: top;\n",
       "    }\n",
       "\n",
       "    .dataframe thead th {\n",
       "        text-align: right;\n",
       "    }\n",
       "</style>\n",
       "<table border=\"1\" class=\"dataframe\">\n",
       "  <thead>\n",
       "    <tr style=\"text-align: right;\">\n",
       "      <th></th>\n",
       "      <th>capital_distance</th>\n",
       "      <th>country_in</th>\n",
       "      <th>country_out</th>\n",
       "      <th>date</th>\n",
       "      <th>noncapital_distance</th>\n",
       "      <th>total_country</th>\n",
       "    </tr>\n",
       "  </thead>\n",
       "  <tbody>\n",
       "    <tr>\n",
       "      <th>0</th>\n",
       "      <td>2</td>\n",
       "      <td>426</td>\n",
       "      <td>18</td>\n",
       "      <td>(3.3. 00시 기준, '20.1.3. 이후 누계)</td>\n",
       "      <td>1.5</td>\n",
       "      <td>444</td>\n",
       "    </tr>\n",
       "    <tr>\n",
       "      <th>1</th>\n",
       "      <td>capital_distance</td>\n",
       "      <td>country_in</td>\n",
       "      <td>country_out</td>\n",
       "      <td>date</td>\n",
       "      <td>noncapital_distance</td>\n",
       "      <td>total_country</td>\n",
       "    </tr>\n",
       "    <tr>\n",
       "      <th>2</th>\n",
       "      <td>2</td>\n",
       "      <td>426</td>\n",
       "      <td>18</td>\n",
       "      <td>(3.3. 00시 기준, '20.1.3. 이후 누계)</td>\n",
       "      <td>1.5</td>\n",
       "      <td>444</td>\n",
       "    </tr>\n",
       "    <tr>\n",
       "      <th>3</th>\n",
       "      <td>capital_distance</td>\n",
       "      <td>country_in</td>\n",
       "      <td>country_out</td>\n",
       "      <td>date</td>\n",
       "      <td>noncapital_distance</td>\n",
       "      <td>total_country</td>\n",
       "    </tr>\n",
       "    <tr>\n",
       "      <th>4</th>\n",
       "      <td>2</td>\n",
       "      <td>401</td>\n",
       "      <td>23</td>\n",
       "      <td>(3.4. 00시 기준, '20.1.3. 이후 누계)</td>\n",
       "      <td>1.5</td>\n",
       "      <td>424</td>\n",
       "    </tr>\n",
       "    <tr>\n",
       "      <th>5</th>\n",
       "      <td>capital_distance</td>\n",
       "      <td>country_in</td>\n",
       "      <td>country_out</td>\n",
       "      <td>date</td>\n",
       "      <td>noncapital_distance</td>\n",
       "      <td>total_country</td>\n",
       "    </tr>\n",
       "    <tr>\n",
       "      <th>6</th>\n",
       "      <td>2</td>\n",
       "      <td>381</td>\n",
       "      <td>17</td>\n",
       "      <td>3.5. 00시 기준</td>\n",
       "      <td>1.5</td>\n",
       "      <td>398</td>\n",
       "    </tr>\n",
       "    <tr>\n",
       "      <th>7</th>\n",
       "      <td>capital_distance</td>\n",
       "      <td>country_in</td>\n",
       "      <td>country_out</td>\n",
       "      <td>date</td>\n",
       "      <td>noncapital_distance</td>\n",
       "      <td>total_country</td>\n",
       "    </tr>\n",
       "    <tr>\n",
       "      <th>8</th>\n",
       "      <td>2</td>\n",
       "      <td>381</td>\n",
       "      <td>17</td>\n",
       "      <td>3.5. 00시 기준</td>\n",
       "      <td>1.5</td>\n",
       "      <td>398</td>\n",
       "    </tr>\n",
       "    <tr>\n",
       "      <th>9</th>\n",
       "      <td>capital_distance</td>\n",
       "      <td>country_in</td>\n",
       "      <td>country_out</td>\n",
       "      <td>date</td>\n",
       "      <td>noncapital_distance</td>\n",
       "      <td>total_country</td>\n",
       "    </tr>\n",
       "    <tr>\n",
       "      <th>10</th>\n",
       "      <td>2</td>\n",
       "      <td>381</td>\n",
       "      <td>17</td>\n",
       "      <td>3.5. 00시 기준</td>\n",
       "      <td>1.5</td>\n",
       "      <td>398</td>\n",
       "    </tr>\n",
       "    <tr>\n",
       "      <th>11</th>\n",
       "      <td>capital_distance</td>\n",
       "      <td>country_in</td>\n",
       "      <td>country_out</td>\n",
       "      <td>date</td>\n",
       "      <td>noncapital_distance</td>\n",
       "      <td>total_country</td>\n",
       "    </tr>\n",
       "    <tr>\n",
       "      <th>12</th>\n",
       "      <td>2</td>\n",
       "      <td>381</td>\n",
       "      <td>17</td>\n",
       "      <td>21.3.5. 00시 기준</td>\n",
       "      <td>1.5</td>\n",
       "      <td>398</td>\n",
       "    </tr>\n",
       "  </tbody>\n",
       "</table>\n",
       "</div>"
      ],
      "text/plain": [
       "    capital_distance  country_in  country_out                           date  \\\n",
       "0                  2         426           18  (3.3. 00시 기준, '20.1.3. 이후 누계)   \n",
       "1   capital_distance  country_in  country_out                           date   \n",
       "2                  2         426           18  (3.3. 00시 기준, '20.1.3. 이후 누계)   \n",
       "3   capital_distance  country_in  country_out                           date   \n",
       "4                  2         401           23  (3.4. 00시 기준, '20.1.3. 이후 누계)   \n",
       "5   capital_distance  country_in  country_out                           date   \n",
       "6                  2         381           17                    3.5. 00시 기준   \n",
       "7   capital_distance  country_in  country_out                           date   \n",
       "8                  2         381           17                    3.5. 00시 기준   \n",
       "9   capital_distance  country_in  country_out                           date   \n",
       "10                 2         381           17                    3.5. 00시 기준   \n",
       "11  capital_distance  country_in  country_out                           date   \n",
       "12                 2         381           17                 21.3.5. 00시 기준   \n",
       "\n",
       "    noncapital_distance  total_country  \n",
       "0                   1.5            444  \n",
       "1   noncapital_distance  total_country  \n",
       "2                   1.5            444  \n",
       "3   noncapital_distance  total_country  \n",
       "4                   1.5            424  \n",
       "5   noncapital_distance  total_country  \n",
       "6                   1.5            398  \n",
       "7   noncapital_distance  total_country  \n",
       "8                   1.5            398  \n",
       "9   noncapital_distance  total_country  \n",
       "10                  1.5            398  \n",
       "11  noncapital_distance  total_country  \n",
       "12                  1.5            398  "
      ]
     },
     "execution_count": 75,
     "metadata": {},
     "output_type": "execute_result"
    }
   ],
   "source": [
    "import pandas as pd\n",
    "df = pd.read_csv('./covid_19_total/covid_19_total.csv')\n",
    "df"
   ]
  },
  {
   "cell_type": "code",
   "execution_count": null,
   "metadata": {},
   "outputs": [],
   "source": []
  },
  {
   "cell_type": "markdown",
   "metadata": {},
   "source": [
    "## pymongo 실행"
   ]
  },
  {
   "cell_type": "code",
   "execution_count": 76,
   "metadata": {},
   "outputs": [],
   "source": [
    "import pymongo"
   ]
  },
  {
   "cell_type": "code",
   "execution_count": 85,
   "metadata": {},
   "outputs": [],
   "source": [
    "client = pymongo.MongoClient(\"mongodb://\")\n",
    "collection = client.covid19_total.total"
   ]
  },
  {
   "cell_type": "code",
   "execution_count": 86,
   "metadata": {},
   "outputs": [
    {
     "data": {
      "text/plain": [
       "ObjectId('604192f66e65021c657dc81f')"
      ]
     },
     "execution_count": 86,
     "metadata": {},
     "output_type": "execute_result"
    }
   ],
   "source": [
    "data = {\"title\": \"count\"}\n",
    "collection.insert(data)"
   ]
  },
  {
   "cell_type": "code",
   "execution_count": 87,
   "metadata": {},
   "outputs": [
    {
     "name": "stdout",
     "output_type": "stream",
     "text": [
      "Overwriting covid_19_total/covid_19_total/mongodb.py\n"
     ]
    }
   ],
   "source": [
    "%%writefile covid_19_total/covid_19_total/mongodb.py\n",
    "import pymongo\n",
    "\n",
    "client = pymongo.MongoClient(\"mongodb://\")\n",
    "collection = client.covid19_total.total"
   ]
  },
  {
   "cell_type": "code",
   "execution_count": 89,
   "metadata": {},
   "outputs": [
    {
     "name": "stdout",
     "output_type": "stream",
     "text": [
      "Overwriting covid_19_total/covid_19_total/pipelines.py\n"
     ]
    }
   ],
   "source": [
    "%%writefile covid_19_total/covid_19_total/pipelines.py\n",
    "from itemadapter import ItemAdapter\n",
    "from .mongodb import collection\n",
    "\n",
    "class Covid19TotalPipeline:\n",
    "    def process_item(self, item, spider):\n",
    "        data = {\"date\": item['date'], \"country_in\": item['country_in'],\n",
    "                \"country_out\": item['country_out'], \"total_country\": item['total_country'],\n",
    "                \"capital_distance\": item['capital_distance'], \"noncapital_distance\": item['noncapital_distance']}\n",
    "        collection.insert(data)\n",
    "        return item\n",
    "               "
   ]
  },
  {
   "cell_type": "code",
   "execution_count": 1,
   "metadata": {
    "collapsed": true
   },
   "outputs": [
    {
     "name": "stdout",
     "output_type": "stream",
     "text": [
      "2021-03-05 11:21:24 [scrapy.utils.log] INFO: Scrapy 2.4.1 started (bot: covid_19_total)\n",
      "2021-03-05 11:21:24 [scrapy.utils.log] INFO: Versions: lxml 4.6.2.0, libxml2 2.9.10, cssselect 1.1.0, parsel 1.6.0, w3lib 1.22.0, Twisted 20.3.0, Python 3.6.9 (default, Dec 25 2020, 07:37:56) - [GCC 7.5.0], pyOpenSSL 20.0.1 (OpenSSL 1.1.1j  16 Feb 2021), cryptography 3.4.6, Platform Linux-5.4.0-1038-aws-x86_64-with-debian-buster-sid\n",
      "2021-03-05 11:21:24 [scrapy.utils.log] DEBUG: Using reactor: twisted.internet.epollreactor.EPollReactor\n",
      "2021-03-05 11:21:24 [scrapy.crawler] INFO: Overridden settings:\n",
      "{'BOT_NAME': 'covid_19_total',\n",
      " 'NEWSPIDER_MODULE': 'covid_19_total.spiders',\n",
      " 'ROBOTSTXT_OBEY': True,\n",
      " 'SPIDER_MODULES': ['covid_19_total.spiders']}\n",
      "2021-03-05 11:21:24 [scrapy.extensions.telnet] INFO: Telnet Password: fe5c6fbcc1138ded\n",
      "2021-03-05 11:21:24 [scrapy.middleware] INFO: Enabled extensions:\n",
      "['scrapy.extensions.corestats.CoreStats',\n",
      " 'scrapy.extensions.telnet.TelnetConsole',\n",
      " 'scrapy.extensions.memusage.MemoryUsage',\n",
      " 'scrapy.extensions.feedexport.FeedExporter',\n",
      " 'scrapy.extensions.logstats.LogStats']\n",
      "2021-03-05 11:21:24 [scrapy.middleware] INFO: Enabled downloader middlewares:\n",
      "['scrapy.downloadermiddlewares.robotstxt.RobotsTxtMiddleware',\n",
      " 'scrapy.downloadermiddlewares.httpauth.HttpAuthMiddleware',\n",
      " 'scrapy.downloadermiddlewares.downloadtimeout.DownloadTimeoutMiddleware',\n",
      " 'scrapy.downloadermiddlewares.defaultheaders.DefaultHeadersMiddleware',\n",
      " 'scrapy.downloadermiddlewares.useragent.UserAgentMiddleware',\n",
      " 'scrapy.downloadermiddlewares.retry.RetryMiddleware',\n",
      " 'scrapy.downloadermiddlewares.redirect.MetaRefreshMiddleware',\n",
      " 'scrapy.downloadermiddlewares.httpcompression.HttpCompressionMiddleware',\n",
      " 'scrapy.downloadermiddlewares.redirect.RedirectMiddleware',\n",
      " 'scrapy.downloadermiddlewares.cookies.CookiesMiddleware',\n",
      " 'scrapy.downloadermiddlewares.httpproxy.HttpProxyMiddleware',\n",
      " 'scrapy.downloadermiddlewares.stats.DownloaderStats']\n",
      "2021-03-05 11:21:24 [scrapy.middleware] INFO: Enabled spider middlewares:\n",
      "['scrapy.spidermiddlewares.httperror.HttpErrorMiddleware',\n",
      " 'scrapy.spidermiddlewares.offsite.OffsiteMiddleware',\n",
      " 'scrapy.spidermiddlewares.referer.RefererMiddleware',\n",
      " 'scrapy.spidermiddlewares.urllength.UrlLengthMiddleware',\n",
      " 'scrapy.spidermiddlewares.depth.DepthMiddleware']\n",
      "2021-03-05 11:21:24 [scrapy.middleware] INFO: Enabled item pipelines:\n",
      "['covid_19_total.pipelines.Covid19TotalPipeline']\n",
      "2021-03-05 11:21:24 [scrapy.core.engine] INFO: Spider opened\n",
      "2021-03-05 11:21:24 [scrapy.extensions.logstats] INFO: Crawled 0 pages (at 0 pages/min), scraped 0 items (at 0 items/min)\n",
      "2021-03-05 11:21:24 [scrapy.extensions.telnet] INFO: Telnet console listening on 127.0.0.1:6023\n",
      "2021-03-05 11:21:24 [scrapy.core.engine] DEBUG: Crawled (404) <GET http://ncov.mohw.go.kr/robots.txt> (referer: None)\n",
      "2021-03-05 11:21:24 [protego] DEBUG: Rule at line 19 without any user agent to enforce it on.\n",
      "2021-03-05 11:21:24 [protego] DEBUG: Rule at line 20 without any user agent to enforce it on.\n",
      "2021-03-05 11:21:24 [protego] DEBUG: Rule at line 21 without any user agent to enforce it on.\n",
      "2021-03-05 11:21:24 [protego] DEBUG: Rule at line 22 without any user agent to enforce it on.\n",
      "2021-03-05 11:21:24 [protego] DEBUG: Rule at line 23 without any user agent to enforce it on.\n",
      "2021-03-05 11:21:24 [protego] DEBUG: Rule at line 24 without any user agent to enforce it on.\n",
      "2021-03-05 11:21:24 [protego] DEBUG: Rule at line 25 without any user agent to enforce it on.\n",
      "2021-03-05 11:21:24 [protego] DEBUG: Rule at line 26 without any user agent to enforce it on.\n",
      "2021-03-05 11:21:24 [protego] DEBUG: Rule at line 28 without any user agent to enforce it on.\n",
      "2021-03-05 11:21:24 [protego] DEBUG: Rule at line 30 without any user agent to enforce it on.\n",
      "2021-03-05 11:21:24 [protego] DEBUG: Rule at line 31 without any user agent to enforce it on.\n",
      "2021-03-05 11:21:24 [protego] DEBUG: Rule at line 32 without any user agent to enforce it on.\n",
      "2021-03-05 11:21:24 [protego] DEBUG: Rule at line 33 without any user agent to enforce it on.\n",
      "2021-03-05 11:21:24 [protego] DEBUG: Rule at line 35 without any user agent to enforce it on.\n",
      "2021-03-05 11:21:24 [protego] DEBUG: Rule at line 36 without any user agent to enforce it on.\n",
      "2021-03-05 11:21:24 [protego] DEBUG: Rule at line 37 without any user agent to enforce it on.\n",
      "2021-03-05 11:21:24 [protego] DEBUG: Rule at line 38 without any user agent to enforce it on.\n",
      "2021-03-05 11:21:24 [protego] DEBUG: Rule at line 40 without any user agent to enforce it on.\n",
      "2021-03-05 11:21:24 [protego] DEBUG: Rule at line 41 without any user agent to enforce it on.\n",
      "2021-03-05 11:21:24 [protego] DEBUG: Rule at line 42 without any user agent to enforce it on.\n",
      "2021-03-05 11:21:24 [protego] DEBUG: Rule at line 43 without any user agent to enforce it on.\n",
      "2021-03-05 11:21:24 [protego] DEBUG: Rule at line 45 without any user agent to enforce it on.\n",
      "2021-03-05 11:21:24 [protego] DEBUG: Rule at line 46 without any user agent to enforce it on.\n",
      "2021-03-05 11:21:24 [protego] DEBUG: Rule at line 47 without any user agent to enforce it on.\n",
      "2021-03-05 11:21:24 [protego] DEBUG: Rule at line 48 without any user agent to enforce it on.\n",
      "2021-03-05 11:21:24 [protego] DEBUG: Rule at line 49 without any user agent to enforce it on.\n",
      "2021-03-05 11:21:24 [protego] DEBUG: Rule at line 50 without any user agent to enforce it on.\n",
      "2021-03-05 11:21:24 [protego] DEBUG: Rule at line 53 without any user agent to enforce it on.\n",
      "2021-03-05 11:21:24 [protego] DEBUG: Rule at line 54 without any user agent to enforce it on.\n",
      "2021-03-05 11:21:24 [protego] DEBUG: Rule at line 55 without any user agent to enforce it on.\n",
      "2021-03-05 11:21:24 [protego] DEBUG: Rule at line 58 without any user agent to enforce it on.\n",
      "2021-03-05 11:21:24 [protego] DEBUG: Rule at line 59 without any user agent to enforce it on.\n",
      "2021-03-05 11:21:24 [protego] DEBUG: Rule at line 61 without any user agent to enforce it on.\n",
      "2021-03-05 11:21:24 [protego] DEBUG: Rule at line 62 without any user agent to enforce it on.\n",
      "2021-03-05 11:21:24 [protego] DEBUG: Rule at line 63 without any user agent to enforce it on.\n",
      "2021-03-05 11:21:24 [scrapy.core.engine] DEBUG: Crawled (200) <GET http://ncov.mohw.go.kr/> (referer: None)\n",
      "2021-03-05 11:21:24 [scrapy.core.engine] DEBUG: Crawled (200) <GET http://ncov.mohw.go.kr/> (referer: http://ncov.mohw.go.kr/)\n",
      "2021-03-05 11:21:24 [scrapy.core.scraper] DEBUG: Scraped from <200 http://ncov.mohw.go.kr/>\n",
      "{'capital_distance': '2',\n",
      " 'country_in': 381,\n",
      " 'country_out': 17,\n",
      " 'date': '21.3.5. 00시 기준',\n",
      " 'noncapital_distance': '1.5',\n",
      " 'total_country': 398}\n",
      "2021-03-05 11:21:24 [scrapy.core.engine] INFO: Closing spider (finished)\n",
      "2021-03-05 11:21:24 [scrapy.extensions.feedexport] INFO: Stored csv feed (1 items) in: covid_19_total.csv\n",
      "2021-03-05 11:21:24 [scrapy.statscollectors] INFO: Dumping Scrapy stats:\n",
      "{'downloader/request_bytes': 911,\n",
      " 'downloader/request_count': 3,\n",
      " 'downloader/request_method_count/GET': 3,\n",
      " 'downloader/response_bytes': 424531,\n",
      " 'downloader/response_count': 3,\n",
      " 'downloader/response_status_count/200': 2,\n",
      " 'downloader/response_status_count/404': 1,\n",
      " 'elapsed_time_seconds': 0.373488,\n",
      " 'finish_reason': 'finished',\n",
      " 'finish_time': datetime.datetime(2021, 3, 5, 2, 21, 24, 493616),\n",
      " 'item_scraped_count': 1,\n",
      " 'log_count/DEBUG': 39,\n",
      " 'log_count/INFO': 11,\n",
      " 'memusage/max': 57188352,\n",
      " 'memusage/startup': 57188352,\n",
      " 'request_depth_max': 1,\n",
      " 'response_received_count': 3,\n",
      " 'robotstxt/request_count': 1,\n",
      " 'robotstxt/response_count': 1,\n",
      " 'robotstxt/response_status_count/404': 1,\n",
      " 'scheduler/dequeued': 2,\n",
      " 'scheduler/dequeued/memory': 2,\n",
      " 'scheduler/enqueued': 2,\n",
      " 'scheduler/enqueued/memory': 2,\n",
      " 'start_time': datetime.datetime(2021, 3, 5, 2, 21, 24, 120128)}\n",
      "2021-03-05 11:21:24 [scrapy.core.engine] INFO: Spider closed (finished)\n"
     ]
    }
   ],
   "source": [
    "!/bin/bash run.sh"
   ]
  },
  {
   "cell_type": "code",
   "execution_count": null,
   "metadata": {},
   "outputs": [],
   "source": []
  }
 ],
 "metadata": {
  "kernelspec": {
   "display_name": "Python 3",
   "language": "python",
   "name": "python3"
  },
  "language_info": {
   "codemirror_mode": {
    "name": "ipython",
    "version": 3
   },
   "file_extension": ".py",
   "mimetype": "text/x-python",
   "name": "python",
   "nbconvert_exporter": "python",
   "pygments_lexer": "ipython3",
   "version": "3.8.3"
  }
 },
 "nbformat": 4,
 "nbformat_minor": 4
}
