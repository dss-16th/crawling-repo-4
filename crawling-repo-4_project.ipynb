{
 "cells": [
  {
   "cell_type": "code",
   "execution_count": 2,
   "metadata": {},
   "outputs": [],
   "source": [
    "import scrapy, requests\n",
    "from scrapy.http import TextResponse"
   ]
  },
  {
   "cell_type": "code",
   "execution_count": 3,
   "metadata": {},
   "outputs": [
    {
     "name": "stdout",
     "output_type": "stream",
     "text": [
      "New Scrapy project 'covid_19', using template directory '/home/ubuntu/.pyenv/versions/3.6.9/envs/python3/lib/python3.6/site-packages/scrapy/templates/project', created in:\r\n",
      "    /home/ubuntu/python3/notebook/covid_19/covid_19\r\n",
      "\r\n",
      "You can start your first spider with:\r\n",
      "    cd covid_19\r\n",
      "    scrapy genspider example example.com\r\n"
     ]
    }
   ],
   "source": [
    "#!rm -rf covid_19\n",
    "!scrapy startproject covid_19"
   ]
  },
  {
   "cell_type": "code",
   "execution_count": 3,
   "metadata": {},
   "outputs": [
    {
     "data": {
      "text/plain": [
       "<200 http://ncov.mohw.go.kr/>"
      ]
     },
     "execution_count": 3,
     "metadata": {},
     "output_type": "execute_result"
    }
   ],
   "source": [
    "headers = {'user-agent':'Mozilla/5.0 (Macintosh; Intel Mac OS X 10_15_7) AppleWebKit/537.36 (KHTML, like Gecko) Chrome/88.0.4324.182 Safari/537.36'}\n",
    "req = requests.get('http://ncov.mohw.go.kr/',headers=headers)\n",
    "response = TextResponse(req.url, body=req.text, encoding='utf-8')\n",
    "response"
   ]
  },
  {
   "cell_type": "markdown",
   "metadata": {},
   "source": [
    "### 일일 확진자(국내, 해외유입, 합계)"
   ]
  },
  {
   "cell_type": "code",
   "execution_count": 141,
   "metadata": {},
   "outputs": [
    {
     "data": {
      "text/plain": [
       "([\"(3.2. 00시 기준, '20.1.3. 이후 누계)\"], [319], [25], [344])"
      ]
     },
     "execution_count": 141,
     "metadata": {},
     "output_type": "execute_result"
    }
   ],
   "source": [
    "date = response.xpath('/html/body/div/div[5]/div[2]/div/div[1]/div[1]/h2/a/span[1]/text()').extract()\n",
    "country_in =list(map(int, response.xpath('/html/body/div/div[5]/div[2]/div/div[1]/div[1]/div[1]/div/ul/li[1]/span[2]/text()').extract()))\n",
    "country_out =list(map(int, response.xpath('/html/body/div/div[5]/div[2]/div/div[1]/div[1]/div[1]/div/ul/li[2]/span[2]/text()').extract()))\n",
    "total_country = [country_in+country_out for country_in,country_out in zip(country_in,country_out)]\n",
    "\n",
    "date,country_in, country_out, total_country\n"
   ]
  },
  {
   "cell_type": "markdown",
   "metadata": {},
   "source": [
    "### 검사 현황(누적 검사수, 누적 검사 완료수, 누적 확진률)"
   ]
  },
  {
   "cell_type": "code",
   "execution_count": 142,
   "metadata": {},
   "outputs": [
    {
     "data": {
      "text/plain": [
       "(['6,681,976 건'], ['6,608,544 건'], ['1.4 %'])"
      ]
     },
     "execution_count": 142,
     "metadata": {},
     "output_type": "execute_result"
    }
   ],
   "source": [
    "testing = response.xpath('/html/body/div/div[5]/div[2]/div/div[1]/div[2]/div/div[1]/div[1]/div[1]/ul/li[1]/span[2]/text()').extract()\n",
    "testing_finished = response.xpath('/html/body/div/div[5]/div[2]/div/div[1]/div[2]/div/div[1]/div[1]/div[1]/ul/li[2]/span[2]/text()').extract()\n",
    "percentage = response.xpath('/html/body/div/div[5]/div[2]/div/div[1]/div[2]/div/div[1]/div[1]/div[1]/ul/li[3]/span[2]/text()').extract()\n",
    "testing,testing_finished,percentage"
   ]
  },
  {
   "cell_type": "code",
   "execution_count": 6,
   "metadata": {
    "scrolled": true
   },
   "outputs": [
    {
     "name": "stdout",
     "output_type": "stream",
     "text": [
      "Overwriting covid_19/covid_19/items.py\n"
     ]
    }
   ],
   "source": [
    "%%writefile covid_19/covid_19/items.py\n",
    "import scrapy\n",
    "\n",
    "\n",
    "class Covid19Item(scrapy.Item):\n",
    "    date = scrapy.Field()\n",
    "    country_in = scrapy.Field()\n",
    "    country_out = scrapy.Field()\n",
    "    total_country = scrapy.Field()\n",
    "    testing = scrapy.Field()\n",
    "    testing_finished = scrapy.Field()\n",
    "    percentage = scrapy.Field()"
   ]
  },
  {
   "cell_type": "code",
   "execution_count": 53,
   "metadata": {},
   "outputs": [
    {
     "name": "stdout",
     "output_type": "stream",
     "text": [
      "Overwriting covid_19/covid_19/spiders/spider.py\n"
     ]
    }
   ],
   "source": [
    "%%writefile  covid_19/covid_19/spiders/spider.py\n",
    "import scrapy,re\n",
    "from covid_19.items import Covid19Item\n",
    "\n",
    "class spider(scrapy.Spider):\n",
    "    name = \"Covid19\"\n",
    "    start_urls =  [\"http://ncov.mohw.go.kr/\"]\n",
    "    \n",
    "    def parse(self, response):  \n",
    "#         links = response.xpath('/html/head/meta[8]/@content').extract()\n",
    "#         for link in links:\n",
    "            yield scrapy.Request(\"http://ncov.mohw.go.kr/\", callback=self.parse_content)\n",
    "   \n",
    "    def parse_content(self,response):\n",
    "        item = Covid19Item()\n",
    "        item['date'] = response.xpath('/html/body/div/div[5]/div[2]/div/div[1]/div[1]/h2/a/span[1]/text()').extract()\n",
    "        item['country_in'] =list(map(int, response.xpath('/html/body/div/div[5]/div[2]/div/div[1]/div[1]/div[1]/div/ul/li[1]/span[2]/text()').extract()))\n",
    "        item['country_out'] =list(map(int, response.xpath('/html/body/div/div[5]/div[2]/div/div[1]/div[1]/div[1]/div/ul/li[2]/span[2]/text()').extract()))\n",
    "        item['total_country'] = [item['country_in']+item['country_out'] for item['country_in'],item['country_out'] in zip(item['country_in'],item['country_out'])]\n",
    "        item['testing'] = response.xpath('/html/body/div/div[5]/div[2]/div/div[1]/div[2]/div/div[1]/div[1]/div[1]/ul/li[1]/span[2]/text()').extract()\n",
    "        item['testing_finished'] = response.xpath('/html/body/div/div[5]/div[2]/div/div[1]/div[2]/div/div[1]/div[1]/div[1]/ul/li[2]/span[2]/text()').extract()\n",
    "        item['percentage'] = response.xpath('/html/body/div/div[5]/div[2]/div/div[1]/div[2]/div/div[1]/div[1]/div[1]/ul/li[3]/span[2]/text()').extract()\n",
    "        yield item"
   ]
  },
  {
   "cell_type": "code",
   "execution_count": 8,
   "metadata": {},
   "outputs": [
    {
     "data": {
      "text/plain": [
       "'/home/ubuntu/python3/notebook/covid_19'"
      ]
     },
     "execution_count": 8,
     "metadata": {},
     "output_type": "execute_result"
    }
   ],
   "source": [
    "%pwd"
   ]
  },
  {
   "cell_type": "code",
   "execution_count": 9,
   "metadata": {},
   "outputs": [
    {
     "name": "stdout",
     "output_type": "stream",
     "text": [
      "Overwriting run.sh\n"
     ]
    }
   ],
   "source": [
    "%%writefile run.sh\n",
    "cd /home/ubuntu/python3/notebook/covid_19/covid_19\n",
    "scrapy crawl Covid19 -o covid_19_1.csv"
   ]
  },
  {
   "cell_type": "code",
   "execution_count": 10,
   "metadata": {
    "collapsed": true
   },
   "outputs": [
    {
     "name": "stdout",
     "output_type": "stream",
     "text": [
      "2021-03-02 09:37:14 [scrapy.utils.log] INFO: Scrapy 2.4.1 started (bot: covid_19)\n",
      "2021-03-02 09:37:14 [scrapy.utils.log] INFO: Versions: lxml 4.6.2.0, libxml2 2.9.10, cssselect 1.1.0, parsel 1.6.0, w3lib 1.22.0, Twisted 20.3.0, Python 3.6.9 (default, Dec 25 2020, 07:37:56) - [GCC 7.5.0], pyOpenSSL 20.0.1 (OpenSSL 1.1.1j  16 Feb 2021), cryptography 3.4.6, Platform Linux-5.4.0-1038-aws-x86_64-with-debian-buster-sid\n",
      "2021-03-02 09:37:14 [scrapy.utils.log] DEBUG: Using reactor: twisted.internet.epollreactor.EPollReactor\n",
      "2021-03-02 09:37:14 [scrapy.crawler] INFO: Overridden settings:\n",
      "{'BOT_NAME': 'covid_19',\n",
      " 'NEWSPIDER_MODULE': 'covid_19.spiders',\n",
      " 'ROBOTSTXT_OBEY': True,\n",
      " 'SPIDER_MODULES': ['covid_19.spiders']}\n",
      "2021-03-02 09:37:14 [scrapy.extensions.telnet] INFO: Telnet Password: 619e779a3aacb4da\n",
      "2021-03-02 09:37:14 [scrapy.middleware] INFO: Enabled extensions:\n",
      "['scrapy.extensions.corestats.CoreStats',\n",
      " 'scrapy.extensions.telnet.TelnetConsole',\n",
      " 'scrapy.extensions.memusage.MemoryUsage',\n",
      " 'scrapy.extensions.feedexport.FeedExporter',\n",
      " 'scrapy.extensions.logstats.LogStats']\n",
      "2021-03-02 09:37:14 [scrapy.middleware] INFO: Enabled downloader middlewares:\n",
      "['scrapy.downloadermiddlewares.robotstxt.RobotsTxtMiddleware',\n",
      " 'scrapy.downloadermiddlewares.httpauth.HttpAuthMiddleware',\n",
      " 'scrapy.downloadermiddlewares.downloadtimeout.DownloadTimeoutMiddleware',\n",
      " 'scrapy.downloadermiddlewares.defaultheaders.DefaultHeadersMiddleware',\n",
      " 'scrapy.downloadermiddlewares.useragent.UserAgentMiddleware',\n",
      " 'scrapy.downloadermiddlewares.retry.RetryMiddleware',\n",
      " 'scrapy.downloadermiddlewares.redirect.MetaRefreshMiddleware',\n",
      " 'scrapy.downloadermiddlewares.httpcompression.HttpCompressionMiddleware',\n",
      " 'scrapy.downloadermiddlewares.redirect.RedirectMiddleware',\n",
      " 'scrapy.downloadermiddlewares.cookies.CookiesMiddleware',\n",
      " 'scrapy.downloadermiddlewares.httpproxy.HttpProxyMiddleware',\n",
      " 'scrapy.downloadermiddlewares.stats.DownloaderStats']\n",
      "2021-03-02 09:37:14 [scrapy.middleware] INFO: Enabled spider middlewares:\n",
      "['scrapy.spidermiddlewares.httperror.HttpErrorMiddleware',\n",
      " 'scrapy.spidermiddlewares.offsite.OffsiteMiddleware',\n",
      " 'scrapy.spidermiddlewares.referer.RefererMiddleware',\n",
      " 'scrapy.spidermiddlewares.urllength.UrlLengthMiddleware',\n",
      " 'scrapy.spidermiddlewares.depth.DepthMiddleware']\n",
      "2021-03-02 09:37:14 [scrapy.middleware] INFO: Enabled item pipelines:\n",
      "[]\n",
      "2021-03-02 09:37:14 [scrapy.core.engine] INFO: Spider opened\n",
      "2021-03-02 09:37:14 [scrapy.extensions.logstats] INFO: Crawled 0 pages (at 0 pages/min), scraped 0 items (at 0 items/min)\n",
      "2021-03-02 09:37:14 [scrapy.extensions.telnet] INFO: Telnet console listening on 127.0.0.1:6023\n",
      "2021-03-02 09:37:14 [scrapy.core.engine] DEBUG: Crawled (404) <GET http://ncov.mohw.go.kr/robots.txt> (referer: None)\n",
      "2021-03-02 09:37:14 [protego] DEBUG: Rule at line 19 without any user agent to enforce it on.\n",
      "2021-03-02 09:37:14 [protego] DEBUG: Rule at line 20 without any user agent to enforce it on.\n",
      "2021-03-02 09:37:14 [protego] DEBUG: Rule at line 21 without any user agent to enforce it on.\n",
      "2021-03-02 09:37:14 [protego] DEBUG: Rule at line 22 without any user agent to enforce it on.\n",
      "2021-03-02 09:37:14 [protego] DEBUG: Rule at line 23 without any user agent to enforce it on.\n",
      "2021-03-02 09:37:14 [protego] DEBUG: Rule at line 24 without any user agent to enforce it on.\n",
      "2021-03-02 09:37:14 [protego] DEBUG: Rule at line 25 without any user agent to enforce it on.\n",
      "2021-03-02 09:37:14 [protego] DEBUG: Rule at line 26 without any user agent to enforce it on.\n",
      "2021-03-02 09:37:14 [protego] DEBUG: Rule at line 28 without any user agent to enforce it on.\n",
      "2021-03-02 09:37:14 [protego] DEBUG: Rule at line 30 without any user agent to enforce it on.\n",
      "2021-03-02 09:37:14 [protego] DEBUG: Rule at line 31 without any user agent to enforce it on.\n",
      "2021-03-02 09:37:14 [protego] DEBUG: Rule at line 32 without any user agent to enforce it on.\n",
      "2021-03-02 09:37:14 [protego] DEBUG: Rule at line 33 without any user agent to enforce it on.\n",
      "2021-03-02 09:37:14 [protego] DEBUG: Rule at line 35 without any user agent to enforce it on.\n",
      "2021-03-02 09:37:14 [protego] DEBUG: Rule at line 36 without any user agent to enforce it on.\n",
      "2021-03-02 09:37:14 [protego] DEBUG: Rule at line 37 without any user agent to enforce it on.\n",
      "2021-03-02 09:37:14 [protego] DEBUG: Rule at line 38 without any user agent to enforce it on.\n",
      "2021-03-02 09:37:14 [protego] DEBUG: Rule at line 40 without any user agent to enforce it on.\n",
      "2021-03-02 09:37:14 [protego] DEBUG: Rule at line 41 without any user agent to enforce it on.\n",
      "2021-03-02 09:37:14 [protego] DEBUG: Rule at line 42 without any user agent to enforce it on.\n",
      "2021-03-02 09:37:14 [protego] DEBUG: Rule at line 43 without any user agent to enforce it on.\n",
      "2021-03-02 09:37:14 [protego] DEBUG: Rule at line 45 without any user agent to enforce it on.\n",
      "2021-03-02 09:37:14 [protego] DEBUG: Rule at line 46 without any user agent to enforce it on.\n",
      "2021-03-02 09:37:14 [protego] DEBUG: Rule at line 47 without any user agent to enforce it on.\n",
      "2021-03-02 09:37:14 [protego] DEBUG: Rule at line 48 without any user agent to enforce it on.\n",
      "2021-03-02 09:37:14 [protego] DEBUG: Rule at line 49 without any user agent to enforce it on.\n",
      "2021-03-02 09:37:14 [protego] DEBUG: Rule at line 50 without any user agent to enforce it on.\n",
      "2021-03-02 09:37:14 [protego] DEBUG: Rule at line 53 without any user agent to enforce it on.\n",
      "2021-03-02 09:37:14 [protego] DEBUG: Rule at line 54 without any user agent to enforce it on.\n",
      "2021-03-02 09:37:14 [protego] DEBUG: Rule at line 55 without any user agent to enforce it on.\n",
      "2021-03-02 09:37:14 [protego] DEBUG: Rule at line 58 without any user agent to enforce it on.\n",
      "2021-03-02 09:37:14 [protego] DEBUG: Rule at line 59 without any user agent to enforce it on.\n",
      "2021-03-02 09:37:14 [protego] DEBUG: Rule at line 61 without any user agent to enforce it on.\n",
      "2021-03-02 09:37:14 [protego] DEBUG: Rule at line 62 without any user agent to enforce it on.\n",
      "2021-03-02 09:37:14 [protego] DEBUG: Rule at line 63 without any user agent to enforce it on.\n",
      "2021-03-02 09:37:16 [scrapy.core.engine] DEBUG: Crawled (200) <GET http://ncov.mohw.go.kr/> (referer: None)\n",
      "2021-03-02 09:37:16 [scrapy.core.engine] DEBUG: Crawled (200) <GET http://ncov.mohw.go.kr/> (referer: http://ncov.mohw.go.kr/)\n",
      "2021-03-02 09:37:16 [scrapy.core.scraper] DEBUG: Scraped from <200 http://ncov.mohw.go.kr/>\n",
      "{'country_in': 319,\n",
      " 'country_out': 25,\n",
      " 'date': [\"(3.2. 00시 기준, '20.1.3. 이후 누계)\"],\n",
      " 'percentage': ['1.4 %'],\n",
      " 'testing': ['6,681,976 건'],\n",
      " 'testing_finished': ['6,608,544 건'],\n",
      " 'total_country': [344]}\n",
      "2021-03-02 09:37:16 [scrapy.core.engine] INFO: Closing spider (finished)\n",
      "2021-03-02 09:37:16 [scrapy.extensions.feedexport] INFO: Stored csv feed (1 items) in: covid_19_1.csv\n",
      "2021-03-02 09:37:16 [scrapy.statscollectors] INFO: Dumping Scrapy stats:\n",
      "{'downloader/request_bytes': 911,\n",
      " 'downloader/request_count': 3,\n",
      " 'downloader/request_method_count/GET': 3,\n",
      " 'downloader/response_bytes': 424373,\n",
      " 'downloader/response_count': 3,\n",
      " 'downloader/response_status_count/200': 2,\n",
      " 'downloader/response_status_count/404': 1,\n",
      " 'elapsed_time_seconds': 2.011032,\n",
      " 'finish_reason': 'finished',\n",
      " 'finish_time': datetime.datetime(2021, 3, 2, 0, 37, 16, 616198),\n",
      " 'item_scraped_count': 1,\n",
      " 'log_count/DEBUG': 39,\n",
      " 'log_count/INFO': 11,\n",
      " 'memusage/max': 55984128,\n",
      " 'memusage/startup': 55984128,\n",
      " 'request_depth_max': 1,\n",
      " 'response_received_count': 3,\n",
      " 'robotstxt/request_count': 1,\n",
      " 'robotstxt/response_count': 1,\n",
      " 'robotstxt/response_status_count/404': 1,\n",
      " 'scheduler/dequeued': 2,\n",
      " 'scheduler/dequeued/memory': 2,\n",
      " 'scheduler/enqueued': 2,\n",
      " 'scheduler/enqueued/memory': 2,\n",
      " 'start_time': datetime.datetime(2021, 3, 2, 0, 37, 14, 605166)}\n",
      "2021-03-02 09:37:16 [scrapy.core.engine] INFO: Spider closed (finished)\n"
     ]
    }
   ],
   "source": [
    "!/bin/bash run.sh"
   ]
  },
  {
   "cell_type": "code",
   "execution_count": 11,
   "metadata": {},
   "outputs": [
    {
     "data": {
      "text/html": [
       "<div>\n",
       "<style scoped>\n",
       "    .dataframe tbody tr th:only-of-type {\n",
       "        vertical-align: middle;\n",
       "    }\n",
       "\n",
       "    .dataframe tbody tr th {\n",
       "        vertical-align: top;\n",
       "    }\n",
       "\n",
       "    .dataframe thead th {\n",
       "        text-align: right;\n",
       "    }\n",
       "</style>\n",
       "<table border=\"1\" class=\"dataframe\">\n",
       "  <thead>\n",
       "    <tr style=\"text-align: right;\">\n",
       "      <th></th>\n",
       "      <th>country_in</th>\n",
       "      <th>country_out</th>\n",
       "      <th>date</th>\n",
       "      <th>percentage</th>\n",
       "      <th>testing</th>\n",
       "      <th>testing_finished</th>\n",
       "      <th>total_country</th>\n",
       "    </tr>\n",
       "  </thead>\n",
       "  <tbody>\n",
       "    <tr>\n",
       "      <th>0</th>\n",
       "      <td>338</td>\n",
       "      <td>17</td>\n",
       "      <td>(3.1. 00시 기준, '20.1.3. 이후 누계)</td>\n",
       "      <td>1.4 %</td>\n",
       "      <td>6,665,755 건</td>\n",
       "      <td>6,592,010 건</td>\n",
       "      <td>[355]</td>\n",
       "    </tr>\n",
       "    <tr>\n",
       "      <th>1</th>\n",
       "      <td>country_in</td>\n",
       "      <td>country_out</td>\n",
       "      <td>date</td>\n",
       "      <td>percentage</td>\n",
       "      <td>testing</td>\n",
       "      <td>testing_finished</td>\n",
       "      <td>total_country</td>\n",
       "    </tr>\n",
       "    <tr>\n",
       "      <th>2</th>\n",
       "      <td>338</td>\n",
       "      <td>17</td>\n",
       "      <td>(3.1. 00시 기준, '20.1.3. 이후 누계)</td>\n",
       "      <td>1.4 %</td>\n",
       "      <td>6,665,755 건</td>\n",
       "      <td>6,592,010 건</td>\n",
       "      <td>[355]</td>\n",
       "    </tr>\n",
       "    <tr>\n",
       "      <th>3</th>\n",
       "      <td>country_in</td>\n",
       "      <td>country_out</td>\n",
       "      <td>date</td>\n",
       "      <td>percentage</td>\n",
       "      <td>testing</td>\n",
       "      <td>testing_finished</td>\n",
       "      <td>total_country</td>\n",
       "    </tr>\n",
       "    <tr>\n",
       "      <th>4</th>\n",
       "      <td>319</td>\n",
       "      <td>25</td>\n",
       "      <td>(3.2. 00시 기준, '20.1.3. 이후 누계)</td>\n",
       "      <td>1.4 %</td>\n",
       "      <td>6,681,976 건</td>\n",
       "      <td>6,608,544 건</td>\n",
       "      <td>[344]</td>\n",
       "    </tr>\n",
       "  </tbody>\n",
       "</table>\n",
       "</div>"
      ],
      "text/plain": [
       "   country_in  country_out                           date  percentage  \\\n",
       "0         338           17  (3.1. 00시 기준, '20.1.3. 이후 누계)       1.4 %   \n",
       "1  country_in  country_out                           date  percentage   \n",
       "2         338           17  (3.1. 00시 기준, '20.1.3. 이후 누계)       1.4 %   \n",
       "3  country_in  country_out                           date  percentage   \n",
       "4         319           25  (3.2. 00시 기준, '20.1.3. 이후 누계)       1.4 %   \n",
       "\n",
       "       testing  testing_finished  total_country  \n",
       "0  6,665,755 건       6,592,010 건          [355]  \n",
       "1      testing  testing_finished  total_country  \n",
       "2  6,665,755 건       6,592,010 건          [355]  \n",
       "3      testing  testing_finished  total_country  \n",
       "4  6,681,976 건       6,608,544 건          [344]  "
      ]
     },
     "execution_count": 11,
     "metadata": {},
     "output_type": "execute_result"
    }
   ],
   "source": [
    "import pandas as pd\n",
    "df = pd.read_csv('./covid_19/covid_19_1.csv')\n",
    "df"
   ]
  },
  {
   "cell_type": "code",
   "execution_count": null,
   "metadata": {},
   "outputs": [],
   "source": []
  }
 ],
 "metadata": {
  "kernelspec": {
   "display_name": "Python 3",
   "language": "python",
   "name": "python3"
  },
  "language_info": {
   "codemirror_mode": {
    "name": "ipython",
    "version": 3
   },
   "file_extension": ".py",
   "mimetype": "text/x-python",
   "name": "python",
   "nbconvert_exporter": "python",
   "pygments_lexer": "ipython3",
   "version": "3.8.3"
  }
 },
 "nbformat": 4,
 "nbformat_minor": 4
}
